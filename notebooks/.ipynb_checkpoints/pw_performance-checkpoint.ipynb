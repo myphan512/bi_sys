{
 "cells": [
  {
   "cell_type": "code",
   "execution_count": 118,
   "id": "2bb1f109-3b88-4b89-b012-8bb6adb2dcd9",
   "metadata": {},
   "outputs": [],
   "source": [
    "from dotenv import load_dotenv\n",
    "import os\n",
    "import mysql.connector as mc\n",
    "import pyodbc\n",
    "import pandas as pd\n",
    "import numpy as np\n",
    "from datetime import datetime, date, timedelta\n",
    "import plotly.express as px\n",
    "import plotly.graph_objects as go"
   ]
  },
  {
   "cell_type": "code",
   "execution_count": 2,
   "id": "43fcfe55-ff16-4adb-8cf5-a9a7c5b9b5b3",
   "metadata": {},
   "outputs": [
    {
     "data": {
      "text/plain": [
       "True"
      ]
     },
     "execution_count": 2,
     "metadata": {},
     "output_type": "execute_result"
    }
   ],
   "source": [
    "load_dotenv()"
   ]
  },
  {
   "cell_type": "code",
   "execution_count": 17,
   "id": "b7d1f66f-366f-43b5-a98c-9eea8ce5339a",
   "metadata": {},
   "outputs": [],
   "source": [
    "from jupyter_dash import JupyterDash\n",
    "app = JupyterDash(__name__)"
   ]
  },
  {
   "cell_type": "code",
   "execution_count": 6,
   "id": "71beeb68-0f92-4692-84b7-6bf3bd281dcb",
   "metadata": {},
   "outputs": [],
   "source": [
    "def runQuery_tidb(query):\n",
    "    conn = mc.connect(host=os.getenv('TIDB_HOST'),\n",
    "                      port=os.getenv('TIDB_PORT'),\n",
    "                      user=os.getenv('TIDB_USER'),\n",
    "                      password=os.getenv('TIDB_PW'),\n",
    "                      database=os.getenv('TIDB_DEFAULT_DATABASE'))\n",
    "    cur = conn.cursor()\n",
    "    cur.execute(query)\n",
    "    ### modify results\n",
    "    columns = []\n",
    "    for i in range(len(cur.description)):\n",
    "        desc = cur.description[i]\n",
    "        columns.append(str(desc[0]))\n",
    "    data = pd.DataFrame(cur.fetchall(), columns=columns)\n",
    "    ### disconnect and return\n",
    "    # conn.disconnect\n",
    "    return data"
   ]
  },
  {
   "cell_type": "code",
   "execution_count": 5,
   "id": "4802d514-672d-4269-8365-40700c99aaed",
   "metadata": {},
   "outputs": [],
   "source": [
    "def runQuery_dremio(query):\n",
    "    host = os.getenv('DREMIO_HOST')\n",
    "    port = os.getenv('DREMIO_PORT')\n",
    "    uid = os.getenv('DREMIO_USER')\n",
    "    pwd = os.getenv('DREMIO_PW')\n",
    "    driver = os.getenv('DREMIO_DRIVER')\n",
    "\n",
    "    conn = pyodbc.connect(\n",
    "        \"Driver={};ConnectionType=Direct;HOST={};PORT={};AuthenticationType=Plain;UID={};PWD={}\".format(driver, host, port, uid, pwd),\n",
    "        autocommit=True)\n",
    "\n",
    "    data = pd.read_sql(query, conn)\n",
    "    return data"
   ]
  },
  {
   "cell_type": "code",
   "execution_count": 10,
   "id": "3fc709e4-8b4a-42a1-b454-7d07a8f9d428",
   "metadata": {},
   "outputs": [],
   "source": [
    "default_start = date.today() - timedelta(days=8)\n",
    "default_end = date.today() - timedelta(days=1)"
   ]
  },
  {
   "cell_type": "code",
   "execution_count": 11,
   "id": "a803d979-54b0-4956-9b28-4c993b781588",
   "metadata": {},
   "outputs": [],
   "source": [
    "def get_raw_data(start, end):\n",
    "    data = runQuery_tidb(f\"\"\"\n",
    "    SELECT\n",
    "    DATE_FORMAT(CONVERT_TZ(FROM_UNIXTIME(psc.cl_date_clicked), 'GMT', 'US/Central'), '%Y-%m-%d') AS datecl,\n",
    "\n",
    "    psc.a_id AS project_id, a.a_name AS project_name, CONCAT('[',psc.a_id,'] ',a.a_name) AS project,\n",
    "    a.d_id AS merchant_id, d.d_company AS merchant_name, CONCAT('[',a.d_id,'] ',d.d_company) AS merchant,\n",
    "    psc.ps_id, ps.ps, psc.pss_id, CASE WHEN psc.pss_id=0 OR psc.pss_id IS NULL THEN 'Unknown' ELSE pss.pss END AS pss,\n",
    "    psc.co_id, co.co_code_alpha3, co.co_name,\n",
    "\n",
    "    round(SUM(psc.cl_revenue_xe * (a.d_id != 162784) * (psc.ps_id NOT IN (45, 288)) * (psc.pss_id NOT IN (80)\n",
    "    OR psc.pss_id IS null) * (psc.cl_refunded = 0)* ((cl_recurring_type != 'repeat') * (cl_recurring_type != 'post_trial'))), 2) AS PV,\n",
    "\n",
    "    round(SUM(if((a.a_custom_settings RLIKE 'vat'\n",
    "    AND a.a_custom_settings RLIKE 'mor')\n",
    "    AND d.d_rolling_reserve_payable=1, (psc.cl_commission_xe-psc.cl_user_commission_xe)-IFNULL((tt_tax_amount/cu.cu_rate),tt_tax_amount), IF((a.a_custom_settings RLIKE 'vat'\n",
    "    AND a.a_custom_settings RLIKE 'mor')\n",
    "    AND d.d_rolling_reserve_payable=0, (cl_gross_margin_xe-cl_user_commission_xe) - IFNULL((tt_tax_amount/cu.cu_rate),tt_tax_amount), IF(d.d_rolling_reserve_payable=1, (cl_commission_xe-cl_user_commission_xe), (cl_gross_margin_xe-cl_user_commission_xe))))), 2) AS rev\n",
    "\n",
    "    FROM \n",
    "    (\n",
    "        SELECT * FROM ti_paymentwall.ps_clicks \n",
    "        WHERE cl_date_clicked >= UNIX_TIMESTAMP(CONVERT_TZ('{start}', 'US/Central', 'GMT'))\n",
    "        AND cl_date_clicked < UNIX_TIMESTAMP(CONVERT_TZ('{end}' + INTERVAL 1 DAY, 'US/Central', 'GMT'))\n",
    "        AND cl_tracked = 1 AND cl_approved = 1 AND cl_fraud = 0\n",
    "        AND (pss_id NOT IN (69) OR pss_id IS NULL)\n",
    "    ) psc\n",
    "\n",
    "    INNER JOIN \n",
    "    (\n",
    "        SELECT * FROM ti_paymentwall.applications\n",
    "        WHERE a_internal_usage != 1\n",
    "    ) a ON psc.a_id = a.a_id\n",
    "\n",
    "    INNER JOIN \n",
    "    (\n",
    "        SELECT * FROM ti_paymentwall.developers\n",
    "    ) d ON a.d_id = d.d_id\n",
    "\n",
    "    LEFT JOIN \n",
    "    (\n",
    "        SELECT pss_id, CONCAT('[',pss_id,'] ',pss_name) AS pss FROM ti_paymentwall.ps_subaccounts\n",
    "    ) pss ON psc.pss_id = pss.pss_id\n",
    "\n",
    "    INNER JOIN \n",
    "    (\n",
    "        SELECT ps_id, CONCAT('[',ps_id,'] ',ps_name) AS ps FROM ti_paymentwall.payment_systems \n",
    "    ) ps ON psc.ps_id = ps.ps_id\n",
    "\n",
    "    INNER JOIN \n",
    "    (\n",
    "        SELECT co_id, co_code_alpha3, co_name FROM ti_paymentwall.countries \n",
    "    ) co ON psc.co_id = co.co_id\n",
    "\n",
    "    LEFT JOIN ti_paymentwall.taxable_transactions tt ON psc.cl_id = tt.cl_id\n",
    "    LEFT JOIN ti_paymentwall.currencies cu on psc.cu_id = cu.cu_id\n",
    "\n",
    "    GROUP BY datecl, psc.a_id, a.a_name, project, a.d_id, d.d_company, merchant, psc.ps_id, ps.ps, psc.pss_id, pss.pss, psc.co_id, co.co_code_alpha3, co.co_name\n",
    "    \"\"\")\n",
    "\n",
    "    return data"
   ]
  },
  {
   "cell_type": "code",
   "execution_count": 75,
   "id": "c789b123-5364-4bcd-bea0-e465d6222f0d",
   "metadata": {},
   "outputs": [],
   "source": [
    "data = get_raw_data(default_start, default_end)"
   ]
  },
  {
   "cell_type": "code",
   "execution_count": 76,
   "id": "5801766b-0b52-4d41-a473-f6be8da42a9f",
   "metadata": {},
   "outputs": [
    {
     "data": {
      "text/html": [
       "<div>\n",
       "<style scoped>\n",
       "    .dataframe tbody tr th:only-of-type {\n",
       "        vertical-align: middle;\n",
       "    }\n",
       "\n",
       "    .dataframe tbody tr th {\n",
       "        vertical-align: top;\n",
       "    }\n",
       "\n",
       "    .dataframe thead th {\n",
       "        text-align: right;\n",
       "    }\n",
       "</style>\n",
       "<table border=\"1\" class=\"dataframe\">\n",
       "  <thead>\n",
       "    <tr style=\"text-align: right;\">\n",
       "      <th></th>\n",
       "      <th>datecl</th>\n",
       "      <th>project_id</th>\n",
       "      <th>project_name</th>\n",
       "      <th>project</th>\n",
       "      <th>merchant_id</th>\n",
       "      <th>merchant_name</th>\n",
       "      <th>merchant</th>\n",
       "      <th>ps_id</th>\n",
       "      <th>ps</th>\n",
       "      <th>pss_id</th>\n",
       "      <th>pss</th>\n",
       "      <th>co_id</th>\n",
       "      <th>co_code_alpha3</th>\n",
       "      <th>co_name</th>\n",
       "      <th>PV</th>\n",
       "      <th>rev</th>\n",
       "    </tr>\n",
       "  </thead>\n",
       "  <tbody>\n",
       "    <tr>\n",
       "      <th>0</th>\n",
       "      <td>2022-04-20</td>\n",
       "      <td>370261</td>\n",
       "      <td>Neocraft</td>\n",
       "      <td>[370261] Neocraft</td>\n",
       "      <td>162784</td>\n",
       "      <td>Terminal3</td>\n",
       "      <td>[162784] Terminal3</td>\n",
       "      <td>132</td>\n",
       "      <td>[132] Gateway</td>\n",
       "      <td>73.0</td>\n",
       "      <td>[73] CC_CENTRAL</td>\n",
       "      <td>11</td>\n",
       "      <td>ARG</td>\n",
       "      <td>Argentina</td>\n",
       "      <td>0.00</td>\n",
       "      <td>0.15</td>\n",
       "    </tr>\n",
       "    <tr>\n",
       "      <th>1</th>\n",
       "      <td>2022-04-23</td>\n",
       "      <td>385207</td>\n",
       "      <td>Superrnet</td>\n",
       "      <td>[385207] Superrnet</td>\n",
       "      <td>244918</td>\n",
       "      <td>Hypernet</td>\n",
       "      <td>[244918] Hypernet</td>\n",
       "      <td>141</td>\n",
       "      <td>[141] UnionPay</td>\n",
       "      <td>2.0</td>\n",
       "      <td>[2] Veritrans</td>\n",
       "      <td>90</td>\n",
       "      <td>HKG</td>\n",
       "      <td>Hong Kong</td>\n",
       "      <td>1.99</td>\n",
       "      <td>0.18</td>\n",
       "    </tr>\n",
       "    <tr>\n",
       "      <th>2</th>\n",
       "      <td>2022-04-22</td>\n",
       "      <td>68275</td>\n",
       "      <td>Gameforge 4D GmbH</td>\n",
       "      <td>[68275] Gameforge 4D GmbH</td>\n",
       "      <td>62076</td>\n",
       "      <td>Gameforge 4D GmbH</td>\n",
       "      <td>[62076] Gameforge 4D GmbH</td>\n",
       "      <td>132</td>\n",
       "      <td>[132] Gateway</td>\n",
       "      <td>21.0</td>\n",
       "      <td>[21] CC_POLK</td>\n",
       "      <td>71</td>\n",
       "      <td>FRA</td>\n",
       "      <td>France</td>\n",
       "      <td>417.06</td>\n",
       "      <td>5.31</td>\n",
       "    </tr>\n",
       "    <tr>\n",
       "      <th>3</th>\n",
       "      <td>2022-04-22</td>\n",
       "      <td>303905</td>\n",
       "      <td>Goodgame Subscriptions</td>\n",
       "      <td>[303905] Goodgame Subscriptions</td>\n",
       "      <td>54061</td>\n",
       "      <td>Altigi GmbH</td>\n",
       "      <td>[54061] Altigi GmbH</td>\n",
       "      <td>226</td>\n",
       "      <td>[226] Oxford/ SEPA direct debit</td>\n",
       "      <td>42.0</td>\n",
       "      <td>[42] PPRO</td>\n",
       "      <td>15</td>\n",
       "      <td>AUT</td>\n",
       "      <td>Austria</td>\n",
       "      <td>0.00</td>\n",
       "      <td>0.08</td>\n",
       "    </tr>\n",
       "    <tr>\n",
       "      <th>4</th>\n",
       "      <td>2022-04-22</td>\n",
       "      <td>335920</td>\n",
       "      <td>Neocraft Limited</td>\n",
       "      <td>[335920] Neocraft Limited</td>\n",
       "      <td>267039</td>\n",
       "      <td>Neocraft Limited</td>\n",
       "      <td>[267039] Neocraft Limited</td>\n",
       "      <td>218</td>\n",
       "      <td>[218] Poli</td>\n",
       "      <td>NaN</td>\n",
       "      <td>Unknown</td>\n",
       "      <td>14</td>\n",
       "      <td>AUS</td>\n",
       "      <td>Australia</td>\n",
       "      <td>15.58</td>\n",
       "      <td>1.49</td>\n",
       "    </tr>\n",
       "  </tbody>\n",
       "</table>\n",
       "</div>"
      ],
      "text/plain": [
       "       datecl  project_id            project_name  \\\n",
       "0  2022-04-20      370261                Neocraft   \n",
       "1  2022-04-23      385207               Superrnet   \n",
       "2  2022-04-22       68275       Gameforge 4D GmbH   \n",
       "3  2022-04-22      303905  Goodgame Subscriptions   \n",
       "4  2022-04-22      335920        Neocraft Limited   \n",
       "\n",
       "                           project  merchant_id      merchant_name  \\\n",
       "0                [370261] Neocraft       162784          Terminal3   \n",
       "1               [385207] Superrnet       244918           Hypernet   \n",
       "2        [68275] Gameforge 4D GmbH        62076  Gameforge 4D GmbH   \n",
       "3  [303905] Goodgame Subscriptions        54061        Altigi GmbH   \n",
       "4        [335920] Neocraft Limited       267039   Neocraft Limited   \n",
       "\n",
       "                    merchant  ps_id                               ps  pss_id  \\\n",
       "0         [162784] Terminal3    132                    [132] Gateway    73.0   \n",
       "1          [244918] Hypernet    141                   [141] UnionPay     2.0   \n",
       "2  [62076] Gameforge 4D GmbH    132                    [132] Gateway    21.0   \n",
       "3        [54061] Altigi GmbH    226  [226] Oxford/ SEPA direct debit    42.0   \n",
       "4  [267039] Neocraft Limited    218                       [218] Poli     NaN   \n",
       "\n",
       "               pss  co_id co_code_alpha3    co_name      PV   rev  \n",
       "0  [73] CC_CENTRAL     11            ARG  Argentina    0.00  0.15  \n",
       "1    [2] Veritrans     90            HKG  Hong Kong    1.99  0.18  \n",
       "2     [21] CC_POLK     71            FRA     France  417.06  5.31  \n",
       "3        [42] PPRO     15            AUT    Austria    0.00  0.08  \n",
       "4          Unknown     14            AUS  Australia   15.58  1.49  "
      ]
     },
     "execution_count": 76,
     "metadata": {},
     "output_type": "execute_result"
    }
   ],
   "source": [
    "data.head()"
   ]
  },
  {
   "cell_type": "code",
   "execution_count": 100,
   "id": "439503b1-8331-49c6-b19c-222451f791c8",
   "metadata": {},
   "outputs": [],
   "source": [
    "def graph_project_distribution(df):\n",
    "    by_projects = df\n",
    "    by_projects['project_id_str'] = '[' + by_projects['project_id'].astype(str) + ']'\n",
    "    by_projects = pd.DataFrame(by_projects.groupby(['project','project_id_str']).agg(PV=pd.NamedAgg(column=\"PV\", aggfunc=\"sum\")).reset_index())\n",
    "    by_projects_graph = px.pie(by_projects, values='PV', names='project')\n",
    "    by_projects_graph.update_traces(direction='clockwise', text=by_projects['project_id_str'], textposition='inside', textinfo='text+percent',\n",
    "                                    hovertemplate=None, hoverinfo=\"label+value+percent\")\n",
    "    by_projects_graph.update_layout(uniformtext_minsize=11, uniformtext_mode='hide', showlegend=False, #, legend_title_text=\"Project\", title_text=\"Projects' Contribution to Total Volume\",\n",
    "                                    margin=dict(l=20, r=20, t=20, b=20))\n",
    "    return by_projects_graph"
   ]
  },
  {
   "cell_type": "code",
   "execution_count": 101,
   "id": "85614d89-aab9-4673-819f-e43e9dcfba4e",
   "metadata": {},
   "outputs": [
    {
     "data": {
      "application/vnd.plotly.v1+json": {
       "config": {
        "plotlyServerURL": "https://plot.ly"
       },
       "data": [
        {
         "direction": "clockwise",
         "domain": {
          "x": [
           0,
           1
          ],
          "y": [
           0,
           1
          ]
         },
         "hoverinfo": "label+value+percent",
         "labels": [
          "[100260] Magna Pars Internet Technologies",
          "[101031] www.poralix.com",
          "[101204] ConquerX",
          "[10128] goldicq",
          "[101299] Oasis Games Limited FR",
          "[101870] PvPDojo",
          "[102246] Magaindex Inc",
          "[102899] BoostRoyal",
          "[103004] Private Internet Access, Inc",
          "[103068] MCOIN",
          "[103385] n Way Development Limited",
          "[104373] MCC DONATIONS",
          "[105730] Hammer",
          "[10684] LOVOO",
          "[107172] PLAYERUP",
          "[109249] _Tapfuns SDK_Asia_And",
          "[109367] Live",
          "[109630] DATE4U",
          "[109651] MutantBox Live",
          "[109712] WenTV",
          "[110418] PRODUCTION - Members",
          "[111916] UTDCL",
          "[11249] Wargaming Production NA",
          "[11250] Wargaming Production Asia",
          "[11337] pay.our.com",
          "[114270] keyforlove",
          "[114954] Bestbots",
          "[116720] Armus Online",
          "[116989] SMGP CO.LTD",
          "[117627] Logaster",
          "[1191] elitepvpers",
          "[119208] Fun Phrases P",
          "[119650] Z8Games US",
          "[120256] 5 Dollar Cheats",
          "[12026] GM Consulting - Subscriptions",
          "[12028] GM Consulting",
          "[120462] IMVU Products",
          "[120900] Oxxy Ltd.",
          "[121800] TantraPH",
          "[121961] BungeeCloud NEW",
          "[12216] The Great Merchant, LINKI",
          "[122423] Dark Aim",
          "[122692] CheckiO",
          "[123774] Hoxx.com",
          "[124063] Windscribe Limited",
          "[124285] SubPals Cart66",
          "[125455] dw",
          "[125516] Perfect Privacy",
          "[125750] IT Global",
          "[126744] lod",
          "[127143] WoW-Mania Private Server",
          "[129445] Momio - Norway",
          "[130749] SubPals Subscriber System",
          "[131071] FastStunnel",
          "[131421] Exilium World",
          "[132143] Kunlun group limited",
          "[13380] CraftersLand",
          "[135859] webalfa",
          "[136754] VPN.ht Brick",
          "[138284] nss group",
          "[142169] Saga Flyff",
          "[14282] Justac",
          "[144514] Whow Games",
          "[144616] Minemora Server",
          "[146235] Warmane Mobile Payment",
          "[146272] cdd",
          "[146860] Gravity Development Ltd",
          "[148417] Revolution Network",
          "[148467] MIRACLE GAMES",
          "[14861] Skyblock",
          "[149789] Eduki",
          "[150205] PS Deals",
          "[15030] Let's Fish v2",
          "[153020] Momio - Finland",
          "[153022] Momio - Denmark",
          "[153024] Momio - Poland",
          "[153025] Momio - Sweden",
          "[153028] Momio - Germany",
          "[153034] Momio - Holland",
          "[153180] BolehVPN",
          "[153234] Shockbyte",
          "[153672] FenixZone",
          "[154267] Red Eye Cheats",
          "[154732] Fozzy Inc.",
          "[156722] MSTORE37",
          "[157570] L2Gamers",
          "[158085] PaÅ¾intys",
          "[158877] Archangel",
          "[159936] Mudfish Networks",
          "[160708] Cubik Studio",
          "[161383] mmose",
          "[162766] Friendhosting LTD",
          "[163031] Pixel Game Card",
          "[163682] Credit card processing activation",
          "[165428] ZGAMES",
          "[167201] Puzzle Pirates",
          "[168203] Epic Minecraft",
          "[16838] Tutellus",
          "[169048] ExtraVM",
          "[169514] Aserver Host",
          "[17242] P4Story",
          "[172860] MNIS",
          "[1730] NoScrubs Iris Moolah",
          "[174429] VPN Shield",
          "[175026] Wargaming Production RU",
          "[17571] FLEXIBLE_BOMB_MESSAGE_PROD",
          "[178917] HavocMC",
          "[17934] Dalaran-WoW",
          "[180444] tinhkiem",
          "[18046] Play Trickster",
          "[180683] Siddique IT Consultancy FZE",
          "[181387] ISnew",
          "[183949] FrenchSky",
          "[184398] CodeGrape",
          "[185827] Cliparto",
          "[186102] Rising Gods",
          "[186222] Omerta TR",
          "[186228] Barafranca NL",
          "[186229] Omerta PT",
          "[186969] MunchyMC",
          "[188294] iversity GmbH",
          "[189457] JS.CheckiO",
          "[189500] Ascentia SAS - FunCraft",
          "[191264] Aseohosting",
          "[191766] Webzen Inc.",
          "[192154] Hasan Cenk Demir",
          "[192752] Ahosting",
          "[192785] Bigpoint GmbH",
          "[1936] phBot",
          "[194481] pubgM",
          "[194943] Flexion - Prod",
          "[196742] Cheapnews",
          "[200944] RW",
          "[20104] Tales of Pirates Mobile",
          "[203606] eyougame-goods",
          "[20418] QHoster.com",
          "[205859] EasyHits4U Custom+Brick",
          "[207493] getlantern.org",
          "[207541] My Basketball Team",
          "[20841] MafiaKings.com",
          "[209117] IstLike",
          "[210197] Fleet Command",
          "[21033] Forsaken Kingdom",
          "[210757] Panzer Sturm",
          "[211530] SCDKEY.COM",
          "[211577] Catan Universe",
          "[214274] AzireVPN",
          "[214276] Flashback VPN",
          "[214696] urcdkeys.com",
          "[21484] nVpn",
          "[215581] (usethis 1) Blockdrop Network [buycraft]",
          "[21606] SolaceRO",
          "[218216] Flow Networks",
          "[218247] Smart Security Limited",
          "[218326] iCheat",
          "[218378] NOVAVPN",
          "[220628] Xcraft.ru",
          "[222225] La2Dream",
          "[222249] Rijbewijs-online",
          "[222427] enzhen Joyslink FENG Inc.",
          "[222626] iRosePH",
          "[222745] Overwatch-boosting",
          "[223181] TrafficBot",
          "[223211] SERIALHOST LTD",
          "[223452] Pokefind",
          "[223706] RZWOW",
          "[223756] VirtualGoodsOnline GbR",
          "[223966] Flexion - Test2 - Production test billing",
          "[224887] i-Cyprus",
          "[225021] 420Cheats",
          "[225783] SeedVPS",
          "[226951] Corel [invoicing]",
          "[229255] LLC RIPNET",
          "[23035] RetroSro",
          "[231045] FIFACOIN",
          "[231552] íŠ¸ë ˆì´ë„ˆ ë¦¬ê·¸",
          "[232235] WOI Mortal",
          "[233207] Sanalika",
          "[233502] China Intercontinental Press",
          "[23350] GTArcade",
          "[233939] Cronoshare",
          "[235859] mtmmo",
          "[235863] SVP Team",
          "[236971] GEM-FLASH Firmware",
          "[238315] X-VPN Web",
          "[23885] VanillaGaming",
          "[239485] Jun Hai Network Limited 2",
          "[23962] RPG MO",
          "[239802] Temma TacticalPad",
          "[24120] Wargaming Production EU",
          "[242084] XtremeTop100.com",
          "[242642] ZoogVPN",
          "[243440] Ascension",
          "[244371] UADreams",
          "[245088] BDcraft",
          "[246315] Astar",
          "[24643] PureVPN - GZ Systems Limited",
          "[246805] Elaris WoW",
          "[246820] Litres_PL",
          "[247990] TheFarmM",
          "[248207] RappelzTournament",
          "[249894] Starred MU",
          "[250083] FiestaHook",
          "[250201] scdkeys.com",
          "[250524] Cheetah Mobile Singapore Pte. Ltd.",
          "[250688] ATV + VD",
          "[251264] LIL School V2",
          "[252202] BUXI Co., Ltd.",
          "[252995] Warpvpn LLC",
          "[254630] WhiteHatBox",
          "[25510] Netsec Interactive Solutions SRL",
          "[255230] Blank Media Games",
          "[256006] pngtree",
          "[256760] ZAP-Hosting GmbH &amp; Co. KG",
          "[257349] SeoHost",
          "[257408] ABC Hosting Ltd.",
          "[257739] UGK GAMES LTD - NEW",
          "[258053] CS SYSTEMS, INC ( SwitchVPN )",
          "[259267] ç»æœ›ç›‘ç‰¢",
          "[259407] ProLeech",
          "[259567] ExitLag",
          "[261935] sMeet Subscription",
          "[262528] Rean",
          "[263341] da",
          "[263750] SimplyBook.me",
          "[263991] db2",
          "[264835] 1. RPGStash.com",
          "[26513] Ticocraft",
          "[26554] payDrake",
          "[2674] Eighteen",
          "[268925] Rules of Survival",
          "[269604] Gamerall.com",
          "[270635] PlexVPN",
          "[270736] CloudVPN.pro",
          "[270778] hideu",
          "[271011] SetupVPN",
          "[273922] GameChps",
          "[274472] GameChips",
          "[274492] MySatGo",
          "[274642] gvgmall.com",
          "[274693] Ladoburn Europe Ltd",
          "[275116] Dragon Crusade",
          "[275802] Armus Mobile",
          "[275903] Linsoc Pay",
          "[276169] Wishcompany Inc",
          "[27649] Hot Candy Land Timeless sp zoo",
          "[276989] Kdatacenter",
          "[277274] SAY Global Inc.",
          "[278655] Knives Out",
          "[279929] Smartcontentllc",
          "[281452] myloveidol",
          "[281512] CLASSWIRE LIMITED",
          "[282150] LONGMA 000",
          "[282647] Elysium-Project",
          "[283286] RakionGOT",
          "[283463] Intui.travel transfer",
          "[283805] ExtremeCraft.net",
          "[283809] Creative Destruction",
          "[284039] IT Research LLC",
          "[284413] Swonkie",
          "[286341] CatWatchful",
          "[287232] rustyworld",
          "[287367] Origin Online (Genesis)",
          "[288011] Camel Entertainment Co., Limited",
          "[288444] GamersFirst",
          "[288840] Writing Services",
          "[288848] wordsforlovers",
          "[290118] Amber WoW Donation",
          "[291017] Gephyra OÃœ",
          "[291289] NovaRO, LLC.",
          "[291852] DE - CLASSWIRE LIMITED",
          "[293496] vpnresellers.com",
          "[293785] Tutoring App",
          "[294942] PAPAYA PLAY",
          "[294948] MineAquaTM [buycraft]",
          "[295010] GD+ Knights & Brides - Rubies",
          "[296136] 5mmo.com",
          "[29719] O1O",
          "[297363] Works Copyright",
          "[298441] Tiande Riga",
          "[298871] MVPS LTD",
          "[299281] Sparked Host LLC",
          "[299909] Wild Hunt",
          "[30003] online-translate",
          "[300261] SuperDanova",
          "[300999] rocketvpn.net",
          "[301955] DAESUNG HOLDING CO.,LTD",
          "[302143] PopularMMOsWorld",
          "[302661] atozitpro - zh - site & android",
          "[303905] Goodgame Subscriptions",
          "[305583] MueGlobal",
          "[306140] Lethality",
          "[30666] ImmortalsCo",
          "[307504] EVE Echoes",
          "[307621] Hypernet",
          "[30885] Hot Candy Land Pack Timeless sp zoo",
          "[309375] lovepik",
          "[310073] bHaptics Inc.",
          "[310747] FastCN",
          "[310984] Mineplex LLC [buycraft]",
          "[312120] G.O.D Development",
          "[312321] Duducool",
          "[312557] Dragona World",
          "[312588] Dragonica Odyssey",
          "[312602] westworldvpn",
          "[312668] FollowersPasCher",
          "[314824] PandaWoW",
          "[314825] WoWCircle",
          "[315153] steley.com.au",
          "[315710] UW",
          "[31629] Deposit Photos",
          "[316614] yottagames",
          "[316925] UFO VPN",
          "[317879] PandaVPN",
          "[318560] WoWCircle Legion",
          "[318680] 1GSRO",
          "[318739] upup",
          "[318781] justlo.com.au",
          "[319528] whokeys.com",
          "[319807] PaperHacker",
          "[320113] justlo.pt",
          "[32112] carolgames",
          "[321194] Skydom",
          "[321531] urcdkey",
          "[321625] cdkoffers",
          "[32202] Playwith Interactive Inc.",
          "[322133] PvP Henhouse",
          "[322505] Dragon Heart",
          "[322976] www.lietuviskos-paslaugos.com",
          "[323178] Avazure",
          "[323855] g2deal.com",
          "[323892] MX",
          "[324480] War for the Seas",
          "[324545] Avomu",
          "[325227] BuyBoosting",
          "[325556] Bleach-EN",
          "[325951] Shaiya Epic",
          "[326094] AR",
          "[326916] www.latvijashome.com",
          "[327118] Chinaplay.store",
          "[327690] PUWELL CLOUD TECH LIMITED",
          "[327980] Buffalo",
          "[329100] Mobiamo",
          "[329838] Clientom",
          "[330033] Viral Tech",
          "[331001] Social Media Panel",
          "[331290] Rules of Survival_NEW",
          "[331291] LifeAfter",
          "[331297] Super Mecha Champions",
          "[331413] Cyber Hunter",
          "[331436] ACADEMICSERVICE",
          "[331446] Last Chaos Enjoy",
          "[331713] CL",
          "[331787] CO",
          "[331908] Boosta Inc Freebooksummary",
          "[332368] ZKM United Gameserver GmbH",
          "[332674] LikesMarket",
          "[333171] wyd global",
          "[333972] Slide Members",
          "[334500] LikeDike",
          "[334565] www.titservers.com",
          "[334703] Goblin Mu",
          "[334998] LTGAMES GLOBAL",
          "[335034] OC Gaming LLC",
          "[335597] Klondike - DG",
          "[335823] 2MEU Inc.",
          "[335920] Neocraft Limited",
          "[335942] OUTIN FUTURES CORP. [shopify]",
          "[336326] LivU",
          "[337292] 819714514 Mason Pham Live [telegram]",
          "[337578] Android",
          "[337684] Itrigirls",
          "[337732] www.lootboy.com",
          "[337916] CzechSurvival [buycraft]",
          "[338056] German",
          "[338170] traffic-creator.com",
          "[338517] Ascentia Store",
          "[338901] Buyfifacoin_net",
          "[338903] Utpacks",
          "[339115] z2u.com",
          "[339499] RankedKings",
          "[340660] KEY-DROP",
          "[341185] VPNM",
          "[341616] Diamond Mu",
          "[342226] Epics GG",
          "[342545] Badlanders",
          "[344118] IgroShop Prod",
          "[344341] Dark Knight",
          "[344721] Gaming sp. z o. o.",
          "[344766] reborngn.com",
          "[344945] BR",
          "[345027] Uniprof LLP Invoicing",
          "[346123] Bettergamer",
          "[346187] STARY PTE. LTD.",
          "[346203] Sailor Online",
          "[346798] GOGO LIVE",
          "[347281] www.399wan.com",
          "[347889] mate.academy",
          "[347965] S2INTERCOS [shopify]",
          "[348681] Toomics",
          "[348858] Aika Reborn",
          "[348909] COGNITIVE CLOUD L.P.",
          "[349195] PlayerAuctions, LLC",
          "[349340] Geo Track Technologies Inc",
          "[349373] projectnelth.com",
          "[350496] ContinentalSingles.com",
          "[350632] aoeah",
          "[350642] war of kings hk",
          "[350857] RBrides.com",
          "[351099] Kiss Kiss",
          "[351409] plusfuns.com",
          "[351411] Eznpc",
          "[351580] Pirates of the Burning Sea",
          "[351864] u4gm",
          "[352131] All For Gamers OÃœ",
          "[352191] elo-boost.net",
          "[352217] Buyfifacoins",
          "[352276] Pokemon Planet",
          "[352828] AviaGames",
          "[353213] EliteMU",
          "[353883] Gooroomee Inc.",
          "[354034] Ejoy.com Limited",
          "[354429] UniOne",
          "[354450] EU Cheats",
          "[355325] Freakz",
          "[355948] Online-Gold",
          "[356575] Zhenjiang LeWangHuDong Network Technology Co., Ltd.",
          "[356671] sdk",
          "[356686] Gamebee",
          "[35685] KOG Games",
          "[357288] cdkeysales",
          "[35756] Ilikeq",
          "[358521] goodoffer24",
          "[358525] hotcdkeys",
          "[358756] Net Impression Digital Services LTD",
          "[358990] HUGH Inc. [shopify]",
          "[359011] Rappelz Ancient",
          "[359242] DREAMFACTORY [shopify]",
          "[359854] Mediacraft [buycraft]",
          "[359944] T.A.C",
          "[361633] Althea Inc. [Shopify - PH]",
          "[361844] CLIO COSMETICS [shopify]",
          "[361910] Rufian Mu Online",
          "[362436] Outbyte,DrWeb_USA",
          "[362905] B2B",
          "[362918] zodier.io",
          "[363368] LoveInAsia",
          "[363836] eyougame.com",
          "[363855] Valofe",
          "[363857] DYNAMICNEXT",
          "[363859] Movga",
          "[363860] OptiFine",
          "[363861] Xcraft",
          "[363866] Jun Hai Network Limited",
          "[363871] STARY PTE. LTD.",
          "[364054] GamersFirst",
          "[364071] GAMEMOREFUN.com",
          "[364074] ALEX JM PTY LTD",
          "[364076] The Great Merchant",
          "[364077] TornadoCard",
          "[364080] Gamekiss",
          "[364091] Netease",
          "[364092] Clean Master for PC",
          "[364093] Kunlun group limited",
          "[364102] Pirates of the Burning Sea",
          "[364259] WORLDBUS",
          "[364272] Mint Internal Widget - T3 CC",
          "[364705] SurvivalRolemine2",
          "[364728] Cosmic Craft",
          "[364735] My Basketball Team",
          "[364751] Skyblock",
          "[364980] Nordgreen ApS [shopify]",
          "[365368] Ezmut",
          "[365404] [Live] Softline",
          "[365505] Hongkong ShangMi Network Technology Co.",
          "[365973] www.telepark.tv",
          "[366173] mmoah",
          "[366644] Auroras",
          "[366743] https://namember.battleteams1.com",
          "[366891] poecurrency",
          "[367043] mmowts",
          "[367049] gamems",
          "[36717] Cosmic Craft",
          "[368563] www.lezhin.es",
          "[368653] Virtual-Advantage",
          "[36894] Express VPN",
          "[368961] DragonBound",
          "[369529] Metin2 SG",
          "[370261] Neocraft",
          "[370262] wooduan",
          "[370428] Whatsgaming",
          "[371942] vipkeysale",
          "[371953] gamesdeal",
          "[372636] Endless",
          "[37282] Damage",
          "[373703] CNL Gaming",
          "[373723] www.r2games.com",
          "[375380] gameladen",
          "[37572] BATTLE CRY",
          "[37587] iMinecrafting Buycraft 2",
          "[375903] RussianFlirting",
          "[375904] ThaiFlirting",
          "[37602] DOWNTOWN MAFIA",
          "[376108] hawatalk.com",
          "[376623] Runescapegoldmarkt",
          "[376667] Ezmmoplay",
          "[376712] www.namesilo.com",
          "[376814] wingbling.love [shopify]",
          "[376824] kr.icebirdgame.com",
          "[376855] moonrisemu.com",
          "[377040] RSGeldStuk",
          "[377041] RSGoldMarkt",
          "[377874] www.firefly.live",
          "[378138] bobkeys",
          "[378141] lkadmin.orzzhibo.com",
          "[378342] Road Crash",
          "[378587] NameLot",
          "[378591] [Staging] GI",
          "[378632] Forsaken-Jade",
          "[378845] Yaar",
          "[378846] Tumile",
          "[380107] drakescraft.craftingstore.net",
          "[380126] duokuai",
          "[380494] TIENDA LIBRECRAFT",
          "[381140] cdkdeals",
          "[381141] supercdk",
          "[381274] Atlantis",
          "[381469] Gameforge - Credit Cards",
          "[381782] swing2app.com",
          "[381999] global.jsrlife.com",
          "[382301] www.lalatoon.com",
          "[382522] daf",
          "[382767] POQ - VC",
          "[382999] SecureIDC.net",
          "[383088] M-Reader",
          "[383100] QiGame",
          "[383362] www.partying.sg",
          "[383948] skovandersen.co.kr [shopify]",
          "[384267] Cuddle",
          "[384519] VCOIN",
          "[385012] æ¶ç‹¼æ¸¸æˆ ã€œAnotherã€œ",
          "[385148] YunMengXinYue",
          "[385207] Superrnet",
          "[385290] creaction-network.com",
          "[385734] fkdjxkr",
          "[385741] warmgreytail.store [shopify]",
          "[386051] Wasabi æ¸¸æˆ",
          "[386378] MARVEL Duel",
          "[386390] keyesd.com [shopify]",
          "[386589] LegitCheats",
          "[387013] SB MOTO abswb.com",
          "[387151] www.zhangyun.com",
          "[387152] acbellsbuy",
          "[387407] cdkeylord",
          "[387414] Elf-Novel",
          "[387496] Movavi",
          "[387651] friver",
          "[387681] Evadav",
          "[388099] [LIVE] Black Desert Online (NA/EU)",
          "[388303] play-cs.com",
          "[388439] 5gold.com",
          "[388887] Pokemon Blaze Online",
          "[388933] r2games",
          "[389038] bxvpn.com",
          "[389116] AT Oceanic",
          "[389170] Mint",
          "[389352] é¦™èŠ’å°è¯´",
          "[389358] www.fasynovel.com",
          "[389360] global_idol",
          "[389728] soomlab.myshopify.com",
          "[390083] COSRX [shopify]",
          "[390113] [LIVE] GI",
          "[390196] Flow IM",
          "[390348] WJGL",
          "[39053] Ultra-Host - Add Account Money",
          "[390591] fasynovel",
          "[390613] www.osechill.com",
          "[390692] Deereader",
          "[390847] Bravonovel-web",
          "[391290] gooseket.jp",
          "[391443] en.volia.biz",
          "[391699] Bee Novel",
          "[391782] Hyperknox World",
          "[392203] Sailor Red Sea",
          "[392207] fa-delivery.com",
          "[392268] zhangyun",
          "[392289] IUdating",
          "[3922] PokeMMO",
          "[392364] pkmbuy",
          "[393015] Nba2k21mt",
          "[393405] www.sarlang.com",
          "[393509] babelnovel.com",
          "[394230] love is",
          "[394433] KiKa Novel",
          "[394484] Soldier Front",
          "[395490] myseachester",
          "[395533] yalliyalli.com",
          "[396837] konectedu[shopify]",
          "[396986] re:p [shopify]",
          "[397822] MixU",
          "[39821] MuO Play",
          "[399230] LOKUM GAMES",
          "[399608] -=WarmupServer=- (all but cc)",
          "[400715] zone",
          "[401316] acnhitems",
          "[401568] The Lord of the Rings: Rise to War",
          "[401587] Infinite Lagrange",
          "[401865] www.homedecorbox.com [shopify]",
          "[402014] 9splay",
          "[402177] gooseketbaby.com",
          "[402189] eskyfun",
          "[402191] naroomask.com",
          "[402203] VPN Unlimited",
          "[402205] m.thoroscope.com",
          "[403297] rocketprices",
          "[403837] www.popochat.live",
          "[403937] facecast",
          "[403993] [Thai] Olight Ecommerce Technology [shopify]",
          "[404176] BC EnglishScore Ltd",
          "[4041] TornadoCard",
          "[404245] GD+ Klondike",
          "[404262] GD+ Family Relics",
          "[404263] GD+ Royal Story - Purple Gems",
          "[404282] www.wearekpop.com",
          "[404765] GD+ Royal Story - Rubies",
          "[404949] NovelSky",
          "[404964] [New] Bokitta International",
          "[405431] Awake MU",
          "[405586] Pandaria",
          "[405804] GD+ Governor of Poker 3",
          "[405805] GD+ Eternal Fury",
          "[405806] GD+ Royal Dice",
          "[405807] GD+ Bingo Gamepoint",
          "[405809] GD+ Let's Fish",
          "[405812] GD+ Lady Popular",
          "[405945] GD+ Virtual Families: Cook Off",
          "[405952] GD+ Charm Farm - Gold",
          "[405954] GD+ Charm Farm - Rubies",
          "[406079] GD+ Harvest Honors",
          "[406506] en.abib.com[Shopify]",
          "[406852] laweiju.eu [shopify]",
          "[407353] utnice",
          "[407496] nearndearmall.com [shopify]",
          "[407606] zenmarket.jp",
          "[40778] VPNetworks LLC",
          "[408345] mijnvogaanvragen.nl",
          "[408378] www.mtcgame.com",
          "[409031] Spark Fiction",
          "[409126] GVET Software",
          "[409131] NARAKA: BLADEPOINT",
          "[409786] Jooble SNG LLC",
          "[409793] pay.9ring.com",
          "[409857] TH KAKAO WEBTOON",
          "[409858] TW KAKAO WEBTOON",
          "[409933] CABAL Online - EU",
          "[409971] aporro.eu [shopify]",
          "[411148] ELEFOR",
          "[411235] jp.thelotuff.com",
          "[411643] seoulish",
          "[411652] zeroskins.com",
          "[411900] cansale.com",
          "[412151] D2ItemStash",
          "[413017] jp.abib.com [shopify]",
          "[413247] karamba3d.com [shopify]",
          "[413267] PandaFan",
          "[413326] Webfic",
          "[413454] [PC] olightstore.es",
          "[413912] Pixmad IT Shop",
          "[413994] [PC] olightstore.it",
          "[413995] [H5] olightstore.es",
          "[414045] en.caseuphoria.com",
          "[414082] Payment Game Online",
          "[414430] paper4me.com",
          "[414556] Webshop RAN Reunion",
          "[415651] Ubuy LLC 2",
          "[415678] LVMH Shopify",
          "[415833] coco-vintage.com [shopify]",
          "[415904] keysbuff",
          "[416354] payzoft.com",
          "[417029] Musemond Creditcard payments",
          "[417133] KaKaoGamesEU",
          "[417776] www.lita.gg",
          "[417917] JCDE's OAC Payment Service",
          "[417953] OmegaZone",
          "[418083] kollectionseoul.com [shopify]",
          "[418268] AXIS-Y Shopify",
          "[418710] www.switch-bot.com [shopify]",
          "[419002] Renewal [shopify INTL]",
          "[419269] MMOGAH 2",
          "[419361] Genius Orc Entertainment",
          "[419374] iamport.kr",
          "[419453] NewStylish.com",
          "[419985] talktomeinkorean.com",
          "[420008] home.spread-fun.com",
          "[420118] 37 Mobile Games",
          "[420642] EFORT",
          "[420864] UBUY",
          "[420901] masterspro.app",
          "[420960] focallure.id [shopify]",
          "[420978] lasercraftum.com [shopify]",
          "[420993] Visafoto.com",
          "[421016] [PC] olightstore.kr",
          "[421017] [H5] olightstore.kr",
          "[421019] [H5] olightstore.co.th",
          "[421220] GetMusicPlays",
          "[421279] www.iyagames.com",
          "[421310] dev-iamport.kr",
          "[421365] Gxzone.com",
          "[421392] nwgold",
          "[421411] Rufian V7 NEW",
          "[422426] www.westlouis.com [shopify]",
          "[422548] dorosiwa.co.kr [cafe24]",
          "[422682] [Global] Gentlemonster",
          "[422769] THE PURE LOTUS [USA]",
          "[423420] https://www.mrgeek.net",
          "[423830] ì•„ë ˆìŠ¤ í¬ë¡œë‹ˆí´",
          "[424153] www.creatrip.com",
          "[424394] Farivps Services",
          "[424418] www.orore-bijoux.com [shopify]",
          "[424744] NSTECK.COM [shopify]",
          "[424822] realmstock.com",
          "[424825] Cheap web hosting",
          "[425193] FastPong",
          "[425264] å°æµ·é²¸",
          "[425269] Mystic Korea",
          "[425752] GTA DAY",
          "[425774] Joyread-web",
          "[426088] WarstowN",
          "[426324] WoWCircle BFA",
          "[426375] OliverGreen Korea",
          "[426646] [H5] olightstore.it",
          "[427186] jhy-group.com [shopify]",
          "[427265] PT-Runners",
          "[42817] Dead Frontier",
          "[428273] en.nacific.com [cafe24]",
          "[428869] FINGER SUIT TAIWAN",
          "[429046] FINGER SUIT",
          "[429048] ANDAR",
          "[429420] Game Freedom",
          "[429619] desuclothing.com",
          "[429804] cdkeyoffer",
          "[429806] gvgmalls",
          "[429819] FT Games Store",
          "[430091] galaxyhosting.gg",
          "[430133] TIMEFLIK",
          "[430135] vip-cdkdeals",
          "[430299] kaloud-europe.com [shopify]",
          "[431209] lewkin.kr",
          "[431704] L2Tox.com",
          "[431867] uprisingro.net",
          "[432211] VANITY TABLE",
          "[432337] real",
          "[432524] monicareading.com [wix]",
          "[432593] BrokenRanks",
          "[432658] åŠŸå¤«å¡",
          "[433297] -=WarmupServer=- (credit cards)",
          "[433516] VIVIDACADEMIA",
          "[433604] WWW.GLOVEWORKS.NET",
          "[433695] Gen Technology",
          "[433777] RoxLabs",
          "[434293] HAND-SHAKE [WIX]",
          "[43438] MMOGA Limited",
          "[434429] ETUDE",
          "[434810] shop.t1.gg [cafe24]",
          "[435637] lostarkgold",
          "[436250] LEGION",
          "[436697] Sera GE",
          "[436785] deebfashion.com [shopify]",
          "[436787] Stormforge",
          "[436828] RSVP Seoul",
          "[436960] vogaanvraag.online",
          "[43711] Oasis Games Limited PL",
          "[437278] VanillaPlus",
          "[437324] marinagift.com",
          "[437348] nfckill.com",
          "[437406] shendutanqi",
          "[437736] www.itopvpn.com",
          "[437830] TS",
          "[438059] pongslime.net [shopify]",
          "[438146] vip-urcdkey",
          "[438491] C2XNFT",
          "[438936] Xantos",
          "[438985] Documents Preparation",
          "[439135] ninepacket.com [invoicing]",
          "[439294] RMA USA",
          "[439355] www.kedglobal.com",
          "[439903] shaperbra.nl [shopify]",
          "[440161] paschatelier.myshopify.com [shopify]",
          "[440498] Hero1",
          "[441108] L2Tox.com",
          "[444611] 0xVps",
          "[44972] Oasis Games Limited BR",
          "[452996] Emotiony",
          "[4544] AimJunkies",
          "[45478] IMVU",
          "[456088] www.cyberghostvpn.com",
          "[456815] HUBBISH KOREA Co., Ltd [shopify]",
          "[45777] Styx",
          "[459298] ID KAKAO WEBTOON",
          "[459388] zenmate.com",
          "[460040] PyProxy",
          "[460178] DragonLegend",
          "[462574] WW Project",
          "[463013] artemiadirect.com [shopify]",
          "[463431] shop.lyricvideomakers.com",
          "[464392] www.maisonseoul.com",
          "[466568] Peakstar technologies Inc.",
          "[46746] FastCast4u",
          "[467960] INFERNO",
          "[469000] www.regxa.com",
          "[469664] MMOGAH 3",
          "[473995] www.superbankhoes.nl [shopify]",
          "[47460] SurvivalRolemine2",
          "[478302] th.footballtown.com [shopify]",
          "[48069] TrueWoW",
          "[481058] www.letianinc.com",
          "[481109] www.telepark.tv",
          "[48140] KA-CN.COM",
          "[484324] letiannic2",
          "[487523] main - mason-test-01.myshopify.com [shopify]",
          "[48861] GameSamba",
          "[4889] Hatchlings 2",
          "[49412] KOG Games - Virtual currency",
          "[49592] myLoc managed IT AG",
          "[50279] bvpn",
          "[51211] FusionWorld",
          "[52334] teebik",
          "[52431] Valofe",
          "[53064] BETAGAMECARD",
          "[53407] Oilimperium S1",
          "[54194] Akamon Pay API Prod",
          "[54736] Madrid blues Limited",
          "[55518] Offshore Security LTD",
          "[55599] Oilimperium S3",
          "[55675] KriptonPVP",
          "[55974] Kingdom Likes",
          "[56582] Days of Evil - NEU",
          "[5687] Omerta",
          "[57552] Venezianer W2",
          "[57792] Goodgame Studios",
          "[58009] Single-Russian-Woman.com",
          "[5838] MaPko Online",
          "[59236] CactusVPN",
          "[5993] FLEXIBLE_COINS",
          "[62514] e-sim Nexia",
          "[62543] Nexia fundraising",
          "[63068] Veeble Softtech Private Limited",
          "[63217] Firestorm",
          "[63698] Netdragon",
          "[63845] JoyGames Co.Limited",
          "[63968] Smolderforge.com",
          "[64037] 69dragon",
          "[64457] Smart IPTV",
          "[65058] Server.pro",
          "[6598] GiocoPay",
          "[66951] Kogama Payments",
          "[67341] KeepSolid Inc.",
          "[68275] Gameforge 4D GmbH",
          "[69835] AkarCraft",
          "[7073] FLEXIBLE_VIP",
          "[7075] SBot 4 Weeks",
          "[70873] War Trigger 3",
          "[71202] Twenty",
          "[71790] Gaming Gametime",
          "[72098] ivacy",
          "[73114] Warmane",
          "[73143] Corel",
          "[7371] DragonBound",
          "[74621] FlyVPN",
          "[75105] Server.pro Mobile",
          "[75207] Upjerspayment",
          "[75423] Kody Live",
          "[75749] EDUTIN",
          "[76940] transferseveryday.com Brick - HK",
          "[77100] VTRSpeed",
          "[7769] eCoins Widget (CW)",
          "[78463] War Trigger 2",
          "[78823] VPN.asia",
          "[79565] SpeedyAPI LIVE",
          "[79778] Let's Hunt",
          "[8100] OptiFineFixed",
          "[8140] Las Palmas",
          "[81537] Ultimate-Internet",
          "[81582] Shaiya Elixir",
          "[83202] ComuGamers BuyCraft",
          "[834] Celestia Luna Online",
          "[85931] mutop100",
          "[87010] Joycity",
          "[87061] Wave Point",
          "[87148] PlayWorld",
          "[87324] SSI Games",
          "[8745] FinchVPN",
          "[88011] eRepublik",
          "[88221] Mars Tomorrow",
          "[88423] xat.com ltd.",
          "[89628] sMeet",
          "[89655] Store | CraftMania.cz",
          "[89792] Charm Farm - Rubies",
          "[90300] LYS | PoudlardRP",
          "[9076] BankTransfer",
          "[93660] MMOGAH.COM LIMITED",
          "[9485] plagiarism",
          "[96260] Gamekiss",
          "[96348] App Business Ventures LLC",
          "[97078] CargoTycoon"
         ],
         "legendgroup": "",
         "name": "",
         "showlegend": true,
         "text": [
          "[100260]",
          "[101031]",
          "[101204]",
          "[10128]",
          "[101299]",
          "[101870]",
          "[102246]",
          "[102899]",
          "[103004]",
          "[103068]",
          "[103385]",
          "[104373]",
          "[105730]",
          "[10684]",
          "[107172]",
          "[109249]",
          "[109367]",
          "[109630]",
          "[109651]",
          "[109712]",
          "[110418]",
          "[111916]",
          "[11249]",
          "[11250]",
          "[11337]",
          "[114270]",
          "[114954]",
          "[116720]",
          "[116989]",
          "[117627]",
          "[1191]",
          "[119208]",
          "[119650]",
          "[120256]",
          "[12026]",
          "[12028]",
          "[120462]",
          "[120900]",
          "[121800]",
          "[121961]",
          "[12216]",
          "[122423]",
          "[122692]",
          "[123774]",
          "[124063]",
          "[124285]",
          "[125455]",
          "[125516]",
          "[125750]",
          "[126744]",
          "[127143]",
          "[129445]",
          "[130749]",
          "[131071]",
          "[131421]",
          "[132143]",
          "[13380]",
          "[135859]",
          "[136754]",
          "[138284]",
          "[142169]",
          "[14282]",
          "[144514]",
          "[144616]",
          "[146235]",
          "[146272]",
          "[146860]",
          "[148417]",
          "[148467]",
          "[14861]",
          "[149789]",
          "[150205]",
          "[15030]",
          "[153020]",
          "[153022]",
          "[153024]",
          "[153025]",
          "[153028]",
          "[153034]",
          "[153180]",
          "[153234]",
          "[153672]",
          "[154267]",
          "[154732]",
          "[156722]",
          "[157570]",
          "[158085]",
          "[158877]",
          "[159936]",
          "[160708]",
          "[161383]",
          "[162766]",
          "[163031]",
          "[163682]",
          "[165428]",
          "[167201]",
          "[168203]",
          "[16838]",
          "[169048]",
          "[169514]",
          "[17242]",
          "[172860]",
          "[1730]",
          "[174429]",
          "[175026]",
          "[17571]",
          "[178917]",
          "[17934]",
          "[180444]",
          "[18046]",
          "[180683]",
          "[181387]",
          "[183949]",
          "[184398]",
          "[185827]",
          "[186102]",
          "[186222]",
          "[186228]",
          "[186229]",
          "[186969]",
          "[188294]",
          "[189457]",
          "[189500]",
          "[191264]",
          "[191766]",
          "[192154]",
          "[192752]",
          "[192785]",
          "[1936]",
          "[194481]",
          "[194943]",
          "[196742]",
          "[200944]",
          "[20104]",
          "[203606]",
          "[20418]",
          "[205859]",
          "[207493]",
          "[207541]",
          "[20841]",
          "[209117]",
          "[210197]",
          "[21033]",
          "[210757]",
          "[211530]",
          "[211577]",
          "[214274]",
          "[214276]",
          "[214696]",
          "[21484]",
          "[215581]",
          "[21606]",
          "[218216]",
          "[218247]",
          "[218326]",
          "[218378]",
          "[220628]",
          "[222225]",
          "[222249]",
          "[222427]",
          "[222626]",
          "[222745]",
          "[223181]",
          "[223211]",
          "[223452]",
          "[223706]",
          "[223756]",
          "[223966]",
          "[224887]",
          "[225021]",
          "[225783]",
          "[226951]",
          "[229255]",
          "[23035]",
          "[231045]",
          "[231552]",
          "[232235]",
          "[233207]",
          "[233502]",
          "[23350]",
          "[233939]",
          "[235859]",
          "[235863]",
          "[236971]",
          "[238315]",
          "[23885]",
          "[239485]",
          "[23962]",
          "[239802]",
          "[24120]",
          "[242084]",
          "[242642]",
          "[243440]",
          "[244371]",
          "[245088]",
          "[246315]",
          "[24643]",
          "[246805]",
          "[246820]",
          "[247990]",
          "[248207]",
          "[249894]",
          "[250083]",
          "[250201]",
          "[250524]",
          "[250688]",
          "[251264]",
          "[252202]",
          "[252995]",
          "[254630]",
          "[25510]",
          "[255230]",
          "[256006]",
          "[256760]",
          "[257349]",
          "[257408]",
          "[257739]",
          "[258053]",
          "[259267]",
          "[259407]",
          "[259567]",
          "[261935]",
          "[262528]",
          "[263341]",
          "[263750]",
          "[263991]",
          "[264835]",
          "[26513]",
          "[26554]",
          "[2674]",
          "[268925]",
          "[269604]",
          "[270635]",
          "[270736]",
          "[270778]",
          "[271011]",
          "[273922]",
          "[274472]",
          "[274492]",
          "[274642]",
          "[274693]",
          "[275116]",
          "[275802]",
          "[275903]",
          "[276169]",
          "[27649]",
          "[276989]",
          "[277274]",
          "[278655]",
          "[279929]",
          "[281452]",
          "[281512]",
          "[282150]",
          "[282647]",
          "[283286]",
          "[283463]",
          "[283805]",
          "[283809]",
          "[284039]",
          "[284413]",
          "[286341]",
          "[287232]",
          "[287367]",
          "[288011]",
          "[288444]",
          "[288840]",
          "[288848]",
          "[290118]",
          "[291017]",
          "[291289]",
          "[291852]",
          "[293496]",
          "[293785]",
          "[294942]",
          "[294948]",
          "[295010]",
          "[296136]",
          "[29719]",
          "[297363]",
          "[298441]",
          "[298871]",
          "[299281]",
          "[299909]",
          "[30003]",
          "[300261]",
          "[300999]",
          "[301955]",
          "[302143]",
          "[302661]",
          "[303905]",
          "[305583]",
          "[306140]",
          "[30666]",
          "[307504]",
          "[307621]",
          "[30885]",
          "[309375]",
          "[310073]",
          "[310747]",
          "[310984]",
          "[312120]",
          "[312321]",
          "[312557]",
          "[312588]",
          "[312602]",
          "[312668]",
          "[314824]",
          "[314825]",
          "[315153]",
          "[315710]",
          "[31629]",
          "[316614]",
          "[316925]",
          "[317879]",
          "[318560]",
          "[318680]",
          "[318739]",
          "[318781]",
          "[319528]",
          "[319807]",
          "[320113]",
          "[32112]",
          "[321194]",
          "[321531]",
          "[321625]",
          "[32202]",
          "[322133]",
          "[322505]",
          "[322976]",
          "[323178]",
          "[323855]",
          "[323892]",
          "[324480]",
          "[324545]",
          "[325227]",
          "[325556]",
          "[325951]",
          "[326094]",
          "[326916]",
          "[327118]",
          "[327690]",
          "[327980]",
          "[329100]",
          "[329838]",
          "[330033]",
          "[331001]",
          "[331290]",
          "[331291]",
          "[331297]",
          "[331413]",
          "[331436]",
          "[331446]",
          "[331713]",
          "[331787]",
          "[331908]",
          "[332368]",
          "[332674]",
          "[333171]",
          "[333972]",
          "[334500]",
          "[334565]",
          "[334703]",
          "[334998]",
          "[335034]",
          "[335597]",
          "[335823]",
          "[335920]",
          "[335942]",
          "[336326]",
          "[337292]",
          "[337578]",
          "[337684]",
          "[337732]",
          "[337916]",
          "[338056]",
          "[338170]",
          "[338517]",
          "[338901]",
          "[338903]",
          "[339115]",
          "[339499]",
          "[340660]",
          "[341185]",
          "[341616]",
          "[342226]",
          "[342545]",
          "[344118]",
          "[344341]",
          "[344721]",
          "[344766]",
          "[344945]",
          "[345027]",
          "[346123]",
          "[346187]",
          "[346203]",
          "[346798]",
          "[347281]",
          "[347889]",
          "[347965]",
          "[348681]",
          "[348858]",
          "[348909]",
          "[349195]",
          "[349340]",
          "[349373]",
          "[350496]",
          "[350632]",
          "[350642]",
          "[350857]",
          "[351099]",
          "[351409]",
          "[351411]",
          "[351580]",
          "[351864]",
          "[352131]",
          "[352191]",
          "[352217]",
          "[352276]",
          "[352828]",
          "[353213]",
          "[353883]",
          "[354034]",
          "[354429]",
          "[354450]",
          "[355325]",
          "[355948]",
          "[356575]",
          "[356671]",
          "[356686]",
          "[35685]",
          "[357288]",
          "[35756]",
          "[358521]",
          "[358525]",
          "[358756]",
          "[358990]",
          "[359011]",
          "[359242]",
          "[359854]",
          "[359944]",
          "[361633]",
          "[361844]",
          "[361910]",
          "[362436]",
          "[362905]",
          "[362918]",
          "[363368]",
          "[363836]",
          "[363855]",
          "[363857]",
          "[363859]",
          "[363860]",
          "[363861]",
          "[363866]",
          "[363871]",
          "[364054]",
          "[364071]",
          "[364074]",
          "[364076]",
          "[364077]",
          "[364080]",
          "[364091]",
          "[364092]",
          "[364093]",
          "[364102]",
          "[364259]",
          "[364272]",
          "[364705]",
          "[364728]",
          "[364735]",
          "[364751]",
          "[364980]",
          "[365368]",
          "[365404]",
          "[365505]",
          "[365973]",
          "[366173]",
          "[366644]",
          "[366743]",
          "[366891]",
          "[367043]",
          "[367049]",
          "[36717]",
          "[368563]",
          "[368653]",
          "[36894]",
          "[368961]",
          "[369529]",
          "[370261]",
          "[370262]",
          "[370428]",
          "[371942]",
          "[371953]",
          "[372636]",
          "[37282]",
          "[373703]",
          "[373723]",
          "[375380]",
          "[37572]",
          "[37587]",
          "[375903]",
          "[375904]",
          "[37602]",
          "[376108]",
          "[376623]",
          "[376667]",
          "[376712]",
          "[376814]",
          "[376824]",
          "[376855]",
          "[377040]",
          "[377041]",
          "[377874]",
          "[378138]",
          "[378141]",
          "[378342]",
          "[378587]",
          "[378591]",
          "[378632]",
          "[378845]",
          "[378846]",
          "[380107]",
          "[380126]",
          "[380494]",
          "[381140]",
          "[381141]",
          "[381274]",
          "[381469]",
          "[381782]",
          "[381999]",
          "[382301]",
          "[382522]",
          "[382767]",
          "[382999]",
          "[383088]",
          "[383100]",
          "[383362]",
          "[383948]",
          "[384267]",
          "[384519]",
          "[385012]",
          "[385148]",
          "[385207]",
          "[385290]",
          "[385734]",
          "[385741]",
          "[386051]",
          "[386378]",
          "[386390]",
          "[386589]",
          "[387013]",
          "[387151]",
          "[387152]",
          "[387407]",
          "[387414]",
          "[387496]",
          "[387651]",
          "[387681]",
          "[388099]",
          "[388303]",
          "[388439]",
          "[388887]",
          "[388933]",
          "[389038]",
          "[389116]",
          "[389170]",
          "[389352]",
          "[389358]",
          "[389360]",
          "[389728]",
          "[390083]",
          "[390113]",
          "[390196]",
          "[390348]",
          "[39053]",
          "[390591]",
          "[390613]",
          "[390692]",
          "[390847]",
          "[391290]",
          "[391443]",
          "[391699]",
          "[391782]",
          "[392203]",
          "[392207]",
          "[392268]",
          "[392289]",
          "[3922]",
          "[392364]",
          "[393015]",
          "[393405]",
          "[393509]",
          "[394230]",
          "[394433]",
          "[394484]",
          "[395490]",
          "[395533]",
          "[396837]",
          "[396986]",
          "[397822]",
          "[39821]",
          "[399230]",
          "[399608]",
          "[400715]",
          "[401316]",
          "[401568]",
          "[401587]",
          "[401865]",
          "[402014]",
          "[402177]",
          "[402189]",
          "[402191]",
          "[402203]",
          "[402205]",
          "[403297]",
          "[403837]",
          "[403937]",
          "[403993]",
          "[404176]",
          "[4041]",
          "[404245]",
          "[404262]",
          "[404263]",
          "[404282]",
          "[404765]",
          "[404949]",
          "[404964]",
          "[405431]",
          "[405586]",
          "[405804]",
          "[405805]",
          "[405806]",
          "[405807]",
          "[405809]",
          "[405812]",
          "[405945]",
          "[405952]",
          "[405954]",
          "[406079]",
          "[406506]",
          "[406852]",
          "[407353]",
          "[407496]",
          "[407606]",
          "[40778]",
          "[408345]",
          "[408378]",
          "[409031]",
          "[409126]",
          "[409131]",
          "[409786]",
          "[409793]",
          "[409857]",
          "[409858]",
          "[409933]",
          "[409971]",
          "[411148]",
          "[411235]",
          "[411643]",
          "[411652]",
          "[411900]",
          "[412151]",
          "[413017]",
          "[413247]",
          "[413267]",
          "[413326]",
          "[413454]",
          "[413912]",
          "[413994]",
          "[413995]",
          "[414045]",
          "[414082]",
          "[414430]",
          "[414556]",
          "[415651]",
          "[415678]",
          "[415833]",
          "[415904]",
          "[416354]",
          "[417029]",
          "[417133]",
          "[417776]",
          "[417917]",
          "[417953]",
          "[418083]",
          "[418268]",
          "[418710]",
          "[419002]",
          "[419269]",
          "[419361]",
          "[419374]",
          "[419453]",
          "[419985]",
          "[420008]",
          "[420118]",
          "[420642]",
          "[420864]",
          "[420901]",
          "[420960]",
          "[420978]",
          "[420993]",
          "[421016]",
          "[421017]",
          "[421019]",
          "[421220]",
          "[421279]",
          "[421310]",
          "[421365]",
          "[421392]",
          "[421411]",
          "[422426]",
          "[422548]",
          "[422682]",
          "[422769]",
          "[423420]",
          "[423830]",
          "[424153]",
          "[424394]",
          "[424418]",
          "[424744]",
          "[424822]",
          "[424825]",
          "[425193]",
          "[425264]",
          "[425269]",
          "[425752]",
          "[425774]",
          "[426088]",
          "[426324]",
          "[426375]",
          "[426646]",
          "[427186]",
          "[427265]",
          "[42817]",
          "[428273]",
          "[428869]",
          "[429046]",
          "[429048]",
          "[429420]",
          "[429619]",
          "[429804]",
          "[429806]",
          "[429819]",
          "[430091]",
          "[430133]",
          "[430135]",
          "[430299]",
          "[431209]",
          "[431704]",
          "[431867]",
          "[432211]",
          "[432337]",
          "[432524]",
          "[432593]",
          "[432658]",
          "[433297]",
          "[433516]",
          "[433604]",
          "[433695]",
          "[433777]",
          "[434293]",
          "[43438]",
          "[434429]",
          "[434810]",
          "[435637]",
          "[436250]",
          "[436697]",
          "[436785]",
          "[436787]",
          "[436828]",
          "[436960]",
          "[43711]",
          "[437278]",
          "[437324]",
          "[437348]",
          "[437406]",
          "[437736]",
          "[437830]",
          "[438059]",
          "[438146]",
          "[438491]",
          "[438936]",
          "[438985]",
          "[439135]",
          "[439294]",
          "[439355]",
          "[439903]",
          "[440161]",
          "[440498]",
          "[441108]",
          "[444611]",
          "[44972]",
          "[452996]",
          "[4544]",
          "[45478]",
          "[456088]",
          "[456815]",
          "[45777]",
          "[459298]",
          "[459388]",
          "[460040]",
          "[460178]",
          "[462574]",
          "[463013]",
          "[463431]",
          "[464392]",
          "[466568]",
          "[46746]",
          "[467960]",
          "[469000]",
          "[469664]",
          "[473995]",
          "[47460]",
          "[478302]",
          "[48069]",
          "[481058]",
          "[481109]",
          "[48140]",
          "[484324]",
          "[487523]",
          "[48861]",
          "[4889]",
          "[49412]",
          "[49592]",
          "[50279]",
          "[51211]",
          "[52334]",
          "[52431]",
          "[53064]",
          "[53407]",
          "[54194]",
          "[54736]",
          "[55518]",
          "[55599]",
          "[55675]",
          "[55974]",
          "[56582]",
          "[5687]",
          "[57552]",
          "[57792]",
          "[58009]",
          "[5838]",
          "[59236]",
          "[5993]",
          "[62514]",
          "[62543]",
          "[63068]",
          "[63217]",
          "[63698]",
          "[63845]",
          "[63968]",
          "[64037]",
          "[64457]",
          "[65058]",
          "[6598]",
          "[66951]",
          "[67341]",
          "[68275]",
          "[69835]",
          "[7073]",
          "[7075]",
          "[70873]",
          "[71202]",
          "[71790]",
          "[72098]",
          "[73114]",
          "[73143]",
          "[7371]",
          "[74621]",
          "[75105]",
          "[75207]",
          "[75423]",
          "[75749]",
          "[76940]",
          "[77100]",
          "[7769]",
          "[78463]",
          "[78823]",
          "[79565]",
          "[79778]",
          "[8100]",
          "[8140]",
          "[81537]",
          "[81582]",
          "[83202]",
          "[834]",
          "[85931]",
          "[87010]",
          "[87061]",
          "[87148]",
          "[87324]",
          "[8745]",
          "[88011]",
          "[88221]",
          "[88423]",
          "[89628]",
          "[89655]",
          "[89792]",
          "[90300]",
          "[9076]",
          "[93660]",
          "[9485]",
          "[96260]",
          "[96348]",
          "[97078]"
         ],
         "textinfo": "text+percent",
         "textposition": "inside",
         "type": "pie",
         "values": [
          1277.65,
          164.39,
          176.01,
          131.05,
          910.77,
          15.78,
          449.04,
          1152.65,
          4529.27,
          6229.51,
          753.55,
          80.43,
          387.14,
          15178.86,
          537.53,
          0.97,
          41420.16,
          0,
          10548.28,
          1452.29,
          8809.69,
          5,
          1546.75,
          389.38,
          34.2,
          0,
          12.52,
          60,
          78.25,
          3349.84,
          3358.24,
          652.23,
          6327.41,
          46.73,
          159,
          1612.2,
          1.34,
          328.7,
          894.32,
          11.6,
          467.9,
          27.1,
          54.97,
          6068.27,
          11958.29,
          45,
          105.69,
          1887.04,
          0,
          94.74,
          4120.13,
          102.8,
          75.88,
          6895.4,
          3411.26,
          379.99,
          11.58,
          773.54,
          87.75,
          25.07,
          184.28,
          1369.49,
          7052.11,
          114.45,
          267.48,
          558.46,
          8231.07,
          388.42,
          324.71,
          36.75,
          28750.77,
          28.49,
          7387.42,
          7.12,
          47.37,
          852.46,
          54.25,
          104.35,
          88.88,
          91.34,
          1245.09,
          4276.88,
          10.5,
          738.55,
          2090.35,
          35.07,
          0,
          40.04,
          295.56,
          83.86,
          88.12,
          1315.25,
          19957.87,
          0,
          540.36,
          553.67,
          61.6,
          78.75,
          113.06,
          15.9,
          270.01,
          830.84,
          374.15,
          14.99,
          39.79,
          25.04,
          29.45,
          81.73,
          268.64,
          2259.64,
          0,
          173,
          16.86,
          0,
          4.88,
          1568.17,
          3.16,
          107.57,
          555.46,
          77.24,
          353.02,
          8.81,
          121,
          1295.77,
          7444.16,
          0,
          0,
          118.67,
          225.97,
          2110.47,
          17050.02,
          56.5,
          895.89,
          395.18,
          2376.08,
          324.99,
          0,
          53890.91,
          9.79,
          3.86,
          24.87,
          10960.19,
          142.24,
          467.33,
          235.8,
          1642.73,
          1024.8,
          20.03,
          49.47,
          21.38,
          165.75,
          2424.77,
          40,
          28.81,
          14.94,
          58.97,
          167.42,
          59.46,
          216.26,
          290.42,
          65.66,
          172.68,
          4417.06,
          20.1,
          148.14,
          37.73,
          0,
          7.17,
          3294.46,
          15.36,
          0,
          37113.43,
          0,
          88.03,
          5514.45,
          228.31,
          109.34,
          192.5,
          1.49,
          94684.24,
          188.7,
          544.98,
          472.19,
          32.84,
          117.32,
          11.58,
          1047.49,
          23,
          63,
          196041.33,
          396.01,
          472.74,
          3666.67,
          9570.66,
          240.17,
          39.99,
          902.4,
          565.48,
          6105.97,
          1,
          350,
          7.67,
          84.46,
          162.05,
          166.55,
          0,
          808.12,
          241.7,
          16.98,
          354.16,
          1770.79,
          3241.88,
          6139.19,
          279.14,
          0,
          34.28,
          2.22,
          200.44,
          66.68,
          1376.22,
          7311.41,
          356.71,
          1581.38,
          303.35,
          0,
          6626.6,
          9152.88,
          11,
          2632.4,
          10.53,
          1.87,
          1314.71,
          21137.65,
          0,
          17008,
          3179.5,
          5983.44,
          242.96,
          312.17,
          2071.46,
          20691.93,
          15.53,
          108.54,
          8118,
          26206.95,
          116.9,
          456.32,
          7985.08,
          3420.95,
          0,
          51.97,
          30.16,
          6,
          40,
          604.54,
          5441.42,
          76.34,
          150.3,
          101.34,
          5669.39,
          1998.15,
          86.73,
          7303.74,
          3707.79,
          1062.83,
          12707.88,
          150.67,
          28.02,
          1276.52,
          581.1,
          1095.08,
          24.37,
          2435,
          42238.66,
          12.09,
          5171.19,
          399.13,
          214.59,
          525.72,
          1220.31,
          961.95,
          204.39,
          1275.18,
          3821.12,
          457.14,
          0,
          605.19,
          0,
          265.15,
          2156.89,
          45,
          81.54,
          201.17,
          5404.16,
          11077.66,
          64.12,
          1339.08,
          1506.53,
          0,
          8.76,
          48.45,
          172.24,
          749.55,
          105.34,
          3110.1,
          1974.18,
          1053.21,
          1345.66,
          895.35,
          3963.96,
          377.06,
          14215.34,
          0,
          47066.59,
          4.96,
          38.31,
          552.55,
          322.37,
          129.22,
          0,
          458.04,
          209.05,
          1.94,
          267.6,
          19.82,
          230.02,
          16.79,
          2001.2,
          2267.09,
          10.53,
          108.07,
          274.07,
          24.47,
          3.74,
          201.55,
          377.93,
          343.48,
          1380.39,
          3949.84,
          121414.33,
          1972.62,
          208.4,
          28.06,
          122.93,
          16.73,
          30,
          6786.61,
          60.9,
          14.97,
          2.97,
          3052.22,
          26.25,
          1649.18,
          1434.19,
          449.68,
          11958.93,
          24.25,
          3088.52,
          5982.73,
          124.82,
          2061.98,
          9.48,
          613.69,
          0,
          26.9,
          61.99,
          39648.19,
          2811.26,
          25652.3,
          0,
          26462.4,
          5770.31,
          647.29,
          464.78,
          102.92,
          519.7,
          1321.7,
          43.65,
          49.29,
          5636.79,
          50.28,
          30017.58,
          4,
          11.45,
          382.87,
          95290.33,
          2919.28,
          1693.48,
          49.03,
          1217.46,
          10866.99,
          29.92,
          0,
          5534.93,
          349.14,
          2767.71,
          0,
          32130.57,
          415.45,
          109847.87,
          4672.11,
          5211.89,
          5686.67,
          12451.21,
          10,
          0,
          7011.35,
          22211.18,
          0,
          1466.38,
          12.63,
          391.8,
          1003.65,
          755.75,
          3082.58,
          33.74,
          708.67,
          43452.55,
          513.75,
          6.85,
          36.2,
          25662.27,
          1201.86,
          6.33,
          1003.15,
          429.35,
          532.34,
          534.14,
          7913.08,
          5358.09,
          0,
          343.45,
          1132.69,
          0,
          12201.86,
          28.99,
          50,
          2611,
          4.33,
          264.97,
          287.41,
          4819.21,
          87.6,
          18.73,
          5585.1,
          38.88,
          2.88,
          0,
          0,
          0,
          0,
          0,
          0,
          0,
          0,
          0,
          0,
          0,
          0,
          0,
          0,
          0,
          0,
          0,
          0,
          0,
          0,
          0,
          0,
          0,
          0,
          3833.39,
          14.85,
          5806.19,
          0,
          404.1,
          140.95,
          370.95,
          0,
          416.26,
          1792.76,
          9.81,
          245,
          988.09,
          17.94,
          145531.71,
          0,
          435.56,
          0,
          0,
          4315.74,
          60.19,
          0,
          0,
          249.93,
          139.29,
          1451.91,
          0,
          0,
          9.74,
          16.87,
          71.55,
          0,
          80,
          1067.06,
          11.01,
          41143.27,
          487.82,
          2477.44,
          102.85,
          105.61,
          3574.41,
          813.36,
          85.71,
          1734.84,
          11.85,
          3112,
          2573.94,
          13.61,
          8.81,
          9587.38,
          0,
          243.9,
          85.02,
          243.76,
          0,
          10.53,
          803744.21,
          33,
          57.78,
          617.13,
          10.55,
          69.79,
          16.9,
          1308.05,
          0,
          45213.83,
          18981.56,
          440.88,
          2655.81,
          750.28,
          0,
          3730.18,
          12632.37,
          517.63,
          425,
          119.15,
          650.81,
          382.02,
          10.65,
          657.8,
          230.18,
          73.47,
          0,
          973.5,
          7575.56,
          0,
          833.16,
          699072.13,
          370.68,
          17.55,
          72.8,
          0,
          24.95,
          1669.59,
          301.3,
          137.14,
          0,
          437.37,
          424.75,
          23545.86,
          624418.98,
          38.44,
          4.89,
          29.36,
          0,
          122.46,
          714.65,
          216.66,
          47730.48,
          15.81,
          2540.87,
          1152.99,
          210.23,
          3765.62,
          0,
          129.73,
          34915,
          95.44,
          48.17,
          1306,
          39.15,
          0,
          999.75,
          2497.54,
          6065,
          570.32,
          1687.26,
          31.59,
          4168.43,
          89.55,
          957.75,
          1456.9,
          1.75,
          118.8,
          53.7,
          2455.2,
          0,
          0,
          7474.29,
          10571.26,
          303.95,
          70.64,
          0,
          1.17,
          149.76,
          34194.78,
          3648.98,
          577.8,
          1520.43,
          24415.18,
          703.43,
          1806.36,
          70.43,
          1465.73,
          0,
          117.4,
          126.69,
          125.93,
          5293.42,
          2789.88,
          100.16,
          70.88,
          4788.66,
          10.5,
          88.6,
          5.57,
          1380.82,
          19.6,
          1250.71,
          972.75,
          475.43,
          33.53,
          40.08,
          609.48,
          5320.59,
          12725.03,
          972.22,
          120,
          3032.7,
          556.77,
          932.09,
          14593.77,
          16283.28,
          4054.56,
          543.33,
          94.8,
          729.58,
          5868.52,
          597.5,
          131.32,
          20.68,
          510.23,
          32.14,
          13874.1,
          74.69,
          144.84,
          900.37,
          799.51,
          485.79,
          0,
          189.75,
          1073.2,
          463.9,
          9433.11,
          2460.65,
          684.74,
          0,
          1.01,
          2193.4,
          6038.52,
          25250.31,
          3300,
          64.15,
          171.51,
          4991.66,
          875.06,
          9759.31,
          453.89,
          8771.37,
          164.49,
          211,
          4234.33,
          4892.27,
          1273.87,
          62.64,
          247.83,
          45,
          35.66,
          20.96,
          982.58,
          36762.12,
          44323.71,
          4950.8,
          4.78,
          1288.23,
          26.76,
          22.87,
          5696.9,
          236.18,
          4977.55,
          1817.46,
          4316.76,
          391.6,
          528.33,
          279.84,
          139.68,
          10.55,
          157.5,
          24.34,
          313.89,
          21.66,
          1862.71,
          3221.35,
          120.74,
          193.75,
          97.91,
          1621.06,
          182.23,
          855.68,
          453.49,
          3415.6,
          42.09,
          9712.18,
          3624.66,
          6021.18,
          7984.26,
          4880.69,
          0,
          0,
          133.44,
          682.4,
          2055.04,
          1.58,
          154.19,
          64.09,
          102.17,
          463.43,
          493.92,
          273.72,
          49165.14,
          3350,
          47.35,
          12251.46,
          1485.59,
          7552.86,
          78.79,
          159.9,
          410.51,
          46.8,
          39.4,
          110435.49,
          5357.08,
          3711.44,
          23.65,
          11.7,
          471.81,
          13925.45,
          2486.73,
          653.95,
          298.56,
          12881.21,
          67.57,
          87.93,
          0,
          2418.18,
          1,
          1941.4,
          151.96,
          84.04,
          6,
          0.67,
          30.85,
          218.46,
          850.75,
          960,
          58.86,
          157.84,
          801.38,
          9.5,
          71.91,
          454.73,
          2.55,
          203.39,
          57635.29,
          13526.9,
          555.87,
          10.53,
          5.96,
          6229.52,
          14.9,
          298,
          13.31,
          70.91,
          12.95,
          8.05,
          47.68,
          26.37,
          33.42,
          88.77,
          3173.12,
          970.19,
          2.94,
          77.77,
          21.98,
          1573.51,
          38.59,
          113.25,
          4313.86,
          0.02,
          312.34,
          46.85,
          602.95,
          51951.76,
          109.98,
          10.51,
          268.15,
          6981.59,
          1002.91,
          57.75,
          68.41,
          0,
          767.65,
          100.85,
          15.66,
          1954.35,
          21.16,
          957.89,
          9.44,
          109201.45,
          63.08,
          36.56,
          6.82,
          33.03,
          164.74,
          56.64,
          4.27,
          6310.82,
          2906.99,
          521.14,
          75.99,
          70.47,
          1242.78,
          1590.01,
          307.13,
          157.65,
          62.22,
          68666.43,
          24.89,
          34.68,
          169.68,
          942.61,
          3.17,
          1051.98,
          724.64,
          45573.48,
          17020.26,
          282.74,
          748.54,
          135.73,
          21567.87,
          406.55,
          149.44,
          34.44,
          63.47,
          65.29,
          1195.2,
          0,
          4223.34,
          74.38,
          14118.69,
          10.86,
          6.41,
          152.54,
          68.98,
          1169.85,
          32.07,
          73.5,
          100,
          106.99,
          390.45,
          24.37,
          4564.71,
          1010.81,
          249.49,
          28561.25,
          17.96,
          23.16,
          126.27,
          1066.2,
          30103.75,
          37.54,
          0,
          10.52,
          147.46
         ]
        }
       ],
       "layout": {
        "autosize": true,
        "legend": {
         "tracegroupgap": 0
        },
        "margin": {
         "b": 20,
         "l": 20,
         "r": 20,
         "t": 20
        },
        "showlegend": false,
        "template": {
         "data": {
          "bar": [
           {
            "error_x": {
             "color": "#2a3f5f"
            },
            "error_y": {
             "color": "#2a3f5f"
            },
            "marker": {
             "line": {
              "color": "#E5ECF6",
              "width": 0.5
             },
             "pattern": {
              "fillmode": "overlay",
              "size": 10,
              "solidity": 0.2
             }
            },
            "type": "bar"
           }
          ],
          "barpolar": [
           {
            "marker": {
             "line": {
              "color": "#E5ECF6",
              "width": 0.5
             },
             "pattern": {
              "fillmode": "overlay",
              "size": 10,
              "solidity": 0.2
             }
            },
            "type": "barpolar"
           }
          ],
          "carpet": [
           {
            "aaxis": {
             "endlinecolor": "#2a3f5f",
             "gridcolor": "white",
             "linecolor": "white",
             "minorgridcolor": "white",
             "startlinecolor": "#2a3f5f"
            },
            "baxis": {
             "endlinecolor": "#2a3f5f",
             "gridcolor": "white",
             "linecolor": "white",
             "minorgridcolor": "white",
             "startlinecolor": "#2a3f5f"
            },
            "type": "carpet"
           }
          ],
          "choropleth": [
           {
            "colorbar": {
             "outlinewidth": 0,
             "ticks": ""
            },
            "type": "choropleth"
           }
          ],
          "contour": [
           {
            "colorbar": {
             "outlinewidth": 0,
             "ticks": ""
            },
            "colorscale": [
             [
              0,
              "#0d0887"
             ],
             [
              0.1111111111111111,
              "#46039f"
             ],
             [
              0.2222222222222222,
              "#7201a8"
             ],
             [
              0.3333333333333333,
              "#9c179e"
             ],
             [
              0.4444444444444444,
              "#bd3786"
             ],
             [
              0.5555555555555556,
              "#d8576b"
             ],
             [
              0.6666666666666666,
              "#ed7953"
             ],
             [
              0.7777777777777778,
              "#fb9f3a"
             ],
             [
              0.8888888888888888,
              "#fdca26"
             ],
             [
              1,
              "#f0f921"
             ]
            ],
            "type": "contour"
           }
          ],
          "contourcarpet": [
           {
            "colorbar": {
             "outlinewidth": 0,
             "ticks": ""
            },
            "type": "contourcarpet"
           }
          ],
          "heatmap": [
           {
            "colorbar": {
             "outlinewidth": 0,
             "ticks": ""
            },
            "colorscale": [
             [
              0,
              "#0d0887"
             ],
             [
              0.1111111111111111,
              "#46039f"
             ],
             [
              0.2222222222222222,
              "#7201a8"
             ],
             [
              0.3333333333333333,
              "#9c179e"
             ],
             [
              0.4444444444444444,
              "#bd3786"
             ],
             [
              0.5555555555555556,
              "#d8576b"
             ],
             [
              0.6666666666666666,
              "#ed7953"
             ],
             [
              0.7777777777777778,
              "#fb9f3a"
             ],
             [
              0.8888888888888888,
              "#fdca26"
             ],
             [
              1,
              "#f0f921"
             ]
            ],
            "type": "heatmap"
           }
          ],
          "heatmapgl": [
           {
            "colorbar": {
             "outlinewidth": 0,
             "ticks": ""
            },
            "colorscale": [
             [
              0,
              "#0d0887"
             ],
             [
              0.1111111111111111,
              "#46039f"
             ],
             [
              0.2222222222222222,
              "#7201a8"
             ],
             [
              0.3333333333333333,
              "#9c179e"
             ],
             [
              0.4444444444444444,
              "#bd3786"
             ],
             [
              0.5555555555555556,
              "#d8576b"
             ],
             [
              0.6666666666666666,
              "#ed7953"
             ],
             [
              0.7777777777777778,
              "#fb9f3a"
             ],
             [
              0.8888888888888888,
              "#fdca26"
             ],
             [
              1,
              "#f0f921"
             ]
            ],
            "type": "heatmapgl"
           }
          ],
          "histogram": [
           {
            "marker": {
             "pattern": {
              "fillmode": "overlay",
              "size": 10,
              "solidity": 0.2
             }
            },
            "type": "histogram"
           }
          ],
          "histogram2d": [
           {
            "colorbar": {
             "outlinewidth": 0,
             "ticks": ""
            },
            "colorscale": [
             [
              0,
              "#0d0887"
             ],
             [
              0.1111111111111111,
              "#46039f"
             ],
             [
              0.2222222222222222,
              "#7201a8"
             ],
             [
              0.3333333333333333,
              "#9c179e"
             ],
             [
              0.4444444444444444,
              "#bd3786"
             ],
             [
              0.5555555555555556,
              "#d8576b"
             ],
             [
              0.6666666666666666,
              "#ed7953"
             ],
             [
              0.7777777777777778,
              "#fb9f3a"
             ],
             [
              0.8888888888888888,
              "#fdca26"
             ],
             [
              1,
              "#f0f921"
             ]
            ],
            "type": "histogram2d"
           }
          ],
          "histogram2dcontour": [
           {
            "colorbar": {
             "outlinewidth": 0,
             "ticks": ""
            },
            "colorscale": [
             [
              0,
              "#0d0887"
             ],
             [
              0.1111111111111111,
              "#46039f"
             ],
             [
              0.2222222222222222,
              "#7201a8"
             ],
             [
              0.3333333333333333,
              "#9c179e"
             ],
             [
              0.4444444444444444,
              "#bd3786"
             ],
             [
              0.5555555555555556,
              "#d8576b"
             ],
             [
              0.6666666666666666,
              "#ed7953"
             ],
             [
              0.7777777777777778,
              "#fb9f3a"
             ],
             [
              0.8888888888888888,
              "#fdca26"
             ],
             [
              1,
              "#f0f921"
             ]
            ],
            "type": "histogram2dcontour"
           }
          ],
          "mesh3d": [
           {
            "colorbar": {
             "outlinewidth": 0,
             "ticks": ""
            },
            "type": "mesh3d"
           }
          ],
          "parcoords": [
           {
            "line": {
             "colorbar": {
              "outlinewidth": 0,
              "ticks": ""
             }
            },
            "type": "parcoords"
           }
          ],
          "pie": [
           {
            "automargin": true,
            "type": "pie"
           }
          ],
          "scatter": [
           {
            "marker": {
             "colorbar": {
              "outlinewidth": 0,
              "ticks": ""
             }
            },
            "type": "scatter"
           }
          ],
          "scatter3d": [
           {
            "line": {
             "colorbar": {
              "outlinewidth": 0,
              "ticks": ""
             }
            },
            "marker": {
             "colorbar": {
              "outlinewidth": 0,
              "ticks": ""
             }
            },
            "type": "scatter3d"
           }
          ],
          "scattercarpet": [
           {
            "marker": {
             "colorbar": {
              "outlinewidth": 0,
              "ticks": ""
             }
            },
            "type": "scattercarpet"
           }
          ],
          "scattergeo": [
           {
            "marker": {
             "colorbar": {
              "outlinewidth": 0,
              "ticks": ""
             }
            },
            "type": "scattergeo"
           }
          ],
          "scattergl": [
           {
            "marker": {
             "colorbar": {
              "outlinewidth": 0,
              "ticks": ""
             }
            },
            "type": "scattergl"
           }
          ],
          "scattermapbox": [
           {
            "marker": {
             "colorbar": {
              "outlinewidth": 0,
              "ticks": ""
             }
            },
            "type": "scattermapbox"
           }
          ],
          "scatterpolar": [
           {
            "marker": {
             "colorbar": {
              "outlinewidth": 0,
              "ticks": ""
             }
            },
            "type": "scatterpolar"
           }
          ],
          "scatterpolargl": [
           {
            "marker": {
             "colorbar": {
              "outlinewidth": 0,
              "ticks": ""
             }
            },
            "type": "scatterpolargl"
           }
          ],
          "scatterternary": [
           {
            "marker": {
             "colorbar": {
              "outlinewidth": 0,
              "ticks": ""
             }
            },
            "type": "scatterternary"
           }
          ],
          "surface": [
           {
            "colorbar": {
             "outlinewidth": 0,
             "ticks": ""
            },
            "colorscale": [
             [
              0,
              "#0d0887"
             ],
             [
              0.1111111111111111,
              "#46039f"
             ],
             [
              0.2222222222222222,
              "#7201a8"
             ],
             [
              0.3333333333333333,
              "#9c179e"
             ],
             [
              0.4444444444444444,
              "#bd3786"
             ],
             [
              0.5555555555555556,
              "#d8576b"
             ],
             [
              0.6666666666666666,
              "#ed7953"
             ],
             [
              0.7777777777777778,
              "#fb9f3a"
             ],
             [
              0.8888888888888888,
              "#fdca26"
             ],
             [
              1,
              "#f0f921"
             ]
            ],
            "type": "surface"
           }
          ],
          "table": [
           {
            "cells": {
             "fill": {
              "color": "#EBF0F8"
             },
             "line": {
              "color": "white"
             }
            },
            "header": {
             "fill": {
              "color": "#C8D4E3"
             },
             "line": {
              "color": "white"
             }
            },
            "type": "table"
           }
          ]
         },
         "layout": {
          "annotationdefaults": {
           "arrowcolor": "#2a3f5f",
           "arrowhead": 0,
           "arrowwidth": 1
          },
          "autotypenumbers": "strict",
          "coloraxis": {
           "colorbar": {
            "outlinewidth": 0,
            "ticks": ""
           }
          },
          "colorscale": {
           "diverging": [
            [
             0,
             "#8e0152"
            ],
            [
             0.1,
             "#c51b7d"
            ],
            [
             0.2,
             "#de77ae"
            ],
            [
             0.3,
             "#f1b6da"
            ],
            [
             0.4,
             "#fde0ef"
            ],
            [
             0.5,
             "#f7f7f7"
            ],
            [
             0.6,
             "#e6f5d0"
            ],
            [
             0.7,
             "#b8e186"
            ],
            [
             0.8,
             "#7fbc41"
            ],
            [
             0.9,
             "#4d9221"
            ],
            [
             1,
             "#276419"
            ]
           ],
           "sequential": [
            [
             0,
             "#0d0887"
            ],
            [
             0.1111111111111111,
             "#46039f"
            ],
            [
             0.2222222222222222,
             "#7201a8"
            ],
            [
             0.3333333333333333,
             "#9c179e"
            ],
            [
             0.4444444444444444,
             "#bd3786"
            ],
            [
             0.5555555555555556,
             "#d8576b"
            ],
            [
             0.6666666666666666,
             "#ed7953"
            ],
            [
             0.7777777777777778,
             "#fb9f3a"
            ],
            [
             0.8888888888888888,
             "#fdca26"
            ],
            [
             1,
             "#f0f921"
            ]
           ],
           "sequentialminus": [
            [
             0,
             "#0d0887"
            ],
            [
             0.1111111111111111,
             "#46039f"
            ],
            [
             0.2222222222222222,
             "#7201a8"
            ],
            [
             0.3333333333333333,
             "#9c179e"
            ],
            [
             0.4444444444444444,
             "#bd3786"
            ],
            [
             0.5555555555555556,
             "#d8576b"
            ],
            [
             0.6666666666666666,
             "#ed7953"
            ],
            [
             0.7777777777777778,
             "#fb9f3a"
            ],
            [
             0.8888888888888888,
             "#fdca26"
            ],
            [
             1,
             "#f0f921"
            ]
           ]
          },
          "colorway": [
           "#636efa",
           "#EF553B",
           "#00cc96",
           "#ab63fa",
           "#FFA15A",
           "#19d3f3",
           "#FF6692",
           "#B6E880",
           "#FF97FF",
           "#FECB52"
          ],
          "font": {
           "color": "#2a3f5f"
          },
          "geo": {
           "bgcolor": "white",
           "lakecolor": "white",
           "landcolor": "#E5ECF6",
           "showlakes": true,
           "showland": true,
           "subunitcolor": "white"
          },
          "hoverlabel": {
           "align": "left"
          },
          "hovermode": "closest",
          "mapbox": {
           "style": "light"
          },
          "paper_bgcolor": "white",
          "plot_bgcolor": "#E5ECF6",
          "polar": {
           "angularaxis": {
            "gridcolor": "white",
            "linecolor": "white",
            "ticks": ""
           },
           "bgcolor": "#E5ECF6",
           "radialaxis": {
            "gridcolor": "white",
            "linecolor": "white",
            "ticks": ""
           }
          },
          "scene": {
           "xaxis": {
            "backgroundcolor": "#E5ECF6",
            "gridcolor": "white",
            "gridwidth": 2,
            "linecolor": "white",
            "showbackground": true,
            "ticks": "",
            "zerolinecolor": "white"
           },
           "yaxis": {
            "backgroundcolor": "#E5ECF6",
            "gridcolor": "white",
            "gridwidth": 2,
            "linecolor": "white",
            "showbackground": true,
            "ticks": "",
            "zerolinecolor": "white"
           },
           "zaxis": {
            "backgroundcolor": "#E5ECF6",
            "gridcolor": "white",
            "gridwidth": 2,
            "linecolor": "white",
            "showbackground": true,
            "ticks": "",
            "zerolinecolor": "white"
           }
          },
          "shapedefaults": {
           "line": {
            "color": "#2a3f5f"
           }
          },
          "ternary": {
           "aaxis": {
            "gridcolor": "white",
            "linecolor": "white",
            "ticks": ""
           },
           "baxis": {
            "gridcolor": "white",
            "linecolor": "white",
            "ticks": ""
           },
           "bgcolor": "#E5ECF6",
           "caxis": {
            "gridcolor": "white",
            "linecolor": "white",
            "ticks": ""
           }
          },
          "title": {
           "x": 0.05
          },
          "xaxis": {
           "automargin": true,
           "gridcolor": "white",
           "linecolor": "white",
           "ticks": "",
           "title": {
            "standoff": 15
           },
           "zerolinecolor": "white",
           "zerolinewidth": 2
          },
          "yaxis": {
           "automargin": true,
           "gridcolor": "white",
           "linecolor": "white",
           "ticks": "",
           "title": {
            "standoff": 15
           },
           "zerolinecolor": "white",
           "zerolinewidth": 2
          }
         }
        },
        "uniformtext": {
         "minsize": 11,
         "mode": "hide"
        }
       }
      },
      "image/png": "[encoded data removed]",
      "text/html": [
       "<div>                            <div id=\"ae388605-201a-4cd1-856e-48ed3bd2f1f1\" class=\"plotly-graph-div\" style=\"height:525px; width:100%;\"></div>            <script type=\"text/javascript\">                require([\"plotly\"], function(Plotly) {                    window.PLOTLYENV=window.PLOTLYENV || {};                                    if (document.getElementById(\"ae388605-201a-4cd1-856e-48ed3bd2f1f1\")) {                    Plotly.newPlot(                        \"ae388605-201a-4cd1-856e-48ed3bd2f1f1\",                        [{\"domain\":{\"x\":[0.0,1.0],\"y\":[0.0,1.0]},\"labels\":[\"[100260] Magna Pars Internet Technologies\",\"[101031] www.poralix.com\",\"[101204] ConquerX\",\"[10128] goldicq\",\"[101299] Oasis Games Limited FR\",\"[101870] PvPDojo\",\"[102246] Magaindex Inc\",\"[102899] BoostRoyal\",\"[103004] Private Internet Access, Inc\",\"[103068] MCOIN\",\"[103385] n Way Development Limited\",\"[104373] MCC DONATIONS\",\"[105730] Hammer\",\"[10684] LOVOO\",\"[107172] PLAYERUP\",\"[109249] _Tapfuns SDK_Asia_And\",\"[109367] Live\",\"[109630] DATE4U\",\"[109651] MutantBox Live\",\"[109712] WenTV\",\"[110418] PRODUCTION - Members\",\"[111916] UTDCL\",\"[11249] Wargaming Production NA\",\"[11250] Wargaming Production Asia\",\"[11337] pay.our.com\",\"[114270] keyforlove\",\"[114954] Bestbots\",\"[116720] Armus Online\",\"[116989] SMGP CO.LTD\",\"[117627] Logaster\",\"[1191] elitepvpers\",\"[119208] Fun Phrases P\",\"[119650] Z8Games US\",\"[120256] 5 Dollar Cheats\",\"[12026] GM Consulting - Subscriptions\",\"[12028] GM Consulting\",\"[120462] IMVU Products\",\"[120900] Oxxy Ltd.\",\"[121800] TantraPH\",\"[121961] BungeeCloud NEW\",\"[12216] The Great Merchant, LINKI\",\"[122423] Dark Aim\",\"[122692] CheckiO\",\"[123774] Hoxx.com\",\"[124063] Windscribe Limited\",\"[124285] SubPals Cart66\",\"[125455] dw\",\"[125516] Perfect Privacy\",\"[125750] IT Global\",\"[126744] lod\",\"[127143] WoW-Mania Private Server\",\"[129445] Momio - Norway\",\"[130749] SubPals Subscriber System\",\"[131071] FastStunnel\",\"[131421] Exilium World\",\"[132143] Kunlun group limited\",\"[13380] CraftersLand\",\"[135859] webalfa\",\"[136754] VPN.ht Brick\",\"[138284] nss group\",\"[142169] Saga Flyff\",\"[14282] Justac\",\"[144514] Whow Games\",\"[144616] Minemora Server\",\"[146235] Warmane Mobile Payment\",\"[146272] cdd\",\"[146860] Gravity Development Ltd\",\"[148417] Revolution Network\",\"[148467] MIRACLE GAMES\",\"[14861] Skyblock\",\"[149789] Eduki\",\"[150205] PS Deals\",\"[15030] Let's Fish v2\",\"[153020] Momio - Finland\",\"[153022] Momio - Denmark\",\"[153024] Momio - Poland\",\"[153025] Momio - Sweden\",\"[153028] Momio - Germany\",\"[153034] Momio - Holland\",\"[153180] BolehVPN\",\"[153234] Shockbyte\",\"[153672] FenixZone\",\"[154267] Red Eye Cheats\",\"[154732] Fozzy Inc.\",\"[156722] MSTORE37\",\"[157570] L2Gamers\",\"[158085] Pa\\u00c5\\u00beintys\",\"[158877] Archangel\",\"[159936] Mudfish Networks\",\"[160708] Cubik Studio\",\"[161383] mmose\",\"[162766] Friendhosting LTD\",\"[163031] Pixel Game Card\",\"[163682] Credit card processing activation\",\"[165428] ZGAMES\",\"[167201] Puzzle Pirates\",\"[168203] Epic Minecraft\",\"[16838] Tutellus\",\"[169048] ExtraVM\",\"[169514] Aserver Host\",\"[17242] P4Story\",\"[172860] MNIS\",\"[1730] NoScrubs Iris Moolah\",\"[174429] VPN Shield\",\"[175026] Wargaming Production RU\",\"[17571] FLEXIBLE_BOMB_MESSAGE_PROD\",\"[178917] HavocMC\",\"[17934] Dalaran-WoW\",\"[180444] tinhkiem\",\"[18046] Play Trickster\",\"[180683] Siddique IT Consultancy FZE\",\"[181387] ISnew\",\"[183949] FrenchSky\",\"[184398] CodeGrape\",\"[185827] Cliparto\",\"[186102] Rising Gods\",\"[186222] Omerta TR\",\"[186228] Barafranca NL\",\"[186229] Omerta PT\",\"[186969] MunchyMC\",\"[188294] iversity GmbH\",\"[189457] JS.CheckiO\",\"[189500] Ascentia SAS - FunCraft\",\"[191264] Aseohosting\",\"[191766] Webzen Inc.\",\"[192154] Hasan Cenk Demir\",\"[192752] Ahosting\",\"[192785] Bigpoint GmbH\",\"[1936] phBot\",\"[194481] pubgM\",\"[194943] Flexion - Prod\",\"[196742] Cheapnews\",\"[200944] RW\",\"[20104] Tales of Pirates Mobile\",\"[203606] eyougame-goods\",\"[20418] QHoster.com\",\"[205859] EasyHits4U Custom+Brick\",\"[207493] getlantern.org\",\"[207541] My Basketball Team\",\"[20841] MafiaKings.com\",\"[209117] IstLike\",\"[210197] Fleet Command\",\"[21033] Forsaken Kingdom\",\"[210757] Panzer Sturm\",\"[211530] SCDKEY.COM\",\"[211577] Catan Universe\",\"[214274] AzireVPN\",\"[214276] Flashback VPN\",\"[214696] urcdkeys.com\",\"[21484] nVpn\",\"[215581] (usethis 1) Blockdrop Network [buycraft]\",\"[21606] SolaceRO\",\"[218216] Flow Networks\",\"[218247] Smart Security Limited\",\"[218326] iCheat\",\"[218378] NOVAVPN\",\"[220628] Xcraft.ru\",\"[222225] La2Dream\",\"[222249] Rijbewijs-online\",\"[222427] enzhen Joyslink FENG Inc.\",\"[222626] iRosePH\",\"[222745] Overwatch-boosting\",\"[223181] TrafficBot\",\"[223211] SERIALHOST LTD\",\"[223452] Pokefind\",\"[223706] RZWOW\",\"[223756] VirtualGoodsOnline GbR\",\"[223966] Flexion - Test2 - Production test billing\",\"[224887] i-Cyprus\",\"[225021] 420Cheats\",\"[225783] SeedVPS\",\"[226951] Corel [invoicing]\",\"[229255] LLC RIPNET\",\"[23035] RetroSro\",\"[231045] FIFACOIN\",\"[231552] \\u00ed\\u0160\\u00b8\\u00eb\\u00a0\\u02c6\\u00ec\\u009d\\u00b4\\u00eb\\u201e\\u02c6 \\u00eb\\u00a6\\u00ac\\u00ea\\u00b7\\u00b8\",\"[232235] WOI Mortal\",\"[233207] Sanalika\",\"[233502] China Intercontinental Press\",\"[23350] GTArcade\",\"[233939] Cronoshare\",\"[235859] mtmmo\",\"[235863] SVP Team\",\"[236971] GEM-FLASH Firmware\",\"[238315] X-VPN Web\",\"[23885] VanillaGaming\",\"[239485] Jun Hai Network Limited 2\",\"[23962] RPG MO\",\"[239802] Temma TacticalPad\",\"[24120] Wargaming Production EU\",\"[242084] XtremeTop100.com\",\"[242642] ZoogVPN\",\"[243440] Ascension\",\"[244371] UADreams\",\"[245088] BDcraft\",\"[246315] Astar\",\"[24643] PureVPN - GZ Systems Limited\",\"[246805] Elaris WoW\",\"[246820] Litres_PL\",\"[247990] TheFarmM\",\"[248207] RappelzTournament\",\"[249894] Starred MU\",\"[250083] FiestaHook\",\"[250201] scdkeys.com\",\"[250524] Cheetah Mobile Singapore Pte. Ltd.\",\"[250688] ATV + VD\",\"[251264] LIL School V2\",\"[252202] BUXI Co., Ltd.\",\"[252995] Warpvpn LLC\",\"[254630] WhiteHatBox\",\"[25510] Netsec Interactive Solutions SRL\",\"[255230] Blank Media Games\",\"[256006] pngtree\",\"[256760] ZAP-Hosting GmbH &amp; Co. KG\",\"[257349] SeoHost\",\"[257408] ABC Hosting Ltd.\",\"[257739] UGK GAMES LTD - NEW\",\"[258053] CS SYSTEMS, INC ( SwitchVPN )\",\"[259267] \\u00e7\\u00bb\\u009d\\u00e6\\u0153\\u203a\\u00e7\\u203a\\u2018\\u00e7\\u2030\\u00a2\",\"[259407] ProLeech\",\"[259567] ExitLag\",\"[261935] sMeet Subscription\",\"[262528] Rean\",\"[263341] da\",\"[263750] SimplyBook.me\",\"[263991] db2\",\"[264835] 1. RPGStash.com\",\"[26513] Ticocraft\",\"[26554] payDrake\",\"[2674] Eighteen\",\"[268925] Rules of Survival\",\"[269604] Gamerall.com\",\"[270635] PlexVPN\",\"[270736] CloudVPN.pro\",\"[270778] hideu\",\"[271011] SetupVPN\",\"[273922] GameChps\",\"[274472] GameChips\",\"[274492] MySatGo\",\"[274642] gvgmall.com\",\"[274693] Ladoburn Europe Ltd\",\"[275116] Dragon Crusade\",\"[275802] Armus Mobile\",\"[275903] Linsoc Pay\",\"[276169] Wishcompany Inc\",\"[27649] Hot Candy Land Timeless sp zoo\",\"[276989] Kdatacenter\",\"[277274] SAY Global Inc.\",\"[278655] Knives Out\",\"[279929] Smartcontentllc\",\"[281452] myloveidol\",\"[281512] CLASSWIRE LIMITED\",\"[282150] LONGMA 000\",\"[282647] Elysium-Project\",\"[283286] RakionGOT\",\"[283463] Intui.travel transfer\",\"[283805] ExtremeCraft.net\",\"[283809] Creative Destruction\",\"[284039] IT Research LLC\",\"[284413] Swonkie\",\"[286341] CatWatchful\",\"[287232] rustyworld\",\"[287367] Origin Online (Genesis)\",\"[288011] Camel Entertainment Co., Limited\",\"[288444] GamersFirst\",\"[288840] Writing Services\",\"[288848] wordsforlovers\",\"[290118] Amber WoW Donation\",\"[291017] Gephyra O\\u00c3\\u0153\",\"[291289] NovaRO, LLC.\",\"[291852] DE - CLASSWIRE LIMITED\",\"[293496] vpnresellers.com\",\"[293785] Tutoring App\",\"[294942] PAPAYA PLAY\",\"[294948] MineAquaTM [buycraft]\",\"[295010] GD+ Knights & Brides - Rubies\",\"[296136] 5mmo.com\",\"[29719] O1O\",\"[297363] Works Copyright\",\"[298441] Tiande Riga\",\"[298871] MVPS LTD\",\"[299281] Sparked Host LLC\",\"[299909] Wild Hunt\",\"[30003] online-translate\",\"[300261] SuperDanova\",\"[300999] rocketvpn.net\",\"[301955] DAESUNG HOLDING CO.,LTD\",\"[302143] PopularMMOsWorld\",\"[302661] atozitpro - zh - site & android\",\"[303905] Goodgame Subscriptions\",\"[305583] MueGlobal\",\"[306140] Lethality\",\"[30666] ImmortalsCo\",\"[307504] EVE Echoes\",\"[307621] Hypernet\",\"[30885] Hot Candy Land Pack Timeless sp zoo\",\"[309375] lovepik\",\"[310073] bHaptics Inc.\",\"[310747] FastCN\",\"[310984] Mineplex LLC [buycraft]\",\"[312120] G.O.D Development\",\"[312321] Duducool\",\"[312557] Dragona World\",\"[312588] Dragonica Odyssey\",\"[312602] westworldvpn\",\"[312668] FollowersPasCher\",\"[314824] PandaWoW\",\"[314825] WoWCircle\",\"[315153] steley.com.au\",\"[315710] UW\",\"[31629] Deposit Photos\",\"[316614] yottagames\",\"[316925] UFO VPN\",\"[317879] PandaVPN\",\"[318560] WoWCircle Legion\",\"[318680] 1GSRO\",\"[318739] upup\",\"[318781] justlo.com.au\",\"[319528] whokeys.com\",\"[319807] PaperHacker\",\"[320113] justlo.pt\",\"[32112] carolgames\",\"[321194] Skydom\",\"[321531] urcdkey\",\"[321625] cdkoffers\",\"[32202] Playwith Interactive Inc.\",\"[322133] PvP Henhouse\",\"[322505] Dragon Heart\",\"[322976] www.lietuviskos-paslaugos.com\",\"[323178] Avazure\",\"[323855] g2deal.com\",\"[323892] MX\",\"[324480] War for the Seas\",\"[324545] Avomu\",\"[325227] BuyBoosting\",\"[325556] Bleach-EN\",\"[325951] Shaiya Epic\",\"[326094] AR\",\"[326916] www.latvijashome.com\",\"[327118] Chinaplay.store\",\"[327690] PUWELL CLOUD TECH LIMITED\",\"[327980] Buffalo\",\"[329100] Mobiamo\",\"[329838] Clientom\",\"[330033] Viral Tech\",\"[331001] Social Media Panel\",\"[331290] Rules of Survival_NEW\",\"[331291] LifeAfter\",\"[331297] Super Mecha Champions\",\"[331413] Cyber Hunter\",\"[331436] ACADEMICSERVICE\",\"[331446] Last Chaos Enjoy\",\"[331713] CL\",\"[331787] CO\",\"[331908] Boosta Inc Freebooksummary\",\"[332368] ZKM United Gameserver GmbH\",\"[332674] LikesMarket\",\"[333171] wyd global\",\"[333972] Slide Members\",\"[334500] LikeDike\",\"[334565] www.titservers.com\",\"[334703] Goblin Mu\",\"[334998] LTGAMES GLOBAL\",\"[335034] OC Gaming LLC\",\"[335597] Klondike - DG\",\"[335823] 2MEU Inc.\",\"[335920] Neocraft Limited\",\"[335942] OUTIN FUTURES CORP. [shopify]\",\"[336326] LivU\",\"[337292] 819714514 Mason Pham Live [telegram]\",\"[337578] Android\",\"[337684] Itrigirls\",\"[337732] www.lootboy.com\",\"[337916] CzechSurvival [buycraft]\",\"[338056] German\",\"[338170] traffic-creator.com\",\"[338517] Ascentia Store\",\"[338901] Buyfifacoin_net\",\"[338903] Utpacks\",\"[339115] z2u.com\",\"[339499] RankedKings\",\"[340660] KEY-DROP\",\"[341185] VPNM\",\"[341616] Diamond Mu\",\"[342226] Epics GG\",\"[342545] Badlanders\",\"[344118] IgroShop Prod\",\"[344341] Dark Knight\",\"[344721] Gaming sp. z o. o.\",\"[344766] reborngn.com\",\"[344945] BR\",\"[345027] Uniprof LLP Invoicing\",\"[346123] Bettergamer\",\"[346187] STARY PTE. LTD.\",\"[346203] Sailor Online\",\"[346798] GOGO LIVE\",\"[347281] www.399wan.com\",\"[347889] mate.academy\",\"[347965] S2INTERCOS [shopify]\",\"[348681] Toomics\",\"[348858] Aika Reborn\",\"[348909] COGNITIVE CLOUD L.P.\",\"[349195] PlayerAuctions, LLC\",\"[349340] Geo Track Technologies Inc\",\"[349373] projectnelth.com\",\"[350496] ContinentalSingles.com\",\"[350632] aoeah\",\"[350642] war of kings hk\",\"[350857] RBrides.com\",\"[351099] Kiss Kiss\",\"[351409] plusfuns.com\",\"[351411] Eznpc\",\"[351580] Pirates of the Burning Sea\",\"[351864] u4gm\",\"[352131] All For Gamers O\\u00c3\\u0153\",\"[352191] elo-boost.net\",\"[352217] Buyfifacoins\",\"[352276] Pokemon Planet\",\"[352828] AviaGames\",\"[353213] EliteMU\",\"[353883] Gooroomee Inc.\",\"[354034] Ejoy.com Limited\",\"[354429] UniOne\",\"[354450] EU Cheats\",\"[355325] Freakz\",\"[355948] Online-Gold\",\"[356575] Zhenjiang LeWangHuDong Network Technology Co., Ltd.\",\"[356671] sdk\",\"[356686] Gamebee\",\"[35685] KOG Games\",\"[357288] cdkeysales\",\"[35756] Ilikeq\",\"[358521] goodoffer24\",\"[358525] hotcdkeys\",\"[358756] Net Impression Digital Services LTD\",\"[358990] HUGH Inc. [shopify]\",\"[359011] Rappelz Ancient\",\"[359242] DREAMFACTORY [shopify]\",\"[359854] Mediacraft [buycraft]\",\"[359944] T.A.C\",\"[361633] Althea Inc. [Shopify - PH]\",\"[361844] CLIO COSMETICS [shopify]\",\"[361910] Rufian Mu Online\",\"[362436] Outbyte,DrWeb_USA\",\"[362905] B2B\",\"[362918] zodier.io\",\"[363368] LoveInAsia\",\"[363836] eyougame.com\",\"[363855] Valofe\",\"[363857] DYNAMICNEXT\",\"[363859] Movga\",\"[363860] OptiFine\",\"[363861] Xcraft\",\"[363866] Jun Hai Network Limited\",\"[363871] STARY PTE. LTD.\",\"[364054] GamersFirst\",\"[364071] GAMEMOREFUN.com\",\"[364074] ALEX JM PTY LTD\",\"[364076] The Great Merchant\",\"[364077] TornadoCard\",\"[364080] Gamekiss\",\"[364091] Netease\",\"[364092] Clean Master for PC\",\"[364093] Kunlun group limited\",\"[364102] Pirates of the Burning Sea\",\"[364259] WORLDBUS\",\"[364272] Mint Internal Widget - T3 CC\",\"[364705] SurvivalRolemine2\",\"[364728] Cosmic Craft\",\"[364735] My Basketball Team\",\"[364751] Skyblock\",\"[364980] Nordgreen ApS [shopify]\",\"[365368] Ezmut\",\"[365404] [Live] Softline\",\"[365505] Hongkong ShangMi Network Technology Co.\",\"[365973] www.telepark.tv\",\"[366173] mmoah\",\"[366644] Auroras\",\"[366743] https://namember.battleteams1.com\",\"[366891] poecurrency\",\"[367043] mmowts\",\"[367049] gamems\",\"[36717] Cosmic Craft\",\"[368563] www.lezhin.es\",\"[368653] Virtual-Advantage\",\"[36894] Express VPN\",\"[368961] DragonBound\",\"[369529] Metin2 SG\",\"[370261] Neocraft\",\"[370262] wooduan\",\"[370428] Whatsgaming\",\"[371942] vipkeysale\",\"[371953] gamesdeal\",\"[372636] Endless\",\"[37282] Damage\",\"[373703] CNL Gaming\",\"[373723] www.r2games.com\",\"[375380] gameladen\",\"[37572] BATTLE CRY\",\"[37587] iMinecrafting Buycraft 2\",\"[375903] RussianFlirting\",\"[375904] ThaiFlirting\",\"[37602] DOWNTOWN MAFIA\",\"[376108] hawatalk.com\",\"[376623] Runescapegoldmarkt\",\"[376667] Ezmmoplay\",\"[376712] www.namesilo.com\",\"[376814] wingbling.love [shopify]\",\"[376824] kr.icebirdgame.com\",\"[376855] moonrisemu.com\",\"[377040] RSGeldStuk\",\"[377041] RSGoldMarkt\",\"[377874] www.firefly.live\",\"[378138] bobkeys\",\"[378141] lkadmin.orzzhibo.com\",\"[378342] Road Crash\",\"[378587] NameLot\",\"[378591] [Staging] GI\",\"[378632] Forsaken-Jade\",\"[378845] Yaar\",\"[378846] Tumile\",\"[380107] drakescraft.craftingstore.net\",\"[380126] duokuai\",\"[380494] TIENDA LIBRECRAFT\",\"[381140] cdkdeals\",\"[381141] supercdk\",\"[381274] Atlantis\",\"[381469] Gameforge - Credit Cards\",\"[381782] swing2app.com\",\"[381999] global.jsrlife.com\",\"[382301] www.lalatoon.com\",\"[382522] daf\",\"[382767] POQ - VC\",\"[382999] SecureIDC.net\",\"[383088] M-Reader\",\"[383100] QiGame\",\"[383362] www.partying.sg\",\"[383948] skovandersen.co.kr [shopify]\",\"[384267] Cuddle\",\"[384519] VCOIN\",\"[385012] \\u00e6\\u0081\\u00b6\\u00e7\\u2039\\u00bc\\u00e6\\u00b8\\u00b8\\u00e6\\u02c6\\u008f \\u00e3\\u20ac\\u0153Another\\u00e3\\u20ac\\u0153\",\"[385148] YunMengXinYue\",\"[385207] Superrnet\",\"[385290] creaction-network.com\",\"[385734] fkdjxkr\",\"[385741] warmgreytail.store [shopify]\",\"[386051] Wasabi \\u00e6\\u00b8\\u00b8\\u00e6\\u02c6\\u008f\",\"[386378] MARVEL Duel\",\"[386390] keyesd.com [shopify]\",\"[386589] LegitCheats\",\"[387013] SB MOTO abswb.com\",\"[387151] www.zhangyun.com\",\"[387152] acbellsbuy\",\"[387407] cdkeylord\",\"[387414] Elf-Novel\",\"[387496] Movavi\",\"[387651] friver\",\"[387681] Evadav\",\"[388099] [LIVE] Black Desert Online (NA/EU)\",\"[388303] play-cs.com\",\"[388439] 5gold.com\",\"[388887] Pokemon Blaze Online\",\"[388933] r2games\",\"[389038] bxvpn.com\",\"[389116] AT Oceanic\",\"[389170] Mint\",\"[389352] \\u00e9\\u00a6\\u2122\\u00e8\\u0160\\u2019\\u00e5\\u00b0\\u008f\\u00e8\\u00af\\u00b4\",\"[389358] www.fasynovel.com\",\"[389360] global_idol\",\"[389728] soomlab.myshopify.com\",\"[390083] COSRX [shopify]\",\"[390113] [LIVE] GI\",\"[390196] Flow IM\",\"[390348] WJGL\",\"[39053] Ultra-Host - Add Account Money\",\"[390591] fasynovel\",\"[390613] www.osechill.com\",\"[390692] Deereader\",\"[390847] Bravonovel-web\",\"[391290] gooseket.jp\",\"[391443] en.volia.biz\",\"[391699] Bee Novel\",\"[391782] Hyperknox World\",\"[392203] Sailor Red Sea\",\"[392207] fa-delivery.com\",\"[392268] zhangyun\",\"[392289] IUdating\",\"[3922] PokeMMO\",\"[392364] pkmbuy\",\"[393015] Nba2k21mt\",\"[393405] www.sarlang.com\",\"[393509] babelnovel.com\",\"[394230] love is\",\"[394433] KiKa Novel\",\"[394484] Soldier Front\",\"[395490] myseachester\",\"[395533] yalliyalli.com\",\"[396837] konectedu[shopify]\",\"[396986] re:p [shopify]\",\"[397822] MixU\",\"[39821] MuO Play\",\"[399230] LOKUM GAMES\",\"[399608] -=WarmupServer=- (all but cc)\",\"[400715] zone\",\"[401316] acnhitems\",\"[401568] The Lord of the Rings: Rise to War\",\"[401587] Infinite Lagrange\",\"[401865] www.homedecorbox.com [shopify]\",\"[402014] 9splay\",\"[402177] gooseketbaby.com\",\"[402189] eskyfun\",\"[402191] naroomask.com\",\"[402203] VPN Unlimited\",\"[402205] m.thoroscope.com\",\"[403297] rocketprices\",\"[403837] www.popochat.live\",\"[403937] facecast\",\"[403993] [Thai] Olight Ecommerce Technology [shopify]\",\"[404176] BC EnglishScore Ltd\",\"[4041] TornadoCard\",\"[404245] GD+ Klondike\",\"[404262] GD+ Family Relics\",\"[404263] GD+ Royal Story - Purple Gems\",\"[404282] www.wearekpop.com\",\"[404765] GD+ Royal Story - Rubies\",\"[404949] NovelSky\",\"[404964] [New] Bokitta International\",\"[405431] Awake MU\",\"[405586] Pandaria\",\"[405804] GD+ Governor of Poker 3\",\"[405805] GD+ Eternal Fury\",\"[405806] GD+ Royal Dice\",\"[405807] GD+ Bingo Gamepoint\",\"[405809] GD+ Let's Fish\",\"[405812] GD+ Lady Popular\",\"[405945] GD+ Virtual Families: Cook Off\",\"[405952] GD+ Charm Farm - Gold\",\"[405954] GD+ Charm Farm - Rubies\",\"[406079] GD+ Harvest Honors\",\"[406506] en.abib.com[Shopify]\",\"[406852] laweiju.eu [shopify]\",\"[407353] utnice\",\"[407496] nearndearmall.com [shopify]\",\"[407606] zenmarket.jp\",\"[40778] VPNetworks LLC\",\"[408345] mijnvogaanvragen.nl\",\"[408378] www.mtcgame.com\",\"[409031] Spark Fiction\",\"[409126] GVET Software\",\"[409131] NARAKA: BLADEPOINT\",\"[409786] Jooble SNG LLC\",\"[409793] pay.9ring.com\",\"[409857] TH KAKAO WEBTOON\",\"[409858] TW KAKAO WEBTOON\",\"[409933] CABAL Online - EU\",\"[409971] aporro.eu [shopify]\",\"[411148] ELEFOR\",\"[411235] jp.thelotuff.com\",\"[411643] seoulish\",\"[411652] zeroskins.com\",\"[411900] cansale.com\",\"[412151] D2ItemStash\",\"[413017] jp.abib.com [shopify]\",\"[413247] karamba3d.com [shopify]\",\"[413267] PandaFan\",\"[413326] Webfic\",\"[413454] [PC] olightstore.es\",\"[413912] Pixmad IT Shop\",\"[413994] [PC] olightstore.it\",\"[413995] [H5] olightstore.es\",\"[414045] en.caseuphoria.com\",\"[414082] Payment Game Online\",\"[414430] paper4me.com\",\"[414556] Webshop RAN Reunion\",\"[415651] Ubuy LLC 2\",\"[415678] LVMH Shopify\",\"[415833] coco-vintage.com [shopify]\",\"[415904] keysbuff\",\"[416354] payzoft.com\",\"[417029] Musemond Creditcard payments\",\"[417133] KaKaoGamesEU\",\"[417776] www.lita.gg\",\"[417917] JCDE's OAC Payment Service\",\"[417953] OmegaZone\",\"[418083] kollectionseoul.com [shopify]\",\"[418268] AXIS-Y Shopify\",\"[418710] www.switch-bot.com [shopify]\",\"[419002] Renewal [shopify INTL]\",\"[419269] MMOGAH 2\",\"[419361] Genius Orc Entertainment\",\"[419374] iamport.kr\",\"[419453] NewStylish.com\",\"[419985] talktomeinkorean.com\",\"[420008] home.spread-fun.com\",\"[420118] 37 Mobile Games\",\"[420642] EFORT\",\"[420864] UBUY\",\"[420901] masterspro.app\",\"[420960] focallure.id [shopify]\",\"[420978] lasercraftum.com [shopify]\",\"[420993] Visafoto.com\",\"[421016] [PC] olightstore.kr\",\"[421017] [H5] olightstore.kr\",\"[421019] [H5] olightstore.co.th\",\"[421220] GetMusicPlays\",\"[421279] www.iyagames.com\",\"[421310] dev-iamport.kr\",\"[421365] Gxzone.com\",\"[421392] nwgold\",\"[421411] Rufian V7 NEW\",\"[422426] www.westlouis.com [shopify]\",\"[422548] dorosiwa.co.kr [cafe24]\",\"[422682] [Global] Gentlemonster\",\"[422769] THE PURE LOTUS [USA]\",\"[423420] https://www.mrgeek.net\",\"[423830] \\u00ec\\u2022\\u201e\\u00eb\\u00a0\\u02c6\\u00ec\\u0160\\u00a4 \\u00ed\\u0081\\u00ac\\u00eb\\u00a1\\u0153\\u00eb\\u2039\\u02c6\\u00ed\\u0081\\u00b4\",\"[424153] www.creatrip.com\",\"[424394] Farivps Services\",\"[424418] www.orore-bijoux.com [shopify]\",\"[424744] NSTECK.COM [shopify]\",\"[424822] realmstock.com\",\"[424825] Cheap web hosting\",\"[425193] FastPong\",\"[425264] \\u00e5\\u00b0\\u008f\\u00e6\\u00b5\\u00b7\\u00e9\\u00b2\\u00b8\",\"[425269] Mystic Korea\",\"[425752] GTA DAY\",\"[425774] Joyread-web\",\"[426088] WarstowN\",\"[426324] WoWCircle BFA\",\"[426375] OliverGreen Korea\",\"[426646] [H5] olightstore.it\",\"[427186] jhy-group.com [shopify]\",\"[427265] PT-Runners\",\"[42817] Dead Frontier\",\"[428273] en.nacific.com [cafe24]\",\"[428869] FINGER SUIT TAIWAN\",\"[429046] FINGER SUIT\",\"[429048] ANDAR\",\"[429420] Game Freedom\",\"[429619] desuclothing.com\",\"[429804] cdkeyoffer\",\"[429806] gvgmalls\",\"[429819] FT Games Store\",\"[430091] galaxyhosting.gg\",\"[430133] TIMEFLIK\",\"[430135] vip-cdkdeals\",\"[430299] kaloud-europe.com [shopify]\",\"[431209] lewkin.kr\",\"[431704] L2Tox.com\",\"[431867] uprisingro.net\",\"[432211] VANITY TABLE\",\"[432337] real\",\"[432524] monicareading.com [wix]\",\"[432593] BrokenRanks\",\"[432658] \\u00e5\\u0160\\u0178\\u00e5\\u00a4\\u00ab\\u00e5\\u008d\\u00a1\",\"[433297] -=WarmupServer=- (credit cards)\",\"[433516] VIVIDACADEMIA\",\"[433604] WWW.GLOVEWORKS.NET\",\"[433695] Gen Technology\",\"[433777] RoxLabs\",\"[434293] HAND-SHAKE [WIX]\",\"[43438] MMOGA Limited\",\"[434429] ETUDE\",\"[434810] shop.t1.gg [cafe24]\",\"[435637] lostarkgold\",\"[436250] LEGION\",\"[436697] Sera GE\",\"[436785] deebfashion.com [shopify]\",\"[436787] Stormforge\",\"[436828] RSVP Seoul\",\"[436960] vogaanvraag.online\",\"[43711] Oasis Games Limited PL\",\"[437278] VanillaPlus\",\"[437324] marinagift.com\",\"[437348] nfckill.com\",\"[437406] shendutanqi\",\"[437736] www.itopvpn.com\",\"[437830] TS\",\"[438059] pongslime.net [shopify]\",\"[438146] vip-urcdkey\",\"[438491] C2XNFT\",\"[438936] Xantos\",\"[438985] Documents Preparation\",\"[439135] ninepacket.com [invoicing]\",\"[439294] RMA USA\",\"[439355] www.kedglobal.com\",\"[439903] shaperbra.nl [shopify]\",\"[440161] paschatelier.myshopify.com [shopify]\",\"[440498] Hero1\",\"[441108] L2Tox.com\",\"[444611] 0xVps\",\"[44972] Oasis Games Limited BR\",\"[452996] Emotiony\",\"[4544] AimJunkies\",\"[45478] IMVU\",\"[456088] www.cyberghostvpn.com\",\"[456815] HUBBISH KOREA Co., Ltd [shopify]\",\"[45777] Styx\",\"[459298] ID KAKAO WEBTOON\",\"[459388] zenmate.com\",\"[460040] PyProxy\",\"[460178] DragonLegend\",\"[462574] WW Project\",\"[463013] artemiadirect.com [shopify]\",\"[463431] shop.lyricvideomakers.com\",\"[464392] www.maisonseoul.com\",\"[466568] Peakstar technologies Inc.\",\"[46746] FastCast4u\",\"[467960] INFERNO\",\"[469000] www.regxa.com\",\"[469664] MMOGAH 3\",\"[473995] www.superbankhoes.nl [shopify]\",\"[47460] SurvivalRolemine2\",\"[478302] th.footballtown.com [shopify]\",\"[48069] TrueWoW\",\"[481058] www.letianinc.com\",\"[481109] www.telepark.tv\",\"[48140] KA-CN.COM\",\"[484324] letiannic2\",\"[487523] main - mason-test-01.myshopify.com [shopify]\",\"[48861] GameSamba\",\"[4889] Hatchlings 2\",\"[49412] KOG Games - Virtual currency\",\"[49592] myLoc managed IT AG\",\"[50279] bvpn\",\"[51211] FusionWorld\",\"[52334] teebik\",\"[52431] Valofe\",\"[53064] BETAGAMECARD\",\"[53407] Oilimperium S1\",\"[54194] Akamon Pay API Prod\",\"[54736] Madrid blues Limited\",\"[55518] Offshore Security LTD\",\"[55599] Oilimperium S3\",\"[55675] KriptonPVP\",\"[55974] Kingdom Likes\",\"[56582] Days of Evil - NEU\",\"[5687] Omerta\",\"[57552] Venezianer W2\",\"[57792] Goodgame Studios\",\"[58009] Single-Russian-Woman.com\",\"[5838] MaPko Online\",\"[59236] CactusVPN\",\"[5993] FLEXIBLE_COINS\",\"[62514] e-sim Nexia\",\"[62543] Nexia fundraising\",\"[63068] Veeble Softtech Private Limited\",\"[63217] Firestorm\",\"[63698] Netdragon\",\"[63845] JoyGames Co.Limited\",\"[63968] Smolderforge.com\",\"[64037] 69dragon\",\"[64457] Smart IPTV\",\"[65058] Server.pro\",\"[6598] GiocoPay\",\"[66951] Kogama Payments\",\"[67341] KeepSolid Inc.\",\"[68275] Gameforge 4D GmbH\",\"[69835] AkarCraft\",\"[7073] FLEXIBLE_VIP\",\"[7075] SBot 4 Weeks\",\"[70873] War Trigger 3\",\"[71202] Twenty\",\"[71790] Gaming Gametime\",\"[72098] ivacy\",\"[73114] Warmane\",\"[73143] Corel\",\"[7371] DragonBound\",\"[74621] FlyVPN\",\"[75105] Server.pro Mobile\",\"[75207] Upjerspayment\",\"[75423] Kody Live\",\"[75749] EDUTIN\",\"[76940] transferseveryday.com Brick - HK\",\"[77100] VTRSpeed\",\"[7769] eCoins Widget (CW)\",\"[78463] War Trigger 2\",\"[78823] VPN.asia\",\"[79565] SpeedyAPI LIVE\",\"[79778] Let's Hunt\",\"[8100] OptiFineFixed\",\"[8140] Las Palmas\",\"[81537] Ultimate-Internet\",\"[81582] Shaiya Elixir\",\"[83202] ComuGamers BuyCraft\",\"[834] Celestia Luna Online\",\"[85931] mutop100\",\"[87010] Joycity\",\"[87061] Wave Point\",\"[87148] PlayWorld\",\"[87324] SSI Games\",\"[8745] FinchVPN\",\"[88011] eRepublik\",\"[88221] Mars Tomorrow\",\"[88423] xat.com ltd.\",\"[89628] sMeet\",\"[89655] Store | CraftMania.cz\",\"[89792] Charm Farm - Rubies\",\"[90300] LYS | PoudlardRP\",\"[9076] BankTransfer\",\"[93660] MMOGAH.COM LIMITED\",\"[9485] plagiarism\",\"[96260] Gamekiss\",\"[96348] App Business Ventures LLC\",\"[97078] CargoTycoon\"],\"legendgroup\":\"\",\"name\":\"\",\"showlegend\":true,\"values\":[1277.65,164.39,176.01,131.05,910.77,15.78,449.04,1152.65,4529.27,6229.51,753.55,80.43,387.14,15178.86,537.53,0.97,41420.16,0.0,10548.28,1452.29,8809.69,5.0,1546.75,389.38,34.2,0.0,12.52,60.0,78.25,3349.84,3358.24,652.23,6327.41,46.73,159.0,1612.2,1.34,328.7,894.32,11.6,467.9,27.1,54.97,6068.27,11958.29,45.0,105.69,1887.04,0.0,94.74,4120.13,102.8,75.88,6895.4,3411.26,379.99,11.58,773.54,87.75,25.07,184.28,1369.49,7052.11,114.45,267.48,558.46,8231.07,388.42,324.71,36.75,28750.77,28.49,7387.42,7.12,47.37,852.46,54.25,104.35,88.88,91.34,1245.09,4276.88,10.5,738.55,2090.35,35.07,0.0,40.04,295.56,83.86,88.12,1315.25,19957.87,0.0,540.36,553.67,61.6,78.75,113.06,15.9,270.01,830.84,374.15,14.99,39.79,25.04,29.45,81.73,268.64,2259.64,0.0,173.0,16.86,0.0,4.88,1568.17,3.16,107.57,555.46,77.24,353.02,8.81,121.0,1295.77,7444.16,0.0,0.0,118.67,225.97,2110.47,17050.02,56.5,895.89,395.18,2376.08,324.99,0.0,53890.91,9.79,3.86,24.87,10960.19,142.24,467.33,235.8,1642.73,1024.8,20.03,49.47,21.38,165.75,2424.77,40.0,28.81,14.94,58.97,167.42,59.46,216.26,290.42,65.66,172.68,4417.06,20.1,148.14,37.73,0.0,7.17,3294.46,15.36,0.0,37113.43,0.0,88.03,5514.45,228.31,109.34,192.5,1.49,94684.24,188.7,544.98,472.19,32.84,117.32,11.58,1047.49,23.0,63.0,196041.33,396.01,472.74,3666.67,9570.66,240.17,39.99,902.4,565.48,6105.97,1.0,350.0,7.67,84.46,162.05,166.55,0.0,808.12,241.7,16.98,354.16,1770.79,3241.88,6139.19,279.14,0.0,34.28,2.22,200.44,66.68,1376.22,7311.41,356.71,1581.38,303.35,0.0,6626.6,9152.88,11.0,2632.4,10.53,1.87,1314.71,21137.65,0.0,17008.0,3179.5,5983.44,242.96,312.17,2071.46,20691.93,15.53,108.54,8118.0,26206.95,116.9,456.32,7985.08,3420.95,0.0,51.97,30.16,6.0,40.0,604.54,5441.42,76.34,150.3,101.34,5669.39,1998.15,86.73,7303.74,3707.79,1062.83,12707.88,150.67,28.02,1276.52,581.1,1095.08,24.37,2435.0,42238.66,12.09,5171.19,399.13,214.59,525.72,1220.31,961.95,204.39,1275.18,3821.12,457.14,0.0,605.19,0.0,265.15,2156.89,45.0,81.54,201.17,5404.16,11077.66,64.12,1339.08,1506.53,0.0,8.76,48.45,172.24,749.55,105.34,3110.1,1974.18,1053.21,1345.66,895.35,3963.96,377.06,14215.34,0.0,47066.59,4.96,38.31,552.55,322.37,129.22,0.0,458.04,209.05,1.94,267.6,19.82,230.02,16.79,2001.2,2267.09,10.53,108.07,274.07,24.47,3.74,201.55,377.93,343.48,1380.39,3949.84,121414.33,1972.62,208.4,28.06,122.93,16.73,30.0,6786.61,60.9,14.97,2.97,3052.22,26.25,1649.18,1434.19,449.68,11958.93,24.25,3088.52,5982.73,124.82,2061.98,9.48,613.69,0.0,26.9,61.99,39648.19,2811.26,25652.3,0.0,26462.4,5770.31,647.29,464.78,102.92,519.7,1321.7,43.65,49.29,5636.79,50.28,30017.58,4.0,11.45,382.87,95290.33,2919.28,1693.48,49.03,1217.46,10866.99,29.92,0.0,5534.93,349.14,2767.71,0.0,32130.57,415.45,109847.87,4672.11,5211.89,5686.67,12451.21,10.0,0.0,7011.35,22211.18,0.0,1466.38,12.63,391.8,1003.65,755.75,3082.58,33.74,708.67,43452.55,513.75,6.85,36.2,25662.27,1201.86,6.33,1003.15,429.35,532.34,534.14,7913.08,5358.09,0.0,343.45,1132.69,0.0,12201.86,28.99,50.0,2611.0,4.33,264.97,287.41,4819.21,87.6,18.73,5585.1,38.88,2.88,0.0,0.0,0.0,0.0,0.0,0.0,0.0,0.0,0.0,0.0,0.0,0.0,0.0,0.0,0.0,0.0,0.0,0.0,0.0,0.0,0.0,0.0,0.0,0.0,3833.39,14.85,5806.19,0.0,404.1,140.95,370.95,0.0,416.26,1792.76,9.81,245.0,988.09,17.94,145531.71,0.0,435.56,0.0,0.0,4315.74,60.19,0.0,0.0,249.93,139.29,1451.91,0.0,0.0,9.74,16.87,71.55,0.0,80.0,1067.06,11.01,41143.27,487.82,2477.44,102.85,105.61,3574.41,813.36,85.71,1734.84,11.85,3112.0,2573.94,13.61,8.81,9587.38,0.0,243.9,85.02,243.76,0.0,10.53,803744.21,33.0,57.78,617.13,10.55,69.79,16.9,1308.05,0.0,45213.83,18981.56,440.88,2655.81,750.28,0.0,3730.18,12632.37,517.63,425.0,119.15,650.81,382.02,10.65,657.8,230.18,73.47,0.0,973.5,7575.56,0.0,833.16,699072.13,370.68,17.55,72.8,0.0,24.95,1669.59,301.3,137.14,0.0,437.37,424.75,23545.86,624418.98,38.44,4.89,29.36,0.0,122.46,714.65,216.66,47730.48,15.81,2540.87,1152.99,210.23,3765.62,0.0,129.73,34915.0,95.44,48.17,1306.0,39.15,0.0,999.75,2497.54,6065.0,570.32,1687.26,31.59,4168.43,89.55,957.75,1456.9,1.75,118.8,53.7,2455.2,0.0,0.0,7474.29,10571.26,303.95,70.64,0.0,1.17,149.76,34194.78,3648.98,577.8,1520.43,24415.18,703.43,1806.36,70.43,1465.73,0.0,117.4,126.69,125.93,5293.42,2789.88,100.16,70.88,4788.66,10.5,88.6,5.57,1380.82,19.6,1250.71,972.75,475.43,33.53,40.08,609.48,5320.59,12725.03,972.22,120.0,3032.7,556.77,932.09,14593.77,16283.28,4054.56,543.33,94.8,729.58,5868.52,597.5,131.32,20.68,510.23,32.14,13874.1,74.69,144.84,900.37,799.51,485.79,0.0,189.75,1073.2,463.9,9433.11,2460.65,684.74,0.0,1.01,2193.4,6038.52,25250.31,3300.0,64.15,171.51,4991.66,875.06,9759.31,453.89,8771.37,164.49,211.0,4234.33,4892.27,1273.87,62.64,247.83,45.0,35.66,20.96,982.58,36762.12,44323.71,4950.8,4.78,1288.23,26.76,22.87,5696.9,236.18,4977.55,1817.46,4316.76,391.6,528.33,279.84,139.68,10.55,157.5,24.34,313.89,21.66,1862.71,3221.35,120.74,193.75,97.91,1621.06,182.23,855.68,453.49,3415.6,42.09,9712.18,3624.66,6021.18,7984.26,4880.69,0.0,0.0,133.44,682.4,2055.04,1.58,154.19,64.09,102.17,463.43,493.92,273.72,49165.14,3350.0,47.35,12251.46,1485.59,7552.86,78.79,159.9,410.51,46.8,39.4,110435.49,5357.08,3711.44,23.65,11.7,471.81,13925.45,2486.73,653.95,298.56,12881.21,67.57,87.93,0.0,2418.18,1.0,1941.4,151.96,84.04,6.0,0.67,30.85,218.46,850.75,960.0,58.86,157.84,801.38,9.5,71.91,454.73,2.55,203.39,57635.29,13526.9,555.87,10.53,5.96,6229.52,14.9,298.0,13.31,70.91,12.95,8.05,47.68,26.37,33.42,88.77,3173.12,970.19,2.94,77.77,21.98,1573.51,38.59,113.25,4313.86,0.02,312.34,46.85,602.95,51951.76,109.98,10.51,268.15,6981.59,1002.91,57.75,68.41,0.0,767.65,100.85,15.66,1954.35,21.16,957.89,9.44,109201.45,63.08,36.56,6.82,33.03,164.74,56.64,4.27,6310.82,2906.99,521.14,75.99,70.47,1242.78,1590.01,307.13,157.65,62.22,68666.43,24.89,34.68,169.68,942.61,3.17,1051.98,724.64,45573.48,17020.26,282.74,748.54,135.73,21567.87,406.55,149.44,34.44,63.47,65.29,1195.2,0.0,4223.34,74.38,14118.69,10.86,6.41,152.54,68.98,1169.85,32.07,73.5,100.0,106.99,390.45,24.37,4564.71,1010.81,249.49,28561.25,17.96,23.16,126.27,1066.2,30103.75,37.54,0.0,10.52,147.46],\"type\":\"pie\",\"direction\":\"clockwise\",\"hoverinfo\":\"label+value+percent\",\"text\":[\"[100260]\",\"[101031]\",\"[101204]\",\"[10128]\",\"[101299]\",\"[101870]\",\"[102246]\",\"[102899]\",\"[103004]\",\"[103068]\",\"[103385]\",\"[104373]\",\"[105730]\",\"[10684]\",\"[107172]\",\"[109249]\",\"[109367]\",\"[109630]\",\"[109651]\",\"[109712]\",\"[110418]\",\"[111916]\",\"[11249]\",\"[11250]\",\"[11337]\",\"[114270]\",\"[114954]\",\"[116720]\",\"[116989]\",\"[117627]\",\"[1191]\",\"[119208]\",\"[119650]\",\"[120256]\",\"[12026]\",\"[12028]\",\"[120462]\",\"[120900]\",\"[121800]\",\"[121961]\",\"[12216]\",\"[122423]\",\"[122692]\",\"[123774]\",\"[124063]\",\"[124285]\",\"[125455]\",\"[125516]\",\"[125750]\",\"[126744]\",\"[127143]\",\"[129445]\",\"[130749]\",\"[131071]\",\"[131421]\",\"[132143]\",\"[13380]\",\"[135859]\",\"[136754]\",\"[138284]\",\"[142169]\",\"[14282]\",\"[144514]\",\"[144616]\",\"[146235]\",\"[146272]\",\"[146860]\",\"[148417]\",\"[148467]\",\"[14861]\",\"[149789]\",\"[150205]\",\"[15030]\",\"[153020]\",\"[153022]\",\"[153024]\",\"[153025]\",\"[153028]\",\"[153034]\",\"[153180]\",\"[153234]\",\"[153672]\",\"[154267]\",\"[154732]\",\"[156722]\",\"[157570]\",\"[158085]\",\"[158877]\",\"[159936]\",\"[160708]\",\"[161383]\",\"[162766]\",\"[163031]\",\"[163682]\",\"[165428]\",\"[167201]\",\"[168203]\",\"[16838]\",\"[169048]\",\"[169514]\",\"[17242]\",\"[172860]\",\"[1730]\",\"[174429]\",\"[175026]\",\"[17571]\",\"[178917]\",\"[17934]\",\"[180444]\",\"[18046]\",\"[180683]\",\"[181387]\",\"[183949]\",\"[184398]\",\"[185827]\",\"[186102]\",\"[186222]\",\"[186228]\",\"[186229]\",\"[186969]\",\"[188294]\",\"[189457]\",\"[189500]\",\"[191264]\",\"[191766]\",\"[192154]\",\"[192752]\",\"[192785]\",\"[1936]\",\"[194481]\",\"[194943]\",\"[196742]\",\"[200944]\",\"[20104]\",\"[203606]\",\"[20418]\",\"[205859]\",\"[207493]\",\"[207541]\",\"[20841]\",\"[209117]\",\"[210197]\",\"[21033]\",\"[210757]\",\"[211530]\",\"[211577]\",\"[214274]\",\"[214276]\",\"[214696]\",\"[21484]\",\"[215581]\",\"[21606]\",\"[218216]\",\"[218247]\",\"[218326]\",\"[218378]\",\"[220628]\",\"[222225]\",\"[222249]\",\"[222427]\",\"[222626]\",\"[222745]\",\"[223181]\",\"[223211]\",\"[223452]\",\"[223706]\",\"[223756]\",\"[223966]\",\"[224887]\",\"[225021]\",\"[225783]\",\"[226951]\",\"[229255]\",\"[23035]\",\"[231045]\",\"[231552]\",\"[232235]\",\"[233207]\",\"[233502]\",\"[23350]\",\"[233939]\",\"[235859]\",\"[235863]\",\"[236971]\",\"[238315]\",\"[23885]\",\"[239485]\",\"[23962]\",\"[239802]\",\"[24120]\",\"[242084]\",\"[242642]\",\"[243440]\",\"[244371]\",\"[245088]\",\"[246315]\",\"[24643]\",\"[246805]\",\"[246820]\",\"[247990]\",\"[248207]\",\"[249894]\",\"[250083]\",\"[250201]\",\"[250524]\",\"[250688]\",\"[251264]\",\"[252202]\",\"[252995]\",\"[254630]\",\"[25510]\",\"[255230]\",\"[256006]\",\"[256760]\",\"[257349]\",\"[257408]\",\"[257739]\",\"[258053]\",\"[259267]\",\"[259407]\",\"[259567]\",\"[261935]\",\"[262528]\",\"[263341]\",\"[263750]\",\"[263991]\",\"[264835]\",\"[26513]\",\"[26554]\",\"[2674]\",\"[268925]\",\"[269604]\",\"[270635]\",\"[270736]\",\"[270778]\",\"[271011]\",\"[273922]\",\"[274472]\",\"[274492]\",\"[274642]\",\"[274693]\",\"[275116]\",\"[275802]\",\"[275903]\",\"[276169]\",\"[27649]\",\"[276989]\",\"[277274]\",\"[278655]\",\"[279929]\",\"[281452]\",\"[281512]\",\"[282150]\",\"[282647]\",\"[283286]\",\"[283463]\",\"[283805]\",\"[283809]\",\"[284039]\",\"[284413]\",\"[286341]\",\"[287232]\",\"[287367]\",\"[288011]\",\"[288444]\",\"[288840]\",\"[288848]\",\"[290118]\",\"[291017]\",\"[291289]\",\"[291852]\",\"[293496]\",\"[293785]\",\"[294942]\",\"[294948]\",\"[295010]\",\"[296136]\",\"[29719]\",\"[297363]\",\"[298441]\",\"[298871]\",\"[299281]\",\"[299909]\",\"[30003]\",\"[300261]\",\"[300999]\",\"[301955]\",\"[302143]\",\"[302661]\",\"[303905]\",\"[305583]\",\"[306140]\",\"[30666]\",\"[307504]\",\"[307621]\",\"[30885]\",\"[309375]\",\"[310073]\",\"[310747]\",\"[310984]\",\"[312120]\",\"[312321]\",\"[312557]\",\"[312588]\",\"[312602]\",\"[312668]\",\"[314824]\",\"[314825]\",\"[315153]\",\"[315710]\",\"[31629]\",\"[316614]\",\"[316925]\",\"[317879]\",\"[318560]\",\"[318680]\",\"[318739]\",\"[318781]\",\"[319528]\",\"[319807]\",\"[320113]\",\"[32112]\",\"[321194]\",\"[321531]\",\"[321625]\",\"[32202]\",\"[322133]\",\"[322505]\",\"[322976]\",\"[323178]\",\"[323855]\",\"[323892]\",\"[324480]\",\"[324545]\",\"[325227]\",\"[325556]\",\"[325951]\",\"[326094]\",\"[326916]\",\"[327118]\",\"[327690]\",\"[327980]\",\"[329100]\",\"[329838]\",\"[330033]\",\"[331001]\",\"[331290]\",\"[331291]\",\"[331297]\",\"[331413]\",\"[331436]\",\"[331446]\",\"[331713]\",\"[331787]\",\"[331908]\",\"[332368]\",\"[332674]\",\"[333171]\",\"[333972]\",\"[334500]\",\"[334565]\",\"[334703]\",\"[334998]\",\"[335034]\",\"[335597]\",\"[335823]\",\"[335920]\",\"[335942]\",\"[336326]\",\"[337292]\",\"[337578]\",\"[337684]\",\"[337732]\",\"[337916]\",\"[338056]\",\"[338170]\",\"[338517]\",\"[338901]\",\"[338903]\",\"[339115]\",\"[339499]\",\"[340660]\",\"[341185]\",\"[341616]\",\"[342226]\",\"[342545]\",\"[344118]\",\"[344341]\",\"[344721]\",\"[344766]\",\"[344945]\",\"[345027]\",\"[346123]\",\"[346187]\",\"[346203]\",\"[346798]\",\"[347281]\",\"[347889]\",\"[347965]\",\"[348681]\",\"[348858]\",\"[348909]\",\"[349195]\",\"[349340]\",\"[349373]\",\"[350496]\",\"[350632]\",\"[350642]\",\"[350857]\",\"[351099]\",\"[351409]\",\"[351411]\",\"[351580]\",\"[351864]\",\"[352131]\",\"[352191]\",\"[352217]\",\"[352276]\",\"[352828]\",\"[353213]\",\"[353883]\",\"[354034]\",\"[354429]\",\"[354450]\",\"[355325]\",\"[355948]\",\"[356575]\",\"[356671]\",\"[356686]\",\"[35685]\",\"[357288]\",\"[35756]\",\"[358521]\",\"[358525]\",\"[358756]\",\"[358990]\",\"[359011]\",\"[359242]\",\"[359854]\",\"[359944]\",\"[361633]\",\"[361844]\",\"[361910]\",\"[362436]\",\"[362905]\",\"[362918]\",\"[363368]\",\"[363836]\",\"[363855]\",\"[363857]\",\"[363859]\",\"[363860]\",\"[363861]\",\"[363866]\",\"[363871]\",\"[364054]\",\"[364071]\",\"[364074]\",\"[364076]\",\"[364077]\",\"[364080]\",\"[364091]\",\"[364092]\",\"[364093]\",\"[364102]\",\"[364259]\",\"[364272]\",\"[364705]\",\"[364728]\",\"[364735]\",\"[364751]\",\"[364980]\",\"[365368]\",\"[365404]\",\"[365505]\",\"[365973]\",\"[366173]\",\"[366644]\",\"[366743]\",\"[366891]\",\"[367043]\",\"[367049]\",\"[36717]\",\"[368563]\",\"[368653]\",\"[36894]\",\"[368961]\",\"[369529]\",\"[370261]\",\"[370262]\",\"[370428]\",\"[371942]\",\"[371953]\",\"[372636]\",\"[37282]\",\"[373703]\",\"[373723]\",\"[375380]\",\"[37572]\",\"[37587]\",\"[375903]\",\"[375904]\",\"[37602]\",\"[376108]\",\"[376623]\",\"[376667]\",\"[376712]\",\"[376814]\",\"[376824]\",\"[376855]\",\"[377040]\",\"[377041]\",\"[377874]\",\"[378138]\",\"[378141]\",\"[378342]\",\"[378587]\",\"[378591]\",\"[378632]\",\"[378845]\",\"[378846]\",\"[380107]\",\"[380126]\",\"[380494]\",\"[381140]\",\"[381141]\",\"[381274]\",\"[381469]\",\"[381782]\",\"[381999]\",\"[382301]\",\"[382522]\",\"[382767]\",\"[382999]\",\"[383088]\",\"[383100]\",\"[383362]\",\"[383948]\",\"[384267]\",\"[384519]\",\"[385012]\",\"[385148]\",\"[385207]\",\"[385290]\",\"[385734]\",\"[385741]\",\"[386051]\",\"[386378]\",\"[386390]\",\"[386589]\",\"[387013]\",\"[387151]\",\"[387152]\",\"[387407]\",\"[387414]\",\"[387496]\",\"[387651]\",\"[387681]\",\"[388099]\",\"[388303]\",\"[388439]\",\"[388887]\",\"[388933]\",\"[389038]\",\"[389116]\",\"[389170]\",\"[389352]\",\"[389358]\",\"[389360]\",\"[389728]\",\"[390083]\",\"[390113]\",\"[390196]\",\"[390348]\",\"[39053]\",\"[390591]\",\"[390613]\",\"[390692]\",\"[390847]\",\"[391290]\",\"[391443]\",\"[391699]\",\"[391782]\",\"[392203]\",\"[392207]\",\"[392268]\",\"[392289]\",\"[3922]\",\"[392364]\",\"[393015]\",\"[393405]\",\"[393509]\",\"[394230]\",\"[394433]\",\"[394484]\",\"[395490]\",\"[395533]\",\"[396837]\",\"[396986]\",\"[397822]\",\"[39821]\",\"[399230]\",\"[399608]\",\"[400715]\",\"[401316]\",\"[401568]\",\"[401587]\",\"[401865]\",\"[402014]\",\"[402177]\",\"[402189]\",\"[402191]\",\"[402203]\",\"[402205]\",\"[403297]\",\"[403837]\",\"[403937]\",\"[403993]\",\"[404176]\",\"[4041]\",\"[404245]\",\"[404262]\",\"[404263]\",\"[404282]\",\"[404765]\",\"[404949]\",\"[404964]\",\"[405431]\",\"[405586]\",\"[405804]\",\"[405805]\",\"[405806]\",\"[405807]\",\"[405809]\",\"[405812]\",\"[405945]\",\"[405952]\",\"[405954]\",\"[406079]\",\"[406506]\",\"[406852]\",\"[407353]\",\"[407496]\",\"[407606]\",\"[40778]\",\"[408345]\",\"[408378]\",\"[409031]\",\"[409126]\",\"[409131]\",\"[409786]\",\"[409793]\",\"[409857]\",\"[409858]\",\"[409933]\",\"[409971]\",\"[411148]\",\"[411235]\",\"[411643]\",\"[411652]\",\"[411900]\",\"[412151]\",\"[413017]\",\"[413247]\",\"[413267]\",\"[413326]\",\"[413454]\",\"[413912]\",\"[413994]\",\"[413995]\",\"[414045]\",\"[414082]\",\"[414430]\",\"[414556]\",\"[415651]\",\"[415678]\",\"[415833]\",\"[415904]\",\"[416354]\",\"[417029]\",\"[417133]\",\"[417776]\",\"[417917]\",\"[417953]\",\"[418083]\",\"[418268]\",\"[418710]\",\"[419002]\",\"[419269]\",\"[419361]\",\"[419374]\",\"[419453]\",\"[419985]\",\"[420008]\",\"[420118]\",\"[420642]\",\"[420864]\",\"[420901]\",\"[420960]\",\"[420978]\",\"[420993]\",\"[421016]\",\"[421017]\",\"[421019]\",\"[421220]\",\"[421279]\",\"[421310]\",\"[421365]\",\"[421392]\",\"[421411]\",\"[422426]\",\"[422548]\",\"[422682]\",\"[422769]\",\"[423420]\",\"[423830]\",\"[424153]\",\"[424394]\",\"[424418]\",\"[424744]\",\"[424822]\",\"[424825]\",\"[425193]\",\"[425264]\",\"[425269]\",\"[425752]\",\"[425774]\",\"[426088]\",\"[426324]\",\"[426375]\",\"[426646]\",\"[427186]\",\"[427265]\",\"[42817]\",\"[428273]\",\"[428869]\",\"[429046]\",\"[429048]\",\"[429420]\",\"[429619]\",\"[429804]\",\"[429806]\",\"[429819]\",\"[430091]\",\"[430133]\",\"[430135]\",\"[430299]\",\"[431209]\",\"[431704]\",\"[431867]\",\"[432211]\",\"[432337]\",\"[432524]\",\"[432593]\",\"[432658]\",\"[433297]\",\"[433516]\",\"[433604]\",\"[433695]\",\"[433777]\",\"[434293]\",\"[43438]\",\"[434429]\",\"[434810]\",\"[435637]\",\"[436250]\",\"[436697]\",\"[436785]\",\"[436787]\",\"[436828]\",\"[436960]\",\"[43711]\",\"[437278]\",\"[437324]\",\"[437348]\",\"[437406]\",\"[437736]\",\"[437830]\",\"[438059]\",\"[438146]\",\"[438491]\",\"[438936]\",\"[438985]\",\"[439135]\",\"[439294]\",\"[439355]\",\"[439903]\",\"[440161]\",\"[440498]\",\"[441108]\",\"[444611]\",\"[44972]\",\"[452996]\",\"[4544]\",\"[45478]\",\"[456088]\",\"[456815]\",\"[45777]\",\"[459298]\",\"[459388]\",\"[460040]\",\"[460178]\",\"[462574]\",\"[463013]\",\"[463431]\",\"[464392]\",\"[466568]\",\"[46746]\",\"[467960]\",\"[469000]\",\"[469664]\",\"[473995]\",\"[47460]\",\"[478302]\",\"[48069]\",\"[481058]\",\"[481109]\",\"[48140]\",\"[484324]\",\"[487523]\",\"[48861]\",\"[4889]\",\"[49412]\",\"[49592]\",\"[50279]\",\"[51211]\",\"[52334]\",\"[52431]\",\"[53064]\",\"[53407]\",\"[54194]\",\"[54736]\",\"[55518]\",\"[55599]\",\"[55675]\",\"[55974]\",\"[56582]\",\"[5687]\",\"[57552]\",\"[57792]\",\"[58009]\",\"[5838]\",\"[59236]\",\"[5993]\",\"[62514]\",\"[62543]\",\"[63068]\",\"[63217]\",\"[63698]\",\"[63845]\",\"[63968]\",\"[64037]\",\"[64457]\",\"[65058]\",\"[6598]\",\"[66951]\",\"[67341]\",\"[68275]\",\"[69835]\",\"[7073]\",\"[7075]\",\"[70873]\",\"[71202]\",\"[71790]\",\"[72098]\",\"[73114]\",\"[73143]\",\"[7371]\",\"[74621]\",\"[75105]\",\"[75207]\",\"[75423]\",\"[75749]\",\"[76940]\",\"[77100]\",\"[7769]\",\"[78463]\",\"[78823]\",\"[79565]\",\"[79778]\",\"[8100]\",\"[8140]\",\"[81537]\",\"[81582]\",\"[83202]\",\"[834]\",\"[85931]\",\"[87010]\",\"[87061]\",\"[87148]\",\"[87324]\",\"[8745]\",\"[88011]\",\"[88221]\",\"[88423]\",\"[89628]\",\"[89655]\",\"[89792]\",\"[90300]\",\"[9076]\",\"[93660]\",\"[9485]\",\"[96260]\",\"[96348]\",\"[97078]\"],\"textinfo\":\"text+percent\",\"textposition\":\"inside\"}],                        {\"template\":{\"data\":{\"bar\":[{\"error_x\":{\"color\":\"#2a3f5f\"},\"error_y\":{\"color\":\"#2a3f5f\"},\"marker\":{\"line\":{\"color\":\"#E5ECF6\",\"width\":0.5},\"pattern\":{\"fillmode\":\"overlay\",\"size\":10,\"solidity\":0.2}},\"type\":\"bar\"}],\"barpolar\":[{\"marker\":{\"line\":{\"color\":\"#E5ECF6\",\"width\":0.5},\"pattern\":{\"fillmode\":\"overlay\",\"size\":10,\"solidity\":0.2}},\"type\":\"barpolar\"}],\"carpet\":[{\"aaxis\":{\"endlinecolor\":\"#2a3f5f\",\"gridcolor\":\"white\",\"linecolor\":\"white\",\"minorgridcolor\":\"white\",\"startlinecolor\":\"#2a3f5f\"},\"baxis\":{\"endlinecolor\":\"#2a3f5f\",\"gridcolor\":\"white\",\"linecolor\":\"white\",\"minorgridcolor\":\"white\",\"startlinecolor\":\"#2a3f5f\"},\"type\":\"carpet\"}],\"choropleth\":[{\"colorbar\":{\"outlinewidth\":0,\"ticks\":\"\"},\"type\":\"choropleth\"}],\"contour\":[{\"colorbar\":{\"outlinewidth\":0,\"ticks\":\"\"},\"colorscale\":[[0.0,\"#0d0887\"],[0.1111111111111111,\"#46039f\"],[0.2222222222222222,\"#7201a8\"],[0.3333333333333333,\"#9c179e\"],[0.4444444444444444,\"#bd3786\"],[0.5555555555555556,\"#d8576b\"],[0.6666666666666666,\"#ed7953\"],[0.7777777777777778,\"#fb9f3a\"],[0.8888888888888888,\"#fdca26\"],[1.0,\"#f0f921\"]],\"type\":\"contour\"}],\"contourcarpet\":[{\"colorbar\":{\"outlinewidth\":0,\"ticks\":\"\"},\"type\":\"contourcarpet\"}],\"heatmap\":[{\"colorbar\":{\"outlinewidth\":0,\"ticks\":\"\"},\"colorscale\":[[0.0,\"#0d0887\"],[0.1111111111111111,\"#46039f\"],[0.2222222222222222,\"#7201a8\"],[0.3333333333333333,\"#9c179e\"],[0.4444444444444444,\"#bd3786\"],[0.5555555555555556,\"#d8576b\"],[0.6666666666666666,\"#ed7953\"],[0.7777777777777778,\"#fb9f3a\"],[0.8888888888888888,\"#fdca26\"],[1.0,\"#f0f921\"]],\"type\":\"heatmap\"}],\"heatmapgl\":[{\"colorbar\":{\"outlinewidth\":0,\"ticks\":\"\"},\"colorscale\":[[0.0,\"#0d0887\"],[0.1111111111111111,\"#46039f\"],[0.2222222222222222,\"#7201a8\"],[0.3333333333333333,\"#9c179e\"],[0.4444444444444444,\"#bd3786\"],[0.5555555555555556,\"#d8576b\"],[0.6666666666666666,\"#ed7953\"],[0.7777777777777778,\"#fb9f3a\"],[0.8888888888888888,\"#fdca26\"],[1.0,\"#f0f921\"]],\"type\":\"heatmapgl\"}],\"histogram\":[{\"marker\":{\"pattern\":{\"fillmode\":\"overlay\",\"size\":10,\"solidity\":0.2}},\"type\":\"histogram\"}],\"histogram2d\":[{\"colorbar\":{\"outlinewidth\":0,\"ticks\":\"\"},\"colorscale\":[[0.0,\"#0d0887\"],[0.1111111111111111,\"#46039f\"],[0.2222222222222222,\"#7201a8\"],[0.3333333333333333,\"#9c179e\"],[0.4444444444444444,\"#bd3786\"],[0.5555555555555556,\"#d8576b\"],[0.6666666666666666,\"#ed7953\"],[0.7777777777777778,\"#fb9f3a\"],[0.8888888888888888,\"#fdca26\"],[1.0,\"#f0f921\"]],\"type\":\"histogram2d\"}],\"histogram2dcontour\":[{\"colorbar\":{\"outlinewidth\":0,\"ticks\":\"\"},\"colorscale\":[[0.0,\"#0d0887\"],[0.1111111111111111,\"#46039f\"],[0.2222222222222222,\"#7201a8\"],[0.3333333333333333,\"#9c179e\"],[0.4444444444444444,\"#bd3786\"],[0.5555555555555556,\"#d8576b\"],[0.6666666666666666,\"#ed7953\"],[0.7777777777777778,\"#fb9f3a\"],[0.8888888888888888,\"#fdca26\"],[1.0,\"#f0f921\"]],\"type\":\"histogram2dcontour\"}],\"mesh3d\":[{\"colorbar\":{\"outlinewidth\":0,\"ticks\":\"\"},\"type\":\"mesh3d\"}],\"parcoords\":[{\"line\":{\"colorbar\":{\"outlinewidth\":0,\"ticks\":\"\"}},\"type\":\"parcoords\"}],\"pie\":[{\"automargin\":true,\"type\":\"pie\"}],\"scatter\":[{\"marker\":{\"colorbar\":{\"outlinewidth\":0,\"ticks\":\"\"}},\"type\":\"scatter\"}],\"scatter3d\":[{\"line\":{\"colorbar\":{\"outlinewidth\":0,\"ticks\":\"\"}},\"marker\":{\"colorbar\":{\"outlinewidth\":0,\"ticks\":\"\"}},\"type\":\"scatter3d\"}],\"scattercarpet\":[{\"marker\":{\"colorbar\":{\"outlinewidth\":0,\"ticks\":\"\"}},\"type\":\"scattercarpet\"}],\"scattergeo\":[{\"marker\":{\"colorbar\":{\"outlinewidth\":0,\"ticks\":\"\"}},\"type\":\"scattergeo\"}],\"scattergl\":[{\"marker\":{\"colorbar\":{\"outlinewidth\":0,\"ticks\":\"\"}},\"type\":\"scattergl\"}],\"scattermapbox\":[{\"marker\":{\"colorbar\":{\"outlinewidth\":0,\"ticks\":\"\"}},\"type\":\"scattermapbox\"}],\"scatterpolar\":[{\"marker\":{\"colorbar\":{\"outlinewidth\":0,\"ticks\":\"\"}},\"type\":\"scatterpolar\"}],\"scatterpolargl\":[{\"marker\":{\"colorbar\":{\"outlinewidth\":0,\"ticks\":\"\"}},\"type\":\"scatterpolargl\"}],\"scatterternary\":[{\"marker\":{\"colorbar\":{\"outlinewidth\":0,\"ticks\":\"\"}},\"type\":\"scatterternary\"}],\"surface\":[{\"colorbar\":{\"outlinewidth\":0,\"ticks\":\"\"},\"colorscale\":[[0.0,\"#0d0887\"],[0.1111111111111111,\"#46039f\"],[0.2222222222222222,\"#7201a8\"],[0.3333333333333333,\"#9c179e\"],[0.4444444444444444,\"#bd3786\"],[0.5555555555555556,\"#d8576b\"],[0.6666666666666666,\"#ed7953\"],[0.7777777777777778,\"#fb9f3a\"],[0.8888888888888888,\"#fdca26\"],[1.0,\"#f0f921\"]],\"type\":\"surface\"}],\"table\":[{\"cells\":{\"fill\":{\"color\":\"#EBF0F8\"},\"line\":{\"color\":\"white\"}},\"header\":{\"fill\":{\"color\":\"#C8D4E3\"},\"line\":{\"color\":\"white\"}},\"type\":\"table\"}]},\"layout\":{\"annotationdefaults\":{\"arrowcolor\":\"#2a3f5f\",\"arrowhead\":0,\"arrowwidth\":1},\"autotypenumbers\":\"strict\",\"coloraxis\":{\"colorbar\":{\"outlinewidth\":0,\"ticks\":\"\"}},\"colorscale\":{\"diverging\":[[0,\"#8e0152\"],[0.1,\"#c51b7d\"],[0.2,\"#de77ae\"],[0.3,\"#f1b6da\"],[0.4,\"#fde0ef\"],[0.5,\"#f7f7f7\"],[0.6,\"#e6f5d0\"],[0.7,\"#b8e186\"],[0.8,\"#7fbc41\"],[0.9,\"#4d9221\"],[1,\"#276419\"]],\"sequential\":[[0.0,\"#0d0887\"],[0.1111111111111111,\"#46039f\"],[0.2222222222222222,\"#7201a8\"],[0.3333333333333333,\"#9c179e\"],[0.4444444444444444,\"#bd3786\"],[0.5555555555555556,\"#d8576b\"],[0.6666666666666666,\"#ed7953\"],[0.7777777777777778,\"#fb9f3a\"],[0.8888888888888888,\"#fdca26\"],[1.0,\"#f0f921\"]],\"sequentialminus\":[[0.0,\"#0d0887\"],[0.1111111111111111,\"#46039f\"],[0.2222222222222222,\"#7201a8\"],[0.3333333333333333,\"#9c179e\"],[0.4444444444444444,\"#bd3786\"],[0.5555555555555556,\"#d8576b\"],[0.6666666666666666,\"#ed7953\"],[0.7777777777777778,\"#fb9f3a\"],[0.8888888888888888,\"#fdca26\"],[1.0,\"#f0f921\"]]},\"colorway\":[\"#636efa\",\"#EF553B\",\"#00cc96\",\"#ab63fa\",\"#FFA15A\",\"#19d3f3\",\"#FF6692\",\"#B6E880\",\"#FF97FF\",\"#FECB52\"],\"font\":{\"color\":\"#2a3f5f\"},\"geo\":{\"bgcolor\":\"white\",\"lakecolor\":\"white\",\"landcolor\":\"#E5ECF6\",\"showlakes\":true,\"showland\":true,\"subunitcolor\":\"white\"},\"hoverlabel\":{\"align\":\"left\"},\"hovermode\":\"closest\",\"mapbox\":{\"style\":\"light\"},\"paper_bgcolor\":\"white\",\"plot_bgcolor\":\"#E5ECF6\",\"polar\":{\"angularaxis\":{\"gridcolor\":\"white\",\"linecolor\":\"white\",\"ticks\":\"\"},\"bgcolor\":\"#E5ECF6\",\"radialaxis\":{\"gridcolor\":\"white\",\"linecolor\":\"white\",\"ticks\":\"\"}},\"scene\":{\"xaxis\":{\"backgroundcolor\":\"#E5ECF6\",\"gridcolor\":\"white\",\"gridwidth\":2,\"linecolor\":\"white\",\"showbackground\":true,\"ticks\":\"\",\"zerolinecolor\":\"white\"},\"yaxis\":{\"backgroundcolor\":\"#E5ECF6\",\"gridcolor\":\"white\",\"gridwidth\":2,\"linecolor\":\"white\",\"showbackground\":true,\"ticks\":\"\",\"zerolinecolor\":\"white\"},\"zaxis\":{\"backgroundcolor\":\"#E5ECF6\",\"gridcolor\":\"white\",\"gridwidth\":2,\"linecolor\":\"white\",\"showbackground\":true,\"ticks\":\"\",\"zerolinecolor\":\"white\"}},\"shapedefaults\":{\"line\":{\"color\":\"#2a3f5f\"}},\"ternary\":{\"aaxis\":{\"gridcolor\":\"white\",\"linecolor\":\"white\",\"ticks\":\"\"},\"baxis\":{\"gridcolor\":\"white\",\"linecolor\":\"white\",\"ticks\":\"\"},\"bgcolor\":\"#E5ECF6\",\"caxis\":{\"gridcolor\":\"white\",\"linecolor\":\"white\",\"ticks\":\"\"}},\"title\":{\"x\":0.05},\"xaxis\":{\"automargin\":true,\"gridcolor\":\"white\",\"linecolor\":\"white\",\"ticks\":\"\",\"title\":{\"standoff\":15},\"zerolinecolor\":\"white\",\"zerolinewidth\":2},\"yaxis\":{\"automargin\":true,\"gridcolor\":\"white\",\"linecolor\":\"white\",\"ticks\":\"\",\"title\":{\"standoff\":15},\"zerolinecolor\":\"white\",\"zerolinewidth\":2}}},\"legend\":{\"tracegroupgap\":0},\"margin\":{\"t\":20,\"l\":20,\"r\":20,\"b\":20},\"uniformtext\":{\"minsize\":11,\"mode\":\"hide\"},\"showlegend\":false},                        {\"responsive\": true}                    ).then(function(){\n",
       "                            \n",
       "var gd = document.getElementById('ae388605-201a-4cd1-856e-48ed3bd2f1f1');\n",
       "var x = new MutationObserver(function (mutations, observer) {{\n",
       "        var display = window.getComputedStyle(gd).display;\n",
       "        if (!display || display === 'none') {{\n",
       "            console.log([gd, 'removed!']);\n",
       "            Plotly.purge(gd);\n",
       "            observer.disconnect();\n",
       "        }}\n",
       "}});\n",
       "\n",
       "// Listen for the removal of the full notebook cells\n",
       "var notebookContainer = gd.closest('#notebook-container');\n",
       "if (notebookContainer) {{\n",
       "    x.observe(notebookContainer, {childList: true});\n",
       "}}\n",
       "\n",
       "// Listen for the clearing of the current output cell\n",
       "var outputEl = gd.closest('.output');\n",
       "if (outputEl) {{\n",
       "    x.observe(outputEl, {childList: true});\n",
       "}}\n",
       "\n",
       "                        })                };                });            </script>        </div>"
      ]
     },
     "metadata": {},
     "output_type": "display_data"
    }
   ],
   "source": [
    "graph_project_distribution(data)"
   ]
  },
  {
   "cell_type": "code",
   "execution_count": 114,
   "id": "8728660d-a7ab-4f69-9606-fa3bb60a221e",
   "metadata": {},
   "outputs": [],
   "source": [
    "def graph_ps_distribution(df):\n",
    "    by_ps = pd.DataFrame(df.groupby(['ps','pss']).agg(PV=pd.NamedAgg(column=\"PV\", aggfunc=\"sum\")).reset_index())\n",
    "    by_ps_graph = px.treemap(by_ps, path=[px.Constant(\"TOTAL\"),'ps', 'pss'], values='PV', color='ps' #,title=\"Payment Systems' Contribution to Total Volume\"\n",
    "                            )\n",
    "    by_ps_graph.update_traces(hovertemplate=None, hoverinfo=\"label+value+percent root+percent entry+percent parent\")\n",
    "    by_ps_graph.update_layout(margin=dict(l=20, r=20, t=20, b=20))\n",
    "    return by_ps_graph"
   ]
  },
  {
   "cell_type": "code",
   "execution_count": 115,
   "id": "af37573d-0283-44c8-a8b8-54a0c3952868",
   "metadata": {},
   "outputs": [
    {
     "data": {
      "application/vnd.plotly.v1+json": {
       "config": {
        "plotlyServerURL": "https://plot.ly"
       },
       "data": [
        {
         "branchvalues": "total",
         "customdata": [
          [
           "[101] E-Prepag"
          ],
          [
           "[103] Rokin/KBC"
          ],
          [
           "[107] Medellin/Bank Transfer Colombia"
          ],
          [
           "[109] Medellin/Baloto"
          ],
          [
           "[111] Medellin/Gana"
          ],
          [
           "[113] Medellin/PSE"
          ],
          [
           "[115] Medellin/Bank Transfer Peru"
          ],
          [
           "[117] Lipska/mTransfer"
          ],
          [
           "[120] Lipska/Bank Zachodni WBK"
          ],
          [
           "[121] Lipska/Pekao24 Przelew"
          ],
          [
           "[122] Lipska/ING Bank Slaski"
          ],
          [
           "[124] Lipska/Place z ING Bank Slaski"
          ],
          [
           "[127] Qiwi Wallet"
          ],
          [
           "[129] Allopass Landline"
          ],
          [
           "[172] Safetypay"
          ],
          [
           "[170] Ringwood/Openbucks"
          ],
          [
           "[167] Coinbase"
          ],
          [
           "[166] Silva/transferencia bancaria"
          ],
          [
           "[137] Oxford/ideal"
          ],
          [
           "[145] MINT"
          ],
          [
           "[132] Gateway"
          ],
          [
           "[157] Desa/Game-On"
          ],
          [
           "[174] Liszt/efectivo"
          ],
          [
           "[176] Oxford/multibanco"
          ],
          [
           "[1] PayPal"
          ],
          [
           "[213] Rokin/Ideal"
          ],
          [
           "[209] Ringwood/Dollar General"
          ],
          [
           "[208] Ringwood/CVS Pharmacy"
          ],
          [
           "[207] Ringwood/Circle K"
          ],
          [
           "[201] Silva/ Hipercard"
          ],
          [
           "[200] Silva/credit cards Brazil"
          ],
          [
           "[19] Itaewon/all the gate CC"
          ],
          [
           "[215] Rokin/bancontact"
          ],
          [
           "[198] Paulista/Redcompra"
          ],
          [
           "[193] Paulista/oxxo"
          ],
          [
           "[191] Paulista/Santander Mexico"
          ],
          [
           "[189] Paulista/Bancomer Mexico"
          ],
          [
           "[188] Paulista/Bank Transfer Mexico"
          ],
          [
           "[17] CherryCredits"
          ],
          [
           "[178] Rokin/Belfius"
          ],
          [
           "[199] Paulista/Redpagos"
          ],
          [
           "[218] Poli"
          ],
          [
           "[219] Interac"
          ],
          [
           "[220] Rokin/CBC"
          ],
          [
           "[221] Silva/Banco Itau"
          ],
          [
           "[236] Paulista/PagoFacil"
          ],
          [
           "[237] Paulista/RapiPago"
          ],
          [
           "[238] Paulista/efecty"
          ],
          [
           "[239] Paulista/Davivienda"
          ],
          [
           "[23] Itaewon/KFTC Internet Banking"
          ],
          [
           "[241] Thamrin/Minimart"
          ],
          [
           "[242] Thamrin/ATM transfer Indonesia"
          ],
          [
           "[243] Thamrin/doku wallet"
          ],
          [
           "[246] Itaewon/Culture Voucher"
          ],
          [
           "[248] Paulista/Bank Transfer Argentina"
          ],
          [
           "[251] Szkolna/bank transfer Poland"
          ],
          [
           "[253] Itaewon/Cashbee"
          ],
          [
           "[254] Wechat Pay"
          ],
          [
           "[26] ToditoCash"
          ],
          [
           "[272] Culture Voucher"
          ],
          [
           "[276] Deheza/Boleto"
          ],
          [
           "[277] Toss Pay"
          ],
          [
           "[289] Oxford/sofort "
          ],
          [
           "[293] Makadi/Gcash"
          ],
          [
           "[294] Shibuya / Konbini"
          ],
          [
           "[295] Shibuya / Payeasy"
          ],
          [
           "[296] Ladipo/Mobile Money Africa"
          ],
          [
           "[299] Itaewon/Kakao Pay"
          ],
          [
           "[300] Itaewon/Payco"
          ],
          [
           "[301] Szkolna/blik"
          ],
          [
           "[306] Desa/Sakuku"
          ],
          [
           "[307] Desa/GoPay"
          ],
          [
           "[308] Desa/LinkAja"
          ],
          [
           "[309] Desa/Indomaret"
          ],
          [
           "[30] Paysafecard"
          ],
          [
           "[310] Paraiso/payshop"
          ],
          [
           "[311] Paraiso/mbway"
          ],
          [
           "[312] Paraiso/multibanco"
          ],
          [
           "[317] Thamrin/Ovo"
          ],
          [
           "[320] Hsinchu/TaiwanPay"
          ],
          [
           "[321] Hsinchu/LinePay"
          ],
          [
           "[322] Hsinchu/ApplePay"
          ],
          [
           "[323] Paga/ E-Wallet"
          ],
          [
           "[324] Vibhavadi/Bank Transfer Thailand"
          ],
          [
           "[325] Vibhavadi/K Plus"
          ],
          [
           "[327] Vibhavadi/Boonterm Kiosk"
          ],
          [
           "[328] Vibhavadi/True Money Wallet"
          ],
          [
           "[329] Vibhavadi/Thai QR"
          ],
          [
           "[331] Ciputat/ QRIS"
          ],
          [
           "[340] FawryCash"
          ],
          [
           "[341] DANA"
          ],
          [
           "[343] Tonkin/NinePay"
          ],
          [
           "[344] Tonkin/LocalATMCard"
          ],
          [
           "[345] Makadi/SevenEleven"
          ],
          [
           "[346] Banktransfereurope"
          ],
          [
           "[348] Jalan/Boost Wallet"
          ],
          [
           "[34] GudangVoucher"
          ],
          [
           "[350] Jalan/TNG EWallet Online"
          ],
          [
           "[352] Thamrin/JeniusPay"
          ],
          [
           "[355] Makadi/Grabpay"
          ],
          [
           "[357] Makadi/Cash Payments Philippines"
          ],
          [
           "[358] Tonkin/Bank Transfer Vietnam"
          ],
          [
           "[359] Itaewon/Virtual Account"
          ],
          [
           "[362] Insadong/Credit Card Korea"
          ],
          [
           "[366] Insadong/LG Pay"
          ],
          [
           "[367] Insadong/Samsung Pay"
          ],
          [
           "[36] Itaewon/Happy Voucher"
          ],
          [
           "[370] Deheza/PIX"
          ],
          [
           "[376] Soilat/Rabbit LINE Pay"
          ],
          [
           "[387] Thamrin/QRIS"
          ],
          [
           "[38] WaveGame"
          ],
          [
           "[401] Hongdae/Naver Pay"
          ],
          [
           "[402] Hongdae/Kakao Pay"
          ],
          [
           "[404] Hongdae/Credit Cards Korea"
          ],
          [
           "[408] Makadi/ShopeePay Philippines"
          ],
          [
           "[40] zGold-MOLPoints"
          ],
          [
           "[41] Itaewon/TeenCash"
          ],
          [
           "[42] Itaewon/T-money"
          ],
          [
           "[45] FasterPay"
          ],
          [
           "[46] Silva/oxxo"
          ],
          [
           "[47] Onecard"
          ],
          [
           "[48] Deheza/mercadoPago"
          ],
          [
           "[54] Jalan/bank transfer Malaysia"
          ],
          [
           "[55] Makadi/bank transfer Philippines"
          ],
          [
           "[56] Itaewon/Book Gift Voucher"
          ],
          [
           "[57] Sofort"
          ],
          [
           "[5] Oxford/EPS"
          ],
          [
           "[64] Oxford/mybank"
          ],
          [
           "[80] Itaewon/Eggmoney"
          ],
          [
           "[81] Przelewy24"
          ],
          [
           "[83] NeoSurf"
          ],
          [
           "[84] myCard Card"
          ],
          [
           "[86] myCard Member Wallet"
          ],
          [
           "[88] Lipska/Bank transfer Poland"
          ],
          [
           "[91] Alipay"
          ],
          [
           "[98] Giropay"
          ],
          [
           "[144] Mobiamo"
          ],
          [
           "[144] Mobiamo"
          ],
          [
           "[144] Mobiamo"
          ],
          [
           "[144] Mobiamo"
          ],
          [
           "[144] Mobiamo"
          ],
          [
           "[132] Gateway"
          ],
          [
           "[144] Mobiamo"
          ],
          [
           "[144] Mobiamo"
          ],
          [
           "[144] Mobiamo"
          ],
          [
           "[144] Mobiamo"
          ],
          [
           "[141] UnionPay"
          ],
          [
           "[144] Mobiamo"
          ],
          [
           "[226] Oxford/ SEPA direct debit"
          ],
          [
           "[226] Oxford/ SEPA direct debit"
          ],
          [
           "[226] Oxford/ SEPA direct debit"
          ],
          [
           "[144] Mobiamo"
          ],
          [
           "[132] Gateway"
          ],
          [
           "[144] Mobiamo"
          ],
          [
           "[144] Mobiamo"
          ],
          [
           "[132] Gateway"
          ],
          [
           "[144] Mobiamo"
          ],
          [
           "[144] Mobiamo"
          ],
          [
           "[144] Mobiamo"
          ],
          [
           "[132] Gateway"
          ],
          [
           "[132] Gateway"
          ],
          [
           "[132] Gateway"
          ],
          [
           "[144] Mobiamo"
          ],
          [
           "[132] Gateway"
          ],
          [
           "[101] E-Prepag"
          ],
          [
           "[103] Rokin/KBC"
          ],
          [
           "[107] Medellin/Bank Transfer Colombia"
          ],
          [
           "[109] Medellin/Baloto"
          ],
          [
           "[111] Medellin/Gana"
          ],
          [
           "[113] Medellin/PSE"
          ],
          [
           "[115] Medellin/Bank Transfer Peru"
          ],
          [
           "[117] Lipska/mTransfer"
          ],
          [
           "[120] Lipska/Bank Zachodni WBK"
          ],
          [
           "[121] Lipska/Pekao24 Przelew"
          ],
          [
           "[122] Lipska/ING Bank Slaski"
          ],
          [
           "[124] Lipska/Place z ING Bank Slaski"
          ],
          [
           "[127] Qiwi Wallet"
          ],
          [
           "[129] Allopass Landline"
          ],
          [
           "[132] Gateway"
          ],
          [
           "[137] Oxford/ideal"
          ],
          [
           "[141] UnionPay"
          ],
          [
           "[144] Mobiamo"
          ],
          [
           "[145] MINT"
          ],
          [
           "[157] Desa/Game-On"
          ],
          [
           "[166] Silva/transferencia bancaria"
          ],
          [
           "[167] Coinbase"
          ],
          [
           "[170] Ringwood/Openbucks"
          ],
          [
           "[172] Safetypay"
          ],
          [
           "[174] Liszt/efectivo"
          ],
          [
           "[176] Oxford/multibanco"
          ],
          [
           "[178] Rokin/Belfius"
          ],
          [
           "[17] CherryCredits"
          ],
          [
           "[188] Paulista/Bank Transfer Mexico"
          ],
          [
           "[189] Paulista/Bancomer Mexico"
          ],
          [
           "[191] Paulista/Santander Mexico"
          ],
          [
           "[193] Paulista/oxxo"
          ],
          [
           "[198] Paulista/Redcompra"
          ],
          [
           "[199] Paulista/Redpagos"
          ],
          [
           "[19] Itaewon/all the gate CC"
          ],
          [
           "[1] PayPal"
          ],
          [
           "[200] Silva/credit cards Brazil"
          ],
          [
           "[201] Silva/ Hipercard"
          ],
          [
           "[207] Ringwood/Circle K"
          ],
          [
           "[208] Ringwood/CVS Pharmacy"
          ],
          [
           "[209] Ringwood/Dollar General"
          ],
          [
           "[213] Rokin/Ideal"
          ],
          [
           "[215] Rokin/bancontact"
          ],
          [
           "[218] Poli"
          ],
          [
           "[219] Interac"
          ],
          [
           "[220] Rokin/CBC"
          ],
          [
           "[221] Silva/Banco Itau"
          ],
          [
           "[226] Oxford/ SEPA direct debit"
          ],
          [
           "[236] Paulista/PagoFacil"
          ],
          [
           "[237] Paulista/RapiPago"
          ],
          [
           "[238] Paulista/efecty"
          ],
          [
           "[239] Paulista/Davivienda"
          ],
          [
           "[23] Itaewon/KFTC Internet Banking"
          ],
          [
           "[241] Thamrin/Minimart"
          ],
          [
           "[242] Thamrin/ATM transfer Indonesia"
          ],
          [
           "[243] Thamrin/doku wallet"
          ],
          [
           "[246] Itaewon/Culture Voucher"
          ],
          [
           "[248] Paulista/Bank Transfer Argentina"
          ],
          [
           "[251] Szkolna/bank transfer Poland"
          ],
          [
           "[253] Itaewon/Cashbee"
          ],
          [
           "[254] Wechat Pay"
          ],
          [
           "[26] ToditoCash"
          ],
          [
           "[272] Culture Voucher"
          ],
          [
           "[276] Deheza/Boleto"
          ],
          [
           "[277] Toss Pay"
          ],
          [
           "[289] Oxford/sofort "
          ],
          [
           "[293] Makadi/Gcash"
          ],
          [
           "[294] Shibuya / Konbini"
          ],
          [
           "[295] Shibuya / Payeasy"
          ],
          [
           "[296] Ladipo/Mobile Money Africa"
          ],
          [
           "[299] Itaewon/Kakao Pay"
          ],
          [
           "[300] Itaewon/Payco"
          ],
          [
           "[301] Szkolna/blik"
          ],
          [
           "[306] Desa/Sakuku"
          ],
          [
           "[307] Desa/GoPay"
          ],
          [
           "[308] Desa/LinkAja"
          ],
          [
           "[309] Desa/Indomaret"
          ],
          [
           "[30] Paysafecard"
          ],
          [
           "[310] Paraiso/payshop"
          ],
          [
           "[311] Paraiso/mbway"
          ],
          [
           "[312] Paraiso/multibanco"
          ],
          [
           "[317] Thamrin/Ovo"
          ],
          [
           "[320] Hsinchu/TaiwanPay"
          ],
          [
           "[321] Hsinchu/LinePay"
          ],
          [
           "[322] Hsinchu/ApplePay"
          ],
          [
           "[323] Paga/ E-Wallet"
          ],
          [
           "[324] Vibhavadi/Bank Transfer Thailand"
          ],
          [
           "[325] Vibhavadi/K Plus"
          ],
          [
           "[327] Vibhavadi/Boonterm Kiosk"
          ],
          [
           "[328] Vibhavadi/True Money Wallet"
          ],
          [
           "[329] Vibhavadi/Thai QR"
          ],
          [
           "[331] Ciputat/ QRIS"
          ],
          [
           "[340] FawryCash"
          ],
          [
           "[341] DANA"
          ],
          [
           "[343] Tonkin/NinePay"
          ],
          [
           "[344] Tonkin/LocalATMCard"
          ],
          [
           "[345] Makadi/SevenEleven"
          ],
          [
           "[346] Banktransfereurope"
          ],
          [
           "[348] Jalan/Boost Wallet"
          ],
          [
           "[34] GudangVoucher"
          ],
          [
           "[350] Jalan/TNG EWallet Online"
          ],
          [
           "[352] Thamrin/JeniusPay"
          ],
          [
           "[355] Makadi/Grabpay"
          ],
          [
           "[357] Makadi/Cash Payments Philippines"
          ],
          [
           "[358] Tonkin/Bank Transfer Vietnam"
          ],
          [
           "[359] Itaewon/Virtual Account"
          ],
          [
           "[362] Insadong/Credit Card Korea"
          ],
          [
           "[366] Insadong/LG Pay"
          ],
          [
           "[367] Insadong/Samsung Pay"
          ],
          [
           "[36] Itaewon/Happy Voucher"
          ],
          [
           "[370] Deheza/PIX"
          ],
          [
           "[376] Soilat/Rabbit LINE Pay"
          ],
          [
           "[387] Thamrin/QRIS"
          ],
          [
           "[38] WaveGame"
          ],
          [
           "[401] Hongdae/Naver Pay"
          ],
          [
           "[402] Hongdae/Kakao Pay"
          ],
          [
           "[404] Hongdae/Credit Cards Korea"
          ],
          [
           "[408] Makadi/ShopeePay Philippines"
          ],
          [
           "[40] zGold-MOLPoints"
          ],
          [
           "[41] Itaewon/TeenCash"
          ],
          [
           "[42] Itaewon/T-money"
          ],
          [
           "[45] FasterPay"
          ],
          [
           "[46] Silva/oxxo"
          ],
          [
           "[47] Onecard"
          ],
          [
           "[48] Deheza/mercadoPago"
          ],
          [
           "[54] Jalan/bank transfer Malaysia"
          ],
          [
           "[55] Makadi/bank transfer Philippines"
          ],
          [
           "[56] Itaewon/Book Gift Voucher"
          ],
          [
           "[57] Sofort"
          ],
          [
           "[5] Oxford/EPS"
          ],
          [
           "[64] Oxford/mybank"
          ],
          [
           "[80] Itaewon/Eggmoney"
          ],
          [
           "[81] Przelewy24"
          ],
          [
           "[83] NeoSurf"
          ],
          [
           "[84] myCard Card"
          ],
          [
           "[86] myCard Member Wallet"
          ],
          [
           "[88] Lipska/Bank transfer Poland"
          ],
          [
           "[91] Alipay"
          ],
          [
           "[98] Giropay"
          ],
          [
           "(?)"
          ]
         ],
         "domain": {
          "x": [
           0,
           1
          ],
          "y": [
           0,
           1
          ]
         },
         "hoverinfo": "label+value+percent root+percent entry+percent parent",
         "ids": [
          "TOTAL/[101] E-Prepag/Unknown",
          "TOTAL/[103] Rokin/KBC/Unknown",
          "TOTAL/[107] Medellin/Bank Transfer Colombia/Unknown",
          "TOTAL/[109] Medellin/Baloto/Unknown",
          "TOTAL/[111] Medellin/Gana/Unknown",
          "TOTAL/[113] Medellin/PSE/Unknown",
          "TOTAL/[115] Medellin/Bank Transfer Peru/Unknown",
          "TOTAL/[117] Lipska/mTransfer/Unknown",
          "TOTAL/[120] Lipska/Bank Zachodni WBK/Unknown",
          "TOTAL/[121] Lipska/Pekao24 Przelew/Unknown",
          "TOTAL/[122] Lipska/ING Bank Slaski/Unknown",
          "TOTAL/[124] Lipska/Place z ING Bank Slaski/Unknown",
          "TOTAL/[127] Qiwi Wallet/Unknown",
          "TOTAL/[129] Allopass Landline/Unknown",
          "TOTAL/[172] Safetypay/Unknown",
          "TOTAL/[170] Ringwood/Openbucks/Unknown",
          "TOTAL/[167] Coinbase/Unknown",
          "TOTAL/[166] Silva/transferencia bancaria/Unknown",
          "TOTAL/[137] Oxford/ideal/Unknown",
          "TOTAL/[145] MINT/Unknown",
          "TOTAL/[132] Gateway/Unknown",
          "TOTAL/[157] Desa/Game-On/Unknown",
          "TOTAL/[174] Liszt/efectivo/Unknown",
          "TOTAL/[176] Oxford/multibanco/Unknown",
          "TOTAL/[1] PayPal/Unknown",
          "TOTAL/[213] Rokin/Ideal/Unknown",
          "TOTAL/[209] Ringwood/Dollar General/Unknown",
          "TOTAL/[208] Ringwood/CVS Pharmacy/Unknown",
          "TOTAL/[207] Ringwood/Circle K/Unknown",
          "TOTAL/[201] Silva/ Hipercard/Unknown",
          "TOTAL/[200] Silva/credit cards Brazil/Unknown",
          "TOTAL/[19] Itaewon/all the gate CC/Unknown",
          "TOTAL/[215] Rokin/bancontact/Unknown",
          "TOTAL/[198] Paulista/Redcompra/Unknown",
          "TOTAL/[193] Paulista/oxxo/Unknown",
          "TOTAL/[191] Paulista/Santander Mexico/Unknown",
          "TOTAL/[189] Paulista/Bancomer Mexico/Unknown",
          "TOTAL/[188] Paulista/Bank Transfer Mexico/Unknown",
          "TOTAL/[17] CherryCredits/Unknown",
          "TOTAL/[178] Rokin/Belfius/Unknown",
          "TOTAL/[199] Paulista/Redpagos/Unknown",
          "TOTAL/[218] Poli/Unknown",
          "TOTAL/[219] Interac/Unknown",
          "TOTAL/[220] Rokin/CBC/Unknown",
          "TOTAL/[221] Silva/Banco Itau/Unknown",
          "TOTAL/[236] Paulista/PagoFacil/Unknown",
          "TOTAL/[237] Paulista/RapiPago/Unknown",
          "TOTAL/[238] Paulista/efecty/Unknown",
          "TOTAL/[239] Paulista/Davivienda/Unknown",
          "TOTAL/[23] Itaewon/KFTC Internet Banking/Unknown",
          "TOTAL/[241] Thamrin/Minimart/Unknown",
          "TOTAL/[242] Thamrin/ATM transfer Indonesia/Unknown",
          "TOTAL/[243] Thamrin/doku wallet/Unknown",
          "TOTAL/[246] Itaewon/Culture Voucher/Unknown",
          "TOTAL/[248] Paulista/Bank Transfer Argentina/Unknown",
          "TOTAL/[251] Szkolna/bank transfer Poland/Unknown",
          "TOTAL/[253] Itaewon/Cashbee/Unknown",
          "TOTAL/[254] Wechat Pay/Unknown",
          "TOTAL/[26] ToditoCash/Unknown",
          "TOTAL/[272] Culture Voucher/Unknown",
          "TOTAL/[276] Deheza/Boleto/Unknown",
          "TOTAL/[277] Toss Pay/Unknown",
          "TOTAL/[289] Oxford/sofort /Unknown",
          "TOTAL/[293] Makadi/Gcash/Unknown",
          "TOTAL/[294] Shibuya / Konbini/Unknown",
          "TOTAL/[295] Shibuya / Payeasy/Unknown",
          "TOTAL/[296] Ladipo/Mobile Money Africa/Unknown",
          "TOTAL/[299] Itaewon/Kakao Pay/Unknown",
          "TOTAL/[300] Itaewon/Payco/Unknown",
          "TOTAL/[301] Szkolna/blik/Unknown",
          "TOTAL/[306] Desa/Sakuku/Unknown",
          "TOTAL/[307] Desa/GoPay/Unknown",
          "TOTAL/[308] Desa/LinkAja/Unknown",
          "TOTAL/[309] Desa/Indomaret/Unknown",
          "TOTAL/[30] Paysafecard/Unknown",
          "TOTAL/[310] Paraiso/payshop/Unknown",
          "TOTAL/[311] Paraiso/mbway/Unknown",
          "TOTAL/[312] Paraiso/multibanco/Unknown",
          "TOTAL/[317] Thamrin/Ovo/Unknown",
          "TOTAL/[320] Hsinchu/TaiwanPay/Unknown",
          "TOTAL/[321] Hsinchu/LinePay/Unknown",
          "TOTAL/[322] Hsinchu/ApplePay/Unknown",
          "TOTAL/[323] Paga/ E-Wallet/Unknown",
          "TOTAL/[324] Vibhavadi/Bank Transfer Thailand/Unknown",
          "TOTAL/[325] Vibhavadi/K Plus/Unknown",
          "TOTAL/[327] Vibhavadi/Boonterm Kiosk/Unknown",
          "TOTAL/[328] Vibhavadi/True Money Wallet/Unknown",
          "TOTAL/[329] Vibhavadi/Thai QR/Unknown",
          "TOTAL/[331] Ciputat/ QRIS/Unknown",
          "TOTAL/[340] FawryCash/Unknown",
          "TOTAL/[341] DANA/Unknown",
          "TOTAL/[343] Tonkin/NinePay/Unknown",
          "TOTAL/[344] Tonkin/LocalATMCard/Unknown",
          "TOTAL/[345] Makadi/SevenEleven/Unknown",
          "TOTAL/[346] Banktransfereurope/Unknown",
          "TOTAL/[348] Jalan/Boost Wallet/Unknown",
          "TOTAL/[34] GudangVoucher/Unknown",
          "TOTAL/[350] Jalan/TNG EWallet Online/Unknown",
          "TOTAL/[352] Thamrin/JeniusPay/Unknown",
          "TOTAL/[355] Makadi/Grabpay/Unknown",
          "TOTAL/[357] Makadi/Cash Payments Philippines/Unknown",
          "TOTAL/[358] Tonkin/Bank Transfer Vietnam/Unknown",
          "TOTAL/[359] Itaewon/Virtual Account/Unknown",
          "TOTAL/[362] Insadong/Credit Card Korea/Unknown",
          "TOTAL/[366] Insadong/LG Pay/Unknown",
          "TOTAL/[367] Insadong/Samsung Pay/Unknown",
          "TOTAL/[36] Itaewon/Happy Voucher/Unknown",
          "TOTAL/[370] Deheza/PIX/Unknown",
          "TOTAL/[376] Soilat/Rabbit LINE Pay/Unknown",
          "TOTAL/[387] Thamrin/QRIS/Unknown",
          "TOTAL/[38] WaveGame/Unknown",
          "TOTAL/[401] Hongdae/Naver Pay/Unknown",
          "TOTAL/[402] Hongdae/Kakao Pay/Unknown",
          "TOTAL/[404] Hongdae/Credit Cards Korea/Unknown",
          "TOTAL/[408] Makadi/ShopeePay Philippines/Unknown",
          "TOTAL/[40] zGold-MOLPoints/Unknown",
          "TOTAL/[41] Itaewon/TeenCash/Unknown",
          "TOTAL/[42] Itaewon/T-money/Unknown",
          "TOTAL/[45] FasterPay/Unknown",
          "TOTAL/[46] Silva/oxxo/Unknown",
          "TOTAL/[47] Onecard/Unknown",
          "TOTAL/[48] Deheza/mercadoPago/Unknown",
          "TOTAL/[54] Jalan/bank transfer Malaysia/Unknown",
          "TOTAL/[55] Makadi/bank transfer Philippines/Unknown",
          "TOTAL/[56] Itaewon/Book Gift Voucher/Unknown",
          "TOTAL/[57] Sofort/Unknown",
          "TOTAL/[5] Oxford/EPS/Unknown",
          "TOTAL/[64] Oxford/mybank/Unknown",
          "TOTAL/[80] Itaewon/Eggmoney/Unknown",
          "TOTAL/[81] Przelewy24/Unknown",
          "TOTAL/[83] NeoSurf/Unknown",
          "TOTAL/[84] myCard Card/Unknown",
          "TOTAL/[86] myCard Member Wallet/Unknown",
          "TOTAL/[88] Lipska/Bank transfer Poland/Unknown",
          "TOTAL/[91] Alipay/Unknown",
          "TOTAL/[98] Giropay/Unknown",
          "TOTAL/[144] Mobiamo/[10] Digame",
          "TOTAL/[144] Mobiamo/[11] Playlink",
          "TOTAL/[144] Mobiamo/[12] Fortumo",
          "TOTAL/[144] Mobiamo/[17] Paybyme",
          "TOTAL/[144] Mobiamo/[19] Oxygen",
          "TOTAL/[132] Gateway/[21] CC_POLK",
          "TOTAL/[144] Mobiamo/[23] Globe",
          "TOTAL/[144] Mobiamo/[24] Easy2Pay",
          "TOTAL/[144] Mobiamo/[25] Smart",
          "TOTAL/[144] Mobiamo/[27] Belgacom",
          "TOTAL/[141] UnionPay/[2] Veritrans",
          "TOTAL/[144] Mobiamo/[37] Triton",
          "TOTAL/[226] Oxford/ SEPA direct debit/[40] Sofort",
          "TOTAL/[226] Oxford/ SEPA direct debit/[41] Mollie",
          "TOTAL/[226] Oxford/ SEPA direct debit/[42] PPRO",
          "TOTAL/[144] Mobiamo/[47] Vodafone",
          "TOTAL/[132] Gateway/[51] CC_AMEX",
          "TOTAL/[144] Mobiamo/[54] Orange",
          "TOTAL/[144] Mobiamo/[55] Telenor",
          "TOTAL/[132] Gateway/[60] CC_EMBARCADERO",
          "TOTAL/[144] Mobiamo/[65] TelenorMalaysia",
          "TOTAL/[144] Mobiamo/[67] Bamboo",
          "TOTAL/[144] Mobiamo/[70] Danal",
          "TOTAL/[132] Gateway/[72] CC_EXETER",
          "TOTAL/[132] Gateway/[73] CC_CENTRAL",
          "TOTAL/[132] Gateway/[80] CC_TERMINAL3_TEMP",
          "TOTAL/[144] Mobiamo/[8] Virgopass",
          "TOTAL/[132] Gateway/[95] CC_GANGNAM",
          "TOTAL/[101] E-Prepag",
          "TOTAL/[103] Rokin/KBC",
          "TOTAL/[107] Medellin/Bank Transfer Colombia",
          "TOTAL/[109] Medellin/Baloto",
          "TOTAL/[111] Medellin/Gana",
          "TOTAL/[113] Medellin/PSE",
          "TOTAL/[115] Medellin/Bank Transfer Peru",
          "TOTAL/[117] Lipska/mTransfer",
          "TOTAL/[120] Lipska/Bank Zachodni WBK",
          "TOTAL/[121] Lipska/Pekao24 Przelew",
          "TOTAL/[122] Lipska/ING Bank Slaski",
          "TOTAL/[124] Lipska/Place z ING Bank Slaski",
          "TOTAL/[127] Qiwi Wallet",
          "TOTAL/[129] Allopass Landline",
          "TOTAL/[132] Gateway",
          "TOTAL/[137] Oxford/ideal",
          "TOTAL/[141] UnionPay",
          "TOTAL/[144] Mobiamo",
          "TOTAL/[145] MINT",
          "TOTAL/[157] Desa/Game-On",
          "TOTAL/[166] Silva/transferencia bancaria",
          "TOTAL/[167] Coinbase",
          "TOTAL/[170] Ringwood/Openbucks",
          "TOTAL/[172] Safetypay",
          "TOTAL/[174] Liszt/efectivo",
          "TOTAL/[176] Oxford/multibanco",
          "TOTAL/[178] Rokin/Belfius",
          "TOTAL/[17] CherryCredits",
          "TOTAL/[188] Paulista/Bank Transfer Mexico",
          "TOTAL/[189] Paulista/Bancomer Mexico",
          "TOTAL/[191] Paulista/Santander Mexico",
          "TOTAL/[193] Paulista/oxxo",
          "TOTAL/[198] Paulista/Redcompra",
          "TOTAL/[199] Paulista/Redpagos",
          "TOTAL/[19] Itaewon/all the gate CC",
          "TOTAL/[1] PayPal",
          "TOTAL/[200] Silva/credit cards Brazil",
          "TOTAL/[201] Silva/ Hipercard",
          "TOTAL/[207] Ringwood/Circle K",
          "TOTAL/[208] Ringwood/CVS Pharmacy",
          "TOTAL/[209] Ringwood/Dollar General",
          "TOTAL/[213] Rokin/Ideal",
          "TOTAL/[215] Rokin/bancontact",
          "TOTAL/[218] Poli",
          "TOTAL/[219] Interac",
          "TOTAL/[220] Rokin/CBC",
          "TOTAL/[221] Silva/Banco Itau",
          "TOTAL/[226] Oxford/ SEPA direct debit",
          "TOTAL/[236] Paulista/PagoFacil",
          "TOTAL/[237] Paulista/RapiPago",
          "TOTAL/[238] Paulista/efecty",
          "TOTAL/[239] Paulista/Davivienda",
          "TOTAL/[23] Itaewon/KFTC Internet Banking",
          "TOTAL/[241] Thamrin/Minimart",
          "TOTAL/[242] Thamrin/ATM transfer Indonesia",
          "TOTAL/[243] Thamrin/doku wallet",
          "TOTAL/[246] Itaewon/Culture Voucher",
          "TOTAL/[248] Paulista/Bank Transfer Argentina",
          "TOTAL/[251] Szkolna/bank transfer Poland",
          "TOTAL/[253] Itaewon/Cashbee",
          "TOTAL/[254] Wechat Pay",
          "TOTAL/[26] ToditoCash",
          "TOTAL/[272] Culture Voucher",
          "TOTAL/[276] Deheza/Boleto",
          "TOTAL/[277] Toss Pay",
          "TOTAL/[289] Oxford/sofort ",
          "TOTAL/[293] Makadi/Gcash",
          "TOTAL/[294] Shibuya / Konbini",
          "TOTAL/[295] Shibuya / Payeasy",
          "TOTAL/[296] Ladipo/Mobile Money Africa",
          "TOTAL/[299] Itaewon/Kakao Pay",
          "TOTAL/[300] Itaewon/Payco",
          "TOTAL/[301] Szkolna/blik",
          "TOTAL/[306] Desa/Sakuku",
          "TOTAL/[307] Desa/GoPay",
          "TOTAL/[308] Desa/LinkAja",
          "TOTAL/[309] Desa/Indomaret",
          "TOTAL/[30] Paysafecard",
          "TOTAL/[310] Paraiso/payshop",
          "TOTAL/[311] Paraiso/mbway",
          "TOTAL/[312] Paraiso/multibanco",
          "TOTAL/[317] Thamrin/Ovo",
          "TOTAL/[320] Hsinchu/TaiwanPay",
          "TOTAL/[321] Hsinchu/LinePay",
          "TOTAL/[322] Hsinchu/ApplePay",
          "TOTAL/[323] Paga/ E-Wallet",
          "TOTAL/[324] Vibhavadi/Bank Transfer Thailand",
          "TOTAL/[325] Vibhavadi/K Plus",
          "TOTAL/[327] Vibhavadi/Boonterm Kiosk",
          "TOTAL/[328] Vibhavadi/True Money Wallet",
          "TOTAL/[329] Vibhavadi/Thai QR",
          "TOTAL/[331] Ciputat/ QRIS",
          "TOTAL/[340] FawryCash",
          "TOTAL/[341] DANA",
          "TOTAL/[343] Tonkin/NinePay",
          "TOTAL/[344] Tonkin/LocalATMCard",
          "TOTAL/[345] Makadi/SevenEleven",
          "TOTAL/[346] Banktransfereurope",
          "TOTAL/[348] Jalan/Boost Wallet",
          "TOTAL/[34] GudangVoucher",
          "TOTAL/[350] Jalan/TNG EWallet Online",
          "TOTAL/[352] Thamrin/JeniusPay",
          "TOTAL/[355] Makadi/Grabpay",
          "TOTAL/[357] Makadi/Cash Payments Philippines",
          "TOTAL/[358] Tonkin/Bank Transfer Vietnam",
          "TOTAL/[359] Itaewon/Virtual Account",
          "TOTAL/[362] Insadong/Credit Card Korea",
          "TOTAL/[366] Insadong/LG Pay",
          "TOTAL/[367] Insadong/Samsung Pay",
          "TOTAL/[36] Itaewon/Happy Voucher",
          "TOTAL/[370] Deheza/PIX",
          "TOTAL/[376] Soilat/Rabbit LINE Pay",
          "TOTAL/[387] Thamrin/QRIS",
          "TOTAL/[38] WaveGame",
          "TOTAL/[401] Hongdae/Naver Pay",
          "TOTAL/[402] Hongdae/Kakao Pay",
          "TOTAL/[404] Hongdae/Credit Cards Korea",
          "TOTAL/[408] Makadi/ShopeePay Philippines",
          "TOTAL/[40] zGold-MOLPoints",
          "TOTAL/[41] Itaewon/TeenCash",
          "TOTAL/[42] Itaewon/T-money",
          "TOTAL/[45] FasterPay",
          "TOTAL/[46] Silva/oxxo",
          "TOTAL/[47] Onecard",
          "TOTAL/[48] Deheza/mercadoPago",
          "TOTAL/[54] Jalan/bank transfer Malaysia",
          "TOTAL/[55] Makadi/bank transfer Philippines",
          "TOTAL/[56] Itaewon/Book Gift Voucher",
          "TOTAL/[57] Sofort",
          "TOTAL/[5] Oxford/EPS",
          "TOTAL/[64] Oxford/mybank",
          "TOTAL/[80] Itaewon/Eggmoney",
          "TOTAL/[81] Przelewy24",
          "TOTAL/[83] NeoSurf",
          "TOTAL/[84] myCard Card",
          "TOTAL/[86] myCard Member Wallet",
          "TOTAL/[88] Lipska/Bank transfer Poland",
          "TOTAL/[91] Alipay",
          "TOTAL/[98] Giropay",
          "TOTAL"
         ],
         "labels": [
          "Unknown",
          "Unknown",
          "Unknown",
          "Unknown",
          "Unknown",
          "Unknown",
          "Unknown",
          "Unknown",
          "Unknown",
          "Unknown",
          "Unknown",
          "Unknown",
          "Unknown",
          "Unknown",
          "Unknown",
          "Unknown",
          "Unknown",
          "Unknown",
          "Unknown",
          "Unknown",
          "Unknown",
          "Unknown",
          "Unknown",
          "Unknown",
          "Unknown",
          "Unknown",
          "Unknown",
          "Unknown",
          "Unknown",
          "Unknown",
          "Unknown",
          "Unknown",
          "Unknown",
          "Unknown",
          "Unknown",
          "Unknown",
          "Unknown",
          "Unknown",
          "Unknown",
          "Unknown",
          "Unknown",
          "Unknown",
          "Unknown",
          "Unknown",
          "Unknown",
          "Unknown",
          "Unknown",
          "Unknown",
          "Unknown",
          "Unknown",
          "Unknown",
          "Unknown",
          "Unknown",
          "Unknown",
          "Unknown",
          "Unknown",
          "Unknown",
          "Unknown",
          "Unknown",
          "Unknown",
          "Unknown",
          "Unknown",
          "Unknown",
          "Unknown",
          "Unknown",
          "Unknown",
          "Unknown",
          "Unknown",
          "Unknown",
          "Unknown",
          "Unknown",
          "Unknown",
          "Unknown",
          "Unknown",
          "Unknown",
          "Unknown",
          "Unknown",
          "Unknown",
          "Unknown",
          "Unknown",
          "Unknown",
          "Unknown",
          "Unknown",
          "Unknown",
          "Unknown",
          "Unknown",
          "Unknown",
          "Unknown",
          "Unknown",
          "Unknown",
          "Unknown",
          "Unknown",
          "Unknown",
          "Unknown",
          "Unknown",
          "Unknown",
          "Unknown",
          "Unknown",
          "Unknown",
          "Unknown",
          "Unknown",
          "Unknown",
          "Unknown",
          "Unknown",
          "Unknown",
          "Unknown",
          "Unknown",
          "Unknown",
          "Unknown",
          "Unknown",
          "Unknown",
          "Unknown",
          "Unknown",
          "Unknown",
          "Unknown",
          "Unknown",
          "Unknown",
          "Unknown",
          "Unknown",
          "Unknown",
          "Unknown",
          "Unknown",
          "Unknown",
          "Unknown",
          "Unknown",
          "Unknown",
          "Unknown",
          "Unknown",
          "Unknown",
          "Unknown",
          "Unknown",
          "Unknown",
          "Unknown",
          "Unknown",
          "Unknown",
          "Unknown",
          "[10] Digame",
          "[11] Playlink",
          "[12] Fortumo",
          "[17] Paybyme",
          "[19] Oxygen",
          "[21] CC_POLK",
          "[23] Globe",
          "[24] Easy2Pay",
          "[25] Smart",
          "[27] Belgacom",
          "[2] Veritrans",
          "[37] Triton",
          "[40] Sofort",
          "[41] Mollie",
          "[42] PPRO",
          "[47] Vodafone",
          "[51] CC_AMEX",
          "[54] Orange",
          "[55] Telenor",
          "[60] CC_EMBARCADERO",
          "[65] TelenorMalaysia",
          "[67] Bamboo",
          "[70] Danal",
          "[72] CC_EXETER",
          "[73] CC_CENTRAL",
          "[80] CC_TERMINAL3_TEMP",
          "[8] Virgopass",
          "[95] CC_GANGNAM",
          "[101] E-Prepag",
          "[103] Rokin/KBC",
          "[107] Medellin/Bank Transfer Colombia",
          "[109] Medellin/Baloto",
          "[111] Medellin/Gana",
          "[113] Medellin/PSE",
          "[115] Medellin/Bank Transfer Peru",
          "[117] Lipska/mTransfer",
          "[120] Lipska/Bank Zachodni WBK",
          "[121] Lipska/Pekao24 Przelew",
          "[122] Lipska/ING Bank Slaski",
          "[124] Lipska/Place z ING Bank Slaski",
          "[127] Qiwi Wallet",
          "[129] Allopass Landline",
          "[132] Gateway",
          "[137] Oxford/ideal",
          "[141] UnionPay",
          "[144] Mobiamo",
          "[145] MINT",
          "[157] Desa/Game-On",
          "[166] Silva/transferencia bancaria",
          "[167] Coinbase",
          "[170] Ringwood/Openbucks",
          "[172] Safetypay",
          "[174] Liszt/efectivo",
          "[176] Oxford/multibanco",
          "[178] Rokin/Belfius",
          "[17] CherryCredits",
          "[188] Paulista/Bank Transfer Mexico",
          "[189] Paulista/Bancomer Mexico",
          "[191] Paulista/Santander Mexico",
          "[193] Paulista/oxxo",
          "[198] Paulista/Redcompra",
          "[199] Paulista/Redpagos",
          "[19] Itaewon/all the gate CC",
          "[1] PayPal",
          "[200] Silva/credit cards Brazil",
          "[201] Silva/ Hipercard",
          "[207] Ringwood/Circle K",
          "[208] Ringwood/CVS Pharmacy",
          "[209] Ringwood/Dollar General",
          "[213] Rokin/Ideal",
          "[215] Rokin/bancontact",
          "[218] Poli",
          "[219] Interac",
          "[220] Rokin/CBC",
          "[221] Silva/Banco Itau",
          "[226] Oxford/ SEPA direct debit",
          "[236] Paulista/PagoFacil",
          "[237] Paulista/RapiPago",
          "[238] Paulista/efecty",
          "[239] Paulista/Davivienda",
          "[23] Itaewon/KFTC Internet Banking",
          "[241] Thamrin/Minimart",
          "[242] Thamrin/ATM transfer Indonesia",
          "[243] Thamrin/doku wallet",
          "[246] Itaewon/Culture Voucher",
          "[248] Paulista/Bank Transfer Argentina",
          "[251] Szkolna/bank transfer Poland",
          "[253] Itaewon/Cashbee",
          "[254] Wechat Pay",
          "[26] ToditoCash",
          "[272] Culture Voucher",
          "[276] Deheza/Boleto",
          "[277] Toss Pay",
          "[289] Oxford/sofort ",
          "[293] Makadi/Gcash",
          "[294] Shibuya / Konbini",
          "[295] Shibuya / Payeasy",
          "[296] Ladipo/Mobile Money Africa",
          "[299] Itaewon/Kakao Pay",
          "[300] Itaewon/Payco",
          "[301] Szkolna/blik",
          "[306] Desa/Sakuku",
          "[307] Desa/GoPay",
          "[308] Desa/LinkAja",
          "[309] Desa/Indomaret",
          "[30] Paysafecard",
          "[310] Paraiso/payshop",
          "[311] Paraiso/mbway",
          "[312] Paraiso/multibanco",
          "[317] Thamrin/Ovo",
          "[320] Hsinchu/TaiwanPay",
          "[321] Hsinchu/LinePay",
          "[322] Hsinchu/ApplePay",
          "[323] Paga/ E-Wallet",
          "[324] Vibhavadi/Bank Transfer Thailand",
          "[325] Vibhavadi/K Plus",
          "[327] Vibhavadi/Boonterm Kiosk",
          "[328] Vibhavadi/True Money Wallet",
          "[329] Vibhavadi/Thai QR",
          "[331] Ciputat/ QRIS",
          "[340] FawryCash",
          "[341] DANA",
          "[343] Tonkin/NinePay",
          "[344] Tonkin/LocalATMCard",
          "[345] Makadi/SevenEleven",
          "[346] Banktransfereurope",
          "[348] Jalan/Boost Wallet",
          "[34] GudangVoucher",
          "[350] Jalan/TNG EWallet Online",
          "[352] Thamrin/JeniusPay",
          "[355] Makadi/Grabpay",
          "[357] Makadi/Cash Payments Philippines",
          "[358] Tonkin/Bank Transfer Vietnam",
          "[359] Itaewon/Virtual Account",
          "[362] Insadong/Credit Card Korea",
          "[366] Insadong/LG Pay",
          "[367] Insadong/Samsung Pay",
          "[36] Itaewon/Happy Voucher",
          "[370] Deheza/PIX",
          "[376] Soilat/Rabbit LINE Pay",
          "[387] Thamrin/QRIS",
          "[38] WaveGame",
          "[401] Hongdae/Naver Pay",
          "[402] Hongdae/Kakao Pay",
          "[404] Hongdae/Credit Cards Korea",
          "[408] Makadi/ShopeePay Philippines",
          "[40] zGold-MOLPoints",
          "[41] Itaewon/TeenCash",
          "[42] Itaewon/T-money",
          "[45] FasterPay",
          "[46] Silva/oxxo",
          "[47] Onecard",
          "[48] Deheza/mercadoPago",
          "[54] Jalan/bank transfer Malaysia",
          "[55] Makadi/bank transfer Philippines",
          "[56] Itaewon/Book Gift Voucher",
          "[57] Sofort",
          "[5] Oxford/EPS",
          "[64] Oxford/mybank",
          "[80] Itaewon/Eggmoney",
          "[81] Przelewy24",
          "[83] NeoSurf",
          "[84] myCard Card",
          "[86] myCard Member Wallet",
          "[88] Lipska/Bank transfer Poland",
          "[91] Alipay",
          "[98] Giropay",
          "TOTAL"
         ],
         "marker": {
          "colors": [
           "#636efa",
           "#EF553B",
           "#00cc96",
           "#ab63fa",
           "#FFA15A",
           "#19d3f3",
           "#FF6692",
           "#B6E880",
           "#FF97FF",
           "#FECB52",
           "#636efa",
           "#EF553B",
           "#00cc96",
           "#ab63fa",
           "#FFA15A",
           "#19d3f3",
           "#FF6692",
           "#B6E880",
           "#FF97FF",
           "#FECB52",
           "#636efa",
           "#EF553B",
           "#00cc96",
           "#ab63fa",
           "#FFA15A",
           "#19d3f3",
           "#FF6692",
           "#B6E880",
           "#FF97FF",
           "#FECB52",
           "#636efa",
           "#EF553B",
           "#00cc96",
           "#ab63fa",
           "#FFA15A",
           "#19d3f3",
           "#FF6692",
           "#B6E880",
           "#FF97FF",
           "#FECB52",
           "#636efa",
           "#EF553B",
           "#00cc96",
           "#ab63fa",
           "#FFA15A",
           "#19d3f3",
           "#FF6692",
           "#B6E880",
           "#FF97FF",
           "#FECB52",
           "#636efa",
           "#EF553B",
           "#00cc96",
           "#ab63fa",
           "#FFA15A",
           "#19d3f3",
           "#FF6692",
           "#B6E880",
           "#FF97FF",
           "#FECB52",
           "#636efa",
           "#EF553B",
           "#00cc96",
           "#ab63fa",
           "#FFA15A",
           "#19d3f3",
           "#FF6692",
           "#B6E880",
           "#FF97FF",
           "#FECB52",
           "#636efa",
           "#EF553B",
           "#00cc96",
           "#ab63fa",
           "#FFA15A",
           "#19d3f3",
           "#FF6692",
           "#B6E880",
           "#FF97FF",
           "#FECB52",
           "#636efa",
           "#EF553B",
           "#00cc96",
           "#ab63fa",
           "#FFA15A",
           "#19d3f3",
           "#FF6692",
           "#B6E880",
           "#FF97FF",
           "#FECB52",
           "#636efa",
           "#EF553B",
           "#00cc96",
           "#ab63fa",
           "#FFA15A",
           "#19d3f3",
           "#FF6692",
           "#B6E880",
           "#FF97FF",
           "#FECB52",
           "#636efa",
           "#EF553B",
           "#00cc96",
           "#ab63fa",
           "#FFA15A",
           "#19d3f3",
           "#FF6692",
           "#B6E880",
           "#FF97FF",
           "#FECB52",
           "#636efa",
           "#EF553B",
           "#00cc96",
           "#ab63fa",
           "#FFA15A",
           "#19d3f3",
           "#FF6692",
           "#B6E880",
           "#FF97FF",
           "#FECB52",
           "#636efa",
           "#EF553B",
           "#00cc96",
           "#ab63fa",
           "#FFA15A",
           "#19d3f3",
           "#FF6692",
           "#B6E880",
           "#FF97FF",
           "#FECB52",
           "#636efa",
           "#EF553B",
           "#00cc96",
           "#ab63fa",
           "#FFA15A",
           "#19d3f3",
           "#FF6692",
           "#FF6692",
           "#FF6692",
           "#FF6692",
           "#FF6692",
           "#636efa",
           "#FF6692",
           "#FF6692",
           "#FF6692",
           "#FF6692",
           "#B6E880",
           "#FF6692",
           "#FF97FF",
           "#FF97FF",
           "#FF97FF",
           "#FF6692",
           "#636efa",
           "#FF6692",
           "#FF6692",
           "#636efa",
           "#FF6692",
           "#FF6692",
           "#FF6692",
           "#636efa",
           "#636efa",
           "#636efa",
           "#FF6692",
           "#636efa",
           "#636efa",
           "#EF553B",
           "#00cc96",
           "#ab63fa",
           "#FFA15A",
           "#19d3f3",
           "#FF6692",
           "#B6E880",
           "#FF97FF",
           "#FECB52",
           "#636efa",
           "#EF553B",
           "#00cc96",
           "#ab63fa",
           "#636efa",
           "#FF97FF",
           "#B6E880",
           "#FF6692",
           "#FECB52",
           "#EF553B",
           "#B6E880",
           "#FF6692",
           "#19d3f3",
           "#FFA15A",
           "#00cc96",
           "#ab63fa",
           "#FECB52",
           "#FF97FF",
           "#B6E880",
           "#FF6692",
           "#19d3f3",
           "#FFA15A",
           "#ab63fa",
           "#636efa",
           "#EF553B",
           "#FFA15A",
           "#636efa",
           "#FECB52",
           "#FF97FF",
           "#B6E880",
           "#FF6692",
           "#19d3f3",
           "#00cc96",
           "#EF553B",
           "#00cc96",
           "#ab63fa",
           "#FFA15A",
           "#FF97FF",
           "#19d3f3",
           "#FF6692",
           "#B6E880",
           "#FF97FF",
           "#FECB52",
           "#636efa",
           "#EF553B",
           "#00cc96",
           "#ab63fa",
           "#FFA15A",
           "#19d3f3",
           "#FF6692",
           "#B6E880",
           "#FF97FF",
           "#FECB52",
           "#636efa",
           "#EF553B",
           "#00cc96",
           "#ab63fa",
           "#FFA15A",
           "#19d3f3",
           "#FF6692",
           "#B6E880",
           "#FF97FF",
           "#FECB52",
           "#636efa",
           "#EF553B",
           "#00cc96",
           "#ab63fa",
           "#FFA15A",
           "#19d3f3",
           "#FF6692",
           "#B6E880",
           "#FF97FF",
           "#FECB52",
           "#636efa",
           "#EF553B",
           "#00cc96",
           "#ab63fa",
           "#FFA15A",
           "#19d3f3",
           "#FF6692",
           "#B6E880",
           "#FF97FF",
           "#FECB52",
           "#636efa",
           "#EF553B",
           "#00cc96",
           "#ab63fa",
           "#FFA15A",
           "#19d3f3",
           "#FF6692",
           "#B6E880",
           "#FF97FF",
           "#FECB52",
           "#636efa",
           "#EF553B",
           "#00cc96",
           "#ab63fa",
           "#FFA15A",
           "#19d3f3",
           "#FF6692",
           "#B6E880",
           "#FF97FF",
           "#FECB52",
           "#636efa",
           "#EF553B",
           "#00cc96",
           "#ab63fa",
           "#FFA15A",
           "#19d3f3",
           "#FF6692",
           "#B6E880",
           "#FF97FF",
           "#FECB52",
           "#636efa",
           "#EF553B",
           "#00cc96",
           "#ab63fa",
           "#FFA15A",
           "#19d3f3",
           "#FF6692",
           "#B6E880",
           "#FF97FF",
           "#FECB52",
           "#636efa",
           "#EF553B",
           "#00cc96",
           "#ab63fa",
           "#FFA15A",
           "#19d3f3",
           "#FECB52"
          ]
         },
         "name": "",
         "parents": [
          "TOTAL/[101] E-Prepag",
          "TOTAL/[103] Rokin/KBC",
          "TOTAL/[107] Medellin/Bank Transfer Colombia",
          "TOTAL/[109] Medellin/Baloto",
          "TOTAL/[111] Medellin/Gana",
          "TOTAL/[113] Medellin/PSE",
          "TOTAL/[115] Medellin/Bank Transfer Peru",
          "TOTAL/[117] Lipska/mTransfer",
          "TOTAL/[120] Lipska/Bank Zachodni WBK",
          "TOTAL/[121] Lipska/Pekao24 Przelew",
          "TOTAL/[122] Lipska/ING Bank Slaski",
          "TOTAL/[124] Lipska/Place z ING Bank Slaski",
          "TOTAL/[127] Qiwi Wallet",
          "TOTAL/[129] Allopass Landline",
          "TOTAL/[172] Safetypay",
          "TOTAL/[170] Ringwood/Openbucks",
          "TOTAL/[167] Coinbase",
          "TOTAL/[166] Silva/transferencia bancaria",
          "TOTAL/[137] Oxford/ideal",
          "TOTAL/[145] MINT",
          "TOTAL/[132] Gateway",
          "TOTAL/[157] Desa/Game-On",
          "TOTAL/[174] Liszt/efectivo",
          "TOTAL/[176] Oxford/multibanco",
          "TOTAL/[1] PayPal",
          "TOTAL/[213] Rokin/Ideal",
          "TOTAL/[209] Ringwood/Dollar General",
          "TOTAL/[208] Ringwood/CVS Pharmacy",
          "TOTAL/[207] Ringwood/Circle K",
          "TOTAL/[201] Silva/ Hipercard",
          "TOTAL/[200] Silva/credit cards Brazil",
          "TOTAL/[19] Itaewon/all the gate CC",
          "TOTAL/[215] Rokin/bancontact",
          "TOTAL/[198] Paulista/Redcompra",
          "TOTAL/[193] Paulista/oxxo",
          "TOTAL/[191] Paulista/Santander Mexico",
          "TOTAL/[189] Paulista/Bancomer Mexico",
          "TOTAL/[188] Paulista/Bank Transfer Mexico",
          "TOTAL/[17] CherryCredits",
          "TOTAL/[178] Rokin/Belfius",
          "TOTAL/[199] Paulista/Redpagos",
          "TOTAL/[218] Poli",
          "TOTAL/[219] Interac",
          "TOTAL/[220] Rokin/CBC",
          "TOTAL/[221] Silva/Banco Itau",
          "TOTAL/[236] Paulista/PagoFacil",
          "TOTAL/[237] Paulista/RapiPago",
          "TOTAL/[238] Paulista/efecty",
          "TOTAL/[239] Paulista/Davivienda",
          "TOTAL/[23] Itaewon/KFTC Internet Banking",
          "TOTAL/[241] Thamrin/Minimart",
          "TOTAL/[242] Thamrin/ATM transfer Indonesia",
          "TOTAL/[243] Thamrin/doku wallet",
          "TOTAL/[246] Itaewon/Culture Voucher",
          "TOTAL/[248] Paulista/Bank Transfer Argentina",
          "TOTAL/[251] Szkolna/bank transfer Poland",
          "TOTAL/[253] Itaewon/Cashbee",
          "TOTAL/[254] Wechat Pay",
          "TOTAL/[26] ToditoCash",
          "TOTAL/[272] Culture Voucher",
          "TOTAL/[276] Deheza/Boleto",
          "TOTAL/[277] Toss Pay",
          "TOTAL/[289] Oxford/sofort ",
          "TOTAL/[293] Makadi/Gcash",
          "TOTAL/[294] Shibuya / Konbini",
          "TOTAL/[295] Shibuya / Payeasy",
          "TOTAL/[296] Ladipo/Mobile Money Africa",
          "TOTAL/[299] Itaewon/Kakao Pay",
          "TOTAL/[300] Itaewon/Payco",
          "TOTAL/[301] Szkolna/blik",
          "TOTAL/[306] Desa/Sakuku",
          "TOTAL/[307] Desa/GoPay",
          "TOTAL/[308] Desa/LinkAja",
          "TOTAL/[309] Desa/Indomaret",
          "TOTAL/[30] Paysafecard",
          "TOTAL/[310] Paraiso/payshop",
          "TOTAL/[311] Paraiso/mbway",
          "TOTAL/[312] Paraiso/multibanco",
          "TOTAL/[317] Thamrin/Ovo",
          "TOTAL/[320] Hsinchu/TaiwanPay",
          "TOTAL/[321] Hsinchu/LinePay",
          "TOTAL/[322] Hsinchu/ApplePay",
          "TOTAL/[323] Paga/ E-Wallet",
          "TOTAL/[324] Vibhavadi/Bank Transfer Thailand",
          "TOTAL/[325] Vibhavadi/K Plus",
          "TOTAL/[327] Vibhavadi/Boonterm Kiosk",
          "TOTAL/[328] Vibhavadi/True Money Wallet",
          "TOTAL/[329] Vibhavadi/Thai QR",
          "TOTAL/[331] Ciputat/ QRIS",
          "TOTAL/[340] FawryCash",
          "TOTAL/[341] DANA",
          "TOTAL/[343] Tonkin/NinePay",
          "TOTAL/[344] Tonkin/LocalATMCard",
          "TOTAL/[345] Makadi/SevenEleven",
          "TOTAL/[346] Banktransfereurope",
          "TOTAL/[348] Jalan/Boost Wallet",
          "TOTAL/[34] GudangVoucher",
          "TOTAL/[350] Jalan/TNG EWallet Online",
          "TOTAL/[352] Thamrin/JeniusPay",
          "TOTAL/[355] Makadi/Grabpay",
          "TOTAL/[357] Makadi/Cash Payments Philippines",
          "TOTAL/[358] Tonkin/Bank Transfer Vietnam",
          "TOTAL/[359] Itaewon/Virtual Account",
          "TOTAL/[362] Insadong/Credit Card Korea",
          "TOTAL/[366] Insadong/LG Pay",
          "TOTAL/[367] Insadong/Samsung Pay",
          "TOTAL/[36] Itaewon/Happy Voucher",
          "TOTAL/[370] Deheza/PIX",
          "TOTAL/[376] Soilat/Rabbit LINE Pay",
          "TOTAL/[387] Thamrin/QRIS",
          "TOTAL/[38] WaveGame",
          "TOTAL/[401] Hongdae/Naver Pay",
          "TOTAL/[402] Hongdae/Kakao Pay",
          "TOTAL/[404] Hongdae/Credit Cards Korea",
          "TOTAL/[408] Makadi/ShopeePay Philippines",
          "TOTAL/[40] zGold-MOLPoints",
          "TOTAL/[41] Itaewon/TeenCash",
          "TOTAL/[42] Itaewon/T-money",
          "TOTAL/[45] FasterPay",
          "TOTAL/[46] Silva/oxxo",
          "TOTAL/[47] Onecard",
          "TOTAL/[48] Deheza/mercadoPago",
          "TOTAL/[54] Jalan/bank transfer Malaysia",
          "TOTAL/[55] Makadi/bank transfer Philippines",
          "TOTAL/[56] Itaewon/Book Gift Voucher",
          "TOTAL/[57] Sofort",
          "TOTAL/[5] Oxford/EPS",
          "TOTAL/[64] Oxford/mybank",
          "TOTAL/[80] Itaewon/Eggmoney",
          "TOTAL/[81] Przelewy24",
          "TOTAL/[83] NeoSurf",
          "TOTAL/[84] myCard Card",
          "TOTAL/[86] myCard Member Wallet",
          "TOTAL/[88] Lipska/Bank transfer Poland",
          "TOTAL/[91] Alipay",
          "TOTAL/[98] Giropay",
          "TOTAL/[144] Mobiamo",
          "TOTAL/[144] Mobiamo",
          "TOTAL/[144] Mobiamo",
          "TOTAL/[144] Mobiamo",
          "TOTAL/[144] Mobiamo",
          "TOTAL/[132] Gateway",
          "TOTAL/[144] Mobiamo",
          "TOTAL/[144] Mobiamo",
          "TOTAL/[144] Mobiamo",
          "TOTAL/[144] Mobiamo",
          "TOTAL/[141] UnionPay",
          "TOTAL/[144] Mobiamo",
          "TOTAL/[226] Oxford/ SEPA direct debit",
          "TOTAL/[226] Oxford/ SEPA direct debit",
          "TOTAL/[226] Oxford/ SEPA direct debit",
          "TOTAL/[144] Mobiamo",
          "TOTAL/[132] Gateway",
          "TOTAL/[144] Mobiamo",
          "TOTAL/[144] Mobiamo",
          "TOTAL/[132] Gateway",
          "TOTAL/[144] Mobiamo",
          "TOTAL/[144] Mobiamo",
          "TOTAL/[144] Mobiamo",
          "TOTAL/[132] Gateway",
          "TOTAL/[132] Gateway",
          "TOTAL/[132] Gateway",
          "TOTAL/[144] Mobiamo",
          "TOTAL/[132] Gateway",
          "TOTAL",
          "TOTAL",
          "TOTAL",
          "TOTAL",
          "TOTAL",
          "TOTAL",
          "TOTAL",
          "TOTAL",
          "TOTAL",
          "TOTAL",
          "TOTAL",
          "TOTAL",
          "TOTAL",
          "TOTAL",
          "TOTAL",
          "TOTAL",
          "TOTAL",
          "TOTAL",
          "TOTAL",
          "TOTAL",
          "TOTAL",
          "TOTAL",
          "TOTAL",
          "TOTAL",
          "TOTAL",
          "TOTAL",
          "TOTAL",
          "TOTAL",
          "TOTAL",
          "TOTAL",
          "TOTAL",
          "TOTAL",
          "TOTAL",
          "TOTAL",
          "TOTAL",
          "TOTAL",
          "TOTAL",
          "TOTAL",
          "TOTAL",
          "TOTAL",
          "TOTAL",
          "TOTAL",
          "TOTAL",
          "TOTAL",
          "TOTAL",
          "TOTAL",
          "TOTAL",
          "TOTAL",
          "TOTAL",
          "TOTAL",
          "TOTAL",
          "TOTAL",
          "TOTAL",
          "TOTAL",
          "TOTAL",
          "TOTAL",
          "TOTAL",
          "TOTAL",
          "TOTAL",
          "TOTAL",
          "TOTAL",
          "TOTAL",
          "TOTAL",
          "TOTAL",
          "TOTAL",
          "TOTAL",
          "TOTAL",
          "TOTAL",
          "TOTAL",
          "TOTAL",
          "TOTAL",
          "TOTAL",
          "TOTAL",
          "TOTAL",
          "TOTAL",
          "TOTAL",
          "TOTAL",
          "TOTAL",
          "TOTAL",
          "TOTAL",
          "TOTAL",
          "TOTAL",
          "TOTAL",
          "TOTAL",
          "TOTAL",
          "TOTAL",
          "TOTAL",
          "TOTAL",
          "TOTAL",
          "TOTAL",
          "TOTAL",
          "TOTAL",
          "TOTAL",
          "TOTAL",
          "TOTAL",
          "TOTAL",
          "TOTAL",
          "TOTAL",
          "TOTAL",
          "TOTAL",
          "TOTAL",
          "TOTAL",
          "TOTAL",
          "TOTAL",
          "TOTAL",
          "TOTAL",
          "TOTAL",
          "TOTAL",
          "TOTAL",
          "TOTAL",
          "TOTAL",
          "TOTAL",
          "TOTAL",
          "TOTAL",
          "TOTAL",
          "TOTAL",
          "TOTAL",
          "TOTAL",
          "TOTAL",
          "TOTAL",
          "TOTAL",
          "TOTAL",
          "TOTAL",
          "TOTAL",
          "TOTAL",
          "TOTAL",
          "TOTAL",
          "TOTAL",
          "TOTAL",
          "TOTAL",
          "TOTAL",
          "TOTAL",
          "TOTAL",
          "TOTAL",
          "TOTAL",
          "TOTAL",
          "TOTAL",
          "TOTAL",
          "TOTAL",
          ""
         ],
         "type": "treemap",
         "values": [
          1622.33,
          6219.25,
          864.19,
          522.23,
          249.75,
          6756.66,
          1603.32,
          149.02,
          53.57,
          87.09,
          56.19,
          159.67,
          167947.48,
          324.26,
          3919.96,
          42430.97,
          3216.62,
          585.72,
          125716.99,
          32577.07,
          2573.94,
          20.43,
          1258.32,
          152.01,
          724533.95,
          89705.21,
          10935.51,
          8276.32,
          1406.42,
          29.55,
          2512.5,
          88523.54,
          32228.68,
          16811.09,
          114.54,
          30,
          262.49,
          636.06,
          1642.12,
          11521.81,
          1479.79,
          6383.27,
          10249.88,
          491.74,
          46.25,
          2014.8,
          607.48,
          1162.68,
          7.95,
          3944.36,
          504.56,
          4310.61,
          469.5,
          2900.65,
          8435.31,
          15565.86,
          45.5,
          74323.26,
          46.59,
          4420.41,
          4725.56,
          3952.12,
          84772.75,
          36273.42,
          5675.97,
          398.51,
          12.24,
          14932.65,
          5201.17,
          230158.57,
          166.38,
          14358.71,
          138.56,
          126.25,
          113225.31,
          1085.73,
          14707.76,
          15107.7,
          2855.27,
          2067.95,
          11198.44,
          2273.56,
          3935.87,
          5547.04,
          21714.9,
          37.36,
          162.09,
          19848.39,
          2465.19,
          3317.67,
          1113.2,
          3644.73,
          1961.86,
          504.78,
          14.77,
          1604.02,
          4314.75,
          11014.09,
          170.61,
          1583.54,
          128.38,
          8044.77,
          8440.45,
          20940.66,
          31.78,
          12806.01,
          113.98,
          35552.08,
          28.23,
          20.7,
          3.41,
          15667.33,
          43835.82,
          61.07,
          69.8,
          32142.42,
          114.96,
          1621.48,
          0,
          2414.8,
          2110.47,
          16313.76,
          21570.61,
          1785.46,
          23.17,
          138375.06,
          859.49,
          437.21,
          459.52,
          62106.97,
          5726.9,
          478.28,
          17632.35,
          11209.17,
          269356.43,
          81177.77,
          5300.08,
          865.1,
          2678.6,
          712.02,
          908.95,
          1873179.24,
          1672.44,
          22.32,
          1910.16,
          94.89,
          210785.82,
          50.07,
          1318.94,
          22.21,
          1749.8,
          187.21,
          25073.18,
          324.43,
          268.28,
          2931.66,
          4.53,
          333.82,
          2451.92,
          224724.98,
          236220.29,
          0,
          1987.31,
          41353.23,
          1622.33,
          6219.25,
          864.19,
          522.23,
          249.75,
          6756.66,
          1603.32,
          149.02,
          53.57,
          87.09,
          56.19,
          159.67,
          167947.48,
          324.26,
          2406056.52,
          125716.99,
          210785.82,
          19772.13,
          32577.07,
          20.43,
          585.72,
          3216.62,
          42430.97,
          3919.96,
          1258.32,
          152.01,
          11521.81,
          1642.12,
          636.06,
          262.49,
          30,
          114.54,
          16811.09,
          1479.79,
          88523.54,
          724533.95,
          2512.5,
          29.55,
          1406.42,
          8276.32,
          10935.51,
          89705.21,
          32228.68,
          6383.27,
          10249.88,
          491.74,
          46.25,
          3090.95,
          2014.8,
          607.48,
          1162.68,
          7.95,
          3944.36,
          504.56,
          4310.61,
          469.5,
          2900.65,
          8435.31,
          15565.86,
          45.5,
          74323.26,
          46.59,
          4420.41,
          4725.56,
          3952.12,
          84772.75,
          36273.42,
          5675.97,
          398.51,
          12.24,
          14932.65,
          5201.17,
          230158.57,
          166.38,
          14358.71,
          138.56,
          126.25,
          113225.31,
          1085.73,
          14707.76,
          15107.7,
          2855.27,
          2067.95,
          11198.44,
          2273.56,
          3935.87,
          5547.04,
          21714.9,
          37.36,
          162.09,
          19848.39,
          2465.19,
          3317.67,
          1113.2,
          3644.73,
          1961.86,
          504.78,
          14.77,
          1604.02,
          4314.75,
          11014.09,
          170.61,
          1583.54,
          128.38,
          8044.77,
          8440.45,
          20940.66,
          31.78,
          12806.01,
          113.98,
          35552.08,
          28.23,
          20.7,
          3.41,
          15667.33,
          43835.82,
          61.07,
          69.8,
          32142.42,
          114.96,
          1621.48,
          0,
          2414.8,
          2110.47,
          16313.76,
          21570.61,
          1785.46,
          23.17,
          138375.06,
          859.49,
          437.21,
          459.52,
          62106.97,
          5726.9,
          478.28,
          17632.35,
          11209.17,
          269356.43,
          81177.77,
          5620808.95
         ]
        }
       ],
       "layout": {
        "autosize": true,
        "legend": {
         "tracegroupgap": 0
        },
        "margin": {
         "b": 20,
         "l": 20,
         "r": 20,
         "t": 20
        },
        "template": {
         "data": {
          "bar": [
           {
            "error_x": {
             "color": "#2a3f5f"
            },
            "error_y": {
             "color": "#2a3f5f"
            },
            "marker": {
             "line": {
              "color": "#E5ECF6",
              "width": 0.5
             },
             "pattern": {
              "fillmode": "overlay",
              "size": 10,
              "solidity": 0.2
             }
            },
            "type": "bar"
           }
          ],
          "barpolar": [
           {
            "marker": {
             "line": {
              "color": "#E5ECF6",
              "width": 0.5
             },
             "pattern": {
              "fillmode": "overlay",
              "size": 10,
              "solidity": 0.2
             }
            },
            "type": "barpolar"
           }
          ],
          "carpet": [
           {
            "aaxis": {
             "endlinecolor": "#2a3f5f",
             "gridcolor": "white",
             "linecolor": "white",
             "minorgridcolor": "white",
             "startlinecolor": "#2a3f5f"
            },
            "baxis": {
             "endlinecolor": "#2a3f5f",
             "gridcolor": "white",
             "linecolor": "white",
             "minorgridcolor": "white",
             "startlinecolor": "#2a3f5f"
            },
            "type": "carpet"
           }
          ],
          "choropleth": [
           {
            "colorbar": {
             "outlinewidth": 0,
             "ticks": ""
            },
            "type": "choropleth"
           }
          ],
          "contour": [
           {
            "colorbar": {
             "outlinewidth": 0,
             "ticks": ""
            },
            "colorscale": [
             [
              0,
              "#0d0887"
             ],
             [
              0.1111111111111111,
              "#46039f"
             ],
             [
              0.2222222222222222,
              "#7201a8"
             ],
             [
              0.3333333333333333,
              "#9c179e"
             ],
             [
              0.4444444444444444,
              "#bd3786"
             ],
             [
              0.5555555555555556,
              "#d8576b"
             ],
             [
              0.6666666666666666,
              "#ed7953"
             ],
             [
              0.7777777777777778,
              "#fb9f3a"
             ],
             [
              0.8888888888888888,
              "#fdca26"
             ],
             [
              1,
              "#f0f921"
             ]
            ],
            "type": "contour"
           }
          ],
          "contourcarpet": [
           {
            "colorbar": {
             "outlinewidth": 0,
             "ticks": ""
            },
            "type": "contourcarpet"
           }
          ],
          "heatmap": [
           {
            "colorbar": {
             "outlinewidth": 0,
             "ticks": ""
            },
            "colorscale": [
             [
              0,
              "#0d0887"
             ],
             [
              0.1111111111111111,
              "#46039f"
             ],
             [
              0.2222222222222222,
              "#7201a8"
             ],
             [
              0.3333333333333333,
              "#9c179e"
             ],
             [
              0.4444444444444444,
              "#bd3786"
             ],
             [
              0.5555555555555556,
              "#d8576b"
             ],
             [
              0.6666666666666666,
              "#ed7953"
             ],
             [
              0.7777777777777778,
              "#fb9f3a"
             ],
             [
              0.8888888888888888,
              "#fdca26"
             ],
             [
              1,
              "#f0f921"
             ]
            ],
            "type": "heatmap"
           }
          ],
          "heatmapgl": [
           {
            "colorbar": {
             "outlinewidth": 0,
             "ticks": ""
            },
            "colorscale": [
             [
              0,
              "#0d0887"
             ],
             [
              0.1111111111111111,
              "#46039f"
             ],
             [
              0.2222222222222222,
              "#7201a8"
             ],
             [
              0.3333333333333333,
              "#9c179e"
             ],
             [
              0.4444444444444444,
              "#bd3786"
             ],
             [
              0.5555555555555556,
              "#d8576b"
             ],
             [
              0.6666666666666666,
              "#ed7953"
             ],
             [
              0.7777777777777778,
              "#fb9f3a"
             ],
             [
              0.8888888888888888,
              "#fdca26"
             ],
             [
              1,
              "#f0f921"
             ]
            ],
            "type": "heatmapgl"
           }
          ],
          "histogram": [
           {
            "marker": {
             "pattern": {
              "fillmode": "overlay",
              "size": 10,
              "solidity": 0.2
             }
            },
            "type": "histogram"
           }
          ],
          "histogram2d": [
           {
            "colorbar": {
             "outlinewidth": 0,
             "ticks": ""
            },
            "colorscale": [
             [
              0,
              "#0d0887"
             ],
             [
              0.1111111111111111,
              "#46039f"
             ],
             [
              0.2222222222222222,
              "#7201a8"
             ],
             [
              0.3333333333333333,
              "#9c179e"
             ],
             [
              0.4444444444444444,
              "#bd3786"
             ],
             [
              0.5555555555555556,
              "#d8576b"
             ],
             [
              0.6666666666666666,
              "#ed7953"
             ],
             [
              0.7777777777777778,
              "#fb9f3a"
             ],
             [
              0.8888888888888888,
              "#fdca26"
             ],
             [
              1,
              "#f0f921"
             ]
            ],
            "type": "histogram2d"
           }
          ],
          "histogram2dcontour": [
           {
            "colorbar": {
             "outlinewidth": 0,
             "ticks": ""
            },
            "colorscale": [
             [
              0,
              "#0d0887"
             ],
             [
              0.1111111111111111,
              "#46039f"
             ],
             [
              0.2222222222222222,
              "#7201a8"
             ],
             [
              0.3333333333333333,
              "#9c179e"
             ],
             [
              0.4444444444444444,
              "#bd3786"
             ],
             [
              0.5555555555555556,
              "#d8576b"
             ],
             [
              0.6666666666666666,
              "#ed7953"
             ],
             [
              0.7777777777777778,
              "#fb9f3a"
             ],
             [
              0.8888888888888888,
              "#fdca26"
             ],
             [
              1,
              "#f0f921"
             ]
            ],
            "type": "histogram2dcontour"
           }
          ],
          "mesh3d": [
           {
            "colorbar": {
             "outlinewidth": 0,
             "ticks": ""
            },
            "type": "mesh3d"
           }
          ],
          "parcoords": [
           {
            "line": {
             "colorbar": {
              "outlinewidth": 0,
              "ticks": ""
             }
            },
            "type": "parcoords"
           }
          ],
          "pie": [
           {
            "automargin": true,
            "type": "pie"
           }
          ],
          "scatter": [
           {
            "marker": {
             "colorbar": {
              "outlinewidth": 0,
              "ticks": ""
             }
            },
            "type": "scatter"
           }
          ],
          "scatter3d": [
           {
            "line": {
             "colorbar": {
              "outlinewidth": 0,
              "ticks": ""
             }
            },
            "marker": {
             "colorbar": {
              "outlinewidth": 0,
              "ticks": ""
             }
            },
            "type": "scatter3d"
           }
          ],
          "scattercarpet": [
           {
            "marker": {
             "colorbar": {
              "outlinewidth": 0,
              "ticks": ""
             }
            },
            "type": "scattercarpet"
           }
          ],
          "scattergeo": [
           {
            "marker": {
             "colorbar": {
              "outlinewidth": 0,
              "ticks": ""
             }
            },
            "type": "scattergeo"
           }
          ],
          "scattergl": [
           {
            "marker": {
             "colorbar": {
              "outlinewidth": 0,
              "ticks": ""
             }
            },
            "type": "scattergl"
           }
          ],
          "scattermapbox": [
           {
            "marker": {
             "colorbar": {
              "outlinewidth": 0,
              "ticks": ""
             }
            },
            "type": "scattermapbox"
           }
          ],
          "scatterpolar": [
           {
            "marker": {
             "colorbar": {
              "outlinewidth": 0,
              "ticks": ""
             }
            },
            "type": "scatterpolar"
           }
          ],
          "scatterpolargl": [
           {
            "marker": {
             "colorbar": {
              "outlinewidth": 0,
              "ticks": ""
             }
            },
            "type": "scatterpolargl"
           }
          ],
          "scatterternary": [
           {
            "marker": {
             "colorbar": {
              "outlinewidth": 0,
              "ticks": ""
             }
            },
            "type": "scatterternary"
           }
          ],
          "surface": [
           {
            "colorbar": {
             "outlinewidth": 0,
             "ticks": ""
            },
            "colorscale": [
             [
              0,
              "#0d0887"
             ],
             [
              0.1111111111111111,
              "#46039f"
             ],
             [
              0.2222222222222222,
              "#7201a8"
             ],
             [
              0.3333333333333333,
              "#9c179e"
             ],
             [
              0.4444444444444444,
              "#bd3786"
             ],
             [
              0.5555555555555556,
              "#d8576b"
             ],
             [
              0.6666666666666666,
              "#ed7953"
             ],
             [
              0.7777777777777778,
              "#fb9f3a"
             ],
             [
              0.8888888888888888,
              "#fdca26"
             ],
             [
              1,
              "#f0f921"
             ]
            ],
            "type": "surface"
           }
          ],
          "table": [
           {
            "cells": {
             "fill": {
              "color": "#EBF0F8"
             },
             "line": {
              "color": "white"
             }
            },
            "header": {
             "fill": {
              "color": "#C8D4E3"
             },
             "line": {
              "color": "white"
             }
            },
            "type": "table"
           }
          ]
         },
         "layout": {
          "annotationdefaults": {
           "arrowcolor": "#2a3f5f",
           "arrowhead": 0,
           "arrowwidth": 1
          },
          "autotypenumbers": "strict",
          "coloraxis": {
           "colorbar": {
            "outlinewidth": 0,
            "ticks": ""
           }
          },
          "colorscale": {
           "diverging": [
            [
             0,
             "#8e0152"
            ],
            [
             0.1,
             "#c51b7d"
            ],
            [
             0.2,
             "#de77ae"
            ],
            [
             0.3,
             "#f1b6da"
            ],
            [
             0.4,
             "#fde0ef"
            ],
            [
             0.5,
             "#f7f7f7"
            ],
            [
             0.6,
             "#e6f5d0"
            ],
            [
             0.7,
             "#b8e186"
            ],
            [
             0.8,
             "#7fbc41"
            ],
            [
             0.9,
             "#4d9221"
            ],
            [
             1,
             "#276419"
            ]
           ],
           "sequential": [
            [
             0,
             "#0d0887"
            ],
            [
             0.1111111111111111,
             "#46039f"
            ],
            [
             0.2222222222222222,
             "#7201a8"
            ],
            [
             0.3333333333333333,
             "#9c179e"
            ],
            [
             0.4444444444444444,
             "#bd3786"
            ],
            [
             0.5555555555555556,
             "#d8576b"
            ],
            [
             0.6666666666666666,
             "#ed7953"
            ],
            [
             0.7777777777777778,
             "#fb9f3a"
            ],
            [
             0.8888888888888888,
             "#fdca26"
            ],
            [
             1,
             "#f0f921"
            ]
           ],
           "sequentialminus": [
            [
             0,
             "#0d0887"
            ],
            [
             0.1111111111111111,
             "#46039f"
            ],
            [
             0.2222222222222222,
             "#7201a8"
            ],
            [
             0.3333333333333333,
             "#9c179e"
            ],
            [
             0.4444444444444444,
             "#bd3786"
            ],
            [
             0.5555555555555556,
             "#d8576b"
            ],
            [
             0.6666666666666666,
             "#ed7953"
            ],
            [
             0.7777777777777778,
             "#fb9f3a"
            ],
            [
             0.8888888888888888,
             "#fdca26"
            ],
            [
             1,
             "#f0f921"
            ]
           ]
          },
          "colorway": [
           "#636efa",
           "#EF553B",
           "#00cc96",
           "#ab63fa",
           "#FFA15A",
           "#19d3f3",
           "#FF6692",
           "#B6E880",
           "#FF97FF",
           "#FECB52"
          ],
          "font": {
           "color": "#2a3f5f"
          },
          "geo": {
           "bgcolor": "white",
           "lakecolor": "white",
           "landcolor": "#E5ECF6",
           "showlakes": true,
           "showland": true,
           "subunitcolor": "white"
          },
          "hoverlabel": {
           "align": "left"
          },
          "hovermode": "closest",
          "mapbox": {
           "style": "light"
          },
          "paper_bgcolor": "white",
          "plot_bgcolor": "#E5ECF6",
          "polar": {
           "angularaxis": {
            "gridcolor": "white",
            "linecolor": "white",
            "ticks": ""
           },
           "bgcolor": "#E5ECF6",
           "radialaxis": {
            "gridcolor": "white",
            "linecolor": "white",
            "ticks": ""
           }
          },
          "scene": {
           "xaxis": {
            "backgroundcolor": "#E5ECF6",
            "gridcolor": "white",
            "gridwidth": 2,
            "linecolor": "white",
            "showbackground": true,
            "ticks": "",
            "zerolinecolor": "white"
           },
           "yaxis": {
            "backgroundcolor": "#E5ECF6",
            "gridcolor": "white",
            "gridwidth": 2,
            "linecolor": "white",
            "showbackground": true,
            "ticks": "",
            "zerolinecolor": "white"
           },
           "zaxis": {
            "backgroundcolor": "#E5ECF6",
            "gridcolor": "white",
            "gridwidth": 2,
            "linecolor": "white",
            "showbackground": true,
            "ticks": "",
            "zerolinecolor": "white"
           }
          },
          "shapedefaults": {
           "line": {
            "color": "#2a3f5f"
           }
          },
          "ternary": {
           "aaxis": {
            "gridcolor": "white",
            "linecolor": "white",
            "ticks": ""
           },
           "baxis": {
            "gridcolor": "white",
            "linecolor": "white",
            "ticks": ""
           },
           "bgcolor": "#E5ECF6",
           "caxis": {
            "gridcolor": "white",
            "linecolor": "white",
            "ticks": ""
           }
          },
          "title": {
           "x": 0.05
          },
          "xaxis": {
           "automargin": true,
           "gridcolor": "white",
           "linecolor": "white",
           "ticks": "",
           "title": {
            "standoff": 15
           },
           "zerolinecolor": "white",
           "zerolinewidth": 2
          },
          "yaxis": {
           "automargin": true,
           "gridcolor": "white",
           "linecolor": "white",
           "ticks": "",
           "title": {
            "standoff": 15
           },
           "zerolinecolor": "white",
           "zerolinewidth": 2
          }
         }
        }
       }
      },
      "image/png": "[encoded data removed]",
      "text/html": [
       "<div>                            <div id=\"df421fda-a89c-4c4d-bac0-6b1ac8c358b4\" class=\"plotly-graph-div\" style=\"height:525px; width:100%;\"></div>            <script type=\"text/javascript\">                require([\"plotly\"], function(Plotly) {                    window.PLOTLYENV=window.PLOTLYENV || {};                                    if (document.getElementById(\"df421fda-a89c-4c4d-bac0-6b1ac8c358b4\")) {                    Plotly.newPlot(                        \"df421fda-a89c-4c4d-bac0-6b1ac8c358b4\",                        [{\"branchvalues\":\"total\",\"customdata\":[[\"[101] E-Prepag\"],[\"[103] Rokin/KBC\"],[\"[107] Medellin/Bank Transfer Colombia\"],[\"[109] Medellin/Baloto\"],[\"[111] Medellin/Gana\"],[\"[113] Medellin/PSE\"],[\"[115] Medellin/Bank Transfer Peru\"],[\"[117] Lipska/mTransfer\"],[\"[120] Lipska/Bank Zachodni WBK\"],[\"[121] Lipska/Pekao24 Przelew\"],[\"[122] Lipska/ING Bank Slaski\"],[\"[124] Lipska/Place z ING Bank Slaski\"],[\"[127] Qiwi Wallet\"],[\"[129] Allopass Landline\"],[\"[172] Safetypay\"],[\"[170] Ringwood/Openbucks\"],[\"[167] Coinbase\"],[\"[166] Silva/transferencia bancaria\"],[\"[137] Oxford/ideal\"],[\"[145] MINT\"],[\"[132] Gateway\"],[\"[157] Desa/Game-On\"],[\"[174] Liszt/efectivo\"],[\"[176] Oxford/multibanco\"],[\"[1] PayPal\"],[\"[213] Rokin/Ideal\"],[\"[209] Ringwood/Dollar General\"],[\"[208] Ringwood/CVS Pharmacy\"],[\"[207] Ringwood/Circle K\"],[\"[201] Silva/ Hipercard\"],[\"[200] Silva/credit cards Brazil\"],[\"[19] Itaewon/all the gate CC\"],[\"[215] Rokin/bancontact\"],[\"[198] Paulista/Redcompra\"],[\"[193] Paulista/oxxo\"],[\"[191] Paulista/Santander Mexico\"],[\"[189] Paulista/Bancomer Mexico\"],[\"[188] Paulista/Bank Transfer Mexico\"],[\"[17] CherryCredits\"],[\"[178] Rokin/Belfius\"],[\"[199] Paulista/Redpagos\"],[\"[218] Poli\"],[\"[219] Interac\"],[\"[220] Rokin/CBC\"],[\"[221] Silva/Banco Itau\"],[\"[236] Paulista/PagoFacil\"],[\"[237] Paulista/RapiPago\"],[\"[238] Paulista/efecty\"],[\"[239] Paulista/Davivienda\"],[\"[23] Itaewon/KFTC Internet Banking\"],[\"[241] Thamrin/Minimart\"],[\"[242] Thamrin/ATM transfer Indonesia\"],[\"[243] Thamrin/doku wallet\"],[\"[246] Itaewon/Culture Voucher\"],[\"[248] Paulista/Bank Transfer Argentina\"],[\"[251] Szkolna/bank transfer Poland\"],[\"[253] Itaewon/Cashbee\"],[\"[254] Wechat Pay\"],[\"[26] ToditoCash\"],[\"[272] Culture Voucher\"],[\"[276] Deheza/Boleto\"],[\"[277] Toss Pay\"],[\"[289] Oxford/sofort \"],[\"[293] Makadi/Gcash\"],[\"[294] Shibuya / Konbini\"],[\"[295] Shibuya / Payeasy\"],[\"[296] Ladipo/Mobile Money Africa\"],[\"[299] Itaewon/Kakao Pay\"],[\"[300] Itaewon/Payco\"],[\"[301] Szkolna/blik\"],[\"[306] Desa/Sakuku\"],[\"[307] Desa/GoPay\"],[\"[308] Desa/LinkAja\"],[\"[309] Desa/Indomaret\"],[\"[30] Paysafecard\"],[\"[310] Paraiso/payshop\"],[\"[311] Paraiso/mbway\"],[\"[312] Paraiso/multibanco\"],[\"[317] Thamrin/Ovo\"],[\"[320] Hsinchu/TaiwanPay\"],[\"[321] Hsinchu/LinePay\"],[\"[322] Hsinchu/ApplePay\"],[\"[323] Paga/ E-Wallet\"],[\"[324] Vibhavadi/Bank Transfer Thailand\"],[\"[325] Vibhavadi/K Plus\"],[\"[327] Vibhavadi/Boonterm Kiosk\"],[\"[328] Vibhavadi/True Money Wallet\"],[\"[329] Vibhavadi/Thai QR\"],[\"[331] Ciputat/ QRIS\"],[\"[340] FawryCash\"],[\"[341] DANA\"],[\"[343] Tonkin/NinePay\"],[\"[344] Tonkin/LocalATMCard\"],[\"[345] Makadi/SevenEleven\"],[\"[346] Banktransfereurope\"],[\"[348] Jalan/Boost Wallet\"],[\"[34] GudangVoucher\"],[\"[350] Jalan/TNG EWallet Online\"],[\"[352] Thamrin/JeniusPay\"],[\"[355] Makadi/Grabpay\"],[\"[357] Makadi/Cash Payments Philippines\"],[\"[358] Tonkin/Bank Transfer Vietnam\"],[\"[359] Itaewon/Virtual Account\"],[\"[362] Insadong/Credit Card Korea\"],[\"[366] Insadong/LG Pay\"],[\"[367] Insadong/Samsung Pay\"],[\"[36] Itaewon/Happy Voucher\"],[\"[370] Deheza/PIX\"],[\"[376] Soilat/Rabbit LINE Pay\"],[\"[387] Thamrin/QRIS\"],[\"[38] WaveGame\"],[\"[401] Hongdae/Naver Pay\"],[\"[402] Hongdae/Kakao Pay\"],[\"[404] Hongdae/Credit Cards Korea\"],[\"[408] Makadi/ShopeePay Philippines\"],[\"[40] zGold-MOLPoints\"],[\"[41] Itaewon/TeenCash\"],[\"[42] Itaewon/T-money\"],[\"[45] FasterPay\"],[\"[46] Silva/oxxo\"],[\"[47] Onecard\"],[\"[48] Deheza/mercadoPago\"],[\"[54] Jalan/bank transfer Malaysia\"],[\"[55] Makadi/bank transfer Philippines\"],[\"[56] Itaewon/Book Gift Voucher\"],[\"[57] Sofort\"],[\"[5] Oxford/EPS\"],[\"[64] Oxford/mybank\"],[\"[80] Itaewon/Eggmoney\"],[\"[81] Przelewy24\"],[\"[83] NeoSurf\"],[\"[84] myCard Card\"],[\"[86] myCard Member Wallet\"],[\"[88] Lipska/Bank transfer Poland\"],[\"[91] Alipay\"],[\"[98] Giropay\"],[\"[144] Mobiamo\"],[\"[144] Mobiamo\"],[\"[144] Mobiamo\"],[\"[144] Mobiamo\"],[\"[144] Mobiamo\"],[\"[132] Gateway\"],[\"[144] Mobiamo\"],[\"[144] Mobiamo\"],[\"[144] Mobiamo\"],[\"[144] Mobiamo\"],[\"[141] UnionPay\"],[\"[144] Mobiamo\"],[\"[226] Oxford/ SEPA direct debit\"],[\"[226] Oxford/ SEPA direct debit\"],[\"[226] Oxford/ SEPA direct debit\"],[\"[144] Mobiamo\"],[\"[132] Gateway\"],[\"[144] Mobiamo\"],[\"[144] Mobiamo\"],[\"[132] Gateway\"],[\"[144] Mobiamo\"],[\"[144] Mobiamo\"],[\"[144] Mobiamo\"],[\"[132] Gateway\"],[\"[132] Gateway\"],[\"[132] Gateway\"],[\"[144] Mobiamo\"],[\"[132] Gateway\"],[\"[101] E-Prepag\"],[\"[103] Rokin/KBC\"],[\"[107] Medellin/Bank Transfer Colombia\"],[\"[109] Medellin/Baloto\"],[\"[111] Medellin/Gana\"],[\"[113] Medellin/PSE\"],[\"[115] Medellin/Bank Transfer Peru\"],[\"[117] Lipska/mTransfer\"],[\"[120] Lipska/Bank Zachodni WBK\"],[\"[121] Lipska/Pekao24 Przelew\"],[\"[122] Lipska/ING Bank Slaski\"],[\"[124] Lipska/Place z ING Bank Slaski\"],[\"[127] Qiwi Wallet\"],[\"[129] Allopass Landline\"],[\"[132] Gateway\"],[\"[137] Oxford/ideal\"],[\"[141] UnionPay\"],[\"[144] Mobiamo\"],[\"[145] MINT\"],[\"[157] Desa/Game-On\"],[\"[166] Silva/transferencia bancaria\"],[\"[167] Coinbase\"],[\"[170] Ringwood/Openbucks\"],[\"[172] Safetypay\"],[\"[174] Liszt/efectivo\"],[\"[176] Oxford/multibanco\"],[\"[178] Rokin/Belfius\"],[\"[17] CherryCredits\"],[\"[188] Paulista/Bank Transfer Mexico\"],[\"[189] Paulista/Bancomer Mexico\"],[\"[191] Paulista/Santander Mexico\"],[\"[193] Paulista/oxxo\"],[\"[198] Paulista/Redcompra\"],[\"[199] Paulista/Redpagos\"],[\"[19] Itaewon/all the gate CC\"],[\"[1] PayPal\"],[\"[200] Silva/credit cards Brazil\"],[\"[201] Silva/ Hipercard\"],[\"[207] Ringwood/Circle K\"],[\"[208] Ringwood/CVS Pharmacy\"],[\"[209] Ringwood/Dollar General\"],[\"[213] Rokin/Ideal\"],[\"[215] Rokin/bancontact\"],[\"[218] Poli\"],[\"[219] Interac\"],[\"[220] Rokin/CBC\"],[\"[221] Silva/Banco Itau\"],[\"[226] Oxford/ SEPA direct debit\"],[\"[236] Paulista/PagoFacil\"],[\"[237] Paulista/RapiPago\"],[\"[238] Paulista/efecty\"],[\"[239] Paulista/Davivienda\"],[\"[23] Itaewon/KFTC Internet Banking\"],[\"[241] Thamrin/Minimart\"],[\"[242] Thamrin/ATM transfer Indonesia\"],[\"[243] Thamrin/doku wallet\"],[\"[246] Itaewon/Culture Voucher\"],[\"[248] Paulista/Bank Transfer Argentina\"],[\"[251] Szkolna/bank transfer Poland\"],[\"[253] Itaewon/Cashbee\"],[\"[254] Wechat Pay\"],[\"[26] ToditoCash\"],[\"[272] Culture Voucher\"],[\"[276] Deheza/Boleto\"],[\"[277] Toss Pay\"],[\"[289] Oxford/sofort \"],[\"[293] Makadi/Gcash\"],[\"[294] Shibuya / Konbini\"],[\"[295] Shibuya / Payeasy\"],[\"[296] Ladipo/Mobile Money Africa\"],[\"[299] Itaewon/Kakao Pay\"],[\"[300] Itaewon/Payco\"],[\"[301] Szkolna/blik\"],[\"[306] Desa/Sakuku\"],[\"[307] Desa/GoPay\"],[\"[308] Desa/LinkAja\"],[\"[309] Desa/Indomaret\"],[\"[30] Paysafecard\"],[\"[310] Paraiso/payshop\"],[\"[311] Paraiso/mbway\"],[\"[312] Paraiso/multibanco\"],[\"[317] Thamrin/Ovo\"],[\"[320] Hsinchu/TaiwanPay\"],[\"[321] Hsinchu/LinePay\"],[\"[322] Hsinchu/ApplePay\"],[\"[323] Paga/ E-Wallet\"],[\"[324] Vibhavadi/Bank Transfer Thailand\"],[\"[325] Vibhavadi/K Plus\"],[\"[327] Vibhavadi/Boonterm Kiosk\"],[\"[328] Vibhavadi/True Money Wallet\"],[\"[329] Vibhavadi/Thai QR\"],[\"[331] Ciputat/ QRIS\"],[\"[340] FawryCash\"],[\"[341] DANA\"],[\"[343] Tonkin/NinePay\"],[\"[344] Tonkin/LocalATMCard\"],[\"[345] Makadi/SevenEleven\"],[\"[346] Banktransfereurope\"],[\"[348] Jalan/Boost Wallet\"],[\"[34] GudangVoucher\"],[\"[350] Jalan/TNG EWallet Online\"],[\"[352] Thamrin/JeniusPay\"],[\"[355] Makadi/Grabpay\"],[\"[357] Makadi/Cash Payments Philippines\"],[\"[358] Tonkin/Bank Transfer Vietnam\"],[\"[359] Itaewon/Virtual Account\"],[\"[362] Insadong/Credit Card Korea\"],[\"[366] Insadong/LG Pay\"],[\"[367] Insadong/Samsung Pay\"],[\"[36] Itaewon/Happy Voucher\"],[\"[370] Deheza/PIX\"],[\"[376] Soilat/Rabbit LINE Pay\"],[\"[387] Thamrin/QRIS\"],[\"[38] WaveGame\"],[\"[401] Hongdae/Naver Pay\"],[\"[402] Hongdae/Kakao Pay\"],[\"[404] Hongdae/Credit Cards Korea\"],[\"[408] Makadi/ShopeePay Philippines\"],[\"[40] zGold-MOLPoints\"],[\"[41] Itaewon/TeenCash\"],[\"[42] Itaewon/T-money\"],[\"[45] FasterPay\"],[\"[46] Silva/oxxo\"],[\"[47] Onecard\"],[\"[48] Deheza/mercadoPago\"],[\"[54] Jalan/bank transfer Malaysia\"],[\"[55] Makadi/bank transfer Philippines\"],[\"[56] Itaewon/Book Gift Voucher\"],[\"[57] Sofort\"],[\"[5] Oxford/EPS\"],[\"[64] Oxford/mybank\"],[\"[80] Itaewon/Eggmoney\"],[\"[81] Przelewy24\"],[\"[83] NeoSurf\"],[\"[84] myCard Card\"],[\"[86] myCard Member Wallet\"],[\"[88] Lipska/Bank transfer Poland\"],[\"[91] Alipay\"],[\"[98] Giropay\"],[\"(?)\"]],\"domain\":{\"x\":[0.0,1.0],\"y\":[0.0,1.0]},\"ids\":[\"TOTAL/[101] E-Prepag/Unknown\",\"TOTAL/[103] Rokin/KBC/Unknown\",\"TOTAL/[107] Medellin/Bank Transfer Colombia/Unknown\",\"TOTAL/[109] Medellin/Baloto/Unknown\",\"TOTAL/[111] Medellin/Gana/Unknown\",\"TOTAL/[113] Medellin/PSE/Unknown\",\"TOTAL/[115] Medellin/Bank Transfer Peru/Unknown\",\"TOTAL/[117] Lipska/mTransfer/Unknown\",\"TOTAL/[120] Lipska/Bank Zachodni WBK/Unknown\",\"TOTAL/[121] Lipska/Pekao24 Przelew/Unknown\",\"TOTAL/[122] Lipska/ING Bank Slaski/Unknown\",\"TOTAL/[124] Lipska/Place z ING Bank Slaski/Unknown\",\"TOTAL/[127] Qiwi Wallet/Unknown\",\"TOTAL/[129] Allopass Landline/Unknown\",\"TOTAL/[172] Safetypay/Unknown\",\"TOTAL/[170] Ringwood/Openbucks/Unknown\",\"TOTAL/[167] Coinbase/Unknown\",\"TOTAL/[166] Silva/transferencia bancaria/Unknown\",\"TOTAL/[137] Oxford/ideal/Unknown\",\"TOTAL/[145] MINT/Unknown\",\"TOTAL/[132] Gateway/Unknown\",\"TOTAL/[157] Desa/Game-On/Unknown\",\"TOTAL/[174] Liszt/efectivo/Unknown\",\"TOTAL/[176] Oxford/multibanco/Unknown\",\"TOTAL/[1] PayPal/Unknown\",\"TOTAL/[213] Rokin/Ideal/Unknown\",\"TOTAL/[209] Ringwood/Dollar General/Unknown\",\"TOTAL/[208] Ringwood/CVS Pharmacy/Unknown\",\"TOTAL/[207] Ringwood/Circle K/Unknown\",\"TOTAL/[201] Silva/ Hipercard/Unknown\",\"TOTAL/[200] Silva/credit cards Brazil/Unknown\",\"TOTAL/[19] Itaewon/all the gate CC/Unknown\",\"TOTAL/[215] Rokin/bancontact/Unknown\",\"TOTAL/[198] Paulista/Redcompra/Unknown\",\"TOTAL/[193] Paulista/oxxo/Unknown\",\"TOTAL/[191] Paulista/Santander Mexico/Unknown\",\"TOTAL/[189] Paulista/Bancomer Mexico/Unknown\",\"TOTAL/[188] Paulista/Bank Transfer Mexico/Unknown\",\"TOTAL/[17] CherryCredits/Unknown\",\"TOTAL/[178] Rokin/Belfius/Unknown\",\"TOTAL/[199] Paulista/Redpagos/Unknown\",\"TOTAL/[218] Poli/Unknown\",\"TOTAL/[219] Interac/Unknown\",\"TOTAL/[220] Rokin/CBC/Unknown\",\"TOTAL/[221] Silva/Banco Itau/Unknown\",\"TOTAL/[236] Paulista/PagoFacil/Unknown\",\"TOTAL/[237] Paulista/RapiPago/Unknown\",\"TOTAL/[238] Paulista/efecty/Unknown\",\"TOTAL/[239] Paulista/Davivienda/Unknown\",\"TOTAL/[23] Itaewon/KFTC Internet Banking/Unknown\",\"TOTAL/[241] Thamrin/Minimart/Unknown\",\"TOTAL/[242] Thamrin/ATM transfer Indonesia/Unknown\",\"TOTAL/[243] Thamrin/doku wallet/Unknown\",\"TOTAL/[246] Itaewon/Culture Voucher/Unknown\",\"TOTAL/[248] Paulista/Bank Transfer Argentina/Unknown\",\"TOTAL/[251] Szkolna/bank transfer Poland/Unknown\",\"TOTAL/[253] Itaewon/Cashbee/Unknown\",\"TOTAL/[254] Wechat Pay/Unknown\",\"TOTAL/[26] ToditoCash/Unknown\",\"TOTAL/[272] Culture Voucher/Unknown\",\"TOTAL/[276] Deheza/Boleto/Unknown\",\"TOTAL/[277] Toss Pay/Unknown\",\"TOTAL/[289] Oxford/sofort /Unknown\",\"TOTAL/[293] Makadi/Gcash/Unknown\",\"TOTAL/[294] Shibuya / Konbini/Unknown\",\"TOTAL/[295] Shibuya / Payeasy/Unknown\",\"TOTAL/[296] Ladipo/Mobile Money Africa/Unknown\",\"TOTAL/[299] Itaewon/Kakao Pay/Unknown\",\"TOTAL/[300] Itaewon/Payco/Unknown\",\"TOTAL/[301] Szkolna/blik/Unknown\",\"TOTAL/[306] Desa/Sakuku/Unknown\",\"TOTAL/[307] Desa/GoPay/Unknown\",\"TOTAL/[308] Desa/LinkAja/Unknown\",\"TOTAL/[309] Desa/Indomaret/Unknown\",\"TOTAL/[30] Paysafecard/Unknown\",\"TOTAL/[310] Paraiso/payshop/Unknown\",\"TOTAL/[311] Paraiso/mbway/Unknown\",\"TOTAL/[312] Paraiso/multibanco/Unknown\",\"TOTAL/[317] Thamrin/Ovo/Unknown\",\"TOTAL/[320] Hsinchu/TaiwanPay/Unknown\",\"TOTAL/[321] Hsinchu/LinePay/Unknown\",\"TOTAL/[322] Hsinchu/ApplePay/Unknown\",\"TOTAL/[323] Paga/ E-Wallet/Unknown\",\"TOTAL/[324] Vibhavadi/Bank Transfer Thailand/Unknown\",\"TOTAL/[325] Vibhavadi/K Plus/Unknown\",\"TOTAL/[327] Vibhavadi/Boonterm Kiosk/Unknown\",\"TOTAL/[328] Vibhavadi/True Money Wallet/Unknown\",\"TOTAL/[329] Vibhavadi/Thai QR/Unknown\",\"TOTAL/[331] Ciputat/ QRIS/Unknown\",\"TOTAL/[340] FawryCash/Unknown\",\"TOTAL/[341] DANA/Unknown\",\"TOTAL/[343] Tonkin/NinePay/Unknown\",\"TOTAL/[344] Tonkin/LocalATMCard/Unknown\",\"TOTAL/[345] Makadi/SevenEleven/Unknown\",\"TOTAL/[346] Banktransfereurope/Unknown\",\"TOTAL/[348] Jalan/Boost Wallet/Unknown\",\"TOTAL/[34] GudangVoucher/Unknown\",\"TOTAL/[350] Jalan/TNG EWallet Online/Unknown\",\"TOTAL/[352] Thamrin/JeniusPay/Unknown\",\"TOTAL/[355] Makadi/Grabpay/Unknown\",\"TOTAL/[357] Makadi/Cash Payments Philippines/Unknown\",\"TOTAL/[358] Tonkin/Bank Transfer Vietnam/Unknown\",\"TOTAL/[359] Itaewon/Virtual Account/Unknown\",\"TOTAL/[362] Insadong/Credit Card Korea/Unknown\",\"TOTAL/[366] Insadong/LG Pay/Unknown\",\"TOTAL/[367] Insadong/Samsung Pay/Unknown\",\"TOTAL/[36] Itaewon/Happy Voucher/Unknown\",\"TOTAL/[370] Deheza/PIX/Unknown\",\"TOTAL/[376] Soilat/Rabbit LINE Pay/Unknown\",\"TOTAL/[387] Thamrin/QRIS/Unknown\",\"TOTAL/[38] WaveGame/Unknown\",\"TOTAL/[401] Hongdae/Naver Pay/Unknown\",\"TOTAL/[402] Hongdae/Kakao Pay/Unknown\",\"TOTAL/[404] Hongdae/Credit Cards Korea/Unknown\",\"TOTAL/[408] Makadi/ShopeePay Philippines/Unknown\",\"TOTAL/[40] zGold-MOLPoints/Unknown\",\"TOTAL/[41] Itaewon/TeenCash/Unknown\",\"TOTAL/[42] Itaewon/T-money/Unknown\",\"TOTAL/[45] FasterPay/Unknown\",\"TOTAL/[46] Silva/oxxo/Unknown\",\"TOTAL/[47] Onecard/Unknown\",\"TOTAL/[48] Deheza/mercadoPago/Unknown\",\"TOTAL/[54] Jalan/bank transfer Malaysia/Unknown\",\"TOTAL/[55] Makadi/bank transfer Philippines/Unknown\",\"TOTAL/[56] Itaewon/Book Gift Voucher/Unknown\",\"TOTAL/[57] Sofort/Unknown\",\"TOTAL/[5] Oxford/EPS/Unknown\",\"TOTAL/[64] Oxford/mybank/Unknown\",\"TOTAL/[80] Itaewon/Eggmoney/Unknown\",\"TOTAL/[81] Przelewy24/Unknown\",\"TOTAL/[83] NeoSurf/Unknown\",\"TOTAL/[84] myCard Card/Unknown\",\"TOTAL/[86] myCard Member Wallet/Unknown\",\"TOTAL/[88] Lipska/Bank transfer Poland/Unknown\",\"TOTAL/[91] Alipay/Unknown\",\"TOTAL/[98] Giropay/Unknown\",\"TOTAL/[144] Mobiamo/[10] Digame\",\"TOTAL/[144] Mobiamo/[11] Playlink\",\"TOTAL/[144] Mobiamo/[12] Fortumo\",\"TOTAL/[144] Mobiamo/[17] Paybyme\",\"TOTAL/[144] Mobiamo/[19] Oxygen\",\"TOTAL/[132] Gateway/[21] CC_POLK\",\"TOTAL/[144] Mobiamo/[23] Globe\",\"TOTAL/[144] Mobiamo/[24] Easy2Pay\",\"TOTAL/[144] Mobiamo/[25] Smart\",\"TOTAL/[144] Mobiamo/[27] Belgacom\",\"TOTAL/[141] UnionPay/[2] Veritrans\",\"TOTAL/[144] Mobiamo/[37] Triton\",\"TOTAL/[226] Oxford/ SEPA direct debit/[40] Sofort\",\"TOTAL/[226] Oxford/ SEPA direct debit/[41] Mollie\",\"TOTAL/[226] Oxford/ SEPA direct debit/[42] PPRO\",\"TOTAL/[144] Mobiamo/[47] Vodafone\",\"TOTAL/[132] Gateway/[51] CC_AMEX\",\"TOTAL/[144] Mobiamo/[54] Orange\",\"TOTAL/[144] Mobiamo/[55] Telenor\",\"TOTAL/[132] Gateway/[60] CC_EMBARCADERO\",\"TOTAL/[144] Mobiamo/[65] TelenorMalaysia\",\"TOTAL/[144] Mobiamo/[67] Bamboo\",\"TOTAL/[144] Mobiamo/[70] Danal\",\"TOTAL/[132] Gateway/[72] CC_EXETER\",\"TOTAL/[132] Gateway/[73] CC_CENTRAL\",\"TOTAL/[132] Gateway/[80] CC_TERMINAL3_TEMP\",\"TOTAL/[144] Mobiamo/[8] Virgopass\",\"TOTAL/[132] Gateway/[95] CC_GANGNAM\",\"TOTAL/[101] E-Prepag\",\"TOTAL/[103] Rokin/KBC\",\"TOTAL/[107] Medellin/Bank Transfer Colombia\",\"TOTAL/[109] Medellin/Baloto\",\"TOTAL/[111] Medellin/Gana\",\"TOTAL/[113] Medellin/PSE\",\"TOTAL/[115] Medellin/Bank Transfer Peru\",\"TOTAL/[117] Lipska/mTransfer\",\"TOTAL/[120] Lipska/Bank Zachodni WBK\",\"TOTAL/[121] Lipska/Pekao24 Przelew\",\"TOTAL/[122] Lipska/ING Bank Slaski\",\"TOTAL/[124] Lipska/Place z ING Bank Slaski\",\"TOTAL/[127] Qiwi Wallet\",\"TOTAL/[129] Allopass Landline\",\"TOTAL/[132] Gateway\",\"TOTAL/[137] Oxford/ideal\",\"TOTAL/[141] UnionPay\",\"TOTAL/[144] Mobiamo\",\"TOTAL/[145] MINT\",\"TOTAL/[157] Desa/Game-On\",\"TOTAL/[166] Silva/transferencia bancaria\",\"TOTAL/[167] Coinbase\",\"TOTAL/[170] Ringwood/Openbucks\",\"TOTAL/[172] Safetypay\",\"TOTAL/[174] Liszt/efectivo\",\"TOTAL/[176] Oxford/multibanco\",\"TOTAL/[178] Rokin/Belfius\",\"TOTAL/[17] CherryCredits\",\"TOTAL/[188] Paulista/Bank Transfer Mexico\",\"TOTAL/[189] Paulista/Bancomer Mexico\",\"TOTAL/[191] Paulista/Santander Mexico\",\"TOTAL/[193] Paulista/oxxo\",\"TOTAL/[198] Paulista/Redcompra\",\"TOTAL/[199] Paulista/Redpagos\",\"TOTAL/[19] Itaewon/all the gate CC\",\"TOTAL/[1] PayPal\",\"TOTAL/[200] Silva/credit cards Brazil\",\"TOTAL/[201] Silva/ Hipercard\",\"TOTAL/[207] Ringwood/Circle K\",\"TOTAL/[208] Ringwood/CVS Pharmacy\",\"TOTAL/[209] Ringwood/Dollar General\",\"TOTAL/[213] Rokin/Ideal\",\"TOTAL/[215] Rokin/bancontact\",\"TOTAL/[218] Poli\",\"TOTAL/[219] Interac\",\"TOTAL/[220] Rokin/CBC\",\"TOTAL/[221] Silva/Banco Itau\",\"TOTAL/[226] Oxford/ SEPA direct debit\",\"TOTAL/[236] Paulista/PagoFacil\",\"TOTAL/[237] Paulista/RapiPago\",\"TOTAL/[238] Paulista/efecty\",\"TOTAL/[239] Paulista/Davivienda\",\"TOTAL/[23] Itaewon/KFTC Internet Banking\",\"TOTAL/[241] Thamrin/Minimart\",\"TOTAL/[242] Thamrin/ATM transfer Indonesia\",\"TOTAL/[243] Thamrin/doku wallet\",\"TOTAL/[246] Itaewon/Culture Voucher\",\"TOTAL/[248] Paulista/Bank Transfer Argentina\",\"TOTAL/[251] Szkolna/bank transfer Poland\",\"TOTAL/[253] Itaewon/Cashbee\",\"TOTAL/[254] Wechat Pay\",\"TOTAL/[26] ToditoCash\",\"TOTAL/[272] Culture Voucher\",\"TOTAL/[276] Deheza/Boleto\",\"TOTAL/[277] Toss Pay\",\"TOTAL/[289] Oxford/sofort \",\"TOTAL/[293] Makadi/Gcash\",\"TOTAL/[294] Shibuya / Konbini\",\"TOTAL/[295] Shibuya / Payeasy\",\"TOTAL/[296] Ladipo/Mobile Money Africa\",\"TOTAL/[299] Itaewon/Kakao Pay\",\"TOTAL/[300] Itaewon/Payco\",\"TOTAL/[301] Szkolna/blik\",\"TOTAL/[306] Desa/Sakuku\",\"TOTAL/[307] Desa/GoPay\",\"TOTAL/[308] Desa/LinkAja\",\"TOTAL/[309] Desa/Indomaret\",\"TOTAL/[30] Paysafecard\",\"TOTAL/[310] Paraiso/payshop\",\"TOTAL/[311] Paraiso/mbway\",\"TOTAL/[312] Paraiso/multibanco\",\"TOTAL/[317] Thamrin/Ovo\",\"TOTAL/[320] Hsinchu/TaiwanPay\",\"TOTAL/[321] Hsinchu/LinePay\",\"TOTAL/[322] Hsinchu/ApplePay\",\"TOTAL/[323] Paga/ E-Wallet\",\"TOTAL/[324] Vibhavadi/Bank Transfer Thailand\",\"TOTAL/[325] Vibhavadi/K Plus\",\"TOTAL/[327] Vibhavadi/Boonterm Kiosk\",\"TOTAL/[328] Vibhavadi/True Money Wallet\",\"TOTAL/[329] Vibhavadi/Thai QR\",\"TOTAL/[331] Ciputat/ QRIS\",\"TOTAL/[340] FawryCash\",\"TOTAL/[341] DANA\",\"TOTAL/[343] Tonkin/NinePay\",\"TOTAL/[344] Tonkin/LocalATMCard\",\"TOTAL/[345] Makadi/SevenEleven\",\"TOTAL/[346] Banktransfereurope\",\"TOTAL/[348] Jalan/Boost Wallet\",\"TOTAL/[34] GudangVoucher\",\"TOTAL/[350] Jalan/TNG EWallet Online\",\"TOTAL/[352] Thamrin/JeniusPay\",\"TOTAL/[355] Makadi/Grabpay\",\"TOTAL/[357] Makadi/Cash Payments Philippines\",\"TOTAL/[358] Tonkin/Bank Transfer Vietnam\",\"TOTAL/[359] Itaewon/Virtual Account\",\"TOTAL/[362] Insadong/Credit Card Korea\",\"TOTAL/[366] Insadong/LG Pay\",\"TOTAL/[367] Insadong/Samsung Pay\",\"TOTAL/[36] Itaewon/Happy Voucher\",\"TOTAL/[370] Deheza/PIX\",\"TOTAL/[376] Soilat/Rabbit LINE Pay\",\"TOTAL/[387] Thamrin/QRIS\",\"TOTAL/[38] WaveGame\",\"TOTAL/[401] Hongdae/Naver Pay\",\"TOTAL/[402] Hongdae/Kakao Pay\",\"TOTAL/[404] Hongdae/Credit Cards Korea\",\"TOTAL/[408] Makadi/ShopeePay Philippines\",\"TOTAL/[40] zGold-MOLPoints\",\"TOTAL/[41] Itaewon/TeenCash\",\"TOTAL/[42] Itaewon/T-money\",\"TOTAL/[45] FasterPay\",\"TOTAL/[46] Silva/oxxo\",\"TOTAL/[47] Onecard\",\"TOTAL/[48] Deheza/mercadoPago\",\"TOTAL/[54] Jalan/bank transfer Malaysia\",\"TOTAL/[55] Makadi/bank transfer Philippines\",\"TOTAL/[56] Itaewon/Book Gift Voucher\",\"TOTAL/[57] Sofort\",\"TOTAL/[5] Oxford/EPS\",\"TOTAL/[64] Oxford/mybank\",\"TOTAL/[80] Itaewon/Eggmoney\",\"TOTAL/[81] Przelewy24\",\"TOTAL/[83] NeoSurf\",\"TOTAL/[84] myCard Card\",\"TOTAL/[86] myCard Member Wallet\",\"TOTAL/[88] Lipska/Bank transfer Poland\",\"TOTAL/[91] Alipay\",\"TOTAL/[98] Giropay\",\"TOTAL\"],\"labels\":[\"Unknown\",\"Unknown\",\"Unknown\",\"Unknown\",\"Unknown\",\"Unknown\",\"Unknown\",\"Unknown\",\"Unknown\",\"Unknown\",\"Unknown\",\"Unknown\",\"Unknown\",\"Unknown\",\"Unknown\",\"Unknown\",\"Unknown\",\"Unknown\",\"Unknown\",\"Unknown\",\"Unknown\",\"Unknown\",\"Unknown\",\"Unknown\",\"Unknown\",\"Unknown\",\"Unknown\",\"Unknown\",\"Unknown\",\"Unknown\",\"Unknown\",\"Unknown\",\"Unknown\",\"Unknown\",\"Unknown\",\"Unknown\",\"Unknown\",\"Unknown\",\"Unknown\",\"Unknown\",\"Unknown\",\"Unknown\",\"Unknown\",\"Unknown\",\"Unknown\",\"Unknown\",\"Unknown\",\"Unknown\",\"Unknown\",\"Unknown\",\"Unknown\",\"Unknown\",\"Unknown\",\"Unknown\",\"Unknown\",\"Unknown\",\"Unknown\",\"Unknown\",\"Unknown\",\"Unknown\",\"Unknown\",\"Unknown\",\"Unknown\",\"Unknown\",\"Unknown\",\"Unknown\",\"Unknown\",\"Unknown\",\"Unknown\",\"Unknown\",\"Unknown\",\"Unknown\",\"Unknown\",\"Unknown\",\"Unknown\",\"Unknown\",\"Unknown\",\"Unknown\",\"Unknown\",\"Unknown\",\"Unknown\",\"Unknown\",\"Unknown\",\"Unknown\",\"Unknown\",\"Unknown\",\"Unknown\",\"Unknown\",\"Unknown\",\"Unknown\",\"Unknown\",\"Unknown\",\"Unknown\",\"Unknown\",\"Unknown\",\"Unknown\",\"Unknown\",\"Unknown\",\"Unknown\",\"Unknown\",\"Unknown\",\"Unknown\",\"Unknown\",\"Unknown\",\"Unknown\",\"Unknown\",\"Unknown\",\"Unknown\",\"Unknown\",\"Unknown\",\"Unknown\",\"Unknown\",\"Unknown\",\"Unknown\",\"Unknown\",\"Unknown\",\"Unknown\",\"Unknown\",\"Unknown\",\"Unknown\",\"Unknown\",\"Unknown\",\"Unknown\",\"Unknown\",\"Unknown\",\"Unknown\",\"Unknown\",\"Unknown\",\"Unknown\",\"Unknown\",\"Unknown\",\"Unknown\",\"Unknown\",\"Unknown\",\"Unknown\",\"Unknown\",\"[10] Digame\",\"[11] Playlink\",\"[12] Fortumo\",\"[17] Paybyme\",\"[19] Oxygen\",\"[21] CC_POLK\",\"[23] Globe\",\"[24] Easy2Pay\",\"[25] Smart\",\"[27] Belgacom\",\"[2] Veritrans\",\"[37] Triton\",\"[40] Sofort\",\"[41] Mollie\",\"[42] PPRO\",\"[47] Vodafone\",\"[51] CC_AMEX\",\"[54] Orange\",\"[55] Telenor\",\"[60] CC_EMBARCADERO\",\"[65] TelenorMalaysia\",\"[67] Bamboo\",\"[70] Danal\",\"[72] CC_EXETER\",\"[73] CC_CENTRAL\",\"[80] CC_TERMINAL3_TEMP\",\"[8] Virgopass\",\"[95] CC_GANGNAM\",\"[101] E-Prepag\",\"[103] Rokin/KBC\",\"[107] Medellin/Bank Transfer Colombia\",\"[109] Medellin/Baloto\",\"[111] Medellin/Gana\",\"[113] Medellin/PSE\",\"[115] Medellin/Bank Transfer Peru\",\"[117] Lipska/mTransfer\",\"[120] Lipska/Bank Zachodni WBK\",\"[121] Lipska/Pekao24 Przelew\",\"[122] Lipska/ING Bank Slaski\",\"[124] Lipska/Place z ING Bank Slaski\",\"[127] Qiwi Wallet\",\"[129] Allopass Landline\",\"[132] Gateway\",\"[137] Oxford/ideal\",\"[141] UnionPay\",\"[144] Mobiamo\",\"[145] MINT\",\"[157] Desa/Game-On\",\"[166] Silva/transferencia bancaria\",\"[167] Coinbase\",\"[170] Ringwood/Openbucks\",\"[172] Safetypay\",\"[174] Liszt/efectivo\",\"[176] Oxford/multibanco\",\"[178] Rokin/Belfius\",\"[17] CherryCredits\",\"[188] Paulista/Bank Transfer Mexico\",\"[189] Paulista/Bancomer Mexico\",\"[191] Paulista/Santander Mexico\",\"[193] Paulista/oxxo\",\"[198] Paulista/Redcompra\",\"[199] Paulista/Redpagos\",\"[19] Itaewon/all the gate CC\",\"[1] PayPal\",\"[200] Silva/credit cards Brazil\",\"[201] Silva/ Hipercard\",\"[207] Ringwood/Circle K\",\"[208] Ringwood/CVS Pharmacy\",\"[209] Ringwood/Dollar General\",\"[213] Rokin/Ideal\",\"[215] Rokin/bancontact\",\"[218] Poli\",\"[219] Interac\",\"[220] Rokin/CBC\",\"[221] Silva/Banco Itau\",\"[226] Oxford/ SEPA direct debit\",\"[236] Paulista/PagoFacil\",\"[237] Paulista/RapiPago\",\"[238] Paulista/efecty\",\"[239] Paulista/Davivienda\",\"[23] Itaewon/KFTC Internet Banking\",\"[241] Thamrin/Minimart\",\"[242] Thamrin/ATM transfer Indonesia\",\"[243] Thamrin/doku wallet\",\"[246] Itaewon/Culture Voucher\",\"[248] Paulista/Bank Transfer Argentina\",\"[251] Szkolna/bank transfer Poland\",\"[253] Itaewon/Cashbee\",\"[254] Wechat Pay\",\"[26] ToditoCash\",\"[272] Culture Voucher\",\"[276] Deheza/Boleto\",\"[277] Toss Pay\",\"[289] Oxford/sofort \",\"[293] Makadi/Gcash\",\"[294] Shibuya / Konbini\",\"[295] Shibuya / Payeasy\",\"[296] Ladipo/Mobile Money Africa\",\"[299] Itaewon/Kakao Pay\",\"[300] Itaewon/Payco\",\"[301] Szkolna/blik\",\"[306] Desa/Sakuku\",\"[307] Desa/GoPay\",\"[308] Desa/LinkAja\",\"[309] Desa/Indomaret\",\"[30] Paysafecard\",\"[310] Paraiso/payshop\",\"[311] Paraiso/mbway\",\"[312] Paraiso/multibanco\",\"[317] Thamrin/Ovo\",\"[320] Hsinchu/TaiwanPay\",\"[321] Hsinchu/LinePay\",\"[322] Hsinchu/ApplePay\",\"[323] Paga/ E-Wallet\",\"[324] Vibhavadi/Bank Transfer Thailand\",\"[325] Vibhavadi/K Plus\",\"[327] Vibhavadi/Boonterm Kiosk\",\"[328] Vibhavadi/True Money Wallet\",\"[329] Vibhavadi/Thai QR\",\"[331] Ciputat/ QRIS\",\"[340] FawryCash\",\"[341] DANA\",\"[343] Tonkin/NinePay\",\"[344] Tonkin/LocalATMCard\",\"[345] Makadi/SevenEleven\",\"[346] Banktransfereurope\",\"[348] Jalan/Boost Wallet\",\"[34] GudangVoucher\",\"[350] Jalan/TNG EWallet Online\",\"[352] Thamrin/JeniusPay\",\"[355] Makadi/Grabpay\",\"[357] Makadi/Cash Payments Philippines\",\"[358] Tonkin/Bank Transfer Vietnam\",\"[359] Itaewon/Virtual Account\",\"[362] Insadong/Credit Card Korea\",\"[366] Insadong/LG Pay\",\"[367] Insadong/Samsung Pay\",\"[36] Itaewon/Happy Voucher\",\"[370] Deheza/PIX\",\"[376] Soilat/Rabbit LINE Pay\",\"[387] Thamrin/QRIS\",\"[38] WaveGame\",\"[401] Hongdae/Naver Pay\",\"[402] Hongdae/Kakao Pay\",\"[404] Hongdae/Credit Cards Korea\",\"[408] Makadi/ShopeePay Philippines\",\"[40] zGold-MOLPoints\",\"[41] Itaewon/TeenCash\",\"[42] Itaewon/T-money\",\"[45] FasterPay\",\"[46] Silva/oxxo\",\"[47] Onecard\",\"[48] Deheza/mercadoPago\",\"[54] Jalan/bank transfer Malaysia\",\"[55] Makadi/bank transfer Philippines\",\"[56] Itaewon/Book Gift Voucher\",\"[57] Sofort\",\"[5] Oxford/EPS\",\"[64] Oxford/mybank\",\"[80] Itaewon/Eggmoney\",\"[81] Przelewy24\",\"[83] NeoSurf\",\"[84] myCard Card\",\"[86] myCard Member Wallet\",\"[88] Lipska/Bank transfer Poland\",\"[91] Alipay\",\"[98] Giropay\",\"TOTAL\"],\"marker\":{\"colors\":[\"#636efa\",\"#EF553B\",\"#00cc96\",\"#ab63fa\",\"#FFA15A\",\"#19d3f3\",\"#FF6692\",\"#B6E880\",\"#FF97FF\",\"#FECB52\",\"#636efa\",\"#EF553B\",\"#00cc96\",\"#ab63fa\",\"#FFA15A\",\"#19d3f3\",\"#FF6692\",\"#B6E880\",\"#FF97FF\",\"#FECB52\",\"#636efa\",\"#EF553B\",\"#00cc96\",\"#ab63fa\",\"#FFA15A\",\"#19d3f3\",\"#FF6692\",\"#B6E880\",\"#FF97FF\",\"#FECB52\",\"#636efa\",\"#EF553B\",\"#00cc96\",\"#ab63fa\",\"#FFA15A\",\"#19d3f3\",\"#FF6692\",\"#B6E880\",\"#FF97FF\",\"#FECB52\",\"#636efa\",\"#EF553B\",\"#00cc96\",\"#ab63fa\",\"#FFA15A\",\"#19d3f3\",\"#FF6692\",\"#B6E880\",\"#FF97FF\",\"#FECB52\",\"#636efa\",\"#EF553B\",\"#00cc96\",\"#ab63fa\",\"#FFA15A\",\"#19d3f3\",\"#FF6692\",\"#B6E880\",\"#FF97FF\",\"#FECB52\",\"#636efa\",\"#EF553B\",\"#00cc96\",\"#ab63fa\",\"#FFA15A\",\"#19d3f3\",\"#FF6692\",\"#B6E880\",\"#FF97FF\",\"#FECB52\",\"#636efa\",\"#EF553B\",\"#00cc96\",\"#ab63fa\",\"#FFA15A\",\"#19d3f3\",\"#FF6692\",\"#B6E880\",\"#FF97FF\",\"#FECB52\",\"#636efa\",\"#EF553B\",\"#00cc96\",\"#ab63fa\",\"#FFA15A\",\"#19d3f3\",\"#FF6692\",\"#B6E880\",\"#FF97FF\",\"#FECB52\",\"#636efa\",\"#EF553B\",\"#00cc96\",\"#ab63fa\",\"#FFA15A\",\"#19d3f3\",\"#FF6692\",\"#B6E880\",\"#FF97FF\",\"#FECB52\",\"#636efa\",\"#EF553B\",\"#00cc96\",\"#ab63fa\",\"#FFA15A\",\"#19d3f3\",\"#FF6692\",\"#B6E880\",\"#FF97FF\",\"#FECB52\",\"#636efa\",\"#EF553B\",\"#00cc96\",\"#ab63fa\",\"#FFA15A\",\"#19d3f3\",\"#FF6692\",\"#B6E880\",\"#FF97FF\",\"#FECB52\",\"#636efa\",\"#EF553B\",\"#00cc96\",\"#ab63fa\",\"#FFA15A\",\"#19d3f3\",\"#FF6692\",\"#B6E880\",\"#FF97FF\",\"#FECB52\",\"#636efa\",\"#EF553B\",\"#00cc96\",\"#ab63fa\",\"#FFA15A\",\"#19d3f3\",\"#FF6692\",\"#FF6692\",\"#FF6692\",\"#FF6692\",\"#FF6692\",\"#636efa\",\"#FF6692\",\"#FF6692\",\"#FF6692\",\"#FF6692\",\"#B6E880\",\"#FF6692\",\"#FF97FF\",\"#FF97FF\",\"#FF97FF\",\"#FF6692\",\"#636efa\",\"#FF6692\",\"#FF6692\",\"#636efa\",\"#FF6692\",\"#FF6692\",\"#FF6692\",\"#636efa\",\"#636efa\",\"#636efa\",\"#FF6692\",\"#636efa\",\"#636efa\",\"#EF553B\",\"#00cc96\",\"#ab63fa\",\"#FFA15A\",\"#19d3f3\",\"#FF6692\",\"#B6E880\",\"#FF97FF\",\"#FECB52\",\"#636efa\",\"#EF553B\",\"#00cc96\",\"#ab63fa\",\"#636efa\",\"#FF97FF\",\"#B6E880\",\"#FF6692\",\"#FECB52\",\"#EF553B\",\"#B6E880\",\"#FF6692\",\"#19d3f3\",\"#FFA15A\",\"#00cc96\",\"#ab63fa\",\"#FECB52\",\"#FF97FF\",\"#B6E880\",\"#FF6692\",\"#19d3f3\",\"#FFA15A\",\"#ab63fa\",\"#636efa\",\"#EF553B\",\"#FFA15A\",\"#636efa\",\"#FECB52\",\"#FF97FF\",\"#B6E880\",\"#FF6692\",\"#19d3f3\",\"#00cc96\",\"#EF553B\",\"#00cc96\",\"#ab63fa\",\"#FFA15A\",\"#FF97FF\",\"#19d3f3\",\"#FF6692\",\"#B6E880\",\"#FF97FF\",\"#FECB52\",\"#636efa\",\"#EF553B\",\"#00cc96\",\"#ab63fa\",\"#FFA15A\",\"#19d3f3\",\"#FF6692\",\"#B6E880\",\"#FF97FF\",\"#FECB52\",\"#636efa\",\"#EF553B\",\"#00cc96\",\"#ab63fa\",\"#FFA15A\",\"#19d3f3\",\"#FF6692\",\"#B6E880\",\"#FF97FF\",\"#FECB52\",\"#636efa\",\"#EF553B\",\"#00cc96\",\"#ab63fa\",\"#FFA15A\",\"#19d3f3\",\"#FF6692\",\"#B6E880\",\"#FF97FF\",\"#FECB52\",\"#636efa\",\"#EF553B\",\"#00cc96\",\"#ab63fa\",\"#FFA15A\",\"#19d3f3\",\"#FF6692\",\"#B6E880\",\"#FF97FF\",\"#FECB52\",\"#636efa\",\"#EF553B\",\"#00cc96\",\"#ab63fa\",\"#FFA15A\",\"#19d3f3\",\"#FF6692\",\"#B6E880\",\"#FF97FF\",\"#FECB52\",\"#636efa\",\"#EF553B\",\"#00cc96\",\"#ab63fa\",\"#FFA15A\",\"#19d3f3\",\"#FF6692\",\"#B6E880\",\"#FF97FF\",\"#FECB52\",\"#636efa\",\"#EF553B\",\"#00cc96\",\"#ab63fa\",\"#FFA15A\",\"#19d3f3\",\"#FF6692\",\"#B6E880\",\"#FF97FF\",\"#FECB52\",\"#636efa\",\"#EF553B\",\"#00cc96\",\"#ab63fa\",\"#FFA15A\",\"#19d3f3\",\"#FF6692\",\"#B6E880\",\"#FF97FF\",\"#FECB52\",\"#636efa\",\"#EF553B\",\"#00cc96\",\"#ab63fa\",\"#FFA15A\",\"#19d3f3\",\"#FECB52\"]},\"name\":\"\",\"parents\":[\"TOTAL/[101] E-Prepag\",\"TOTAL/[103] Rokin/KBC\",\"TOTAL/[107] Medellin/Bank Transfer Colombia\",\"TOTAL/[109] Medellin/Baloto\",\"TOTAL/[111] Medellin/Gana\",\"TOTAL/[113] Medellin/PSE\",\"TOTAL/[115] Medellin/Bank Transfer Peru\",\"TOTAL/[117] Lipska/mTransfer\",\"TOTAL/[120] Lipska/Bank Zachodni WBK\",\"TOTAL/[121] Lipska/Pekao24 Przelew\",\"TOTAL/[122] Lipska/ING Bank Slaski\",\"TOTAL/[124] Lipska/Place z ING Bank Slaski\",\"TOTAL/[127] Qiwi Wallet\",\"TOTAL/[129] Allopass Landline\",\"TOTAL/[172] Safetypay\",\"TOTAL/[170] Ringwood/Openbucks\",\"TOTAL/[167] Coinbase\",\"TOTAL/[166] Silva/transferencia bancaria\",\"TOTAL/[137] Oxford/ideal\",\"TOTAL/[145] MINT\",\"TOTAL/[132] Gateway\",\"TOTAL/[157] Desa/Game-On\",\"TOTAL/[174] Liszt/efectivo\",\"TOTAL/[176] Oxford/multibanco\",\"TOTAL/[1] PayPal\",\"TOTAL/[213] Rokin/Ideal\",\"TOTAL/[209] Ringwood/Dollar General\",\"TOTAL/[208] Ringwood/CVS Pharmacy\",\"TOTAL/[207] Ringwood/Circle K\",\"TOTAL/[201] Silva/ Hipercard\",\"TOTAL/[200] Silva/credit cards Brazil\",\"TOTAL/[19] Itaewon/all the gate CC\",\"TOTAL/[215] Rokin/bancontact\",\"TOTAL/[198] Paulista/Redcompra\",\"TOTAL/[193] Paulista/oxxo\",\"TOTAL/[191] Paulista/Santander Mexico\",\"TOTAL/[189] Paulista/Bancomer Mexico\",\"TOTAL/[188] Paulista/Bank Transfer Mexico\",\"TOTAL/[17] CherryCredits\",\"TOTAL/[178] Rokin/Belfius\",\"TOTAL/[199] Paulista/Redpagos\",\"TOTAL/[218] Poli\",\"TOTAL/[219] Interac\",\"TOTAL/[220] Rokin/CBC\",\"TOTAL/[221] Silva/Banco Itau\",\"TOTAL/[236] Paulista/PagoFacil\",\"TOTAL/[237] Paulista/RapiPago\",\"TOTAL/[238] Paulista/efecty\",\"TOTAL/[239] Paulista/Davivienda\",\"TOTAL/[23] Itaewon/KFTC Internet Banking\",\"TOTAL/[241] Thamrin/Minimart\",\"TOTAL/[242] Thamrin/ATM transfer Indonesia\",\"TOTAL/[243] Thamrin/doku wallet\",\"TOTAL/[246] Itaewon/Culture Voucher\",\"TOTAL/[248] Paulista/Bank Transfer Argentina\",\"TOTAL/[251] Szkolna/bank transfer Poland\",\"TOTAL/[253] Itaewon/Cashbee\",\"TOTAL/[254] Wechat Pay\",\"TOTAL/[26] ToditoCash\",\"TOTAL/[272] Culture Voucher\",\"TOTAL/[276] Deheza/Boleto\",\"TOTAL/[277] Toss Pay\",\"TOTAL/[289] Oxford/sofort \",\"TOTAL/[293] Makadi/Gcash\",\"TOTAL/[294] Shibuya / Konbini\",\"TOTAL/[295] Shibuya / Payeasy\",\"TOTAL/[296] Ladipo/Mobile Money Africa\",\"TOTAL/[299] Itaewon/Kakao Pay\",\"TOTAL/[300] Itaewon/Payco\",\"TOTAL/[301] Szkolna/blik\",\"TOTAL/[306] Desa/Sakuku\",\"TOTAL/[307] Desa/GoPay\",\"TOTAL/[308] Desa/LinkAja\",\"TOTAL/[309] Desa/Indomaret\",\"TOTAL/[30] Paysafecard\",\"TOTAL/[310] Paraiso/payshop\",\"TOTAL/[311] Paraiso/mbway\",\"TOTAL/[312] Paraiso/multibanco\",\"TOTAL/[317] Thamrin/Ovo\",\"TOTAL/[320] Hsinchu/TaiwanPay\",\"TOTAL/[321] Hsinchu/LinePay\",\"TOTAL/[322] Hsinchu/ApplePay\",\"TOTAL/[323] Paga/ E-Wallet\",\"TOTAL/[324] Vibhavadi/Bank Transfer Thailand\",\"TOTAL/[325] Vibhavadi/K Plus\",\"TOTAL/[327] Vibhavadi/Boonterm Kiosk\",\"TOTAL/[328] Vibhavadi/True Money Wallet\",\"TOTAL/[329] Vibhavadi/Thai QR\",\"TOTAL/[331] Ciputat/ QRIS\",\"TOTAL/[340] FawryCash\",\"TOTAL/[341] DANA\",\"TOTAL/[343] Tonkin/NinePay\",\"TOTAL/[344] Tonkin/LocalATMCard\",\"TOTAL/[345] Makadi/SevenEleven\",\"TOTAL/[346] Banktransfereurope\",\"TOTAL/[348] Jalan/Boost Wallet\",\"TOTAL/[34] GudangVoucher\",\"TOTAL/[350] Jalan/TNG EWallet Online\",\"TOTAL/[352] Thamrin/JeniusPay\",\"TOTAL/[355] Makadi/Grabpay\",\"TOTAL/[357] Makadi/Cash Payments Philippines\",\"TOTAL/[358] Tonkin/Bank Transfer Vietnam\",\"TOTAL/[359] Itaewon/Virtual Account\",\"TOTAL/[362] Insadong/Credit Card Korea\",\"TOTAL/[366] Insadong/LG Pay\",\"TOTAL/[367] Insadong/Samsung Pay\",\"TOTAL/[36] Itaewon/Happy Voucher\",\"TOTAL/[370] Deheza/PIX\",\"TOTAL/[376] Soilat/Rabbit LINE Pay\",\"TOTAL/[387] Thamrin/QRIS\",\"TOTAL/[38] WaveGame\",\"TOTAL/[401] Hongdae/Naver Pay\",\"TOTAL/[402] Hongdae/Kakao Pay\",\"TOTAL/[404] Hongdae/Credit Cards Korea\",\"TOTAL/[408] Makadi/ShopeePay Philippines\",\"TOTAL/[40] zGold-MOLPoints\",\"TOTAL/[41] Itaewon/TeenCash\",\"TOTAL/[42] Itaewon/T-money\",\"TOTAL/[45] FasterPay\",\"TOTAL/[46] Silva/oxxo\",\"TOTAL/[47] Onecard\",\"TOTAL/[48] Deheza/mercadoPago\",\"TOTAL/[54] Jalan/bank transfer Malaysia\",\"TOTAL/[55] Makadi/bank transfer Philippines\",\"TOTAL/[56] Itaewon/Book Gift Voucher\",\"TOTAL/[57] Sofort\",\"TOTAL/[5] Oxford/EPS\",\"TOTAL/[64] Oxford/mybank\",\"TOTAL/[80] Itaewon/Eggmoney\",\"TOTAL/[81] Przelewy24\",\"TOTAL/[83] NeoSurf\",\"TOTAL/[84] myCard Card\",\"TOTAL/[86] myCard Member Wallet\",\"TOTAL/[88] Lipska/Bank transfer Poland\",\"TOTAL/[91] Alipay\",\"TOTAL/[98] Giropay\",\"TOTAL/[144] Mobiamo\",\"TOTAL/[144] Mobiamo\",\"TOTAL/[144] Mobiamo\",\"TOTAL/[144] Mobiamo\",\"TOTAL/[144] Mobiamo\",\"TOTAL/[132] Gateway\",\"TOTAL/[144] Mobiamo\",\"TOTAL/[144] Mobiamo\",\"TOTAL/[144] Mobiamo\",\"TOTAL/[144] Mobiamo\",\"TOTAL/[141] UnionPay\",\"TOTAL/[144] Mobiamo\",\"TOTAL/[226] Oxford/ SEPA direct debit\",\"TOTAL/[226] Oxford/ SEPA direct debit\",\"TOTAL/[226] Oxford/ SEPA direct debit\",\"TOTAL/[144] Mobiamo\",\"TOTAL/[132] Gateway\",\"TOTAL/[144] Mobiamo\",\"TOTAL/[144] Mobiamo\",\"TOTAL/[132] Gateway\",\"TOTAL/[144] Mobiamo\",\"TOTAL/[144] Mobiamo\",\"TOTAL/[144] Mobiamo\",\"TOTAL/[132] Gateway\",\"TOTAL/[132] Gateway\",\"TOTAL/[132] Gateway\",\"TOTAL/[144] Mobiamo\",\"TOTAL/[132] Gateway\",\"TOTAL\",\"TOTAL\",\"TOTAL\",\"TOTAL\",\"TOTAL\",\"TOTAL\",\"TOTAL\",\"TOTAL\",\"TOTAL\",\"TOTAL\",\"TOTAL\",\"TOTAL\",\"TOTAL\",\"TOTAL\",\"TOTAL\",\"TOTAL\",\"TOTAL\",\"TOTAL\",\"TOTAL\",\"TOTAL\",\"TOTAL\",\"TOTAL\",\"TOTAL\",\"TOTAL\",\"TOTAL\",\"TOTAL\",\"TOTAL\",\"TOTAL\",\"TOTAL\",\"TOTAL\",\"TOTAL\",\"TOTAL\",\"TOTAL\",\"TOTAL\",\"TOTAL\",\"TOTAL\",\"TOTAL\",\"TOTAL\",\"TOTAL\",\"TOTAL\",\"TOTAL\",\"TOTAL\",\"TOTAL\",\"TOTAL\",\"TOTAL\",\"TOTAL\",\"TOTAL\",\"TOTAL\",\"TOTAL\",\"TOTAL\",\"TOTAL\",\"TOTAL\",\"TOTAL\",\"TOTAL\",\"TOTAL\",\"TOTAL\",\"TOTAL\",\"TOTAL\",\"TOTAL\",\"TOTAL\",\"TOTAL\",\"TOTAL\",\"TOTAL\",\"TOTAL\",\"TOTAL\",\"TOTAL\",\"TOTAL\",\"TOTAL\",\"TOTAL\",\"TOTAL\",\"TOTAL\",\"TOTAL\",\"TOTAL\",\"TOTAL\",\"TOTAL\",\"TOTAL\",\"TOTAL\",\"TOTAL\",\"TOTAL\",\"TOTAL\",\"TOTAL\",\"TOTAL\",\"TOTAL\",\"TOTAL\",\"TOTAL\",\"TOTAL\",\"TOTAL\",\"TOTAL\",\"TOTAL\",\"TOTAL\",\"TOTAL\",\"TOTAL\",\"TOTAL\",\"TOTAL\",\"TOTAL\",\"TOTAL\",\"TOTAL\",\"TOTAL\",\"TOTAL\",\"TOTAL\",\"TOTAL\",\"TOTAL\",\"TOTAL\",\"TOTAL\",\"TOTAL\",\"TOTAL\",\"TOTAL\",\"TOTAL\",\"TOTAL\",\"TOTAL\",\"TOTAL\",\"TOTAL\",\"TOTAL\",\"TOTAL\",\"TOTAL\",\"TOTAL\",\"TOTAL\",\"TOTAL\",\"TOTAL\",\"TOTAL\",\"TOTAL\",\"TOTAL\",\"TOTAL\",\"TOTAL\",\"TOTAL\",\"TOTAL\",\"TOTAL\",\"TOTAL\",\"TOTAL\",\"TOTAL\",\"TOTAL\",\"TOTAL\",\"TOTAL\",\"TOTAL\",\"TOTAL\",\"TOTAL\",\"TOTAL\",\"TOTAL\",\"TOTAL\",\"\"],\"values\":[1622.33,6219.25,864.19,522.23,249.75,6756.66,1603.32,149.02,53.57,87.09,56.19,159.67,167947.48,324.26,3919.96,42430.97,3216.62,585.72,125716.99,32577.07,2573.94,20.43,1258.32,152.01,724533.95,89705.21,10935.51,8276.32,1406.42,29.55,2512.5,88523.54,32228.68,16811.09,114.54,30.0,262.49,636.06,1642.12,11521.81,1479.79,6383.27,10249.88,491.74,46.25,2014.8,607.48,1162.68,7.95,3944.36,504.56,4310.61,469.5,2900.65,8435.31,15565.86,45.5,74323.26,46.59,4420.41,4725.56,3952.12,84772.75,36273.42,5675.97,398.51,12.24,14932.65,5201.17,230158.57,166.38,14358.71,138.56,126.25,113225.31,1085.73,14707.76,15107.7,2855.27,2067.95,11198.44,2273.56,3935.87,5547.04,21714.9,37.36,162.09,19848.39,2465.19,3317.67,1113.2,3644.73,1961.86,504.78,14.77,1604.02,4314.75,11014.09,170.61,1583.54,128.38,8044.77,8440.45,20940.66,31.78,12806.01,113.98,35552.08,28.23,20.7,3.41,15667.33,43835.82,61.07,69.8,32142.42,114.96,1621.48,0.0,2414.8,2110.47,16313.76,21570.61,1785.46,23.17,138375.06,859.49,437.21,459.52,62106.97,5726.9,478.28,17632.35,11209.17,269356.43,81177.77,5300.08,865.1,2678.6,712.02,908.95,1873179.24,1672.44,22.32,1910.16,94.89,210785.82,50.07,1318.94,22.21,1749.8,187.21,25073.18,324.43,268.28,2931.66,4.53,333.82,2451.92,224724.98,236220.29,0.0,1987.31,41353.23,1622.33,6219.25,864.19,522.23,249.75,6756.66,1603.32,149.02,53.57,87.09,56.19,159.67,167947.48,324.26,2406056.52,125716.99,210785.82,19772.13,32577.07,20.43,585.72,3216.62,42430.97,3919.96,1258.32,152.01,11521.81,1642.12,636.06,262.49,30.0,114.54,16811.09,1479.79,88523.54,724533.95,2512.5,29.55,1406.42,8276.32,10935.51,89705.21,32228.68,6383.27,10249.88,491.74,46.25,3090.95,2014.8,607.48,1162.68,7.95,3944.36,504.56,4310.61,469.5,2900.65,8435.31,15565.86,45.5,74323.26,46.59,4420.41,4725.56,3952.12,84772.75,36273.42,5675.97,398.51,12.24,14932.65,5201.17,230158.57,166.38,14358.71,138.56,126.25,113225.31,1085.73,14707.76,15107.7,2855.27,2067.95,11198.44,2273.56,3935.87,5547.04,21714.9,37.36,162.09,19848.39,2465.19,3317.67,1113.2,3644.73,1961.86,504.78,14.77,1604.02,4314.75,11014.09,170.61,1583.54,128.38,8044.77,8440.45,20940.66,31.78,12806.01,113.98,35552.08,28.23,20.7,3.41,15667.33,43835.82,61.07,69.8,32142.42,114.96,1621.48,0.0,2414.8,2110.47,16313.76,21570.61,1785.46,23.17,138375.06,859.49,437.21,459.52,62106.97,5726.9,478.28,17632.35,11209.17,269356.43,81177.77,5620808.95],\"type\":\"treemap\",\"hoverinfo\":\"label+value+percent root+percent entry+percent parent\"}],                        {\"template\":{\"data\":{\"bar\":[{\"error_x\":{\"color\":\"#2a3f5f\"},\"error_y\":{\"color\":\"#2a3f5f\"},\"marker\":{\"line\":{\"color\":\"#E5ECF6\",\"width\":0.5},\"pattern\":{\"fillmode\":\"overlay\",\"size\":10,\"solidity\":0.2}},\"type\":\"bar\"}],\"barpolar\":[{\"marker\":{\"line\":{\"color\":\"#E5ECF6\",\"width\":0.5},\"pattern\":{\"fillmode\":\"overlay\",\"size\":10,\"solidity\":0.2}},\"type\":\"barpolar\"}],\"carpet\":[{\"aaxis\":{\"endlinecolor\":\"#2a3f5f\",\"gridcolor\":\"white\",\"linecolor\":\"white\",\"minorgridcolor\":\"white\",\"startlinecolor\":\"#2a3f5f\"},\"baxis\":{\"endlinecolor\":\"#2a3f5f\",\"gridcolor\":\"white\",\"linecolor\":\"white\",\"minorgridcolor\":\"white\",\"startlinecolor\":\"#2a3f5f\"},\"type\":\"carpet\"}],\"choropleth\":[{\"colorbar\":{\"outlinewidth\":0,\"ticks\":\"\"},\"type\":\"choropleth\"}],\"contour\":[{\"colorbar\":{\"outlinewidth\":0,\"ticks\":\"\"},\"colorscale\":[[0.0,\"#0d0887\"],[0.1111111111111111,\"#46039f\"],[0.2222222222222222,\"#7201a8\"],[0.3333333333333333,\"#9c179e\"],[0.4444444444444444,\"#bd3786\"],[0.5555555555555556,\"#d8576b\"],[0.6666666666666666,\"#ed7953\"],[0.7777777777777778,\"#fb9f3a\"],[0.8888888888888888,\"#fdca26\"],[1.0,\"#f0f921\"]],\"type\":\"contour\"}],\"contourcarpet\":[{\"colorbar\":{\"outlinewidth\":0,\"ticks\":\"\"},\"type\":\"contourcarpet\"}],\"heatmap\":[{\"colorbar\":{\"outlinewidth\":0,\"ticks\":\"\"},\"colorscale\":[[0.0,\"#0d0887\"],[0.1111111111111111,\"#46039f\"],[0.2222222222222222,\"#7201a8\"],[0.3333333333333333,\"#9c179e\"],[0.4444444444444444,\"#bd3786\"],[0.5555555555555556,\"#d8576b\"],[0.6666666666666666,\"#ed7953\"],[0.7777777777777778,\"#fb9f3a\"],[0.8888888888888888,\"#fdca26\"],[1.0,\"#f0f921\"]],\"type\":\"heatmap\"}],\"heatmapgl\":[{\"colorbar\":{\"outlinewidth\":0,\"ticks\":\"\"},\"colorscale\":[[0.0,\"#0d0887\"],[0.1111111111111111,\"#46039f\"],[0.2222222222222222,\"#7201a8\"],[0.3333333333333333,\"#9c179e\"],[0.4444444444444444,\"#bd3786\"],[0.5555555555555556,\"#d8576b\"],[0.6666666666666666,\"#ed7953\"],[0.7777777777777778,\"#fb9f3a\"],[0.8888888888888888,\"#fdca26\"],[1.0,\"#f0f921\"]],\"type\":\"heatmapgl\"}],\"histogram\":[{\"marker\":{\"pattern\":{\"fillmode\":\"overlay\",\"size\":10,\"solidity\":0.2}},\"type\":\"histogram\"}],\"histogram2d\":[{\"colorbar\":{\"outlinewidth\":0,\"ticks\":\"\"},\"colorscale\":[[0.0,\"#0d0887\"],[0.1111111111111111,\"#46039f\"],[0.2222222222222222,\"#7201a8\"],[0.3333333333333333,\"#9c179e\"],[0.4444444444444444,\"#bd3786\"],[0.5555555555555556,\"#d8576b\"],[0.6666666666666666,\"#ed7953\"],[0.7777777777777778,\"#fb9f3a\"],[0.8888888888888888,\"#fdca26\"],[1.0,\"#f0f921\"]],\"type\":\"histogram2d\"}],\"histogram2dcontour\":[{\"colorbar\":{\"outlinewidth\":0,\"ticks\":\"\"},\"colorscale\":[[0.0,\"#0d0887\"],[0.1111111111111111,\"#46039f\"],[0.2222222222222222,\"#7201a8\"],[0.3333333333333333,\"#9c179e\"],[0.4444444444444444,\"#bd3786\"],[0.5555555555555556,\"#d8576b\"],[0.6666666666666666,\"#ed7953\"],[0.7777777777777778,\"#fb9f3a\"],[0.8888888888888888,\"#fdca26\"],[1.0,\"#f0f921\"]],\"type\":\"histogram2dcontour\"}],\"mesh3d\":[{\"colorbar\":{\"outlinewidth\":0,\"ticks\":\"\"},\"type\":\"mesh3d\"}],\"parcoords\":[{\"line\":{\"colorbar\":{\"outlinewidth\":0,\"ticks\":\"\"}},\"type\":\"parcoords\"}],\"pie\":[{\"automargin\":true,\"type\":\"pie\"}],\"scatter\":[{\"marker\":{\"colorbar\":{\"outlinewidth\":0,\"ticks\":\"\"}},\"type\":\"scatter\"}],\"scatter3d\":[{\"line\":{\"colorbar\":{\"outlinewidth\":0,\"ticks\":\"\"}},\"marker\":{\"colorbar\":{\"outlinewidth\":0,\"ticks\":\"\"}},\"type\":\"scatter3d\"}],\"scattercarpet\":[{\"marker\":{\"colorbar\":{\"outlinewidth\":0,\"ticks\":\"\"}},\"type\":\"scattercarpet\"}],\"scattergeo\":[{\"marker\":{\"colorbar\":{\"outlinewidth\":0,\"ticks\":\"\"}},\"type\":\"scattergeo\"}],\"scattergl\":[{\"marker\":{\"colorbar\":{\"outlinewidth\":0,\"ticks\":\"\"}},\"type\":\"scattergl\"}],\"scattermapbox\":[{\"marker\":{\"colorbar\":{\"outlinewidth\":0,\"ticks\":\"\"}},\"type\":\"scattermapbox\"}],\"scatterpolar\":[{\"marker\":{\"colorbar\":{\"outlinewidth\":0,\"ticks\":\"\"}},\"type\":\"scatterpolar\"}],\"scatterpolargl\":[{\"marker\":{\"colorbar\":{\"outlinewidth\":0,\"ticks\":\"\"}},\"type\":\"scatterpolargl\"}],\"scatterternary\":[{\"marker\":{\"colorbar\":{\"outlinewidth\":0,\"ticks\":\"\"}},\"type\":\"scatterternary\"}],\"surface\":[{\"colorbar\":{\"outlinewidth\":0,\"ticks\":\"\"},\"colorscale\":[[0.0,\"#0d0887\"],[0.1111111111111111,\"#46039f\"],[0.2222222222222222,\"#7201a8\"],[0.3333333333333333,\"#9c179e\"],[0.4444444444444444,\"#bd3786\"],[0.5555555555555556,\"#d8576b\"],[0.6666666666666666,\"#ed7953\"],[0.7777777777777778,\"#fb9f3a\"],[0.8888888888888888,\"#fdca26\"],[1.0,\"#f0f921\"]],\"type\":\"surface\"}],\"table\":[{\"cells\":{\"fill\":{\"color\":\"#EBF0F8\"},\"line\":{\"color\":\"white\"}},\"header\":{\"fill\":{\"color\":\"#C8D4E3\"},\"line\":{\"color\":\"white\"}},\"type\":\"table\"}]},\"layout\":{\"annotationdefaults\":{\"arrowcolor\":\"#2a3f5f\",\"arrowhead\":0,\"arrowwidth\":1},\"autotypenumbers\":\"strict\",\"coloraxis\":{\"colorbar\":{\"outlinewidth\":0,\"ticks\":\"\"}},\"colorscale\":{\"diverging\":[[0,\"#8e0152\"],[0.1,\"#c51b7d\"],[0.2,\"#de77ae\"],[0.3,\"#f1b6da\"],[0.4,\"#fde0ef\"],[0.5,\"#f7f7f7\"],[0.6,\"#e6f5d0\"],[0.7,\"#b8e186\"],[0.8,\"#7fbc41\"],[0.9,\"#4d9221\"],[1,\"#276419\"]],\"sequential\":[[0.0,\"#0d0887\"],[0.1111111111111111,\"#46039f\"],[0.2222222222222222,\"#7201a8\"],[0.3333333333333333,\"#9c179e\"],[0.4444444444444444,\"#bd3786\"],[0.5555555555555556,\"#d8576b\"],[0.6666666666666666,\"#ed7953\"],[0.7777777777777778,\"#fb9f3a\"],[0.8888888888888888,\"#fdca26\"],[1.0,\"#f0f921\"]],\"sequentialminus\":[[0.0,\"#0d0887\"],[0.1111111111111111,\"#46039f\"],[0.2222222222222222,\"#7201a8\"],[0.3333333333333333,\"#9c179e\"],[0.4444444444444444,\"#bd3786\"],[0.5555555555555556,\"#d8576b\"],[0.6666666666666666,\"#ed7953\"],[0.7777777777777778,\"#fb9f3a\"],[0.8888888888888888,\"#fdca26\"],[1.0,\"#f0f921\"]]},\"colorway\":[\"#636efa\",\"#EF553B\",\"#00cc96\",\"#ab63fa\",\"#FFA15A\",\"#19d3f3\",\"#FF6692\",\"#B6E880\",\"#FF97FF\",\"#FECB52\"],\"font\":{\"color\":\"#2a3f5f\"},\"geo\":{\"bgcolor\":\"white\",\"lakecolor\":\"white\",\"landcolor\":\"#E5ECF6\",\"showlakes\":true,\"showland\":true,\"subunitcolor\":\"white\"},\"hoverlabel\":{\"align\":\"left\"},\"hovermode\":\"closest\",\"mapbox\":{\"style\":\"light\"},\"paper_bgcolor\":\"white\",\"plot_bgcolor\":\"#E5ECF6\",\"polar\":{\"angularaxis\":{\"gridcolor\":\"white\",\"linecolor\":\"white\",\"ticks\":\"\"},\"bgcolor\":\"#E5ECF6\",\"radialaxis\":{\"gridcolor\":\"white\",\"linecolor\":\"white\",\"ticks\":\"\"}},\"scene\":{\"xaxis\":{\"backgroundcolor\":\"#E5ECF6\",\"gridcolor\":\"white\",\"gridwidth\":2,\"linecolor\":\"white\",\"showbackground\":true,\"ticks\":\"\",\"zerolinecolor\":\"white\"},\"yaxis\":{\"backgroundcolor\":\"#E5ECF6\",\"gridcolor\":\"white\",\"gridwidth\":2,\"linecolor\":\"white\",\"showbackground\":true,\"ticks\":\"\",\"zerolinecolor\":\"white\"},\"zaxis\":{\"backgroundcolor\":\"#E5ECF6\",\"gridcolor\":\"white\",\"gridwidth\":2,\"linecolor\":\"white\",\"showbackground\":true,\"ticks\":\"\",\"zerolinecolor\":\"white\"}},\"shapedefaults\":{\"line\":{\"color\":\"#2a3f5f\"}},\"ternary\":{\"aaxis\":{\"gridcolor\":\"white\",\"linecolor\":\"white\",\"ticks\":\"\"},\"baxis\":{\"gridcolor\":\"white\",\"linecolor\":\"white\",\"ticks\":\"\"},\"bgcolor\":\"#E5ECF6\",\"caxis\":{\"gridcolor\":\"white\",\"linecolor\":\"white\",\"ticks\":\"\"}},\"title\":{\"x\":0.05},\"xaxis\":{\"automargin\":true,\"gridcolor\":\"white\",\"linecolor\":\"white\",\"ticks\":\"\",\"title\":{\"standoff\":15},\"zerolinecolor\":\"white\",\"zerolinewidth\":2},\"yaxis\":{\"automargin\":true,\"gridcolor\":\"white\",\"linecolor\":\"white\",\"ticks\":\"\",\"title\":{\"standoff\":15},\"zerolinecolor\":\"white\",\"zerolinewidth\":2}}},\"legend\":{\"tracegroupgap\":0},\"margin\":{\"t\":20,\"l\":20,\"r\":20,\"b\":20}},                        {\"responsive\": true}                    ).then(function(){\n",
       "                            \n",
       "var gd = document.getElementById('df421fda-a89c-4c4d-bac0-6b1ac8c358b4');\n",
       "var x = new MutationObserver(function (mutations, observer) {{\n",
       "        var display = window.getComputedStyle(gd).display;\n",
       "        if (!display || display === 'none') {{\n",
       "            console.log([gd, 'removed!']);\n",
       "            Plotly.purge(gd);\n",
       "            observer.disconnect();\n",
       "        }}\n",
       "}});\n",
       "\n",
       "// Listen for the removal of the full notebook cells\n",
       "var notebookContainer = gd.closest('#notebook-container');\n",
       "if (notebookContainer) {{\n",
       "    x.observe(notebookContainer, {childList: true});\n",
       "}}\n",
       "\n",
       "// Listen for the clearing of the current output cell\n",
       "var outputEl = gd.closest('.output');\n",
       "if (outputEl) {{\n",
       "    x.observe(outputEl, {childList: true});\n",
       "}}\n",
       "\n",
       "                        })                };                });            </script>        </div>"
      ]
     },
     "metadata": {},
     "output_type": "display_data"
    }
   ],
   "source": [
    "graph_ps_distribution(data)"
   ]
  },
  {
   "cell_type": "code",
   "execution_count": 206,
   "id": "fa4b947e-56d5-476e-9f0d-806255b51629",
   "metadata": {},
   "outputs": [],
   "source": [
    "def graph_countries_distribution(df):\n",
    "    by_countries = pd.DataFrame(df.groupby(['co_name','co_code_alpha3']).agg(PV=pd.NamedAgg(column=\"PV\", aggfunc=\"sum\")).reset_index())\n",
    "    by_countries['PV'] = by_countries['PV'].astype(float)\n",
    "    by_countries['text'] = by_countries['co_name'] + '<br>' + by_countries[\"PV\"].map('{:,.2f}'.format) #hover text\n",
    "        \n",
    "    graph_countries_distribution = go.Figure(data=go.Choropleth(\n",
    "        locations=by_countries['co_code_alpha3'], # Spatial coordinates\n",
    "        z = by_countries['PV'], # Data to be color-coded\n",
    "        colorscale='Reds'\n",
    "    ))\n",
    "    graph_countries_distribution.update_traces(showscale=False, hovertemplate = by_countries['text'])\n",
    "    graph_countries_distribution.update_layout(margin={\"r\":20,\"t\":20,\"l\":20,\"b\":20})\n",
    "    graph_countries_distribution.update_geos(fitbounds=\"locations\", visible=False)\n",
    "    \n",
    "    return graph_countries_distribution"
   ]
  },
  {
   "cell_type": "code",
   "execution_count": 207,
   "id": "61bd6bbc-7f28-4f0d-bc39-d6907a41f6fd",
   "metadata": {},
   "outputs": [
    {
     "name": "stdout",
     "output_type": "stream",
     "text": [
      "           co_name co_code_alpha3         PV                         text\n",
      "167  United States            USA 927,665.68  United States<br>927,665.68\n",
      "60         Germany            DEU 647,922.64        Germany<br>647,922.64\n",
      "33           China            CHN 428,204.66          China<br>428,204.66\n",
      "133         Poland            POL 415,806.00         Poland<br>415,806.00\n",
      "163         Turkey            TUR 393,542.19         Turkey<br>393,542.19\n"
     ]
    },
    {
     "data": {
      "application/vnd.plotly.v1+json": {
       "config": {
        "plotlyServerURL": "https://plot.ly"
       },
       "data": [
        {
         "colorscale": [
          [
           0,
           "rgb(255,245,240)"
          ],
          [
           0.125,
           "rgb(254,224,210)"
          ],
          [
           0.25,
           "rgb(252,187,161)"
          ],
          [
           0.375,
           "rgb(252,146,114)"
          ],
          [
           0.5,
           "rgb(251,106,74)"
          ],
          [
           0.625,
           "rgb(239,59,44)"
          ],
          [
           0.75,
           "rgb(203,24,29)"
          ],
          [
           0.875,
           "rgb(165,15,21)"
          ],
          [
           1,
           "rgb(103,0,13)"
          ]
         ],
         "hovertemplate": [
          "Albania<br>229.58",
          "Algeria<br>290.70",
          "American Samoa<br>0.00",
          "Andorra<br>105.16",
          "Angola<br>82.93",
          "Argentina<br>16,343.12",
          "Armenia<br>673.11",
          "Aruba<br>72.82",
          "Australia<br>63,919.38",
          "Austria<br>55,255.41",
          "Azerbaijan<br>327.89",
          "Bahamas<br>135.87",
          "Bahrain<br>2,157.04",
          "Bangladesh<br>590.92",
          "Barbados<br>105.67",
          "Belarus<br>1,865.82",
          "Belgium<br>80,220.46",
          "Belize<br>59.28",
          "Benin<br>26.96",
          "Bermuda<br>68.99",
          "Bolivia<br>786.00",
          "Bosnia and Herzegovina<br>1,941.80",
          "Brazil<br>77,455.20",
          "Brunei Darussalam<br>140.60",
          "Bulgaria<br>8,420.18",
          "Burkina Faso<br>90.77",
          "Cambodia<br>1,015.52",
          "Cameroon<br>212.72",
          "Canada<br>130,343.51",
          "Cape Verde<br>110.08",
          "Cayman Islands<br>160.21",
          "Central African Republic<br>205.57",
          "Chile<br>24,200.31",
          "China<br>428,204.66",
          "Colombia<br>15,175.16",
          "Comoros<br>9.99",
          "Congo<br>8.99",
          "Costa Rica<br>1,179.66",
          "Cote d'Ivoire<br>255.80",
          "Croatia<br>5,438.29",
          "Curacao<br>0.99",
          "Cyprus<br>5,536.69",
          "Czech Republic<br>35,507.95",
          "Denmark<br>20,713.27",
          "Dominica<br>17.98",
          "Dominican Republic<br>1,423.95",
          "Ecuador<br>817.60",
          "Egypt<br>7,685.40",
          "El Salvador<br>4,165.16",
          "Estonia<br>1,594.64",
          "Ethiopia<br>15.04",
          "Falkland Islands<br>17.97",
          "Faroe Islands<br>19.99",
          "Fiji<br>40.00",
          "Finland<br>11,363.71",
          "France<br>165,524.61",
          "French Guiana<br>982.06",
          "French Polynesia<br>150.42",
          "Gabon<br>43.92",
          "Georgia<br>6,151.36",
          "Germany<br>647,922.64",
          "Ghana<br>202.08",
          "Gibraltar<br>17.50",
          "Greece<br>27,909.78",
          "Greenland<br>150.00",
          "Guadeloupe<br>1,957.10",
          "Guam<br>60.00",
          "Guatemala<br>61.63",
          "Guernsey<br>21.05",
          "Guyana<br>115.29",
          "Honduras<br>633.78",
          "Hong Kong<br>59,967.04",
          "Hungary<br>36,750.71",
          "Iceland<br>2,724.95",
          "India<br>51,524.54",
          "Indonesia<br>42,911.18",
          "Iraq<br>99.95",
          "Ireland<br>17,677.07",
          "Isle of Man<br>40.96",
          "Israel<br>7,487.17",
          "Italy<br>99,146.90",
          "Jamaica<br>443.75",
          "Japan<br>85,061.87",
          "Jersey<br>63.13",
          "Jordan<br>19,933.82",
          "Kazakhstan<br>5,712.00",
          "Kenya<br>182.52",
          "Korea (Republic of)<br>252,467.22",
          "Kuwait<br>1,763.63",
          "Kyrgyzstan<br>1,359.79",
          "Laos<br>89.96",
          "Latvia<br>3,376.23",
          "Lebanon<br>800.74",
          "Liberia<br>257.78",
          "Liechtenstein<br>11.09",
          "Lithuania<br>4,608.13",
          "Luxembourg<br>2,021.21",
          "Macau<br>448.53",
          "Macedonia<br>2,116.40",
          "Madagascar<br>52.66",
          "Malawi<br>8.99",
          "Malaysia<br>69,335.76",
          "Maldives<br>579.15",
          "Mali<br>52.64",
          "Malta<br>1,224.12",
          "Martinique<br>313.84",
          "Mauritius<br>311.87",
          "Mexico<br>20,642.14",
          "Moldova<br>755.51",
          "Monaco<br>35.46",
          "Montenegro<br>387.06",
          "Morocco<br>1,110.78",
          "Mozambique<br>28.51",
          "Myanmar<br>35.56",
          "Namibia<br>83.88",
          "Nepal<br>274.59",
          "Netherlands<br>236,754.12",
          "New Caledonia<br>454.09",
          "New Zealand<br>9,965.17",
          "Nicaragua<br>10.00",
          "Niger<br>281.41",
          "Nigeria<br>4,279.84",
          "Niue<br>0.00",
          "Northern Mariana Islands<br>0.00",
          "Norway<br>19,205.47",
          "Oman<br>1,035.23",
          "Pakistan<br>391.83",
          "Palau<br>42.45",
          "Palestinian Territory<br>124.96",
          "Panama<br>321.36",
          "Paraguay<br>615.81",
          "Peru<br>9,247.26",
          "Philippines<br>50,277.72",
          "Poland<br>415,806.00",
          "Portugal<br>58,831.13",
          "Puerto Rico<br>2,775.67",
          "Qatar<br>3,032.47",
          "Reunion<br>706.66",
          "Romania<br>84,979.82",
          "Russia<br>206,151.41",
          "Rwanda<br>97.45",
          "San Marino<br>0.00",
          "Saudi Arabia<br>11,970.12",
          "Senegal<br>65.81",
          "Serbia<br>3,358.23",
          "Seychelles<br>1,722.96",
          "Singapore<br>24,430.65",
          "Slovakia<br>9,290.90",
          "Slovenia<br>2,900.16",
          "South Africa<br>6,357.81",
          "Spain<br>75,261.18",
          "Sri Lanka<br>241.98",
          "St. Kitts and Nevis<br>8.99",
          "St. Lucia<br>30.60",
          "St. Pierre and Miquelon<br>0.00",
          "Suriname<br>25.26",
          "Sweden<br>30,052.45",
          "Switzerland<br>62,486.65",
          "Taiwan<br>43,012.20",
          "Tanzania<br>300.41",
          "Thailand<br>51,143.76",
          "Trinidad and Tobago<br>85.02",
          "Tunisia<br>1,156.99",
          "Turkey<br>393,542.19",
          "Ukraine<br>34,322.30",
          "United Arab Emirates<br>11,230.42",
          "United Kingdom<br>148,674.77",
          "United States<br>927,665.68",
          "Uruguay<br>2,363.53",
          "Uzbekistan<br>1,272.31",
          "Venezuela<br>275.47",
          "Vietnam<br>19,038.38",
          "Virgin Islands (U.K.)<br>119.98",
          "Virgin Islands (U.S.)<br>0.00",
          "Zambia<br>23.98"
         ],
         "locations": [
          "ALB",
          "DZA",
          "ASM",
          "AND",
          "AGO",
          "ARG",
          "ARM",
          "ABW",
          "AUS",
          "AUT",
          "AZE",
          "BHS",
          "BHR",
          "BGD",
          "BRB",
          "BLR",
          "BEL",
          "BLZ",
          "BEN",
          "BMU",
          "BOL",
          "BIH",
          "BRA",
          "BRN",
          "BGR",
          "BFA",
          "KHM",
          "CMR",
          "CAN",
          "CPV",
          "CYM",
          "CAF",
          "CHL",
          "CHN",
          "COL",
          "COM",
          "COG",
          "CRI",
          "CIV",
          "HRV",
          "CUW",
          "CYP",
          "CZE",
          "DNK",
          "DMA",
          "DOM",
          "ECU",
          "EGY",
          "SLV",
          "EST",
          "ETH",
          "FLK",
          "FRO",
          "FJI",
          "FIN",
          "FRA",
          "GUF",
          "PYF",
          "GAB",
          "GEO",
          "DEU",
          "GHA",
          "GIB",
          "GRC",
          "GRL",
          "GLP",
          "GUM",
          "GTM",
          "JEY",
          "GUY",
          "HND",
          "HKG",
          "HUN",
          "ISL",
          "IND",
          "IDN",
          "IRQ",
          "IRL",
          "IMN",
          "ISR",
          "ITA",
          "JAM",
          "JPN",
          "GGY",
          "JOR",
          "KAZ",
          "KEN",
          "KOR",
          "KWT",
          "KGZ",
          "LAO",
          "LVA",
          "LBN",
          "LBR",
          "LIE",
          "LTU",
          "LUX",
          "MAC",
          "MKD",
          "MDG",
          "MWI",
          "MYS",
          "MDV",
          "MLI",
          "MLT",
          "MTQ",
          "MUS",
          "MEX",
          "MDA",
          "MCO",
          "MNE",
          "MAR",
          "MOZ",
          "MMR",
          "NAM",
          "NPL",
          "NLD",
          "NCL",
          "NZL",
          "NIC",
          "NER",
          "NGA",
          "NIU",
          "MNP",
          "NOR",
          "OMN",
          "PAK",
          "PLW",
          "PSE",
          "PAN",
          "PRY",
          "PER",
          "PHL",
          "POL",
          "PRT",
          "PRI",
          "QAT",
          "REU",
          "ROU",
          "RUS",
          "RWA",
          "SMR",
          "SAU",
          "SEN",
          "SRB",
          "SYC",
          "SGP",
          "SVK",
          "SVN",
          "ZAF",
          "ESP",
          "LKA",
          "KNA",
          "LCA",
          "SPM",
          "SUR",
          "SWE",
          "CHE",
          "TWN",
          "TZA",
          "THA",
          "TTO",
          "TUN",
          "TUR",
          "UKR",
          "ARE",
          "GBR",
          "USA",
          "URY",
          "UZB",
          "VEN",
          "VNM",
          "VGB",
          "VIR",
          "ZMB"
         ],
         "showscale": false,
         "type": "choropleth",
         "z": [
          229.58,
          290.7,
          0,
          105.16,
          82.93,
          16343.12,
          673.11,
          72.82,
          63919.38,
          55255.41,
          327.89,
          135.87,
          2157.04,
          590.92,
          105.67,
          1865.82,
          80220.46,
          59.28,
          26.96,
          68.99,
          786,
          1941.8,
          77455.2,
          140.6,
          8420.18,
          90.77,
          1015.52,
          212.72,
          130343.51,
          110.08,
          160.21,
          205.57,
          24200.31,
          428204.66,
          15175.16,
          9.99,
          8.99,
          1179.66,
          255.8,
          5438.29,
          0.99,
          5536.69,
          35507.95,
          20713.27,
          17.98,
          1423.95,
          817.6,
          7685.4,
          4165.16,
          1594.64,
          15.04,
          17.97,
          19.99,
          40,
          11363.71,
          165524.61,
          982.06,
          150.42,
          43.92,
          6151.36,
          647922.64,
          202.08,
          17.5,
          27909.78,
          150,
          1957.1,
          60,
          61.63,
          21.05,
          115.29,
          633.78,
          59967.04,
          36750.71,
          2724.95,
          51524.54,
          42911.18,
          99.95,
          17677.07,
          40.96,
          7487.17,
          99146.9,
          443.75,
          85061.87,
          63.13,
          19933.82,
          5712,
          182.52,
          252467.22,
          1763.63,
          1359.79,
          89.96,
          3376.23,
          800.74,
          257.78,
          11.09,
          4608.13,
          2021.21,
          448.53,
          2116.4,
          52.66,
          8.99,
          69335.76,
          579.15,
          52.64,
          1224.12,
          313.84,
          311.87,
          20642.14,
          755.51,
          35.46,
          387.06,
          1110.78,
          28.51,
          35.56,
          83.88,
          274.59,
          236754.12,
          454.09,
          9965.17,
          10,
          281.41,
          4279.84,
          0,
          0,
          19205.47,
          1035.23,
          391.83,
          42.45,
          124.96,
          321.36,
          615.81,
          9247.26,
          50277.72,
          415806,
          58831.13,
          2775.67,
          3032.47,
          706.66,
          84979.82,
          206151.41,
          97.45,
          0,
          11970.12,
          65.81,
          3358.23,
          1722.96,
          24430.65,
          9290.9,
          2900.16,
          6357.81,
          75261.18,
          241.98,
          8.99,
          30.6,
          0,
          25.26,
          30052.45,
          62486.65,
          43012.2,
          300.41,
          51143.76,
          85.02,
          1156.99,
          393542.19,
          34322.3,
          11230.42,
          148674.77,
          927665.68,
          2363.53,
          1272.31,
          275.47,
          19038.38,
          119.98,
          0,
          23.98
         ]
        }
       ],
       "layout": {
        "autosize": true,
        "geo": {
         "center": {
          "lat": 11.639284787653922,
          "lon": 106.26219172936435
         },
         "fitbounds": false,
         "projection": {
          "rotation": {
           "lon": 106.26219172936435
          },
          "scale": 0.3779201284639595
         },
         "visible": false
        },
        "margin": {
         "b": 20,
         "l": 20,
         "r": 20,
         "t": 20
        },
        "template": {
         "data": {
          "bar": [
           {
            "error_x": {
             "color": "#2a3f5f"
            },
            "error_y": {
             "color": "#2a3f5f"
            },
            "marker": {
             "line": {
              "color": "#E5ECF6",
              "width": 0.5
             },
             "pattern": {
              "fillmode": "overlay",
              "size": 10,
              "solidity": 0.2
             }
            },
            "type": "bar"
           }
          ],
          "barpolar": [
           {
            "marker": {
             "line": {
              "color": "#E5ECF6",
              "width": 0.5
             },
             "pattern": {
              "fillmode": "overlay",
              "size": 10,
              "solidity": 0.2
             }
            },
            "type": "barpolar"
           }
          ],
          "carpet": [
           {
            "aaxis": {
             "endlinecolor": "#2a3f5f",
             "gridcolor": "white",
             "linecolor": "white",
             "minorgridcolor": "white",
             "startlinecolor": "#2a3f5f"
            },
            "baxis": {
             "endlinecolor": "#2a3f5f",
             "gridcolor": "white",
             "linecolor": "white",
             "minorgridcolor": "white",
             "startlinecolor": "#2a3f5f"
            },
            "type": "carpet"
           }
          ],
          "choropleth": [
           {
            "colorbar": {
             "outlinewidth": 0,
             "ticks": ""
            },
            "type": "choropleth"
           }
          ],
          "contour": [
           {
            "colorbar": {
             "outlinewidth": 0,
             "ticks": ""
            },
            "colorscale": [
             [
              0,
              "#0d0887"
             ],
             [
              0.1111111111111111,
              "#46039f"
             ],
             [
              0.2222222222222222,
              "#7201a8"
             ],
             [
              0.3333333333333333,
              "#9c179e"
             ],
             [
              0.4444444444444444,
              "#bd3786"
             ],
             [
              0.5555555555555556,
              "#d8576b"
             ],
             [
              0.6666666666666666,
              "#ed7953"
             ],
             [
              0.7777777777777778,
              "#fb9f3a"
             ],
             [
              0.8888888888888888,
              "#fdca26"
             ],
             [
              1,
              "#f0f921"
             ]
            ],
            "type": "contour"
           }
          ],
          "contourcarpet": [
           {
            "colorbar": {
             "outlinewidth": 0,
             "ticks": ""
            },
            "type": "contourcarpet"
           }
          ],
          "heatmap": [
           {
            "colorbar": {
             "outlinewidth": 0,
             "ticks": ""
            },
            "colorscale": [
             [
              0,
              "#0d0887"
             ],
             [
              0.1111111111111111,
              "#46039f"
             ],
             [
              0.2222222222222222,
              "#7201a8"
             ],
             [
              0.3333333333333333,
              "#9c179e"
             ],
             [
              0.4444444444444444,
              "#bd3786"
             ],
             [
              0.5555555555555556,
              "#d8576b"
             ],
             [
              0.6666666666666666,
              "#ed7953"
             ],
             [
              0.7777777777777778,
              "#fb9f3a"
             ],
             [
              0.8888888888888888,
              "#fdca26"
             ],
             [
              1,
              "#f0f921"
             ]
            ],
            "type": "heatmap"
           }
          ],
          "heatmapgl": [
           {
            "colorbar": {
             "outlinewidth": 0,
             "ticks": ""
            },
            "colorscale": [
             [
              0,
              "#0d0887"
             ],
             [
              0.1111111111111111,
              "#46039f"
             ],
             [
              0.2222222222222222,
              "#7201a8"
             ],
             [
              0.3333333333333333,
              "#9c179e"
             ],
             [
              0.4444444444444444,
              "#bd3786"
             ],
             [
              0.5555555555555556,
              "#d8576b"
             ],
             [
              0.6666666666666666,
              "#ed7953"
             ],
             [
              0.7777777777777778,
              "#fb9f3a"
             ],
             [
              0.8888888888888888,
              "#fdca26"
             ],
             [
              1,
              "#f0f921"
             ]
            ],
            "type": "heatmapgl"
           }
          ],
          "histogram": [
           {
            "marker": {
             "pattern": {
              "fillmode": "overlay",
              "size": 10,
              "solidity": 0.2
             }
            },
            "type": "histogram"
           }
          ],
          "histogram2d": [
           {
            "colorbar": {
             "outlinewidth": 0,
             "ticks": ""
            },
            "colorscale": [
             [
              0,
              "#0d0887"
             ],
             [
              0.1111111111111111,
              "#46039f"
             ],
             [
              0.2222222222222222,
              "#7201a8"
             ],
             [
              0.3333333333333333,
              "#9c179e"
             ],
             [
              0.4444444444444444,
              "#bd3786"
             ],
             [
              0.5555555555555556,
              "#d8576b"
             ],
             [
              0.6666666666666666,
              "#ed7953"
             ],
             [
              0.7777777777777778,
              "#fb9f3a"
             ],
             [
              0.8888888888888888,
              "#fdca26"
             ],
             [
              1,
              "#f0f921"
             ]
            ],
            "type": "histogram2d"
           }
          ],
          "histogram2dcontour": [
           {
            "colorbar": {
             "outlinewidth": 0,
             "ticks": ""
            },
            "colorscale": [
             [
              0,
              "#0d0887"
             ],
             [
              0.1111111111111111,
              "#46039f"
             ],
             [
              0.2222222222222222,
              "#7201a8"
             ],
             [
              0.3333333333333333,
              "#9c179e"
             ],
             [
              0.4444444444444444,
              "#bd3786"
             ],
             [
              0.5555555555555556,
              "#d8576b"
             ],
             [
              0.6666666666666666,
              "#ed7953"
             ],
             [
              0.7777777777777778,
              "#fb9f3a"
             ],
             [
              0.8888888888888888,
              "#fdca26"
             ],
             [
              1,
              "#f0f921"
             ]
            ],
            "type": "histogram2dcontour"
           }
          ],
          "mesh3d": [
           {
            "colorbar": {
             "outlinewidth": 0,
             "ticks": ""
            },
            "type": "mesh3d"
           }
          ],
          "parcoords": [
           {
            "line": {
             "colorbar": {
              "outlinewidth": 0,
              "ticks": ""
             }
            },
            "type": "parcoords"
           }
          ],
          "pie": [
           {
            "automargin": true,
            "type": "pie"
           }
          ],
          "scatter": [
           {
            "marker": {
             "colorbar": {
              "outlinewidth": 0,
              "ticks": ""
             }
            },
            "type": "scatter"
           }
          ],
          "scatter3d": [
           {
            "line": {
             "colorbar": {
              "outlinewidth": 0,
              "ticks": ""
             }
            },
            "marker": {
             "colorbar": {
              "outlinewidth": 0,
              "ticks": ""
             }
            },
            "type": "scatter3d"
           }
          ],
          "scattercarpet": [
           {
            "marker": {
             "colorbar": {
              "outlinewidth": 0,
              "ticks": ""
             }
            },
            "type": "scattercarpet"
           }
          ],
          "scattergeo": [
           {
            "marker": {
             "colorbar": {
              "outlinewidth": 0,
              "ticks": ""
             }
            },
            "type": "scattergeo"
           }
          ],
          "scattergl": [
           {
            "marker": {
             "colorbar": {
              "outlinewidth": 0,
              "ticks": ""
             }
            },
            "type": "scattergl"
           }
          ],
          "scattermapbox": [
           {
            "marker": {
             "colorbar": {
              "outlinewidth": 0,
              "ticks": ""
             }
            },
            "type": "scattermapbox"
           }
          ],
          "scatterpolar": [
           {
            "marker": {
             "colorbar": {
              "outlinewidth": 0,
              "ticks": ""
             }
            },
            "type": "scatterpolar"
           }
          ],
          "scatterpolargl": [
           {
            "marker": {
             "colorbar": {
              "outlinewidth": 0,
              "ticks": ""
             }
            },
            "type": "scatterpolargl"
           }
          ],
          "scatterternary": [
           {
            "marker": {
             "colorbar": {
              "outlinewidth": 0,
              "ticks": ""
             }
            },
            "type": "scatterternary"
           }
          ],
          "surface": [
           {
            "colorbar": {
             "outlinewidth": 0,
             "ticks": ""
            },
            "colorscale": [
             [
              0,
              "#0d0887"
             ],
             [
              0.1111111111111111,
              "#46039f"
             ],
             [
              0.2222222222222222,
              "#7201a8"
             ],
             [
              0.3333333333333333,
              "#9c179e"
             ],
             [
              0.4444444444444444,
              "#bd3786"
             ],
             [
              0.5555555555555556,
              "#d8576b"
             ],
             [
              0.6666666666666666,
              "#ed7953"
             ],
             [
              0.7777777777777778,
              "#fb9f3a"
             ],
             [
              0.8888888888888888,
              "#fdca26"
             ],
             [
              1,
              "#f0f921"
             ]
            ],
            "type": "surface"
           }
          ],
          "table": [
           {
            "cells": {
             "fill": {
              "color": "#EBF0F8"
             },
             "line": {
              "color": "white"
             }
            },
            "header": {
             "fill": {
              "color": "#C8D4E3"
             },
             "line": {
              "color": "white"
             }
            },
            "type": "table"
           }
          ]
         },
         "layout": {
          "annotationdefaults": {
           "arrowcolor": "#2a3f5f",
           "arrowhead": 0,
           "arrowwidth": 1
          },
          "autotypenumbers": "strict",
          "coloraxis": {
           "colorbar": {
            "outlinewidth": 0,
            "ticks": ""
           }
          },
          "colorscale": {
           "diverging": [
            [
             0,
             "#8e0152"
            ],
            [
             0.1,
             "#c51b7d"
            ],
            [
             0.2,
             "#de77ae"
            ],
            [
             0.3,
             "#f1b6da"
            ],
            [
             0.4,
             "#fde0ef"
            ],
            [
             0.5,
             "#f7f7f7"
            ],
            [
             0.6,
             "#e6f5d0"
            ],
            [
             0.7,
             "#b8e186"
            ],
            [
             0.8,
             "#7fbc41"
            ],
            [
             0.9,
             "#4d9221"
            ],
            [
             1,
             "#276419"
            ]
           ],
           "sequential": [
            [
             0,
             "#0d0887"
            ],
            [
             0.1111111111111111,
             "#46039f"
            ],
            [
             0.2222222222222222,
             "#7201a8"
            ],
            [
             0.3333333333333333,
             "#9c179e"
            ],
            [
             0.4444444444444444,
             "#bd3786"
            ],
            [
             0.5555555555555556,
             "#d8576b"
            ],
            [
             0.6666666666666666,
             "#ed7953"
            ],
            [
             0.7777777777777778,
             "#fb9f3a"
            ],
            [
             0.8888888888888888,
             "#fdca26"
            ],
            [
             1,
             "#f0f921"
            ]
           ],
           "sequentialminus": [
            [
             0,
             "#0d0887"
            ],
            [
             0.1111111111111111,
             "#46039f"
            ],
            [
             0.2222222222222222,
             "#7201a8"
            ],
            [
             0.3333333333333333,
             "#9c179e"
            ],
            [
             0.4444444444444444,
             "#bd3786"
            ],
            [
             0.5555555555555556,
             "#d8576b"
            ],
            [
             0.6666666666666666,
             "#ed7953"
            ],
            [
             0.7777777777777778,
             "#fb9f3a"
            ],
            [
             0.8888888888888888,
             "#fdca26"
            ],
            [
             1,
             "#f0f921"
            ]
           ]
          },
          "colorway": [
           "#636efa",
           "#EF553B",
           "#00cc96",
           "#ab63fa",
           "#FFA15A",
           "#19d3f3",
           "#FF6692",
           "#B6E880",
           "#FF97FF",
           "#FECB52"
          ],
          "font": {
           "color": "#2a3f5f"
          },
          "geo": {
           "bgcolor": "white",
           "lakecolor": "white",
           "landcolor": "#E5ECF6",
           "showlakes": true,
           "showland": true,
           "subunitcolor": "white"
          },
          "hoverlabel": {
           "align": "left"
          },
          "hovermode": "closest",
          "mapbox": {
           "style": "light"
          },
          "paper_bgcolor": "white",
          "plot_bgcolor": "#E5ECF6",
          "polar": {
           "angularaxis": {
            "gridcolor": "white",
            "linecolor": "white",
            "ticks": ""
           },
           "bgcolor": "#E5ECF6",
           "radialaxis": {
            "gridcolor": "white",
            "linecolor": "white",
            "ticks": ""
           }
          },
          "scene": {
           "xaxis": {
            "backgroundcolor": "#E5ECF6",
            "gridcolor": "white",
            "gridwidth": 2,
            "linecolor": "white",
            "showbackground": true,
            "ticks": "",
            "zerolinecolor": "white"
           },
           "yaxis": {
            "backgroundcolor": "#E5ECF6",
            "gridcolor": "white",
            "gridwidth": 2,
            "linecolor": "white",
            "showbackground": true,
            "ticks": "",
            "zerolinecolor": "white"
           },
           "zaxis": {
            "backgroundcolor": "#E5ECF6",
            "gridcolor": "white",
            "gridwidth": 2,
            "linecolor": "white",
            "showbackground": true,
            "ticks": "",
            "zerolinecolor": "white"
           }
          },
          "shapedefaults": {
           "line": {
            "color": "#2a3f5f"
           }
          },
          "ternary": {
           "aaxis": {
            "gridcolor": "white",
            "linecolor": "white",
            "ticks": ""
           },
           "baxis": {
            "gridcolor": "white",
            "linecolor": "white",
            "ticks": ""
           },
           "bgcolor": "#E5ECF6",
           "caxis": {
            "gridcolor": "white",
            "linecolor": "white",
            "ticks": ""
           }
          },
          "title": {
           "x": 0.05
          },
          "xaxis": {
           "automargin": true,
           "gridcolor": "white",
           "linecolor": "white",
           "ticks": "",
           "title": {
            "standoff": 15
           },
           "zerolinecolor": "white",
           "zerolinewidth": 2
          },
          "yaxis": {
           "automargin": true,
           "gridcolor": "white",
           "linecolor": "white",
           "ticks": "",
           "title": {
            "standoff": 15
           },
           "zerolinecolor": "white",
           "zerolinewidth": 2
          }
         }
        }
       }
      },
      "image/png": "[encoded data removed]",
      "text/html": [
       "<div>                            <div id=\"bbaf1e23-d709-40bc-9e11-4d7ed4908c2e\" class=\"plotly-graph-div\" style=\"height:525px; width:100%;\"></div>            <script type=\"text/javascript\">                require([\"plotly\"], function(Plotly) {                    window.PLOTLYENV=window.PLOTLYENV || {};                                    if (document.getElementById(\"bbaf1e23-d709-40bc-9e11-4d7ed4908c2e\")) {                    Plotly.newPlot(                        \"bbaf1e23-d709-40bc-9e11-4d7ed4908c2e\",                        [{\"colorscale\":[[0.0,\"rgb(255,245,240)\"],[0.125,\"rgb(254,224,210)\"],[0.25,\"rgb(252,187,161)\"],[0.375,\"rgb(252,146,114)\"],[0.5,\"rgb(251,106,74)\"],[0.625,\"rgb(239,59,44)\"],[0.75,\"rgb(203,24,29)\"],[0.875,\"rgb(165,15,21)\"],[1.0,\"rgb(103,0,13)\"]],\"locations\":[\"ALB\",\"DZA\",\"ASM\",\"AND\",\"AGO\",\"ARG\",\"ARM\",\"ABW\",\"AUS\",\"AUT\",\"AZE\",\"BHS\",\"BHR\",\"BGD\",\"BRB\",\"BLR\",\"BEL\",\"BLZ\",\"BEN\",\"BMU\",\"BOL\",\"BIH\",\"BRA\",\"BRN\",\"BGR\",\"BFA\",\"KHM\",\"CMR\",\"CAN\",\"CPV\",\"CYM\",\"CAF\",\"CHL\",\"CHN\",\"COL\",\"COM\",\"COG\",\"CRI\",\"CIV\",\"HRV\",\"CUW\",\"CYP\",\"CZE\",\"DNK\",\"DMA\",\"DOM\",\"ECU\",\"EGY\",\"SLV\",\"EST\",\"ETH\",\"FLK\",\"FRO\",\"FJI\",\"FIN\",\"FRA\",\"GUF\",\"PYF\",\"GAB\",\"GEO\",\"DEU\",\"GHA\",\"GIB\",\"GRC\",\"GRL\",\"GLP\",\"GUM\",\"GTM\",\"JEY\",\"GUY\",\"HND\",\"HKG\",\"HUN\",\"ISL\",\"IND\",\"IDN\",\"IRQ\",\"IRL\",\"IMN\",\"ISR\",\"ITA\",\"JAM\",\"JPN\",\"GGY\",\"JOR\",\"KAZ\",\"KEN\",\"KOR\",\"KWT\",\"KGZ\",\"LAO\",\"LVA\",\"LBN\",\"LBR\",\"LIE\",\"LTU\",\"LUX\",\"MAC\",\"MKD\",\"MDG\",\"MWI\",\"MYS\",\"MDV\",\"MLI\",\"MLT\",\"MTQ\",\"MUS\",\"MEX\",\"MDA\",\"MCO\",\"MNE\",\"MAR\",\"MOZ\",\"MMR\",\"NAM\",\"NPL\",\"NLD\",\"NCL\",\"NZL\",\"NIC\",\"NER\",\"NGA\",\"NIU\",\"MNP\",\"NOR\",\"OMN\",\"PAK\",\"PLW\",\"PSE\",\"PAN\",\"PRY\",\"PER\",\"PHL\",\"POL\",\"PRT\",\"PRI\",\"QAT\",\"REU\",\"ROU\",\"RUS\",\"RWA\",\"SMR\",\"SAU\",\"SEN\",\"SRB\",\"SYC\",\"SGP\",\"SVK\",\"SVN\",\"ZAF\",\"ESP\",\"LKA\",\"KNA\",\"LCA\",\"SPM\",\"SUR\",\"SWE\",\"CHE\",\"TWN\",\"TZA\",\"THA\",\"TTO\",\"TUN\",\"TUR\",\"UKR\",\"ARE\",\"GBR\",\"USA\",\"URY\",\"UZB\",\"VEN\",\"VNM\",\"VGB\",\"VIR\",\"ZMB\"],\"z\":[229.58,290.7,0.0,105.16,82.93,16343.12,673.11,72.82,63919.38,55255.41,327.89,135.87,2157.04,590.92,105.67,1865.82,80220.46,59.28,26.96,68.99,786.0,1941.8,77455.2,140.6,8420.18,90.77,1015.52,212.72,130343.51,110.08,160.21,205.57,24200.31,428204.66,15175.16,9.99,8.99,1179.66,255.8,5438.29,0.99,5536.69,35507.95,20713.27,17.98,1423.95,817.6,7685.4,4165.16,1594.64,15.04,17.97,19.99,40.0,11363.71,165524.61,982.06,150.42,43.92,6151.36,647922.64,202.08,17.5,27909.78,150.0,1957.1,60.0,61.63,21.05,115.29,633.78,59967.04,36750.71,2724.95,51524.54,42911.18,99.95,17677.07,40.96,7487.17,99146.9,443.75,85061.87,63.13,19933.82,5712.0,182.52,252467.22,1763.63,1359.79,89.96,3376.23,800.74,257.78,11.09,4608.13,2021.21,448.53,2116.4,52.66,8.99,69335.76,579.15,52.64,1224.12,313.84,311.87,20642.14,755.51,35.46,387.06,1110.78,28.51,35.56,83.88,274.59,236754.12,454.09,9965.17,10.0,281.41,4279.84,0.0,0.0,19205.47,1035.23,391.83,42.45,124.96,321.36,615.81,9247.26,50277.72,415806.0,58831.13,2775.67,3032.47,706.66,84979.82,206151.41,97.45,0.0,11970.12,65.81,3358.23,1722.96,24430.65,9290.9,2900.16,6357.81,75261.18,241.98,8.99,30.6,0.0,25.26,30052.45,62486.65,43012.2,300.41,51143.76,85.02,1156.99,393542.19,34322.3,11230.42,148674.77,927665.68,2363.53,1272.31,275.47,19038.38,119.98,0.0,23.98],\"type\":\"choropleth\",\"hovertemplate\":[\"Albania<br>229.58\",\"Algeria<br>290.70\",\"American Samoa<br>0.00\",\"Andorra<br>105.16\",\"Angola<br>82.93\",\"Argentina<br>16,343.12\",\"Armenia<br>673.11\",\"Aruba<br>72.82\",\"Australia<br>63,919.38\",\"Austria<br>55,255.41\",\"Azerbaijan<br>327.89\",\"Bahamas<br>135.87\",\"Bahrain<br>2,157.04\",\"Bangladesh<br>590.92\",\"Barbados<br>105.67\",\"Belarus<br>1,865.82\",\"Belgium<br>80,220.46\",\"Belize<br>59.28\",\"Benin<br>26.96\",\"Bermuda<br>68.99\",\"Bolivia<br>786.00\",\"Bosnia and Herzegovina<br>1,941.80\",\"Brazil<br>77,455.20\",\"Brunei Darussalam<br>140.60\",\"Bulgaria<br>8,420.18\",\"Burkina Faso<br>90.77\",\"Cambodia<br>1,015.52\",\"Cameroon<br>212.72\",\"Canada<br>130,343.51\",\"Cape Verde<br>110.08\",\"Cayman Islands<br>160.21\",\"Central African Republic<br>205.57\",\"Chile<br>24,200.31\",\"China<br>428,204.66\",\"Colombia<br>15,175.16\",\"Comoros<br>9.99\",\"Congo<br>8.99\",\"Costa Rica<br>1,179.66\",\"Cote d'Ivoire<br>255.80\",\"Croatia<br>5,438.29\",\"Curacao<br>0.99\",\"Cyprus<br>5,536.69\",\"Czech Republic<br>35,507.95\",\"Denmark<br>20,713.27\",\"Dominica<br>17.98\",\"Dominican Republic<br>1,423.95\",\"Ecuador<br>817.60\",\"Egypt<br>7,685.40\",\"El Salvador<br>4,165.16\",\"Estonia<br>1,594.64\",\"Ethiopia<br>15.04\",\"Falkland Islands<br>17.97\",\"Faroe Islands<br>19.99\",\"Fiji<br>40.00\",\"Finland<br>11,363.71\",\"France<br>165,524.61\",\"French Guiana<br>982.06\",\"French Polynesia<br>150.42\",\"Gabon<br>43.92\",\"Georgia<br>6,151.36\",\"Germany<br>647,922.64\",\"Ghana<br>202.08\",\"Gibraltar<br>17.50\",\"Greece<br>27,909.78\",\"Greenland<br>150.00\",\"Guadeloupe<br>1,957.10\",\"Guam<br>60.00\",\"Guatemala<br>61.63\",\"Guernsey<br>21.05\",\"Guyana<br>115.29\",\"Honduras<br>633.78\",\"Hong Kong<br>59,967.04\",\"Hungary<br>36,750.71\",\"Iceland<br>2,724.95\",\"India<br>51,524.54\",\"Indonesia<br>42,911.18\",\"Iraq<br>99.95\",\"Ireland<br>17,677.07\",\"Isle of Man<br>40.96\",\"Israel<br>7,487.17\",\"Italy<br>99,146.90\",\"Jamaica<br>443.75\",\"Japan<br>85,061.87\",\"Jersey<br>63.13\",\"Jordan<br>19,933.82\",\"Kazakhstan<br>5,712.00\",\"Kenya<br>182.52\",\"Korea (Republic of)<br>252,467.22\",\"Kuwait<br>1,763.63\",\"Kyrgyzstan<br>1,359.79\",\"Laos<br>89.96\",\"Latvia<br>3,376.23\",\"Lebanon<br>800.74\",\"Liberia<br>257.78\",\"Liechtenstein<br>11.09\",\"Lithuania<br>4,608.13\",\"Luxembourg<br>2,021.21\",\"Macau<br>448.53\",\"Macedonia<br>2,116.40\",\"Madagascar<br>52.66\",\"Malawi<br>8.99\",\"Malaysia<br>69,335.76\",\"Maldives<br>579.15\",\"Mali<br>52.64\",\"Malta<br>1,224.12\",\"Martinique<br>313.84\",\"Mauritius<br>311.87\",\"Mexico<br>20,642.14\",\"Moldova<br>755.51\",\"Monaco<br>35.46\",\"Montenegro<br>387.06\",\"Morocco<br>1,110.78\",\"Mozambique<br>28.51\",\"Myanmar<br>35.56\",\"Namibia<br>83.88\",\"Nepal<br>274.59\",\"Netherlands<br>236,754.12\",\"New Caledonia<br>454.09\",\"New Zealand<br>9,965.17\",\"Nicaragua<br>10.00\",\"Niger<br>281.41\",\"Nigeria<br>4,279.84\",\"Niue<br>0.00\",\"Northern Mariana Islands<br>0.00\",\"Norway<br>19,205.47\",\"Oman<br>1,035.23\",\"Pakistan<br>391.83\",\"Palau<br>42.45\",\"Palestinian Territory<br>124.96\",\"Panama<br>321.36\",\"Paraguay<br>615.81\",\"Peru<br>9,247.26\",\"Philippines<br>50,277.72\",\"Poland<br>415,806.00\",\"Portugal<br>58,831.13\",\"Puerto Rico<br>2,775.67\",\"Qatar<br>3,032.47\",\"Reunion<br>706.66\",\"Romania<br>84,979.82\",\"Russia<br>206,151.41\",\"Rwanda<br>97.45\",\"San Marino<br>0.00\",\"Saudi Arabia<br>11,970.12\",\"Senegal<br>65.81\",\"Serbia<br>3,358.23\",\"Seychelles<br>1,722.96\",\"Singapore<br>24,430.65\",\"Slovakia<br>9,290.90\",\"Slovenia<br>2,900.16\",\"South Africa<br>6,357.81\",\"Spain<br>75,261.18\",\"Sri Lanka<br>241.98\",\"St. Kitts and Nevis<br>8.99\",\"St. Lucia<br>30.60\",\"St. Pierre and Miquelon<br>0.00\",\"Suriname<br>25.26\",\"Sweden<br>30,052.45\",\"Switzerland<br>62,486.65\",\"Taiwan<br>43,012.20\",\"Tanzania<br>300.41\",\"Thailand<br>51,143.76\",\"Trinidad and Tobago<br>85.02\",\"Tunisia<br>1,156.99\",\"Turkey<br>393,542.19\",\"Ukraine<br>34,322.30\",\"United Arab Emirates<br>11,230.42\",\"United Kingdom<br>148,674.77\",\"United States<br>927,665.68\",\"Uruguay<br>2,363.53\",\"Uzbekistan<br>1,272.31\",\"Venezuela<br>275.47\",\"Vietnam<br>19,038.38\",\"Virgin Islands (U.K.)<br>119.98\",\"Virgin Islands (U.S.)<br>0.00\",\"Zambia<br>23.98\"],\"showscale\":false}],                        {\"template\":{\"data\":{\"bar\":[{\"error_x\":{\"color\":\"#2a3f5f\"},\"error_y\":{\"color\":\"#2a3f5f\"},\"marker\":{\"line\":{\"color\":\"#E5ECF6\",\"width\":0.5},\"pattern\":{\"fillmode\":\"overlay\",\"size\":10,\"solidity\":0.2}},\"type\":\"bar\"}],\"barpolar\":[{\"marker\":{\"line\":{\"color\":\"#E5ECF6\",\"width\":0.5},\"pattern\":{\"fillmode\":\"overlay\",\"size\":10,\"solidity\":0.2}},\"type\":\"barpolar\"}],\"carpet\":[{\"aaxis\":{\"endlinecolor\":\"#2a3f5f\",\"gridcolor\":\"white\",\"linecolor\":\"white\",\"minorgridcolor\":\"white\",\"startlinecolor\":\"#2a3f5f\"},\"baxis\":{\"endlinecolor\":\"#2a3f5f\",\"gridcolor\":\"white\",\"linecolor\":\"white\",\"minorgridcolor\":\"white\",\"startlinecolor\":\"#2a3f5f\"},\"type\":\"carpet\"}],\"choropleth\":[{\"colorbar\":{\"outlinewidth\":0,\"ticks\":\"\"},\"type\":\"choropleth\"}],\"contour\":[{\"colorbar\":{\"outlinewidth\":0,\"ticks\":\"\"},\"colorscale\":[[0.0,\"#0d0887\"],[0.1111111111111111,\"#46039f\"],[0.2222222222222222,\"#7201a8\"],[0.3333333333333333,\"#9c179e\"],[0.4444444444444444,\"#bd3786\"],[0.5555555555555556,\"#d8576b\"],[0.6666666666666666,\"#ed7953\"],[0.7777777777777778,\"#fb9f3a\"],[0.8888888888888888,\"#fdca26\"],[1.0,\"#f0f921\"]],\"type\":\"contour\"}],\"contourcarpet\":[{\"colorbar\":{\"outlinewidth\":0,\"ticks\":\"\"},\"type\":\"contourcarpet\"}],\"heatmap\":[{\"colorbar\":{\"outlinewidth\":0,\"ticks\":\"\"},\"colorscale\":[[0.0,\"#0d0887\"],[0.1111111111111111,\"#46039f\"],[0.2222222222222222,\"#7201a8\"],[0.3333333333333333,\"#9c179e\"],[0.4444444444444444,\"#bd3786\"],[0.5555555555555556,\"#d8576b\"],[0.6666666666666666,\"#ed7953\"],[0.7777777777777778,\"#fb9f3a\"],[0.8888888888888888,\"#fdca26\"],[1.0,\"#f0f921\"]],\"type\":\"heatmap\"}],\"heatmapgl\":[{\"colorbar\":{\"outlinewidth\":0,\"ticks\":\"\"},\"colorscale\":[[0.0,\"#0d0887\"],[0.1111111111111111,\"#46039f\"],[0.2222222222222222,\"#7201a8\"],[0.3333333333333333,\"#9c179e\"],[0.4444444444444444,\"#bd3786\"],[0.5555555555555556,\"#d8576b\"],[0.6666666666666666,\"#ed7953\"],[0.7777777777777778,\"#fb9f3a\"],[0.8888888888888888,\"#fdca26\"],[1.0,\"#f0f921\"]],\"type\":\"heatmapgl\"}],\"histogram\":[{\"marker\":{\"pattern\":{\"fillmode\":\"overlay\",\"size\":10,\"solidity\":0.2}},\"type\":\"histogram\"}],\"histogram2d\":[{\"colorbar\":{\"outlinewidth\":0,\"ticks\":\"\"},\"colorscale\":[[0.0,\"#0d0887\"],[0.1111111111111111,\"#46039f\"],[0.2222222222222222,\"#7201a8\"],[0.3333333333333333,\"#9c179e\"],[0.4444444444444444,\"#bd3786\"],[0.5555555555555556,\"#d8576b\"],[0.6666666666666666,\"#ed7953\"],[0.7777777777777778,\"#fb9f3a\"],[0.8888888888888888,\"#fdca26\"],[1.0,\"#f0f921\"]],\"type\":\"histogram2d\"}],\"histogram2dcontour\":[{\"colorbar\":{\"outlinewidth\":0,\"ticks\":\"\"},\"colorscale\":[[0.0,\"#0d0887\"],[0.1111111111111111,\"#46039f\"],[0.2222222222222222,\"#7201a8\"],[0.3333333333333333,\"#9c179e\"],[0.4444444444444444,\"#bd3786\"],[0.5555555555555556,\"#d8576b\"],[0.6666666666666666,\"#ed7953\"],[0.7777777777777778,\"#fb9f3a\"],[0.8888888888888888,\"#fdca26\"],[1.0,\"#f0f921\"]],\"type\":\"histogram2dcontour\"}],\"mesh3d\":[{\"colorbar\":{\"outlinewidth\":0,\"ticks\":\"\"},\"type\":\"mesh3d\"}],\"parcoords\":[{\"line\":{\"colorbar\":{\"outlinewidth\":0,\"ticks\":\"\"}},\"type\":\"parcoords\"}],\"pie\":[{\"automargin\":true,\"type\":\"pie\"}],\"scatter\":[{\"marker\":{\"colorbar\":{\"outlinewidth\":0,\"ticks\":\"\"}},\"type\":\"scatter\"}],\"scatter3d\":[{\"line\":{\"colorbar\":{\"outlinewidth\":0,\"ticks\":\"\"}},\"marker\":{\"colorbar\":{\"outlinewidth\":0,\"ticks\":\"\"}},\"type\":\"scatter3d\"}],\"scattercarpet\":[{\"marker\":{\"colorbar\":{\"outlinewidth\":0,\"ticks\":\"\"}},\"type\":\"scattercarpet\"}],\"scattergeo\":[{\"marker\":{\"colorbar\":{\"outlinewidth\":0,\"ticks\":\"\"}},\"type\":\"scattergeo\"}],\"scattergl\":[{\"marker\":{\"colorbar\":{\"outlinewidth\":0,\"ticks\":\"\"}},\"type\":\"scattergl\"}],\"scattermapbox\":[{\"marker\":{\"colorbar\":{\"outlinewidth\":0,\"ticks\":\"\"}},\"type\":\"scattermapbox\"}],\"scatterpolar\":[{\"marker\":{\"colorbar\":{\"outlinewidth\":0,\"ticks\":\"\"}},\"type\":\"scatterpolar\"}],\"scatterpolargl\":[{\"marker\":{\"colorbar\":{\"outlinewidth\":0,\"ticks\":\"\"}},\"type\":\"scatterpolargl\"}],\"scatterternary\":[{\"marker\":{\"colorbar\":{\"outlinewidth\":0,\"ticks\":\"\"}},\"type\":\"scatterternary\"}],\"surface\":[{\"colorbar\":{\"outlinewidth\":0,\"ticks\":\"\"},\"colorscale\":[[0.0,\"#0d0887\"],[0.1111111111111111,\"#46039f\"],[0.2222222222222222,\"#7201a8\"],[0.3333333333333333,\"#9c179e\"],[0.4444444444444444,\"#bd3786\"],[0.5555555555555556,\"#d8576b\"],[0.6666666666666666,\"#ed7953\"],[0.7777777777777778,\"#fb9f3a\"],[0.8888888888888888,\"#fdca26\"],[1.0,\"#f0f921\"]],\"type\":\"surface\"}],\"table\":[{\"cells\":{\"fill\":{\"color\":\"#EBF0F8\"},\"line\":{\"color\":\"white\"}},\"header\":{\"fill\":{\"color\":\"#C8D4E3\"},\"line\":{\"color\":\"white\"}},\"type\":\"table\"}]},\"layout\":{\"annotationdefaults\":{\"arrowcolor\":\"#2a3f5f\",\"arrowhead\":0,\"arrowwidth\":1},\"autotypenumbers\":\"strict\",\"coloraxis\":{\"colorbar\":{\"outlinewidth\":0,\"ticks\":\"\"}},\"colorscale\":{\"diverging\":[[0,\"#8e0152\"],[0.1,\"#c51b7d\"],[0.2,\"#de77ae\"],[0.3,\"#f1b6da\"],[0.4,\"#fde0ef\"],[0.5,\"#f7f7f7\"],[0.6,\"#e6f5d0\"],[0.7,\"#b8e186\"],[0.8,\"#7fbc41\"],[0.9,\"#4d9221\"],[1,\"#276419\"]],\"sequential\":[[0.0,\"#0d0887\"],[0.1111111111111111,\"#46039f\"],[0.2222222222222222,\"#7201a8\"],[0.3333333333333333,\"#9c179e\"],[0.4444444444444444,\"#bd3786\"],[0.5555555555555556,\"#d8576b\"],[0.6666666666666666,\"#ed7953\"],[0.7777777777777778,\"#fb9f3a\"],[0.8888888888888888,\"#fdca26\"],[1.0,\"#f0f921\"]],\"sequentialminus\":[[0.0,\"#0d0887\"],[0.1111111111111111,\"#46039f\"],[0.2222222222222222,\"#7201a8\"],[0.3333333333333333,\"#9c179e\"],[0.4444444444444444,\"#bd3786\"],[0.5555555555555556,\"#d8576b\"],[0.6666666666666666,\"#ed7953\"],[0.7777777777777778,\"#fb9f3a\"],[0.8888888888888888,\"#fdca26\"],[1.0,\"#f0f921\"]]},\"colorway\":[\"#636efa\",\"#EF553B\",\"#00cc96\",\"#ab63fa\",\"#FFA15A\",\"#19d3f3\",\"#FF6692\",\"#B6E880\",\"#FF97FF\",\"#FECB52\"],\"font\":{\"color\":\"#2a3f5f\"},\"geo\":{\"bgcolor\":\"white\",\"lakecolor\":\"white\",\"landcolor\":\"#E5ECF6\",\"showlakes\":true,\"showland\":true,\"subunitcolor\":\"white\"},\"hoverlabel\":{\"align\":\"left\"},\"hovermode\":\"closest\",\"mapbox\":{\"style\":\"light\"},\"paper_bgcolor\":\"white\",\"plot_bgcolor\":\"#E5ECF6\",\"polar\":{\"angularaxis\":{\"gridcolor\":\"white\",\"linecolor\":\"white\",\"ticks\":\"\"},\"bgcolor\":\"#E5ECF6\",\"radialaxis\":{\"gridcolor\":\"white\",\"linecolor\":\"white\",\"ticks\":\"\"}},\"scene\":{\"xaxis\":{\"backgroundcolor\":\"#E5ECF6\",\"gridcolor\":\"white\",\"gridwidth\":2,\"linecolor\":\"white\",\"showbackground\":true,\"ticks\":\"\",\"zerolinecolor\":\"white\"},\"yaxis\":{\"backgroundcolor\":\"#E5ECF6\",\"gridcolor\":\"white\",\"gridwidth\":2,\"linecolor\":\"white\",\"showbackground\":true,\"ticks\":\"\",\"zerolinecolor\":\"white\"},\"zaxis\":{\"backgroundcolor\":\"#E5ECF6\",\"gridcolor\":\"white\",\"gridwidth\":2,\"linecolor\":\"white\",\"showbackground\":true,\"ticks\":\"\",\"zerolinecolor\":\"white\"}},\"shapedefaults\":{\"line\":{\"color\":\"#2a3f5f\"}},\"ternary\":{\"aaxis\":{\"gridcolor\":\"white\",\"linecolor\":\"white\",\"ticks\":\"\"},\"baxis\":{\"gridcolor\":\"white\",\"linecolor\":\"white\",\"ticks\":\"\"},\"bgcolor\":\"#E5ECF6\",\"caxis\":{\"gridcolor\":\"white\",\"linecolor\":\"white\",\"ticks\":\"\"}},\"title\":{\"x\":0.05},\"xaxis\":{\"automargin\":true,\"gridcolor\":\"white\",\"linecolor\":\"white\",\"ticks\":\"\",\"title\":{\"standoff\":15},\"zerolinecolor\":\"white\",\"zerolinewidth\":2},\"yaxis\":{\"automargin\":true,\"gridcolor\":\"white\",\"linecolor\":\"white\",\"ticks\":\"\",\"title\":{\"standoff\":15},\"zerolinecolor\":\"white\",\"zerolinewidth\":2}}},\"margin\":{\"r\":20,\"t\":20,\"l\":20,\"b\":20},\"geo\":{\"fitbounds\":\"locations\",\"visible\":false}},                        {\"responsive\": true}                    ).then(function(){\n",
       "                            \n",
       "var gd = document.getElementById('bbaf1e23-d709-40bc-9e11-4d7ed4908c2e');\n",
       "var x = new MutationObserver(function (mutations, observer) {{\n",
       "        var display = window.getComputedStyle(gd).display;\n",
       "        if (!display || display === 'none') {{\n",
       "            console.log([gd, 'removed!']);\n",
       "            Plotly.purge(gd);\n",
       "            observer.disconnect();\n",
       "        }}\n",
       "}});\n",
       "\n",
       "// Listen for the removal of the full notebook cells\n",
       "var notebookContainer = gd.closest('#notebook-container');\n",
       "if (notebookContainer) {{\n",
       "    x.observe(notebookContainer, {childList: true});\n",
       "}}\n",
       "\n",
       "// Listen for the clearing of the current output cell\n",
       "var outputEl = gd.closest('.output');\n",
       "if (outputEl) {{\n",
       "    x.observe(outputEl, {childList: true});\n",
       "}}\n",
       "\n",
       "                        })                };                });            </script>        </div>"
      ]
     },
     "metadata": {},
     "output_type": "display_data"
    }
   ],
   "source": [
    "graph_countries_distribution(data)"
   ]
  },
  {
   "cell_type": "code",
   "execution_count": 219,
   "id": "b4c056c7-6748-4fd6-ad7a-81a929a07dcc",
   "metadata": {},
   "outputs": [
    {
     "data": {
      "application/vnd.plotly.v1+json": {
       "config": {
        "plotlyServerURL": "https://plot.ly"
       },
       "data": [
        {
         "coloraxis": "coloraxis",
         "geo": "geo",
         "hovertemplate": "<b>%{hovertext}</b><br><br>iso_alpha=%{location}<br>lifeExp=%{z}<extra></extra>",
         "hovertext": [
          "Afghanistan",
          "Albania",
          "Algeria",
          "Angola",
          "Argentina",
          "Australia",
          "Austria",
          "Bahrain",
          "Bangladesh",
          "Belgium",
          "Benin",
          "Bolivia",
          "Bosnia and Herzegovina",
          "Botswana",
          "Brazil",
          "Bulgaria",
          "Burkina Faso",
          "Burundi",
          "Cambodia",
          "Cameroon",
          "Canada",
          "Central African Republic",
          "Chad",
          "Chile",
          "China",
          "Colombia",
          "Comoros",
          "Congo, Dem. Rep.",
          "Congo, Rep.",
          "Costa Rica",
          "Cote d'Ivoire",
          "Croatia",
          "Cuba",
          "Czech Republic",
          "Denmark",
          "Djibouti",
          "Dominican Republic",
          "Ecuador",
          "Egypt",
          "El Salvador",
          "Equatorial Guinea",
          "Eritrea",
          "Ethiopia",
          "Finland",
          "France",
          "Gabon",
          "Gambia",
          "Germany",
          "Ghana",
          "Greece",
          "Guatemala",
          "Guinea",
          "Guinea-Bissau",
          "Haiti",
          "Honduras",
          "Hong Kong, China",
          "Hungary",
          "Iceland",
          "India",
          "Indonesia",
          "Iran",
          "Iraq",
          "Ireland",
          "Israel",
          "Italy",
          "Jamaica",
          "Japan",
          "Jordan",
          "Kenya",
          "Korea, Dem. Rep.",
          "Korea, Rep.",
          "Kuwait",
          "Lebanon",
          "Lesotho",
          "Liberia",
          "Libya",
          "Madagascar",
          "Malawi",
          "Malaysia",
          "Mali",
          "Mauritania",
          "Mauritius",
          "Mexico",
          "Mongolia",
          "Montenegro",
          "Morocco",
          "Mozambique",
          "Myanmar",
          "Namibia",
          "Nepal",
          "Netherlands",
          "New Zealand",
          "Nicaragua",
          "Niger",
          "Nigeria",
          "Norway",
          "Oman",
          "Pakistan",
          "Panama",
          "Paraguay",
          "Peru",
          "Philippines",
          "Poland",
          "Portugal",
          "Puerto Rico",
          "Reunion",
          "Romania",
          "Rwanda",
          "Sao Tome and Principe",
          "Saudi Arabia",
          "Senegal",
          "Serbia",
          "Sierra Leone",
          "Singapore",
          "Slovak Republic",
          "Slovenia",
          "Somalia",
          "South Africa",
          "Spain",
          "Sri Lanka",
          "Sudan",
          "Swaziland",
          "Sweden",
          "Switzerland",
          "Syria",
          "Taiwan",
          "Tanzania",
          "Thailand",
          "Togo",
          "Trinidad and Tobago",
          "Tunisia",
          "Turkey",
          "Uganda",
          "United Kingdom",
          "United States",
          "Uruguay",
          "Venezuela",
          "Vietnam",
          "West Bank and Gaza",
          "Yemen, Rep.",
          "Zambia",
          "Zimbabwe"
         ],
         "locations": [
          "AFG",
          "ALB",
          "DZA",
          "AGO",
          "ARG",
          "AUS",
          "AUT",
          "BHR",
          "BGD",
          "BEL",
          "BEN",
          "BOL",
          "BIH",
          "BWA",
          "BRA",
          "BGR",
          "BFA",
          "BDI",
          "KHM",
          "CMR",
          "CAN",
          "CAF",
          "TCD",
          "CHL",
          "CHN",
          "COL",
          "COM",
          "COD",
          "COG",
          "CRI",
          "CIV",
          "HRV",
          "CUB",
          "CZE",
          "DNK",
          "DJI",
          "DOM",
          "ECU",
          "EGY",
          "SLV",
          "GNQ",
          "ERI",
          "ETH",
          "FIN",
          "FRA",
          "GAB",
          "GMB",
          "DEU",
          "GHA",
          "GRC",
          "GTM",
          "GIN",
          "GNB",
          "HTI",
          "HND",
          "HKG",
          "HUN",
          "ISL",
          "IND",
          "IDN",
          "IRN",
          "IRQ",
          "IRL",
          "ISR",
          "ITA",
          "JAM",
          "JPN",
          "JOR",
          "KEN",
          "KOR",
          "KOR",
          "KWT",
          "LBN",
          "LSO",
          "LBR",
          "LBY",
          "MDG",
          "MWI",
          "MYS",
          "MLI",
          "MRT",
          "MUS",
          "MEX",
          "MNG",
          "MNE",
          "MAR",
          "MOZ",
          "MMR",
          "NAM",
          "NPL",
          "NLD",
          "NZL",
          "NIC",
          "NER",
          "NGA",
          "NOR",
          "OMN",
          "PAK",
          "PAN",
          "PRY",
          "PER",
          "PHL",
          "POL",
          "PRT",
          "PRI",
          "REU",
          "ROU",
          "RWA",
          "STP",
          "SAU",
          "SEN",
          "SRB",
          "SLE",
          "SGP",
          "SVK",
          "SVN",
          "SOM",
          "ZAF",
          "ESP",
          "LKA",
          "SDN",
          "SWZ",
          "SWE",
          "CHE",
          "SYR",
          "TWN",
          "TZA",
          "THA",
          "TGO",
          "TTO",
          "TUN",
          "TUR",
          "UGA",
          "GBR",
          "USA",
          "URY",
          "VEN",
          "VNM",
          "PSE",
          "YEM",
          "ZMB",
          "ZWE"
         ],
         "name": "",
         "type": "choropleth",
         "z": [
          43.828,
          76.423,
          72.301,
          42.731,
          75.32,
          81.235,
          79.829,
          75.635,
          64.062,
          79.441,
          56.728,
          65.554,
          74.852,
          50.728,
          72.39,
          73.005,
          52.295,
          49.58,
          59.723,
          50.43,
          80.653,
          44.74100000000001,
          50.651,
          78.553,
          72.961,
          72.889,
          65.152,
          46.462,
          55.322,
          78.782,
          48.328,
          75.748,
          78.273,
          76.486,
          78.332,
          54.791,
          72.235,
          74.994,
          71.33800000000002,
          71.878,
          51.57899999999999,
          58.04,
          52.947,
          79.313,
          80.657,
          56.735,
          59.448,
          79.406,
          60.022,
          79.483,
          70.259,
          56.007,
          46.38800000000001,
          60.916,
          70.19800000000001,
          82.208,
          73.33800000000002,
          81.757,
          64.69800000000001,
          70.65,
          70.964,
          59.545,
          78.885,
          80.745,
          80.546,
          72.567,
          82.603,
          72.535,
          54.11,
          67.297,
          78.623,
          77.58800000000002,
          71.993,
          42.592,
          45.678,
          73.952,
          59.44300000000001,
          48.303,
          74.241,
          54.467,
          64.164,
          72.801,
          76.195,
          66.803,
          74.543,
          71.164,
          42.082,
          62.069,
          52.90600000000001,
          63.785,
          79.762,
          80.204,
          72.899,
          56.867,
          46.859,
          80.196,
          75.64,
          65.483,
          75.53699999999998,
          71.752,
          71.421,
          71.688,
          75.563,
          78.098,
          78.74600000000002,
          76.442,
          72.476,
          46.242,
          65.528,
          72.777,
          63.062,
          74.002,
          42.56800000000001,
          79.972,
          74.663,
          77.926,
          48.159,
          49.339,
          80.941,
          72.396,
          58.556,
          39.613,
          80.884,
          81.70100000000002,
          74.143,
          78.4,
          52.517,
          70.616,
          58.42,
          69.819,
          73.923,
          71.777,
          51.542,
          79.425,
          78.242,
          76.384,
          73.747,
          74.249,
          73.422,
          62.698,
          42.38399999999999,
          43.487
         ]
        }
       ],
       "layout": {
        "autosize": true,
        "coloraxis": {
         "colorbar": {
          "title": {
           "text": "lifeExp"
          }
         },
         "colorscale": [
          [
           0,
           "#0d0887"
          ],
          [
           0.1111111111111111,
           "#46039f"
          ],
          [
           0.2222222222222222,
           "#7201a8"
          ],
          [
           0.3333333333333333,
           "#9c179e"
          ],
          [
           0.4444444444444444,
           "#bd3786"
          ],
          [
           0.5555555555555556,
           "#d8576b"
          ],
          [
           0.6666666666666666,
           "#ed7953"
          ],
          [
           0.7777777777777778,
           "#fb9f3a"
          ],
          [
           0.8888888888888888,
           "#fdca26"
          ],
          [
           1,
           "#f0f921"
          ]
         ],
         "showscale": false
        },
        "geo": {
         "center": {
          "lat": 23.628351163987354,
          "lon": 70.0543355792574
         },
         "domain": {
          "x": [
           0,
           1
          ],
          "y": [
           0,
           1
          ]
         },
         "fitbounds": false,
         "projection": {
          "rotation": {
           "lon": 70.0543355792574
          },
          "scale": 0.658589168990056
         },
         "visible": false
        },
        "legend": {
         "tracegroupgap": 0
        },
        "margin": {
         "b": 0,
         "l": 0,
         "r": 0,
         "t": 0
        },
        "template": {
         "data": {
          "bar": [
           {
            "error_x": {
             "color": "#2a3f5f"
            },
            "error_y": {
             "color": "#2a3f5f"
            },
            "marker": {
             "line": {
              "color": "#E5ECF6",
              "width": 0.5
             },
             "pattern": {
              "fillmode": "overlay",
              "size": 10,
              "solidity": 0.2
             }
            },
            "type": "bar"
           }
          ],
          "barpolar": [
           {
            "marker": {
             "line": {
              "color": "#E5ECF6",
              "width": 0.5
             },
             "pattern": {
              "fillmode": "overlay",
              "size": 10,
              "solidity": 0.2
             }
            },
            "type": "barpolar"
           }
          ],
          "carpet": [
           {
            "aaxis": {
             "endlinecolor": "#2a3f5f",
             "gridcolor": "white",
             "linecolor": "white",
             "minorgridcolor": "white",
             "startlinecolor": "#2a3f5f"
            },
            "baxis": {
             "endlinecolor": "#2a3f5f",
             "gridcolor": "white",
             "linecolor": "white",
             "minorgridcolor": "white",
             "startlinecolor": "#2a3f5f"
            },
            "type": "carpet"
           }
          ],
          "choropleth": [
           {
            "colorbar": {
             "outlinewidth": 0,
             "ticks": ""
            },
            "type": "choropleth"
           }
          ],
          "contour": [
           {
            "colorbar": {
             "outlinewidth": 0,
             "ticks": ""
            },
            "colorscale": [
             [
              0,
              "#0d0887"
             ],
             [
              0.1111111111111111,
              "#46039f"
             ],
             [
              0.2222222222222222,
              "#7201a8"
             ],
             [
              0.3333333333333333,
              "#9c179e"
             ],
             [
              0.4444444444444444,
              "#bd3786"
             ],
             [
              0.5555555555555556,
              "#d8576b"
             ],
             [
              0.6666666666666666,
              "#ed7953"
             ],
             [
              0.7777777777777778,
              "#fb9f3a"
             ],
             [
              0.8888888888888888,
              "#fdca26"
             ],
             [
              1,
              "#f0f921"
             ]
            ],
            "type": "contour"
           }
          ],
          "contourcarpet": [
           {
            "colorbar": {
             "outlinewidth": 0,
             "ticks": ""
            },
            "type": "contourcarpet"
           }
          ],
          "heatmap": [
           {
            "colorbar": {
             "outlinewidth": 0,
             "ticks": ""
            },
            "colorscale": [
             [
              0,
              "#0d0887"
             ],
             [
              0.1111111111111111,
              "#46039f"
             ],
             [
              0.2222222222222222,
              "#7201a8"
             ],
             [
              0.3333333333333333,
              "#9c179e"
             ],
             [
              0.4444444444444444,
              "#bd3786"
             ],
             [
              0.5555555555555556,
              "#d8576b"
             ],
             [
              0.6666666666666666,
              "#ed7953"
             ],
             [
              0.7777777777777778,
              "#fb9f3a"
             ],
             [
              0.8888888888888888,
              "#fdca26"
             ],
             [
              1,
              "#f0f921"
             ]
            ],
            "type": "heatmap"
           }
          ],
          "heatmapgl": [
           {
            "colorbar": {
             "outlinewidth": 0,
             "ticks": ""
            },
            "colorscale": [
             [
              0,
              "#0d0887"
             ],
             [
              0.1111111111111111,
              "#46039f"
             ],
             [
              0.2222222222222222,
              "#7201a8"
             ],
             [
              0.3333333333333333,
              "#9c179e"
             ],
             [
              0.4444444444444444,
              "#bd3786"
             ],
             [
              0.5555555555555556,
              "#d8576b"
             ],
             [
              0.6666666666666666,
              "#ed7953"
             ],
             [
              0.7777777777777778,
              "#fb9f3a"
             ],
             [
              0.8888888888888888,
              "#fdca26"
             ],
             [
              1,
              "#f0f921"
             ]
            ],
            "type": "heatmapgl"
           }
          ],
          "histogram": [
           {
            "marker": {
             "pattern": {
              "fillmode": "overlay",
              "size": 10,
              "solidity": 0.2
             }
            },
            "type": "histogram"
           }
          ],
          "histogram2d": [
           {
            "colorbar": {
             "outlinewidth": 0,
             "ticks": ""
            },
            "colorscale": [
             [
              0,
              "#0d0887"
             ],
             [
              0.1111111111111111,
              "#46039f"
             ],
             [
              0.2222222222222222,
              "#7201a8"
             ],
             [
              0.3333333333333333,
              "#9c179e"
             ],
             [
              0.4444444444444444,
              "#bd3786"
             ],
             [
              0.5555555555555556,
              "#d8576b"
             ],
             [
              0.6666666666666666,
              "#ed7953"
             ],
             [
              0.7777777777777778,
              "#fb9f3a"
             ],
             [
              0.8888888888888888,
              "#fdca26"
             ],
             [
              1,
              "#f0f921"
             ]
            ],
            "type": "histogram2d"
           }
          ],
          "histogram2dcontour": [
           {
            "colorbar": {
             "outlinewidth": 0,
             "ticks": ""
            },
            "colorscale": [
             [
              0,
              "#0d0887"
             ],
             [
              0.1111111111111111,
              "#46039f"
             ],
             [
              0.2222222222222222,
              "#7201a8"
             ],
             [
              0.3333333333333333,
              "#9c179e"
             ],
             [
              0.4444444444444444,
              "#bd3786"
             ],
             [
              0.5555555555555556,
              "#d8576b"
             ],
             [
              0.6666666666666666,
              "#ed7953"
             ],
             [
              0.7777777777777778,
              "#fb9f3a"
             ],
             [
              0.8888888888888888,
              "#fdca26"
             ],
             [
              1,
              "#f0f921"
             ]
            ],
            "type": "histogram2dcontour"
           }
          ],
          "mesh3d": [
           {
            "colorbar": {
             "outlinewidth": 0,
             "ticks": ""
            },
            "type": "mesh3d"
           }
          ],
          "parcoords": [
           {
            "line": {
             "colorbar": {
              "outlinewidth": 0,
              "ticks": ""
             }
            },
            "type": "parcoords"
           }
          ],
          "pie": [
           {
            "automargin": true,
            "type": "pie"
           }
          ],
          "scatter": [
           {
            "marker": {
             "colorbar": {
              "outlinewidth": 0,
              "ticks": ""
             }
            },
            "type": "scatter"
           }
          ],
          "scatter3d": [
           {
            "line": {
             "colorbar": {
              "outlinewidth": 0,
              "ticks": ""
             }
            },
            "marker": {
             "colorbar": {
              "outlinewidth": 0,
              "ticks": ""
             }
            },
            "type": "scatter3d"
           }
          ],
          "scattercarpet": [
           {
            "marker": {
             "colorbar": {
              "outlinewidth": 0,
              "ticks": ""
             }
            },
            "type": "scattercarpet"
           }
          ],
          "scattergeo": [
           {
            "marker": {
             "colorbar": {
              "outlinewidth": 0,
              "ticks": ""
             }
            },
            "type": "scattergeo"
           }
          ],
          "scattergl": [
           {
            "marker": {
             "colorbar": {
              "outlinewidth": 0,
              "ticks": ""
             }
            },
            "type": "scattergl"
           }
          ],
          "scattermapbox": [
           {
            "marker": {
             "colorbar": {
              "outlinewidth": 0,
              "ticks": ""
             }
            },
            "type": "scattermapbox"
           }
          ],
          "scatterpolar": [
           {
            "marker": {
             "colorbar": {
              "outlinewidth": 0,
              "ticks": ""
             }
            },
            "type": "scatterpolar"
           }
          ],
          "scatterpolargl": [
           {
            "marker": {
             "colorbar": {
              "outlinewidth": 0,
              "ticks": ""
             }
            },
            "type": "scatterpolargl"
           }
          ],
          "scatterternary": [
           {
            "marker": {
             "colorbar": {
              "outlinewidth": 0,
              "ticks": ""
             }
            },
            "type": "scatterternary"
           }
          ],
          "surface": [
           {
            "colorbar": {
             "outlinewidth": 0,
             "ticks": ""
            },
            "colorscale": [
             [
              0,
              "#0d0887"
             ],
             [
              0.1111111111111111,
              "#46039f"
             ],
             [
              0.2222222222222222,
              "#7201a8"
             ],
             [
              0.3333333333333333,
              "#9c179e"
             ],
             [
              0.4444444444444444,
              "#bd3786"
             ],
             [
              0.5555555555555556,
              "#d8576b"
             ],
             [
              0.6666666666666666,
              "#ed7953"
             ],
             [
              0.7777777777777778,
              "#fb9f3a"
             ],
             [
              0.8888888888888888,
              "#fdca26"
             ],
             [
              1,
              "#f0f921"
             ]
            ],
            "type": "surface"
           }
          ],
          "table": [
           {
            "cells": {
             "fill": {
              "color": "#EBF0F8"
             },
             "line": {
              "color": "white"
             }
            },
            "header": {
             "fill": {
              "color": "#C8D4E3"
             },
             "line": {
              "color": "white"
             }
            },
            "type": "table"
           }
          ]
         },
         "layout": {
          "annotationdefaults": {
           "arrowcolor": "#2a3f5f",
           "arrowhead": 0,
           "arrowwidth": 1
          },
          "autotypenumbers": "strict",
          "coloraxis": {
           "colorbar": {
            "outlinewidth": 0,
            "ticks": ""
           }
          },
          "colorscale": {
           "diverging": [
            [
             0,
             "#8e0152"
            ],
            [
             0.1,
             "#c51b7d"
            ],
            [
             0.2,
             "#de77ae"
            ],
            [
             0.3,
             "#f1b6da"
            ],
            [
             0.4,
             "#fde0ef"
            ],
            [
             0.5,
             "#f7f7f7"
            ],
            [
             0.6,
             "#e6f5d0"
            ],
            [
             0.7,
             "#b8e186"
            ],
            [
             0.8,
             "#7fbc41"
            ],
            [
             0.9,
             "#4d9221"
            ],
            [
             1,
             "#276419"
            ]
           ],
           "sequential": [
            [
             0,
             "#0d0887"
            ],
            [
             0.1111111111111111,
             "#46039f"
            ],
            [
             0.2222222222222222,
             "#7201a8"
            ],
            [
             0.3333333333333333,
             "#9c179e"
            ],
            [
             0.4444444444444444,
             "#bd3786"
            ],
            [
             0.5555555555555556,
             "#d8576b"
            ],
            [
             0.6666666666666666,
             "#ed7953"
            ],
            [
             0.7777777777777778,
             "#fb9f3a"
            ],
            [
             0.8888888888888888,
             "#fdca26"
            ],
            [
             1,
             "#f0f921"
            ]
           ],
           "sequentialminus": [
            [
             0,
             "#0d0887"
            ],
            [
             0.1111111111111111,
             "#46039f"
            ],
            [
             0.2222222222222222,
             "#7201a8"
            ],
            [
             0.3333333333333333,
             "#9c179e"
            ],
            [
             0.4444444444444444,
             "#bd3786"
            ],
            [
             0.5555555555555556,
             "#d8576b"
            ],
            [
             0.6666666666666666,
             "#ed7953"
            ],
            [
             0.7777777777777778,
             "#fb9f3a"
            ],
            [
             0.8888888888888888,
             "#fdca26"
            ],
            [
             1,
             "#f0f921"
            ]
           ]
          },
          "colorway": [
           "#636efa",
           "#EF553B",
           "#00cc96",
           "#ab63fa",
           "#FFA15A",
           "#19d3f3",
           "#FF6692",
           "#B6E880",
           "#FF97FF",
           "#FECB52"
          ],
          "font": {
           "color": "#2a3f5f"
          },
          "geo": {
           "bgcolor": "white",
           "lakecolor": "white",
           "landcolor": "#E5ECF6",
           "showlakes": true,
           "showland": true,
           "subunitcolor": "white"
          },
          "hoverlabel": {
           "align": "left"
          },
          "hovermode": "closest",
          "mapbox": {
           "style": "light"
          },
          "paper_bgcolor": "white",
          "plot_bgcolor": "#E5ECF6",
          "polar": {
           "angularaxis": {
            "gridcolor": "white",
            "linecolor": "white",
            "ticks": ""
           },
           "bgcolor": "#E5ECF6",
           "radialaxis": {
            "gridcolor": "white",
            "linecolor": "white",
            "ticks": ""
           }
          },
          "scene": {
           "xaxis": {
            "backgroundcolor": "#E5ECF6",
            "gridcolor": "white",
            "gridwidth": 2,
            "linecolor": "white",
            "showbackground": true,
            "ticks": "",
            "zerolinecolor": "white"
           },
           "yaxis": {
            "backgroundcolor": "#E5ECF6",
            "gridcolor": "white",
            "gridwidth": 2,
            "linecolor": "white",
            "showbackground": true,
            "ticks": "",
            "zerolinecolor": "white"
           },
           "zaxis": {
            "backgroundcolor": "#E5ECF6",
            "gridcolor": "white",
            "gridwidth": 2,
            "linecolor": "white",
            "showbackground": true,
            "ticks": "",
            "zerolinecolor": "white"
           }
          },
          "shapedefaults": {
           "line": {
            "color": "#2a3f5f"
           }
          },
          "ternary": {
           "aaxis": {
            "gridcolor": "white",
            "linecolor": "white",
            "ticks": ""
           },
           "baxis": {
            "gridcolor": "white",
            "linecolor": "white",
            "ticks": ""
           },
           "bgcolor": "#E5ECF6",
           "caxis": {
            "gridcolor": "white",
            "linecolor": "white",
            "ticks": ""
           }
          },
          "title": {
           "x": 0.05
          },
          "xaxis": {
           "automargin": true,
           "gridcolor": "white",
           "linecolor": "white",
           "ticks": "",
           "title": {
            "standoff": 15
           },
           "zerolinecolor": "white",
           "zerolinewidth": 2
          },
          "yaxis": {
           "automargin": true,
           "gridcolor": "white",
           "linecolor": "white",
           "ticks": "",
           "title": {
            "standoff": 15
           },
           "zerolinecolor": "white",
           "zerolinewidth": 2
          }
         }
        }
       }
      },
      "image/png": "[encoded data removed]",
      "text/html": [
       "<div>                            <div id=\"ac9105e9-ebd9-467d-8079-5089b02889ce\" class=\"plotly-graph-div\" style=\"height:300px; width:100%;\"></div>            <script type=\"text/javascript\">                require([\"plotly\"], function(Plotly) {                    window.PLOTLYENV=window.PLOTLYENV || {};                                    if (document.getElementById(\"ac9105e9-ebd9-467d-8079-5089b02889ce\")) {                    Plotly.newPlot(                        \"ac9105e9-ebd9-467d-8079-5089b02889ce\",                        [{\"coloraxis\":\"coloraxis\",\"geo\":\"geo\",\"hovertemplate\":\"<b>%{hovertext}</b><br><br>iso_alpha=%{location}<br>lifeExp=%{z}<extra></extra>\",\"hovertext\":[\"Afghanistan\",\"Albania\",\"Algeria\",\"Angola\",\"Argentina\",\"Australia\",\"Austria\",\"Bahrain\",\"Bangladesh\",\"Belgium\",\"Benin\",\"Bolivia\",\"Bosnia and Herzegovina\",\"Botswana\",\"Brazil\",\"Bulgaria\",\"Burkina Faso\",\"Burundi\",\"Cambodia\",\"Cameroon\",\"Canada\",\"Central African Republic\",\"Chad\",\"Chile\",\"China\",\"Colombia\",\"Comoros\",\"Congo, Dem. Rep.\",\"Congo, Rep.\",\"Costa Rica\",\"Cote d'Ivoire\",\"Croatia\",\"Cuba\",\"Czech Republic\",\"Denmark\",\"Djibouti\",\"Dominican Republic\",\"Ecuador\",\"Egypt\",\"El Salvador\",\"Equatorial Guinea\",\"Eritrea\",\"Ethiopia\",\"Finland\",\"France\",\"Gabon\",\"Gambia\",\"Germany\",\"Ghana\",\"Greece\",\"Guatemala\",\"Guinea\",\"Guinea-Bissau\",\"Haiti\",\"Honduras\",\"Hong Kong, China\",\"Hungary\",\"Iceland\",\"India\",\"Indonesia\",\"Iran\",\"Iraq\",\"Ireland\",\"Israel\",\"Italy\",\"Jamaica\",\"Japan\",\"Jordan\",\"Kenya\",\"Korea, Dem. Rep.\",\"Korea, Rep.\",\"Kuwait\",\"Lebanon\",\"Lesotho\",\"Liberia\",\"Libya\",\"Madagascar\",\"Malawi\",\"Malaysia\",\"Mali\",\"Mauritania\",\"Mauritius\",\"Mexico\",\"Mongolia\",\"Montenegro\",\"Morocco\",\"Mozambique\",\"Myanmar\",\"Namibia\",\"Nepal\",\"Netherlands\",\"New Zealand\",\"Nicaragua\",\"Niger\",\"Nigeria\",\"Norway\",\"Oman\",\"Pakistan\",\"Panama\",\"Paraguay\",\"Peru\",\"Philippines\",\"Poland\",\"Portugal\",\"Puerto Rico\",\"Reunion\",\"Romania\",\"Rwanda\",\"Sao Tome and Principe\",\"Saudi Arabia\",\"Senegal\",\"Serbia\",\"Sierra Leone\",\"Singapore\",\"Slovak Republic\",\"Slovenia\",\"Somalia\",\"South Africa\",\"Spain\",\"Sri Lanka\",\"Sudan\",\"Swaziland\",\"Sweden\",\"Switzerland\",\"Syria\",\"Taiwan\",\"Tanzania\",\"Thailand\",\"Togo\",\"Trinidad and Tobago\",\"Tunisia\",\"Turkey\",\"Uganda\",\"United Kingdom\",\"United States\",\"Uruguay\",\"Venezuela\",\"Vietnam\",\"West Bank and Gaza\",\"Yemen, Rep.\",\"Zambia\",\"Zimbabwe\"],\"locations\":[\"AFG\",\"ALB\",\"DZA\",\"AGO\",\"ARG\",\"AUS\",\"AUT\",\"BHR\",\"BGD\",\"BEL\",\"BEN\",\"BOL\",\"BIH\",\"BWA\",\"BRA\",\"BGR\",\"BFA\",\"BDI\",\"KHM\",\"CMR\",\"CAN\",\"CAF\",\"TCD\",\"CHL\",\"CHN\",\"COL\",\"COM\",\"COD\",\"COG\",\"CRI\",\"CIV\",\"HRV\",\"CUB\",\"CZE\",\"DNK\",\"DJI\",\"DOM\",\"ECU\",\"EGY\",\"SLV\",\"GNQ\",\"ERI\",\"ETH\",\"FIN\",\"FRA\",\"GAB\",\"GMB\",\"DEU\",\"GHA\",\"GRC\",\"GTM\",\"GIN\",\"GNB\",\"HTI\",\"HND\",\"HKG\",\"HUN\",\"ISL\",\"IND\",\"IDN\",\"IRN\",\"IRQ\",\"IRL\",\"ISR\",\"ITA\",\"JAM\",\"JPN\",\"JOR\",\"KEN\",\"KOR\",\"KOR\",\"KWT\",\"LBN\",\"LSO\",\"LBR\",\"LBY\",\"MDG\",\"MWI\",\"MYS\",\"MLI\",\"MRT\",\"MUS\",\"MEX\",\"MNG\",\"MNE\",\"MAR\",\"MOZ\",\"MMR\",\"NAM\",\"NPL\",\"NLD\",\"NZL\",\"NIC\",\"NER\",\"NGA\",\"NOR\",\"OMN\",\"PAK\",\"PAN\",\"PRY\",\"PER\",\"PHL\",\"POL\",\"PRT\",\"PRI\",\"REU\",\"ROU\",\"RWA\",\"STP\",\"SAU\",\"SEN\",\"SRB\",\"SLE\",\"SGP\",\"SVK\",\"SVN\",\"SOM\",\"ZAF\",\"ESP\",\"LKA\",\"SDN\",\"SWZ\",\"SWE\",\"CHE\",\"SYR\",\"TWN\",\"TZA\",\"THA\",\"TGO\",\"TTO\",\"TUN\",\"TUR\",\"UGA\",\"GBR\",\"USA\",\"URY\",\"VEN\",\"VNM\",\"PSE\",\"YEM\",\"ZMB\",\"ZWE\"],\"name\":\"\",\"z\":[43.828,76.423,72.301,42.731,75.32,81.235,79.829,75.635,64.062,79.441,56.728,65.554,74.852,50.728,72.39,73.005,52.295,49.58,59.723,50.43,80.653,44.74100000000001,50.651,78.553,72.961,72.889,65.152,46.462,55.322,78.782,48.328,75.748,78.273,76.486,78.332,54.791,72.235,74.994,71.33800000000002,71.878,51.57899999999999,58.04,52.947,79.313,80.657,56.735,59.448,79.406,60.022,79.483,70.259,56.007,46.38800000000001,60.916,70.19800000000001,82.208,73.33800000000002,81.757,64.69800000000001,70.65,70.964,59.545,78.885,80.745,80.546,72.567,82.603,72.535,54.11,67.297,78.623,77.58800000000002,71.993,42.592,45.678,73.952,59.44300000000001,48.303,74.241,54.467,64.164,72.801,76.195,66.803,74.543,71.164,42.082,62.069,52.90600000000001,63.785,79.762,80.204,72.899,56.867,46.859,80.196,75.64,65.483,75.53699999999998,71.752,71.421,71.688,75.563,78.098,78.74600000000002,76.442,72.476,46.242,65.528,72.777,63.062,74.002,42.56800000000001,79.972,74.663,77.926,48.159,49.339,80.941,72.396,58.556,39.613,80.884,81.70100000000002,74.143,78.4,52.517,70.616,58.42,69.819,73.923,71.777,51.542,79.425,78.242,76.384,73.747,74.249,73.422,62.698,42.38399999999999,43.487],\"type\":\"choropleth\"}],                        {\"template\":{\"data\":{\"bar\":[{\"error_x\":{\"color\":\"#2a3f5f\"},\"error_y\":{\"color\":\"#2a3f5f\"},\"marker\":{\"line\":{\"color\":\"#E5ECF6\",\"width\":0.5},\"pattern\":{\"fillmode\":\"overlay\",\"size\":10,\"solidity\":0.2}},\"type\":\"bar\"}],\"barpolar\":[{\"marker\":{\"line\":{\"color\":\"#E5ECF6\",\"width\":0.5},\"pattern\":{\"fillmode\":\"overlay\",\"size\":10,\"solidity\":0.2}},\"type\":\"barpolar\"}],\"carpet\":[{\"aaxis\":{\"endlinecolor\":\"#2a3f5f\",\"gridcolor\":\"white\",\"linecolor\":\"white\",\"minorgridcolor\":\"white\",\"startlinecolor\":\"#2a3f5f\"},\"baxis\":{\"endlinecolor\":\"#2a3f5f\",\"gridcolor\":\"white\",\"linecolor\":\"white\",\"minorgridcolor\":\"white\",\"startlinecolor\":\"#2a3f5f\"},\"type\":\"carpet\"}],\"choropleth\":[{\"colorbar\":{\"outlinewidth\":0,\"ticks\":\"\"},\"type\":\"choropleth\"}],\"contour\":[{\"colorbar\":{\"outlinewidth\":0,\"ticks\":\"\"},\"colorscale\":[[0.0,\"#0d0887\"],[0.1111111111111111,\"#46039f\"],[0.2222222222222222,\"#7201a8\"],[0.3333333333333333,\"#9c179e\"],[0.4444444444444444,\"#bd3786\"],[0.5555555555555556,\"#d8576b\"],[0.6666666666666666,\"#ed7953\"],[0.7777777777777778,\"#fb9f3a\"],[0.8888888888888888,\"#fdca26\"],[1.0,\"#f0f921\"]],\"type\":\"contour\"}],\"contourcarpet\":[{\"colorbar\":{\"outlinewidth\":0,\"ticks\":\"\"},\"type\":\"contourcarpet\"}],\"heatmap\":[{\"colorbar\":{\"outlinewidth\":0,\"ticks\":\"\"},\"colorscale\":[[0.0,\"#0d0887\"],[0.1111111111111111,\"#46039f\"],[0.2222222222222222,\"#7201a8\"],[0.3333333333333333,\"#9c179e\"],[0.4444444444444444,\"#bd3786\"],[0.5555555555555556,\"#d8576b\"],[0.6666666666666666,\"#ed7953\"],[0.7777777777777778,\"#fb9f3a\"],[0.8888888888888888,\"#fdca26\"],[1.0,\"#f0f921\"]],\"type\":\"heatmap\"}],\"heatmapgl\":[{\"colorbar\":{\"outlinewidth\":0,\"ticks\":\"\"},\"colorscale\":[[0.0,\"#0d0887\"],[0.1111111111111111,\"#46039f\"],[0.2222222222222222,\"#7201a8\"],[0.3333333333333333,\"#9c179e\"],[0.4444444444444444,\"#bd3786\"],[0.5555555555555556,\"#d8576b\"],[0.6666666666666666,\"#ed7953\"],[0.7777777777777778,\"#fb9f3a\"],[0.8888888888888888,\"#fdca26\"],[1.0,\"#f0f921\"]],\"type\":\"heatmapgl\"}],\"histogram\":[{\"marker\":{\"pattern\":{\"fillmode\":\"overlay\",\"size\":10,\"solidity\":0.2}},\"type\":\"histogram\"}],\"histogram2d\":[{\"colorbar\":{\"outlinewidth\":0,\"ticks\":\"\"},\"colorscale\":[[0.0,\"#0d0887\"],[0.1111111111111111,\"#46039f\"],[0.2222222222222222,\"#7201a8\"],[0.3333333333333333,\"#9c179e\"],[0.4444444444444444,\"#bd3786\"],[0.5555555555555556,\"#d8576b\"],[0.6666666666666666,\"#ed7953\"],[0.7777777777777778,\"#fb9f3a\"],[0.8888888888888888,\"#fdca26\"],[1.0,\"#f0f921\"]],\"type\":\"histogram2d\"}],\"histogram2dcontour\":[{\"colorbar\":{\"outlinewidth\":0,\"ticks\":\"\"},\"colorscale\":[[0.0,\"#0d0887\"],[0.1111111111111111,\"#46039f\"],[0.2222222222222222,\"#7201a8\"],[0.3333333333333333,\"#9c179e\"],[0.4444444444444444,\"#bd3786\"],[0.5555555555555556,\"#d8576b\"],[0.6666666666666666,\"#ed7953\"],[0.7777777777777778,\"#fb9f3a\"],[0.8888888888888888,\"#fdca26\"],[1.0,\"#f0f921\"]],\"type\":\"histogram2dcontour\"}],\"mesh3d\":[{\"colorbar\":{\"outlinewidth\":0,\"ticks\":\"\"},\"type\":\"mesh3d\"}],\"parcoords\":[{\"line\":{\"colorbar\":{\"outlinewidth\":0,\"ticks\":\"\"}},\"type\":\"parcoords\"}],\"pie\":[{\"automargin\":true,\"type\":\"pie\"}],\"scatter\":[{\"marker\":{\"colorbar\":{\"outlinewidth\":0,\"ticks\":\"\"}},\"type\":\"scatter\"}],\"scatter3d\":[{\"line\":{\"colorbar\":{\"outlinewidth\":0,\"ticks\":\"\"}},\"marker\":{\"colorbar\":{\"outlinewidth\":0,\"ticks\":\"\"}},\"type\":\"scatter3d\"}],\"scattercarpet\":[{\"marker\":{\"colorbar\":{\"outlinewidth\":0,\"ticks\":\"\"}},\"type\":\"scattercarpet\"}],\"scattergeo\":[{\"marker\":{\"colorbar\":{\"outlinewidth\":0,\"ticks\":\"\"}},\"type\":\"scattergeo\"}],\"scattergl\":[{\"marker\":{\"colorbar\":{\"outlinewidth\":0,\"ticks\":\"\"}},\"type\":\"scattergl\"}],\"scattermapbox\":[{\"marker\":{\"colorbar\":{\"outlinewidth\":0,\"ticks\":\"\"}},\"type\":\"scattermapbox\"}],\"scatterpolar\":[{\"marker\":{\"colorbar\":{\"outlinewidth\":0,\"ticks\":\"\"}},\"type\":\"scatterpolar\"}],\"scatterpolargl\":[{\"marker\":{\"colorbar\":{\"outlinewidth\":0,\"ticks\":\"\"}},\"type\":\"scatterpolargl\"}],\"scatterternary\":[{\"marker\":{\"colorbar\":{\"outlinewidth\":0,\"ticks\":\"\"}},\"type\":\"scatterternary\"}],\"surface\":[{\"colorbar\":{\"outlinewidth\":0,\"ticks\":\"\"},\"colorscale\":[[0.0,\"#0d0887\"],[0.1111111111111111,\"#46039f\"],[0.2222222222222222,\"#7201a8\"],[0.3333333333333333,\"#9c179e\"],[0.4444444444444444,\"#bd3786\"],[0.5555555555555556,\"#d8576b\"],[0.6666666666666666,\"#ed7953\"],[0.7777777777777778,\"#fb9f3a\"],[0.8888888888888888,\"#fdca26\"],[1.0,\"#f0f921\"]],\"type\":\"surface\"}],\"table\":[{\"cells\":{\"fill\":{\"color\":\"#EBF0F8\"},\"line\":{\"color\":\"white\"}},\"header\":{\"fill\":{\"color\":\"#C8D4E3\"},\"line\":{\"color\":\"white\"}},\"type\":\"table\"}]},\"layout\":{\"annotationdefaults\":{\"arrowcolor\":\"#2a3f5f\",\"arrowhead\":0,\"arrowwidth\":1},\"autotypenumbers\":\"strict\",\"coloraxis\":{\"colorbar\":{\"outlinewidth\":0,\"ticks\":\"\"}},\"colorscale\":{\"diverging\":[[0,\"#8e0152\"],[0.1,\"#c51b7d\"],[0.2,\"#de77ae\"],[0.3,\"#f1b6da\"],[0.4,\"#fde0ef\"],[0.5,\"#f7f7f7\"],[0.6,\"#e6f5d0\"],[0.7,\"#b8e186\"],[0.8,\"#7fbc41\"],[0.9,\"#4d9221\"],[1,\"#276419\"]],\"sequential\":[[0.0,\"#0d0887\"],[0.1111111111111111,\"#46039f\"],[0.2222222222222222,\"#7201a8\"],[0.3333333333333333,\"#9c179e\"],[0.4444444444444444,\"#bd3786\"],[0.5555555555555556,\"#d8576b\"],[0.6666666666666666,\"#ed7953\"],[0.7777777777777778,\"#fb9f3a\"],[0.8888888888888888,\"#fdca26\"],[1.0,\"#f0f921\"]],\"sequentialminus\":[[0.0,\"#0d0887\"],[0.1111111111111111,\"#46039f\"],[0.2222222222222222,\"#7201a8\"],[0.3333333333333333,\"#9c179e\"],[0.4444444444444444,\"#bd3786\"],[0.5555555555555556,\"#d8576b\"],[0.6666666666666666,\"#ed7953\"],[0.7777777777777778,\"#fb9f3a\"],[0.8888888888888888,\"#fdca26\"],[1.0,\"#f0f921\"]]},\"colorway\":[\"#636efa\",\"#EF553B\",\"#00cc96\",\"#ab63fa\",\"#FFA15A\",\"#19d3f3\",\"#FF6692\",\"#B6E880\",\"#FF97FF\",\"#FECB52\"],\"font\":{\"color\":\"#2a3f5f\"},\"geo\":{\"bgcolor\":\"white\",\"lakecolor\":\"white\",\"landcolor\":\"#E5ECF6\",\"showlakes\":true,\"showland\":true,\"subunitcolor\":\"white\"},\"hoverlabel\":{\"align\":\"left\"},\"hovermode\":\"closest\",\"mapbox\":{\"style\":\"light\"},\"paper_bgcolor\":\"white\",\"plot_bgcolor\":\"#E5ECF6\",\"polar\":{\"angularaxis\":{\"gridcolor\":\"white\",\"linecolor\":\"white\",\"ticks\":\"\"},\"bgcolor\":\"#E5ECF6\",\"radialaxis\":{\"gridcolor\":\"white\",\"linecolor\":\"white\",\"ticks\":\"\"}},\"scene\":{\"xaxis\":{\"backgroundcolor\":\"#E5ECF6\",\"gridcolor\":\"white\",\"gridwidth\":2,\"linecolor\":\"white\",\"showbackground\":true,\"ticks\":\"\",\"zerolinecolor\":\"white\"},\"yaxis\":{\"backgroundcolor\":\"#E5ECF6\",\"gridcolor\":\"white\",\"gridwidth\":2,\"linecolor\":\"white\",\"showbackground\":true,\"ticks\":\"\",\"zerolinecolor\":\"white\"},\"zaxis\":{\"backgroundcolor\":\"#E5ECF6\",\"gridcolor\":\"white\",\"gridwidth\":2,\"linecolor\":\"white\",\"showbackground\":true,\"ticks\":\"\",\"zerolinecolor\":\"white\"}},\"shapedefaults\":{\"line\":{\"color\":\"#2a3f5f\"}},\"ternary\":{\"aaxis\":{\"gridcolor\":\"white\",\"linecolor\":\"white\",\"ticks\":\"\"},\"baxis\":{\"gridcolor\":\"white\",\"linecolor\":\"white\",\"ticks\":\"\"},\"bgcolor\":\"#E5ECF6\",\"caxis\":{\"gridcolor\":\"white\",\"linecolor\":\"white\",\"ticks\":\"\"}},\"title\":{\"x\":0.05},\"xaxis\":{\"automargin\":true,\"gridcolor\":\"white\",\"linecolor\":\"white\",\"ticks\":\"\",\"title\":{\"standoff\":15},\"zerolinecolor\":\"white\",\"zerolinewidth\":2},\"yaxis\":{\"automargin\":true,\"gridcolor\":\"white\",\"linecolor\":\"white\",\"ticks\":\"\",\"title\":{\"standoff\":15},\"zerolinecolor\":\"white\",\"zerolinewidth\":2}}},\"geo\":{\"domain\":{\"x\":[0.0,1.0],\"y\":[0.0,1.0]},\"center\":{},\"fitbounds\":\"locations\",\"visible\":false},\"coloraxis\":{\"colorbar\":{\"title\":{\"text\":\"lifeExp\"}},\"colorscale\":[[0.0,\"#0d0887\"],[0.1111111111111111,\"#46039f\"],[0.2222222222222222,\"#7201a8\"],[0.3333333333333333,\"#9c179e\"],[0.4444444444444444,\"#bd3786\"],[0.5555555555555556,\"#d8576b\"],[0.6666666666666666,\"#ed7953\"],[0.7777777777777778,\"#fb9f3a\"],[0.8888888888888888,\"#fdca26\"],[1.0,\"#f0f921\"]],\"showscale\":false},\"legend\":{\"tracegroupgap\":0},\"margin\":{\"t\":0,\"l\":0,\"r\":0,\"b\":0},\"height\":300},                        {\"responsive\": true}                    ).then(function(){\n",
       "                            \n",
       "var gd = document.getElementById('ac9105e9-ebd9-467d-8079-5089b02889ce');\n",
       "var x = new MutationObserver(function (mutations, observer) {{\n",
       "        var display = window.getComputedStyle(gd).display;\n",
       "        if (!display || display === 'none') {{\n",
       "            console.log([gd, 'removed!']);\n",
       "            Plotly.purge(gd);\n",
       "            observer.disconnect();\n",
       "        }}\n",
       "}});\n",
       "\n",
       "// Listen for the removal of the full notebook cells\n",
       "var notebookContainer = gd.closest('#notebook-container');\n",
       "if (notebookContainer) {{\n",
       "    x.observe(notebookContainer, {childList: true});\n",
       "}}\n",
       "\n",
       "// Listen for the clearing of the current output cell\n",
       "var outputEl = gd.closest('.output');\n",
       "if (outputEl) {{\n",
       "    x.observe(outputEl, {childList: true});\n",
       "}}\n",
       "\n",
       "                        })                };                });            </script>        </div>"
      ]
     },
     "metadata": {},
     "output_type": "display_data"
    }
   ],
   "source": [
    "df3 = px.data.gapminder().query(\"year==2007\")\n",
    "fig3 = px.choropleth(df3, locations=\"iso_alpha\",\n",
    "                    color=\"lifeExp\", # lifeExp is a column of gapminder\n",
    "                    hover_name=\"country\", # column to add to hover information\n",
    "                    color_continuous_scale=px.colors.sequential.Plasma,\n",
    "                     )\n",
    "fig3.update_coloraxes(showscale=False)\n",
    "fig3.update_layout(margin=dict(l=0, r=0, t=0, b=0), height=300)\n",
    "fig3.update_geos(fitbounds=\"locations\", visible=False)"
   ]
  },
  {
   "cell_type": "code",
   "execution_count": 238,
   "id": "3e6bcf12-6340-4e8f-b50f-7e62794edfa1",
   "metadata": {},
   "outputs": [],
   "source": [
    "def graph_countries_distribution(df):\n",
    "    by_countries = pd.DataFrame(df.groupby(['co_name','co_code_alpha3']).agg(PV=pd.NamedAgg(column=\"PV\", aggfunc=\"sum\")).reset_index())\n",
    "    by_countries['PV'] = by_countries['PV'].astype(float)\n",
    "    by_countries['text'] = by_countries['co_name'] + '<br>' + by_countries[\"PV\"].map('{:,.2f}'.format) #hover text\n",
    "        \n",
    "    graph_countries_distribution = px.choropleth(\n",
    "        locations=by_countries['co_code_alpha3'], # Spatial coordinates\n",
    "        color = by_countries['PV'], # Data to be color-coded\n",
    "    )\n",
    "    graph_countries_distribution.update_coloraxes(showscale=False)\n",
    "    graph_countries_distribution.update_traces(hovertemplate = by_countries['text'],\n",
    "                                              colorscale=[0, 'rgb(5, 10, 172)'])\n",
    "    graph_countries_distribution.update_layout(margin={\"r\":20,\"t\":20,\"l\":20,\"b\":20})\n",
    "    graph_countries_distribution.update_geos(fitbounds=\"locations\", visible=False)\n",
    "    \n",
    "    return graph_countries_distribution"
   ]
  },
  {
   "cell_type": "code",
   "execution_count": 239,
   "id": "808663b7-c60d-446f-9571-04fc89dea4b9",
   "metadata": {},
   "outputs": [
    {
     "ename": "ValueError",
     "evalue": "\n    Invalid value of type 'builtins.list' received for the 'colorscale' property of choropleth\n        Received value: [0, 'rgb(0,0,255)']\n\n    The 'colorscale' property is a colorscale and may be\n    specified as:\n      - A list of colors that will be spaced evenly to create the colorscale.\n        Many predefined colorscale lists are included in the sequential, diverging,\n        and cyclical modules in the plotly.colors package.\n      - A list of 2-element lists where the first element is the\n        normalized color level value (starting at 0 and ending at 1),\n        and the second item is a valid color string.\n        (e.g. [[0, 'green'], [0.5, 'red'], [1.0, 'rgb(0, 0, 255)']])\n      - One of the following named colorscales:\n            ['aggrnyl', 'agsunset', 'algae', 'amp', 'armyrose', 'balance',\n             'blackbody', 'bluered', 'blues', 'blugrn', 'bluyl', 'brbg',\n             'brwnyl', 'bugn', 'bupu', 'burg', 'burgyl', 'cividis', 'curl',\n             'darkmint', 'deep', 'delta', 'dense', 'earth', 'edge', 'electric',\n             'emrld', 'fall', 'geyser', 'gnbu', 'gray', 'greens', 'greys',\n             'haline', 'hot', 'hsv', 'ice', 'icefire', 'inferno', 'jet',\n             'magenta', 'magma', 'matter', 'mint', 'mrybm', 'mygbm', 'oranges',\n             'orrd', 'oryel', 'oxy', 'peach', 'phase', 'picnic', 'pinkyl',\n             'piyg', 'plasma', 'plotly3', 'portland', 'prgn', 'pubu', 'pubugn',\n             'puor', 'purd', 'purp', 'purples', 'purpor', 'rainbow', 'rdbu',\n             'rdgy', 'rdpu', 'rdylbu', 'rdylgn', 'redor', 'reds', 'solar',\n             'spectral', 'speed', 'sunset', 'sunsetdark', 'teal', 'tealgrn',\n             'tealrose', 'tempo', 'temps', 'thermal', 'tropic', 'turbid',\n             'turbo', 'twilight', 'viridis', 'ylgn', 'ylgnbu', 'ylorbr',\n             'ylorrd'].\n        Appending '_r' to a named colorscale reverses it.\n",
     "output_type": "error",
     "traceback": [
      "\u001b[1;31m---------------------------------------------------------------------------\u001b[0m",
      "\u001b[1;31mValueError\u001b[0m                                Traceback (most recent call last)",
      "Input \u001b[1;32mIn [239]\u001b[0m, in \u001b[0;36m<cell line: 1>\u001b[1;34m()\u001b[0m\n\u001b[1;32m----> 1\u001b[0m \u001b[43mgraph_countries_distribution\u001b[49m\u001b[43m(\u001b[49m\u001b[43mdata\u001b[49m\u001b[43m)\u001b[49m\n",
      "Input \u001b[1;32mIn [238]\u001b[0m, in \u001b[0;36mgraph_countries_distribution\u001b[1;34m(df)\u001b[0m\n\u001b[0;32m      6\u001b[0m graph_countries_distribution \u001b[38;5;241m=\u001b[39m px\u001b[38;5;241m.\u001b[39mchoropleth(\n\u001b[0;32m      7\u001b[0m     locations\u001b[38;5;241m=\u001b[39mby_countries[\u001b[38;5;124m'\u001b[39m\u001b[38;5;124mco_code_alpha3\u001b[39m\u001b[38;5;124m'\u001b[39m], \u001b[38;5;66;03m# Spatial coordinates\u001b[39;00m\n\u001b[0;32m      8\u001b[0m     color \u001b[38;5;241m=\u001b[39m by_countries[\u001b[38;5;124m'\u001b[39m\u001b[38;5;124mPV\u001b[39m\u001b[38;5;124m'\u001b[39m], \u001b[38;5;66;03m# Data to be color-coded\u001b[39;00m\n\u001b[0;32m      9\u001b[0m )\n\u001b[0;32m     10\u001b[0m graph_countries_distribution\u001b[38;5;241m.\u001b[39mupdate_coloraxes(showscale\u001b[38;5;241m=\u001b[39m\u001b[38;5;28;01mFalse\u001b[39;00m)\n\u001b[1;32m---> 11\u001b[0m \u001b[43mgraph_countries_distribution\u001b[49m\u001b[38;5;241;43m.\u001b[39;49m\u001b[43mupdate_traces\u001b[49m\u001b[43m(\u001b[49m\u001b[43mhovertemplate\u001b[49m\u001b[43m \u001b[49m\u001b[38;5;241;43m=\u001b[39;49m\u001b[43m \u001b[49m\u001b[43mby_countries\u001b[49m\u001b[43m[\u001b[49m\u001b[38;5;124;43m'\u001b[39;49m\u001b[38;5;124;43mtext\u001b[39;49m\u001b[38;5;124;43m'\u001b[39;49m\u001b[43m]\u001b[49m\u001b[43m,\u001b[49m\n\u001b[0;32m     12\u001b[0m \u001b[43m                                          \u001b[49m\u001b[43mcolorscale\u001b[49m\u001b[38;5;241;43m=\u001b[39;49m\u001b[43m[\u001b[49m\u001b[38;5;241;43m0\u001b[39;49m\u001b[43m,\u001b[49m\u001b[43m \u001b[49m\u001b[38;5;124;43m'\u001b[39;49m\u001b[38;5;124;43mrgb(0,0,255)\u001b[39;49m\u001b[38;5;124;43m'\u001b[39;49m\u001b[43m]\u001b[49m\u001b[43m)\u001b[49m\n\u001b[0;32m     13\u001b[0m graph_countries_distribution\u001b[38;5;241m.\u001b[39mupdate_layout(margin\u001b[38;5;241m=\u001b[39m{\u001b[38;5;124m\"\u001b[39m\u001b[38;5;124mr\u001b[39m\u001b[38;5;124m\"\u001b[39m:\u001b[38;5;241m20\u001b[39m,\u001b[38;5;124m\"\u001b[39m\u001b[38;5;124mt\u001b[39m\u001b[38;5;124m\"\u001b[39m:\u001b[38;5;241m20\u001b[39m,\u001b[38;5;124m\"\u001b[39m\u001b[38;5;124ml\u001b[39m\u001b[38;5;124m\"\u001b[39m:\u001b[38;5;241m20\u001b[39m,\u001b[38;5;124m\"\u001b[39m\u001b[38;5;124mb\u001b[39m\u001b[38;5;124m\"\u001b[39m:\u001b[38;5;241m20\u001b[39m})\n\u001b[0;32m     14\u001b[0m graph_countries_distribution\u001b[38;5;241m.\u001b[39mupdate_geos(fitbounds\u001b[38;5;241m=\u001b[39m\u001b[38;5;124m\"\u001b[39m\u001b[38;5;124mlocations\u001b[39m\u001b[38;5;124m\"\u001b[39m, visible\u001b[38;5;241m=\u001b[39m\u001b[38;5;28;01mFalse\u001b[39;00m)\n",
      "File \u001b[1;32mc:\\users\\jamie\\desktop\\django_plotly_dash\\venv\\lib\\site-packages\\plotly\\basedatatypes.py:1376\u001b[0m, in \u001b[0;36mBaseFigure.update_traces\u001b[1;34m(self, patch, selector, row, col, secondary_y, overwrite, **kwargs)\u001b[0m\n\u001b[0;32m   1322\u001b[0m \u001b[38;5;124;03m\"\"\"\u001b[39;00m\n\u001b[0;32m   1323\u001b[0m \u001b[38;5;124;03mPerform a property update operation on all traces that satisfy the\u001b[39;00m\n\u001b[0;32m   1324\u001b[0m \u001b[38;5;124;03mspecified selection criteria\u001b[39;00m\n\u001b[1;32m   (...)\u001b[0m\n\u001b[0;32m   1371\u001b[0m \u001b[38;5;124;03m    Returns the Figure object that the method was called on\u001b[39;00m\n\u001b[0;32m   1372\u001b[0m \u001b[38;5;124;03m\"\"\"\u001b[39;00m\n\u001b[0;32m   1373\u001b[0m \u001b[38;5;28;01mfor\u001b[39;00m trace \u001b[38;5;129;01min\u001b[39;00m \u001b[38;5;28mself\u001b[39m\u001b[38;5;241m.\u001b[39mselect_traces(\n\u001b[0;32m   1374\u001b[0m     selector\u001b[38;5;241m=\u001b[39mselector, row\u001b[38;5;241m=\u001b[39mrow, col\u001b[38;5;241m=\u001b[39mcol, secondary_y\u001b[38;5;241m=\u001b[39msecondary_y\n\u001b[0;32m   1375\u001b[0m ):\n\u001b[1;32m-> 1376\u001b[0m     \u001b[43mtrace\u001b[49m\u001b[38;5;241;43m.\u001b[39;49m\u001b[43mupdate\u001b[49m\u001b[43m(\u001b[49m\u001b[43mpatch\u001b[49m\u001b[43m,\u001b[49m\u001b[43m \u001b[49m\u001b[43moverwrite\u001b[49m\u001b[38;5;241;43m=\u001b[39;49m\u001b[43moverwrite\u001b[49m\u001b[43m,\u001b[49m\u001b[43m \u001b[49m\u001b[38;5;241;43m*\u001b[39;49m\u001b[38;5;241;43m*\u001b[39;49m\u001b[43mkwargs\u001b[49m\u001b[43m)\u001b[49m\n\u001b[0;32m   1377\u001b[0m \u001b[38;5;28;01mreturn\u001b[39;00m \u001b[38;5;28mself\u001b[39m\n",
      "File \u001b[1;32mc:\\users\\jamie\\desktop\\django_plotly_dash\\venv\\lib\\site-packages\\plotly\\basedatatypes.py:5090\u001b[0m, in \u001b[0;36mBasePlotlyType.update\u001b[1;34m(self, dict1, overwrite, **kwargs)\u001b[0m\n\u001b[0;32m   5088\u001b[0m     \u001b[38;5;28;01mwith\u001b[39;00m \u001b[38;5;28mself\u001b[39m\u001b[38;5;241m.\u001b[39mfigure\u001b[38;5;241m.\u001b[39mbatch_update():\n\u001b[0;32m   5089\u001b[0m         BaseFigure\u001b[38;5;241m.\u001b[39m_perform_update(\u001b[38;5;28mself\u001b[39m, dict1, overwrite\u001b[38;5;241m=\u001b[39moverwrite)\n\u001b[1;32m-> 5090\u001b[0m         \u001b[43mBaseFigure\u001b[49m\u001b[38;5;241;43m.\u001b[39;49m\u001b[43m_perform_update\u001b[49m\u001b[43m(\u001b[49m\u001b[38;5;28;43mself\u001b[39;49m\u001b[43m,\u001b[49m\u001b[43m \u001b[49m\u001b[43mkwargs\u001b[49m\u001b[43m,\u001b[49m\u001b[43m \u001b[49m\u001b[43moverwrite\u001b[49m\u001b[38;5;241;43m=\u001b[39;49m\u001b[43moverwrite\u001b[49m\u001b[43m)\u001b[49m\n\u001b[0;32m   5091\u001b[0m \u001b[38;5;28;01melse\u001b[39;00m:\n\u001b[0;32m   5092\u001b[0m     BaseFigure\u001b[38;5;241m.\u001b[39m_perform_update(\u001b[38;5;28mself\u001b[39m, dict1, overwrite\u001b[38;5;241m=\u001b[39moverwrite)\n",
      "File \u001b[1;32mc:\\users\\jamie\\desktop\\django_plotly_dash\\venv\\lib\\site-packages\\plotly\\basedatatypes.py:3929\u001b[0m, in \u001b[0;36mBaseFigure._perform_update\u001b[1;34m(plotly_obj, update_obj, overwrite)\u001b[0m\n\u001b[0;32m   3926\u001b[0m                 plotly_obj[key] \u001b[38;5;241m=\u001b[39m val\n\u001b[0;32m   3927\u001b[0m         \u001b[38;5;28;01melse\u001b[39;00m:\n\u001b[0;32m   3928\u001b[0m             \u001b[38;5;66;03m# Assign non-compound value\u001b[39;00m\n\u001b[1;32m-> 3929\u001b[0m             plotly_obj[key] \u001b[38;5;241m=\u001b[39m val\n\u001b[0;32m   3931\u001b[0m \u001b[38;5;28;01melif\u001b[39;00m \u001b[38;5;28misinstance\u001b[39m(plotly_obj, \u001b[38;5;28mtuple\u001b[39m):\n\u001b[0;32m   3933\u001b[0m     \u001b[38;5;28;01mif\u001b[39;00m \u001b[38;5;28mlen\u001b[39m(update_obj) \u001b[38;5;241m==\u001b[39m \u001b[38;5;241m0\u001b[39m:\n\u001b[0;32m   3934\u001b[0m         \u001b[38;5;66;03m# Nothing to do\u001b[39;00m\n",
      "File \u001b[1;32mc:\\users\\jamie\\desktop\\django_plotly_dash\\venv\\lib\\site-packages\\plotly\\basedatatypes.py:4827\u001b[0m, in \u001b[0;36mBasePlotlyType.__setitem__\u001b[1;34m(self, prop, value)\u001b[0m\n\u001b[0;32m   4823\u001b[0m         \u001b[38;5;28mself\u001b[39m\u001b[38;5;241m.\u001b[39m_set_array_prop(prop, value)\n\u001b[0;32m   4825\u001b[0m     \u001b[38;5;66;03m# ### Handle simple property ###\u001b[39;00m\n\u001b[0;32m   4826\u001b[0m     \u001b[38;5;28;01melse\u001b[39;00m:\n\u001b[1;32m-> 4827\u001b[0m         \u001b[38;5;28;43mself\u001b[39;49m\u001b[38;5;241;43m.\u001b[39;49m\u001b[43m_set_prop\u001b[49m\u001b[43m(\u001b[49m\u001b[43mprop\u001b[49m\u001b[43m,\u001b[49m\u001b[43m \u001b[49m\u001b[43mvalue\u001b[49m\u001b[43m)\u001b[49m\n\u001b[0;32m   4828\u001b[0m \u001b[38;5;28;01melse\u001b[39;00m:\n\u001b[0;32m   4829\u001b[0m     \u001b[38;5;66;03m# Make sure properties dict is initialized\u001b[39;00m\n\u001b[0;32m   4830\u001b[0m     \u001b[38;5;28mself\u001b[39m\u001b[38;5;241m.\u001b[39m_init_props()\n",
      "File \u001b[1;32mc:\\users\\jamie\\desktop\\django_plotly_dash\\venv\\lib\\site-packages\\plotly\\basedatatypes.py:5171\u001b[0m, in \u001b[0;36mBasePlotlyType._set_prop\u001b[1;34m(self, prop, val)\u001b[0m\n\u001b[0;32m   5169\u001b[0m         \u001b[38;5;28;01mreturn\u001b[39;00m\n\u001b[0;32m   5170\u001b[0m     \u001b[38;5;28;01melse\u001b[39;00m:\n\u001b[1;32m-> 5171\u001b[0m         \u001b[38;5;28;01mraise\u001b[39;00m err\n\u001b[0;32m   5173\u001b[0m \u001b[38;5;66;03m# val is None\u001b[39;00m\n\u001b[0;32m   5174\u001b[0m \u001b[38;5;66;03m# -----------\u001b[39;00m\n\u001b[0;32m   5175\u001b[0m \u001b[38;5;28;01mif\u001b[39;00m val \u001b[38;5;129;01mis\u001b[39;00m \u001b[38;5;28;01mNone\u001b[39;00m:\n\u001b[0;32m   5176\u001b[0m     \u001b[38;5;66;03m# Check if we should send null update\u001b[39;00m\n",
      "File \u001b[1;32mc:\\users\\jamie\\desktop\\django_plotly_dash\\venv\\lib\\site-packages\\plotly\\basedatatypes.py:5166\u001b[0m, in \u001b[0;36mBasePlotlyType._set_prop\u001b[1;34m(self, prop, val)\u001b[0m\n\u001b[0;32m   5163\u001b[0m validator \u001b[38;5;241m=\u001b[39m \u001b[38;5;28mself\u001b[39m\u001b[38;5;241m.\u001b[39m_get_validator(prop)\n\u001b[0;32m   5165\u001b[0m \u001b[38;5;28;01mtry\u001b[39;00m:\n\u001b[1;32m-> 5166\u001b[0m     val \u001b[38;5;241m=\u001b[39m \u001b[43mvalidator\u001b[49m\u001b[38;5;241;43m.\u001b[39;49m\u001b[43mvalidate_coerce\u001b[49m\u001b[43m(\u001b[49m\u001b[43mval\u001b[49m\u001b[43m)\u001b[49m\n\u001b[0;32m   5167\u001b[0m \u001b[38;5;28;01mexcept\u001b[39;00m \u001b[38;5;167;01mValueError\u001b[39;00m \u001b[38;5;28;01mas\u001b[39;00m err:\n\u001b[0;32m   5168\u001b[0m     \u001b[38;5;28;01mif\u001b[39;00m \u001b[38;5;28mself\u001b[39m\u001b[38;5;241m.\u001b[39m_skip_invalid:\n",
      "File \u001b[1;32mc:\\users\\jamie\\desktop\\django_plotly_dash\\venv\\lib\\site-packages\\_plotly_utils\\basevalidators.py:1650\u001b[0m, in \u001b[0;36mColorscaleValidator.validate_coerce\u001b[1;34m(self, v)\u001b[0m\n\u001b[0;32m   1645\u001b[0m             v \u001b[38;5;241m=\u001b[39m [\n\u001b[0;32m   1646\u001b[0m                 [e[\u001b[38;5;241m0\u001b[39m], ColorValidator\u001b[38;5;241m.\u001b[39mperform_validate_coerce(e[\u001b[38;5;241m1\u001b[39m])] \u001b[38;5;28;01mfor\u001b[39;00m e \u001b[38;5;129;01min\u001b[39;00m v\n\u001b[0;32m   1647\u001b[0m             ]\n\u001b[0;32m   1649\u001b[0m \u001b[38;5;28;01mif\u001b[39;00m \u001b[38;5;129;01mnot\u001b[39;00m v_valid:\n\u001b[1;32m-> 1650\u001b[0m     \u001b[38;5;28;43mself\u001b[39;49m\u001b[38;5;241;43m.\u001b[39;49m\u001b[43mraise_invalid_val\u001b[49m\u001b[43m(\u001b[49m\u001b[43mv\u001b[49m\u001b[43m)\u001b[49m\n\u001b[0;32m   1652\u001b[0m \u001b[38;5;28;01mreturn\u001b[39;00m v\n",
      "File \u001b[1;32mc:\\users\\jamie\\desktop\\django_plotly_dash\\venv\\lib\\site-packages\\_plotly_utils\\basevalidators.py:289\u001b[0m, in \u001b[0;36mBaseValidator.raise_invalid_val\u001b[1;34m(self, v, inds)\u001b[0m\n\u001b[0;32m    286\u001b[0m             \u001b[38;5;28;01mfor\u001b[39;00m i \u001b[38;5;129;01min\u001b[39;00m inds:\n\u001b[0;32m    287\u001b[0m                 name \u001b[38;5;241m+\u001b[39m\u001b[38;5;241m=\u001b[39m \u001b[38;5;124m\"\u001b[39m\u001b[38;5;124m[\u001b[39m\u001b[38;5;124m\"\u001b[39m \u001b[38;5;241m+\u001b[39m \u001b[38;5;28mstr\u001b[39m(i) \u001b[38;5;241m+\u001b[39m \u001b[38;5;124m\"\u001b[39m\u001b[38;5;124m]\u001b[39m\u001b[38;5;124m\"\u001b[39m\n\u001b[1;32m--> 289\u001b[0m         \u001b[38;5;28;01mraise\u001b[39;00m \u001b[38;5;167;01mValueError\u001b[39;00m(\n\u001b[0;32m    290\u001b[0m             \u001b[38;5;124;03m\"\"\"\u001b[39;00m\n\u001b[0;32m    291\u001b[0m \u001b[38;5;124;03m    Invalid value of type {typ} received for the '{name}' property of {pname}\u001b[39;00m\n\u001b[0;32m    292\u001b[0m \u001b[38;5;124;03m        Received value: {v}\u001b[39;00m\n\u001b[0;32m    293\u001b[0m \n\u001b[0;32m    294\u001b[0m \u001b[38;5;124;03m{valid_clr_desc}\"\"\"\u001b[39;00m\u001b[38;5;241m.\u001b[39mformat(\n\u001b[0;32m    295\u001b[0m                 name\u001b[38;5;241m=\u001b[39mname,\n\u001b[0;32m    296\u001b[0m                 pname\u001b[38;5;241m=\u001b[39m\u001b[38;5;28mself\u001b[39m\u001b[38;5;241m.\u001b[39mparent_name,\n\u001b[0;32m    297\u001b[0m                 typ\u001b[38;5;241m=\u001b[39mtype_str(v),\n\u001b[0;32m    298\u001b[0m                 v\u001b[38;5;241m=\u001b[39m\u001b[38;5;28mrepr\u001b[39m(v),\n\u001b[0;32m    299\u001b[0m                 valid_clr_desc\u001b[38;5;241m=\u001b[39m\u001b[38;5;28mself\u001b[39m\u001b[38;5;241m.\u001b[39mdescription(),\n\u001b[0;32m    300\u001b[0m             )\n\u001b[0;32m    301\u001b[0m         )\n",
      "\u001b[1;31mValueError\u001b[0m: \n    Invalid value of type 'builtins.list' received for the 'colorscale' property of choropleth\n        Received value: [0, 'rgb(0,0,255)']\n\n    The 'colorscale' property is a colorscale and may be\n    specified as:\n      - A list of colors that will be spaced evenly to create the colorscale.\n        Many predefined colorscale lists are included in the sequential, diverging,\n        and cyclical modules in the plotly.colors package.\n      - A list of 2-element lists where the first element is the\n        normalized color level value (starting at 0 and ending at 1),\n        and the second item is a valid color string.\n        (e.g. [[0, 'green'], [0.5, 'red'], [1.0, 'rgb(0, 0, 255)']])\n      - One of the following named colorscales:\n            ['aggrnyl', 'agsunset', 'algae', 'amp', 'armyrose', 'balance',\n             'blackbody', 'bluered', 'blues', 'blugrn', 'bluyl', 'brbg',\n             'brwnyl', 'bugn', 'bupu', 'burg', 'burgyl', 'cividis', 'curl',\n             'darkmint', 'deep', 'delta', 'dense', 'earth', 'edge', 'electric',\n             'emrld', 'fall', 'geyser', 'gnbu', 'gray', 'greens', 'greys',\n             'haline', 'hot', 'hsv', 'ice', 'icefire', 'inferno', 'jet',\n             'magenta', 'magma', 'matter', 'mint', 'mrybm', 'mygbm', 'oranges',\n             'orrd', 'oryel', 'oxy', 'peach', 'phase', 'picnic', 'pinkyl',\n             'piyg', 'plasma', 'plotly3', 'portland', 'prgn', 'pubu', 'pubugn',\n             'puor', 'purd', 'purp', 'purples', 'purpor', 'rainbow', 'rdbu',\n             'rdgy', 'rdpu', 'rdylbu', 'rdylgn', 'redor', 'reds', 'solar',\n             'spectral', 'speed', 'sunset', 'sunsetdark', 'teal', 'tealgrn',\n             'tealrose', 'tempo', 'temps', 'thermal', 'tropic', 'turbid',\n             'turbo', 'twilight', 'viridis', 'ylgn', 'ylgnbu', 'ylorbr',\n             'ylorrd'].\n        Appending '_r' to a named colorscale reverses it.\n"
     ]
    }
   ],
   "source": [
    "graph_countries_distribution(data)"
   ]
  },
  {
   "cell_type": "code",
   "execution_count": 208,
   "id": "b6d11cbc-061e-441a-8299-87755a0bacd5",
   "metadata": {},
   "outputs": [],
   "source": [
    "import dash_bootstrap_components as dbc"
   ]
  },
  {
   "cell_type": "code",
   "execution_count": null,
   "id": "59f22d2d-6c94-494d-a350-fbf5dd08aae8",
   "metadata": {},
   "outputs": [],
   "source": [
    "app = DjangoDash(name='test', external_stylesheets=[dbc.themes.ZEPHYR])\n",
    "\n",
    "### Design\n",
    "# 1.\n",
    "table_header = [\n",
    "    html.Thead(html.Tr([html.Th(\"First Name\"), html.Th(\"Last Name\")]))\n",
    "]\n",
    "\n",
    "row1 = html.Tr([html.Td(\"Arthur\"), html.Td(\"Dent\")])\n",
    "row2 = html.Tr([html.Td(\"Ford\"), html.Td(\"Prefect\")])\n",
    "row3 = html.Tr([html.Td(\"Zaphod\"), html.Td(\"Beeblebrox\")])\n",
    "row4 = html.Tr([html.Td(\"Trillian\"), html.Td(\"Astra\")])\n",
    "\n",
    "table_body = [html.Tbody([row1, row2, row3, row4])]\n",
    "\n",
    "# 2.\n",
    "df = px.data.gapminder()\n",
    "\n",
    "fig2 = px.scatter(df.query(\"year==2007\"), x=\"gdpPercap\", y=\"lifeExp\",size=\"pop\", color=\"continent\",hover_name=\"country\", log_x=True, size_max=60)\n",
    "\n",
    "\n",
    "### Layout\n",
    "app.layout = html.Div(\n",
    "    [\n",
    "        dbc.Row(dbc.Col(html.Div(dbc.Table(table_header + table_body, bordered=True)))),\n",
    "        dbc.Row(\n",
    "            [\n",
    "                dbc.Col(html.Div(dbc.Table(table_header + table_body, bordered=True))),\n",
    "                dbc.Col(html.Div(dbc.Table(table_header + table_body, bordered=True))),\n",
    "                dbc.Col(html.Div(dbc.Table(table_header + table_body, bordered=True))),\n",
    "            ]\n",
    "        ),\n",
    "        dbc.Row([\n",
    "            dbc.Col(dbc.Card(\n",
    "                dbc.CardBody(\n",
    "                    [html.H4(\"Bubble chart\", className=\"card-title\"),\n",
    "                    html.P(dcc.Graph(id='fig2',figure=fig2)),\n",
    "                    ]\n",
    "                ),\n",
    "                style={\"width\": \"100%\"},\n",
    "            ), md=4)\n",
    "\n",
    "        ])\n",
    "    ]\n",
    ")"
   ]
  }
 ],
 "metadata": {
  "kernelspec": {
   "display_name": "Python 3 (ipykernel)",
   "language": "python",
   "name": "python3"
  },
  "language_info": {
   "codemirror_mode": {
    "name": "ipython",
    "version": 3
   },
   "file_extension": ".py",
   "mimetype": "text/x-python",
   "name": "python",
   "nbconvert_exporter": "python",
   "pygments_lexer": "ipython3",
   "version": "3.8.6"
  }
 },
 "nbformat": 4,
 "nbformat_minor": 5
}
